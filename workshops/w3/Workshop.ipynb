{
 "cells": [
  {
   "cell_type": "markdown",
   "id": "be169e78-da88-4b60-a601-f1a1f4edf1f7",
   "metadata": {},
   "source": [
    "## Random Forest Example\n",
    "\n",
    "Import packages"
   ]
  },
  {
   "cell_type": "code",
   "execution_count": 1,
   "id": "09290520-2a73-4884-b09d-43a24e5b51e3",
   "metadata": {},
   "outputs": [],
   "source": [
    "import sklearn\n",
    "from sklearn.datasets import fetch_california_housing\n",
    "from sklearn.model_selection import train_test_split\n",
    "from sklearn.model_selection import GridSearchCV\n",
    "from sklearn import decomposition\n",
    "from sklearn import preprocessing\n",
    "from sklearn import ensemble\n",
    "import pandas as pd\n",
    "import numpy as np\n",
    "import time\n",
    "import matplotlib.pyplot as plt"
   ]
  },
  {
   "cell_type": "markdown",
   "id": "2e6b8216-143d-4efc-a4fe-035948c16a9f",
   "metadata": {},
   "source": [
    "The california housing dataset below is built in within Sklearn. Original dataset comes from 1990 US Census."
   ]
  },
  {
   "cell_type": "code",
   "execution_count": 2,
   "id": "f6bb4020-0b19-45df-aaf7-6c1a66b0c1c3",
   "metadata": {},
   "outputs": [
    {
     "data": {
      "text/plain": [
       "(20640, 8)"
      ]
     },
     "execution_count": 2,
     "metadata": {},
     "output_type": "execute_result"
    }
   ],
   "source": [
    "X, y = fetch_california_housing(return_X_y=True, as_frame = True)\n",
    "X.shape"
   ]
  },
  {
   "cell_type": "markdown",
   "id": "e361f045-4736-4680-8536-8365f37eeaf6",
   "metadata": {},
   "source": [
    "### Feature descriptions\n",
    "\n",
    "Unit of observation is a district in California.\n",
    "All features are numeric.\n",
    "\n",
    "* `MedInc` median income\n",
    "* `HouseAge` median house age\n",
    "* `AveRooms` average number of rooms\n",
    "* `AveBedrms` average number of bedrooms\n",
    "* `Population` district population\n",
    "* `AveOccup` average house occupancy\n",
    "* `Latitude` center of district latitude\n",
    "* `Longitude` center of district longitude"
   ]
  },
  {
   "cell_type": "code",
   "execution_count": 3,
   "id": "05b7989d-2146-4224-bce5-434f32ea5e67",
   "metadata": {},
   "outputs": [
    {
     "data": {
      "text/html": [
       "<div>\n",
       "<style scoped>\n",
       "    .dataframe tbody tr th:only-of-type {\n",
       "        vertical-align: middle;\n",
       "    }\n",
       "\n",
       "    .dataframe tbody tr th {\n",
       "        vertical-align: top;\n",
       "    }\n",
       "\n",
       "    .dataframe thead th {\n",
       "        text-align: right;\n",
       "    }\n",
       "</style>\n",
       "<table border=\"1\" class=\"dataframe\">\n",
       "  <thead>\n",
       "    <tr style=\"text-align: right;\">\n",
       "      <th></th>\n",
       "      <th>MedInc</th>\n",
       "      <th>HouseAge</th>\n",
       "      <th>AveRooms</th>\n",
       "      <th>AveBedrms</th>\n",
       "      <th>Population</th>\n",
       "      <th>AveOccup</th>\n",
       "      <th>Latitude</th>\n",
       "      <th>Longitude</th>\n",
       "    </tr>\n",
       "  </thead>\n",
       "  <tbody>\n",
       "    <tr>\n",
       "      <th>count</th>\n",
       "      <td>20640.000000</td>\n",
       "      <td>20640.000000</td>\n",
       "      <td>20640.000000</td>\n",
       "      <td>20640.000000</td>\n",
       "      <td>20640.000000</td>\n",
       "      <td>20640.000000</td>\n",
       "      <td>20640.000000</td>\n",
       "      <td>20640.000000</td>\n",
       "    </tr>\n",
       "    <tr>\n",
       "      <th>mean</th>\n",
       "      <td>3.870671</td>\n",
       "      <td>28.639486</td>\n",
       "      <td>5.429000</td>\n",
       "      <td>1.096675</td>\n",
       "      <td>1425.476744</td>\n",
       "      <td>3.070655</td>\n",
       "      <td>35.631861</td>\n",
       "      <td>-119.569704</td>\n",
       "    </tr>\n",
       "    <tr>\n",
       "      <th>std</th>\n",
       "      <td>1.899822</td>\n",
       "      <td>12.585558</td>\n",
       "      <td>2.474173</td>\n",
       "      <td>0.473911</td>\n",
       "      <td>1132.462122</td>\n",
       "      <td>10.386050</td>\n",
       "      <td>2.135952</td>\n",
       "      <td>2.003532</td>\n",
       "    </tr>\n",
       "    <tr>\n",
       "      <th>min</th>\n",
       "      <td>0.499900</td>\n",
       "      <td>1.000000</td>\n",
       "      <td>0.846154</td>\n",
       "      <td>0.333333</td>\n",
       "      <td>3.000000</td>\n",
       "      <td>0.692308</td>\n",
       "      <td>32.540000</td>\n",
       "      <td>-124.350000</td>\n",
       "    </tr>\n",
       "    <tr>\n",
       "      <th>25%</th>\n",
       "      <td>2.563400</td>\n",
       "      <td>18.000000</td>\n",
       "      <td>4.440716</td>\n",
       "      <td>1.006079</td>\n",
       "      <td>787.000000</td>\n",
       "      <td>2.429741</td>\n",
       "      <td>33.930000</td>\n",
       "      <td>-121.800000</td>\n",
       "    </tr>\n",
       "    <tr>\n",
       "      <th>50%</th>\n",
       "      <td>3.534800</td>\n",
       "      <td>29.000000</td>\n",
       "      <td>5.229129</td>\n",
       "      <td>1.048780</td>\n",
       "      <td>1166.000000</td>\n",
       "      <td>2.818116</td>\n",
       "      <td>34.260000</td>\n",
       "      <td>-118.490000</td>\n",
       "    </tr>\n",
       "    <tr>\n",
       "      <th>75%</th>\n",
       "      <td>4.743250</td>\n",
       "      <td>37.000000</td>\n",
       "      <td>6.052381</td>\n",
       "      <td>1.099526</td>\n",
       "      <td>1725.000000</td>\n",
       "      <td>3.282261</td>\n",
       "      <td>37.710000</td>\n",
       "      <td>-118.010000</td>\n",
       "    </tr>\n",
       "    <tr>\n",
       "      <th>max</th>\n",
       "      <td>15.000100</td>\n",
       "      <td>52.000000</td>\n",
       "      <td>141.909091</td>\n",
       "      <td>34.066667</td>\n",
       "      <td>35682.000000</td>\n",
       "      <td>1243.333333</td>\n",
       "      <td>41.950000</td>\n",
       "      <td>-114.310000</td>\n",
       "    </tr>\n",
       "  </tbody>\n",
       "</table>\n",
       "</div>"
      ],
      "text/plain": [
       "             MedInc      HouseAge      AveRooms     AveBedrms    Population  \\\n",
       "count  20640.000000  20640.000000  20640.000000  20640.000000  20640.000000   \n",
       "mean       3.870671     28.639486      5.429000      1.096675   1425.476744   \n",
       "std        1.899822     12.585558      2.474173      0.473911   1132.462122   \n",
       "min        0.499900      1.000000      0.846154      0.333333      3.000000   \n",
       "25%        2.563400     18.000000      4.440716      1.006079    787.000000   \n",
       "50%        3.534800     29.000000      5.229129      1.048780   1166.000000   \n",
       "75%        4.743250     37.000000      6.052381      1.099526   1725.000000   \n",
       "max       15.000100     52.000000    141.909091     34.066667  35682.000000   \n",
       "\n",
       "           AveOccup      Latitude     Longitude  \n",
       "count  20640.000000  20640.000000  20640.000000  \n",
       "mean       3.070655     35.631861   -119.569704  \n",
       "std       10.386050      2.135952      2.003532  \n",
       "min        0.692308     32.540000   -124.350000  \n",
       "25%        2.429741     33.930000   -121.800000  \n",
       "50%        2.818116     34.260000   -118.490000  \n",
       "75%        3.282261     37.710000   -118.010000  \n",
       "max     1243.333333     41.950000   -114.310000  "
      ]
     },
     "execution_count": 3,
     "metadata": {},
     "output_type": "execute_result"
    }
   ],
   "source": [
    "X.describe()"
   ]
  },
  {
   "cell_type": "markdown",
   "id": "269f24b1-3df9-4bff-abfa-ae4abcb1fb0c",
   "metadata": {},
   "source": [
    "Target is median house value for california districts (in hundrends-of-thousands of USD (assuming))."
   ]
  },
  {
   "cell_type": "code",
   "execution_count": 4,
   "id": "c3be6dac-7a06-40ed-bda3-12d83d621aed",
   "metadata": {},
   "outputs": [
    {
     "data": {
      "text/plain": [
       "count    20640.000000\n",
       "mean         2.068558\n",
       "std          1.153956\n",
       "min          0.149990\n",
       "25%          1.196000\n",
       "50%          1.797000\n",
       "75%          2.647250\n",
       "max          5.000010\n",
       "Name: MedHouseVal, dtype: float64"
      ]
     },
     "execution_count": 4,
     "metadata": {},
     "output_type": "execute_result"
    }
   ],
   "source": [
    "y.describe()"
   ]
  },
  {
   "cell_type": "markdown",
   "id": "b22d93a5-d388-4c70-90c4-06b50b49e389",
   "metadata": {},
   "source": [
    "Transform X object from Pandas DataFrame to numpy array. I tend to see numpy arrays being compatabable with more aspects of sklearn over pandas dataframes."
   ]
  },
  {
   "cell_type": "code",
   "execution_count": 5,
   "id": "a6fe8953-2488-46d3-89c9-40af6c5620e5",
   "metadata": {},
   "outputs": [],
   "source": [
    "X = X.to_numpy()"
   ]
  },
  {
   "cell_type": "markdown",
   "id": "fe81a950-caeb-4fd0-a6a0-a971947d0c0f",
   "metadata": {},
   "source": [
    "### Split data into train and test sets\n",
    "\n",
    "With Sklearn, we will split our data into training and test sets. We do an 80/20 split and set a seed for splitting."
   ]
  },
  {
   "cell_type": "code",
   "execution_count": 6,
   "id": "aee55131-52d8-4cdb-8580-ce91d8f81394",
   "metadata": {},
   "outputs": [
    {
     "name": "stdout",
     "output_type": "stream",
     "text": [
      "(10320, 8)\n",
      "(10320, 8)\n",
      "(10320,)\n",
      "(10320,)\n"
     ]
    }
   ],
   "source": [
    "X_train, X_test, y_train, y_test = train_test_split(X, y, test_size = .5, random_state = 12)\n",
    "\n",
    "print(X_train.shape)\n",
    "print(X_test.shape)\n",
    "print(y_train.shape)\n",
    "print(y_test.shape)"
   ]
  },
  {
   "cell_type": "markdown",
   "id": "5d9d71d0-d0fe-4eaa-b1d8-dce9eb113564",
   "metadata": {},
   "source": [
    "### Preprocessing\n",
    "\n",
    "Suppose we truly do not care about interpretability or any measures of variable importance and only want to get the best prediction possible. We can use PCA for dimension reduction, but first we want to preprocess with feature scaling, \n",
    "setting all features to have mean 0 and SD 1.\n",
    "\n",
    "We first start with the `preprocessing` module from sklearn, using the `StandardScalar` function. We fit our dataset X_train within the StandardScaler class."
   ]
  },
  {
   "cell_type": "code",
   "execution_count": 7,
   "id": "147c752a-b39b-481d-8b2c-42c5c78c1aff",
   "metadata": {},
   "outputs": [],
   "source": [
    "scaler = preprocessing.StandardScaler().fit(X_train)"
   ]
  },
  {
   "cell_type": "markdown",
   "id": "f8aff41e-b242-48f7-a305-b9e70c1ad1df",
   "metadata": {},
   "source": [
    "Scaler is now an object that can return many different results due to the StandardScaler class.  \n",
    "For example, pre-transformation, we can return the means and standard deviations of our columns."
   ]
  },
  {
   "cell_type": "code",
   "execution_count": 8,
   "id": "f97cd499-cde7-400e-8666-76fd6427c4be",
   "metadata": {},
   "outputs": [
    {
     "name": "stdout",
     "output_type": "stream",
     "text": [
      "[ 3.86591940e+00  2.85433140e+01  5.45666208e+00  1.10309841e+00\n",
      "  1.43376512e+03  3.16901109e+00  3.56277345e+01 -1.19565436e+02]\n",
      "5.456662077464308\n",
      "2.8825796099362266\n"
     ]
    }
   ],
   "source": [
    "# Get means of all columns \n",
    "print(scaler.mean_)\n",
    "\n",
    "# Get means of 1 column\n",
    "print(scaler.mean_[2])\n",
    "\n",
    "# Get standard deviation of 1 column\n",
    "print(scaler.scale_[2])"
   ]
  },
  {
   "cell_type": "markdown",
   "id": "cb8987a7-68cf-46f8-9e3a-d6470486d86b",
   "metadata": {},
   "source": [
    "Of course, we can standardize the training data."
   ]
  },
  {
   "cell_type": "code",
   "execution_count": 9,
   "id": "618572cb-abdb-45c9-9b48-36f880bb098b",
   "metadata": {},
   "outputs": [
    {
     "name": "stdout",
     "output_type": "stream",
     "text": [
      "[-6.51395389e-16 -3.46729536e-17  4.43897987e-15  5.53937010e-15\n",
      " -6.69482235e-17  3.91496159e-16 -3.15682880e-14 -1.88218455e-13]\n"
     ]
    }
   ],
   "source": [
    "X_train_scaled = scaler.transform(X_train)\n",
    "print(X_train_scaled.mean(axis = 0))"
   ]
  },
  {
   "cell_type": "markdown",
   "id": "20e18026-8bfc-456a-b8cb-5b920fcc1796",
   "metadata": {},
   "source": [
    "The scaler object has saved the values that were used to standardize the training data.  \n",
    "**We can use the scaler object to transform the test data to the same scale.**"
   ]
  },
  {
   "cell_type": "code",
   "execution_count": 10,
   "id": "b048a976-4b7b-4bd7-833e-23ae4a7648bb",
   "metadata": {},
   "outputs": [
    {
     "name": "stdout",
     "output_type": "stream",
     "text": [
      "[ 0.00501209  0.0153485  -0.01919276 -0.02220812 -0.01500458 -0.01360316\n",
      "  0.00385724 -0.00427268]\n"
     ]
    }
   ],
   "source": [
    "X_test_scaled = scaler.transform(X_test)\n",
    "print(X_test_scaled.mean(axis = 0))"
   ]
  },
  {
   "cell_type": "markdown",
   "id": "9150ddf5-019b-4ea4-85b8-b9fd9081e0eb",
   "metadata": {},
   "source": [
    "Notice how the values aren't as close to 0 as the for the training data. The scaling on the testing data is done in reference to the training data, **which is vital for testing a model appropriately.**"
   ]
  },
  {
   "cell_type": "markdown",
   "id": "01aeec00-88b8-4282-8a3a-5b5587ca80fa",
   "metadata": {},
   "source": [
    "### Dimension Reduction with PCA\n",
    "\n",
    "Let's suppose I wanted to use PCA to reduce my 8 feature space to a 5 feature space.  \n",
    "PCA will create 8 principal components, but we will only use the first 5 components to create our random forest."
   ]
  },
  {
   "cell_type": "code",
   "execution_count": 11,
   "id": "244901f0-b73c-4750-b7d2-7016bc211606",
   "metadata": {},
   "outputs": [
    {
     "data": {
      "text/plain": [
       "PCA(n_components=5)"
      ]
     },
     "execution_count": 11,
     "metadata": {},
     "output_type": "execute_result"
    }
   ],
   "source": [
    "pca = decomposition.PCA(n_components = 5)\n",
    "\n",
    "# Fits PCA to scaled training dataset.\n",
    "# The pca object now has the information that we want 5 components and are using the X_train_scaled data\n",
    "    # to make PCs.\n",
    "pca.fit(X_train_scaled)"
   ]
  },
  {
   "cell_type": "markdown",
   "id": "0692c14e-a539-430c-bca7-89dcc7965ae3",
   "metadata": {},
   "source": [
    "Of course, we can execute PCA on the scaled training data."
   ]
  },
  {
   "cell_type": "code",
   "execution_count": 12,
   "id": "b303e05a-1c64-40bd-bfbe-6f34c8448e7f",
   "metadata": {},
   "outputs": [
    {
     "data": {
      "text/plain": [
       "(10320, 5)"
      ]
     },
     "execution_count": 12,
     "metadata": {},
     "output_type": "execute_result"
    }
   ],
   "source": [
    "X_train_pca = pca.transform(X_train_scaled)\n",
    "X_train_pca.shape"
   ]
  },
  {
   "cell_type": "markdown",
   "id": "c9583974-a149-4d15-9e20-9e94aa7d6d74",
   "metadata": {},
   "source": [
    "Recall that the formulation of PCs is of closed form by taking linear combinations of the original columns.  Again, **we can apply these same transformations to our test data.**"
   ]
  },
  {
   "cell_type": "code",
   "execution_count": 13,
   "id": "44894029-d9d4-4b5f-aba0-7f8fa2c210a0",
   "metadata": {},
   "outputs": [
    {
     "data": {
      "text/plain": [
       "(10320, 5)"
      ]
     },
     "execution_count": 13,
     "metadata": {},
     "output_type": "execute_result"
    }
   ],
   "source": [
    "X_test_pca = pca.transform(X_test_scaled)\n",
    "X_test_pca.shape"
   ]
  },
  {
   "cell_type": "markdown",
   "id": "903c4a62-6913-47bd-bd09-22187df136c1",
   "metadata": {},
   "source": [
    "If wanted to keep the same name, can do!"
   ]
  },
  {
   "cell_type": "code",
   "execution_count": 14,
   "id": "d541792f-cf4a-4c13-8c96-c3769004ae00",
   "metadata": {},
   "outputs": [
    {
     "name": "stdout",
     "output_type": "stream",
     "text": [
      "(10320, 5)\n"
     ]
    }
   ],
   "source": [
    "X_train_scaled2 = X_train_scaled\n",
    "print(pca.fit_transform(X_train_scaled2).shape)"
   ]
  },
  {
   "cell_type": "markdown",
   "id": "c28b2b3b-cbf0-48e0-bbc5-c081f522f58d",
   "metadata": {},
   "source": [
    "### Random Forest model with Gridsearch\n",
    "\n",
    "Basic hyperparameters:\n",
    "\n",
    "* `n_estimators`: Number of trees in forest\n",
    "* `criterion`: MSE or MAE (methods of determining optimal feature choice at node)\n",
    "* `max_depth`: Maximum depth of the tree\n",
    "* `min_samples_split`: Minimum number of observations needed to split a node\n",
    "* `max_features`: Number of features to consider when looking for the best split\n",
    "\n",
    "**Note: below is not really how we would want to train this dataset. In reality, too few features to make RF worthwhile. For demonstration purposes only!**"
   ]
  },
  {
   "cell_type": "code",
   "execution_count": 15,
   "id": "4ce1c23b-b230-4668-8ab6-4d0be89dd587",
   "metadata": {},
   "outputs": [],
   "source": [
    "start = time.time()\n",
    "\n",
    "# Create the grid itself\n",
    "param_grid = {\n",
    "    'n_estimators': [10],\n",
    "    'criterion': [\"mae\"],\n",
    "    'max_depth': [2],\n",
    "    'max_features': [3],\n",
    "    'min_samples_split': [20, 30]\n",
    "}\n",
    "\n",
    "# Create a random forest model object\n",
    "rfmodel = ensemble.RandomForestRegressor()\n",
    "\n",
    "# Create the grid search model\n",
    "    # 3 folds (cv)\n",
    "    # n_jobs = - 1 => all processors available\n",
    "    # verbose is about level of info printed out.\n",
    "grid_search = GridSearchCV(estimator = rfmodel,\n",
    "                           param_grid = param_grid,\n",
    "                           cv = 3,\n",
    "                           n_jobs = 1,\n",
    "                           verbose = 2)"
   ]
  },
  {
   "cell_type": "markdown",
   "id": "2d62b17a-8eb3-4363-9e1e-2b7b44900647",
   "metadata": {},
   "source": [
    "Now execute the gridsearch! (Takes about 45 seconds)"
   ]
  },
  {
   "cell_type": "code",
   "execution_count": 16,
   "id": "8428f916-2b2b-4e70-9ad9-79f76528d774",
   "metadata": {},
   "outputs": [
    {
     "name": "stdout",
     "output_type": "stream",
     "text": [
      "Fitting 3 folds for each of 2 candidates, totalling 6 fits\n",
      "[CV] END criterion=mae, max_depth=2, max_features=3, min_samples_split=20, n_estimators=10; total time=   3.8s\n",
      "[CV] END criterion=mae, max_depth=2, max_features=3, min_samples_split=20, n_estimators=10; total time=   3.8s\n",
      "[CV] END criterion=mae, max_depth=2, max_features=3, min_samples_split=20, n_estimators=10; total time=   3.6s\n",
      "[CV] END criterion=mae, max_depth=2, max_features=3, min_samples_split=30, n_estimators=10; total time=   4.0s\n",
      "[CV] END criterion=mae, max_depth=2, max_features=3, min_samples_split=30, n_estimators=10; total time=   4.4s\n",
      "[CV] END criterion=mae, max_depth=2, max_features=3, min_samples_split=30, n_estimators=10; total time=   4.1s\n",
      "35.623379945755005\n"
     ]
    }
   ],
   "source": [
    "grid_search.fit(X_train_pca, y_train)\n",
    "end = time.time()\n",
    "print(end - start)"
   ]
  },
  {
   "cell_type": "markdown",
   "id": "97b71c36-eea8-4e6b-ac1f-f20873cb73b6",
   "metadata": {},
   "source": [
    "Can get best hyperparameters from gridseach"
   ]
  },
  {
   "cell_type": "code",
   "execution_count": 17,
   "id": "34217fe1-d002-436b-85c1-ac6ead634670",
   "metadata": {},
   "outputs": [
    {
     "data": {
      "text/plain": [
       "{'criterion': 'mae',\n",
       " 'max_depth': 2,\n",
       " 'max_features': 3,\n",
       " 'min_samples_split': 30,\n",
       " 'n_estimators': 10}"
      ]
     },
     "execution_count": 17,
     "metadata": {},
     "output_type": "execute_result"
    }
   ],
   "source": [
    "grid_search.best_params_"
   ]
  },
  {
   "cell_type": "markdown",
   "id": "626e1fbf-b041-4dfe-ba6e-85fdad925db8",
   "metadata": {},
   "source": [
    "### Fit chosen model onto test data"
   ]
  },
  {
   "cell_type": "code",
   "execution_count": 18,
   "id": "ff951ba5-c324-4313-aaec-08814ce6bd37",
   "metadata": {},
   "outputs": [],
   "source": [
    "y_score = grid_search.predict(X_test_pca)\n",
    "MAE = (y_test - y_score).abs()"
   ]
  },
  {
   "cell_type": "markdown",
   "id": "5c06d958-7083-4aae-a450-de0c48f611e8",
   "metadata": {},
   "source": [
    "### Model fit visualizations"
   ]
  },
  {
   "cell_type": "code",
   "execution_count": 19,
   "id": "82315b55-13bb-4566-b76b-4ab25efef311",
   "metadata": {},
   "outputs": [
    {
     "data": {
      "text/plain": [
       "[<matplotlib.lines.Line2D at 0x7fbc55559fd0>]"
      ]
     },
     "execution_count": 19,
     "metadata": {},
     "output_type": "execute_result"
    },
    {
     "data": {
      "image/png": "[encoded data removed]",
      "text/plain": [
       "<Figure size 432x288 with 1 Axes>"
      ]
     },
     "metadata": {
      "needs_background": "light"
     },
     "output_type": "display_data"
    }
   ],
   "source": [
    "plt.plot(y_test, y_score, 'bo')"
   ]
  },
  {
   "cell_type": "code",
   "execution_count": 20,
   "id": "a31e4dcf-cf51-43cd-9be5-413110a1b164",
   "metadata": {},
   "outputs": [
    {
     "data": {
      "text/plain": [
       "[<matplotlib.lines.Line2D at 0x7fbc558e6b20>]"
      ]
     },
     "execution_count": 20,
     "metadata": {},
     "output_type": "execute_result"
    },
    {
     "data": {
      "image/png": "[encoded data removed]",
      "text/plain": [
       "<Figure size 432x288 with 1 Axes>"
      ]
     },
     "metadata": {
      "needs_background": "light"
     },
     "output_type": "display_data"
    }
   ],
   "source": [
    "plt.plot(y_test, MAE, 'bo')"
   ]
  },
  {
   "cell_type": "code",
   "execution_count": null,
   "id": "b3c081e7-b79c-4bc7-a195-d83d8a7bcdbb",
   "metadata": {},
   "outputs": [],
   "source": []
  }
 ],
 "metadata": {
  "kernelspec": {
   "display_name": "Python 3",
   "language": "python",
   "name": "python3"
  },
  "language_info": {
   "codemirror_mode": {
    "name": "ipython",
    "version": 3
   },
   "file_extension": ".py",
   "mimetype": "text/x-python",
   "name": "python",
   "nbconvert_exporter": "python",
   "pygments_lexer": "ipython3",
   "version": "3.8.8"
  }
 },
 "nbformat": 4,
 "nbformat_minor": 5
}
