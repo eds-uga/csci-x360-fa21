{
 "cells": [
  {
   "cell_type": "markdown",
   "metadata": {
    "slideshow": {
     "slide_type": "slide"
    },
    "toc": true
   },
   "source": [
    "<h1>Table of Contents<span class=\"tocSkip\"></span></h1>\n",
    "<div class=\"toc\"><ul class=\"toc-item\"><li><span><a href=\"#Return-and-Risk-\" data-toc-modified-id=\"Return-and-Risk--1\"><span class=\"toc-item-num\">1&nbsp;&nbsp;</span><center><font color=\"purple\">Return and Risk </font></center></a></span><ul class=\"toc-item\"><li><span><a href=\"#Imported-Modules\" data-toc-modified-id=\"Imported-Modules-1.1\"><span class=\"toc-item-num\">1.1&nbsp;&nbsp;</span>Imported Modules</a></span></li><li><span><a href=\"#Risk-and-Return\" data-toc-modified-id=\"Risk-and-Return-1.2\"><span class=\"toc-item-num\">1.2&nbsp;&nbsp;</span>Risk and Return</a></span><ul class=\"toc-item\"><li><span><a href=\"#Calculating-rates-of-return\" data-toc-modified-id=\"Calculating-rates-of-return-1.2.1\"><span class=\"toc-item-num\">1.2.1&nbsp;&nbsp;</span>Calculating rates of return</a></span></li><li><span><a href=\"#Investment--Portfolio\" data-toc-modified-id=\"Investment--Portfolio-1.2.2\"><span class=\"toc-item-num\">1.2.2&nbsp;&nbsp;</span>Investment  Portfolio</a></span></li><li><span><a href=\"#Measuring-risk\" data-toc-modified-id=\"Measuring-risk-1.2.3\"><span class=\"toc-item-num\">1.2.3&nbsp;&nbsp;</span>Measuring risk</a></span></li><li><span><a href=\"#The-relationship-between-securities\" data-toc-modified-id=\"The-relationship-between-securities-1.2.4\"><span class=\"toc-item-num\">1.2.4&nbsp;&nbsp;</span>The relationship between securities</a></span></li></ul></li><li><span><a href=\"#Risk-of-Portfolio\" data-toc-modified-id=\"Risk-of-Portfolio-1.3\"><span class=\"toc-item-num\">1.3&nbsp;&nbsp;</span>Risk of Portfolio</a></span></li><li><span><a href=\"#Systematic-Risk-and-Unsystematic-Risk\" data-toc-modified-id=\"Systematic-Risk-and-Unsystematic-Risk-1.4\"><span class=\"toc-item-num\">1.4&nbsp;&nbsp;</span>Systematic Risk and Unsystematic Risk</a></span></li><li><span><a href=\"#Portfolio-Variance-with-Many-Risky-Securities\" data-toc-modified-id=\"Portfolio-Variance-with-Many-Risky-Securities-1.5\"><span class=\"toc-item-num\">1.5&nbsp;&nbsp;</span>Portfolio Variance with Many Risky Securities</a></span><ul class=\"toc-item\"><li><span><a href=\"#Unsystematic-risk-only\" data-toc-modified-id=\"Unsystematic-risk-only-1.5.1\"><span class=\"toc-item-num\">1.5.1&nbsp;&nbsp;</span>Unsystematic risk only</a></span></li><li><span><a href=\"#Systematic-and-unsystematic-risk\" data-toc-modified-id=\"Systematic-and-unsystematic-risk-1.5.2\"><span class=\"toc-item-num\">1.5.2&nbsp;&nbsp;</span>Systematic and unsystematic risk</a></span></li></ul></li></ul></li></ul></div>"
   ]
  },
  {
   "cell_type": "markdown",
   "metadata": {
    "slideshow": {
     "slide_type": "slide"
    }
   },
   "source": [
    "<h1><center ><font color='purple'>Return and Risk </font></center></h1>"
   ]
  },
  {
   "cell_type": "markdown",
   "metadata": {
    "slideshow": {
     "slide_type": "slide"
    }
   },
   "source": [
    "## Imported Modules "
   ]
  },
  {
   "cell_type": "code",
   "execution_count": 15,
   "metadata": {
    "slideshow": {
     "slide_type": "slide"
    }
   },
   "outputs": [],
   "source": [
    "import pandas as pd\n",
    "import numpy as np\n",
    "import matplotlib.pyplot as plt\n",
    "%matplotlib inline\n",
    "import statsmodels.formula.api as smf\n",
    "import warnings\n",
    "warnings.filterwarnings(\"ignore\")"
   ]
  },
  {
   "cell_type": "markdown",
   "metadata": {
    "slideshow": {
     "slide_type": "slide"
    }
   },
   "source": [
    "##  Risk and Return "
   ]
  },
  {
   "cell_type": "markdown",
   "metadata": {
    "slideshow": {
     "slide_type": "slide"
    }
   },
   "source": [
    "When we think of an investment, we have to remember two things – its upside and its downside. In\n",
    "other words, we should consider the profit that will be made if everything goes well and the risk of\n",
    "losses if the investmentis unsuccessful."
   ]
  },
  {
   "cell_type": "markdown",
   "metadata": {
    "slideshow": {
     "slide_type": "slide"
    }
   },
   "source": [
    "![](Figure/asset.jpg)"
   ]
  },
  {
   "cell_type": "markdown",
   "metadata": {
    "slideshow": {
     "slide_type": "slide"
    }
   },
   "source": [
    "### Calculating rates of return"
   ]
  },
  {
   "cell_type": "markdown",
   "metadata": {
    "slideshow": {
     "slide_type": "slide"
    }
   },
   "source": [
    "![](Figure/return.jpg)"
   ]
  },
  {
   "cell_type": "markdown",
   "metadata": {
    "slideshow": {
     "slide_type": "slide"
    }
   },
   "source": [
    "Returns can only compared among investments with the same hoding period(time frame):\n",
    "- daily return\n",
    "- weekly return\n",
    "- monthly return \n",
    "- annual or yearly return"
   ]
  },
  {
   "cell_type": "markdown",
   "metadata": {
    "slideshow": {
     "slide_type": "slide"
    }
   },
   "source": [
    "- Historical Rates of Return\n",
    "- Future Rates of Return (Expected Return)\n",
    "    - Prediction with statistical and machine learning models\n",
    "    - approximation of financial models. "
   ]
  },
  {
   "cell_type": "markdown",
   "metadata": {
    "slideshow": {
     "slide_type": "slide"
    }
   },
   "source": [
    "<img src=\"Figure/hist_future_return.jpg\"  width=\"600\" height=\"400\" align=\"center\" />\n"
   ]
  },
  {
   "cell_type": "code",
   "execution_count": 2,
   "metadata": {
    "slideshow": {
     "slide_type": "slide"
    }
   },
   "outputs": [],
   "source": [
    "import yfinance as yf"
   ]
  },
  {
   "cell_type": "code",
   "execution_count": 17,
   "metadata": {
    "slideshow": {
     "slide_type": "slide"
    }
   },
   "outputs": [
    {
     "name": "stdout",
     "output_type": "stream",
     "text": [
      "[*********************100%***********************]  1 of 1 completed\n"
     ]
    }
   ],
   "source": [
    "msft = yf.download(  # or pdr.get_data_yahoo(...\n",
    "        # tickers list or string as well\n",
    "        tickers =\"MSFT\",\n",
    "\n",
    "        # use \"period\" instead of start/end\n",
    "        # valid periods: 1d,5d,1mo,3mo,6mo,1y,2y,5y,10y,ytd,max\n",
    "        # (optional, default is '1mo')\n",
    "        period = \"5000d\",\n",
    "\n",
    "        # fetch data by interval (including intraday if period < 60 days)\n",
    "        # valid intervals: 1m,2m,5m,15m,30m,60m,90m,1h,1d,5d,1wk,1mo,3mo\n",
    "        # (optional, default is '1d')\n",
    "        interval = \"1d\",\n",
    "\n",
    "        # group by ticker (to access via data['SPY'])\n",
    "        # (optional, default is 'column')\n",
    "        group_by = 'ticker',\n",
    "\n",
    "        # adjust all OHLC automatically\n",
    "        # (optional, default is False)\n",
    "        auto_adjust = False,\n",
    "\n",
    "        # download pre/post regular market hours data\n",
    "        # (optional, default is False)\n",
    "        prepost = True,\n",
    "\n",
    "        # use threads for mass downloading? (True/False/Integer)\n",
    "        # (optional, default is True)\n",
    "        threads = True,\n",
    "\n",
    "        # proxy URL scheme use use when downloading?\n",
    "        # (optional, default is None)\n",
    "        proxy = None\n",
    "    )"
   ]
  },
  {
   "cell_type": "code",
   "execution_count": 18,
   "metadata": {
    "slideshow": {
     "slide_type": "slide"
    }
   },
   "outputs": [
    {
     "data": {
      "text/html": [
       "<div>\n",
       "<style scoped>\n",
       "    .dataframe tbody tr th:only-of-type {\n",
       "        vertical-align: middle;\n",
       "    }\n",
       "\n",
       "    .dataframe tbody tr th {\n",
       "        vertical-align: top;\n",
       "    }\n",
       "\n",
       "    .dataframe thead th {\n",
       "        text-align: right;\n",
       "    }\n",
       "</style>\n",
       "<table border=\"1\" class=\"dataframe\">\n",
       "  <thead>\n",
       "    <tr style=\"text-align: right;\">\n",
       "      <th></th>\n",
       "      <th>Open</th>\n",
       "      <th>High</th>\n",
       "      <th>Low</th>\n",
       "      <th>Close</th>\n",
       "      <th>Adj Close</th>\n",
       "      <th>Volume</th>\n",
       "    </tr>\n",
       "    <tr>\n",
       "      <th>Date</th>\n",
       "      <th></th>\n",
       "      <th></th>\n",
       "      <th></th>\n",
       "      <th></th>\n",
       "      <th></th>\n",
       "      <th></th>\n",
       "    </tr>\n",
       "  </thead>\n",
       "  <tbody>\n",
       "    <tr>\n",
       "      <th>2002-01-07</th>\n",
       "      <td>34.875000</td>\n",
       "      <td>35.009998</td>\n",
       "      <td>34.174999</td>\n",
       "      <td>34.279999</td>\n",
       "      <td>21.681295</td>\n",
       "      <td>58508800</td>\n",
       "    </tr>\n",
       "    <tr>\n",
       "      <th>2002-01-08</th>\n",
       "      <td>34.345001</td>\n",
       "      <td>34.930000</td>\n",
       "      <td>34.000000</td>\n",
       "      <td>34.689999</td>\n",
       "      <td>21.940622</td>\n",
       "      <td>47736400</td>\n",
       "    </tr>\n",
       "    <tr>\n",
       "      <th>2002-01-09</th>\n",
       "      <td>34.860001</td>\n",
       "      <td>35.310001</td>\n",
       "      <td>34.275002</td>\n",
       "      <td>34.355000</td>\n",
       "      <td>21.728731</td>\n",
       "      <td>76304000</td>\n",
       "    </tr>\n",
       "    <tr>\n",
       "      <th>2002-01-10</th>\n",
       "      <td>34.240002</td>\n",
       "      <td>34.900002</td>\n",
       "      <td>34.064999</td>\n",
       "      <td>34.639999</td>\n",
       "      <td>21.908993</td>\n",
       "      <td>50296600</td>\n",
       "    </tr>\n",
       "    <tr>\n",
       "      <th>2002-01-11</th>\n",
       "      <td>34.759998</td>\n",
       "      <td>35.160000</td>\n",
       "      <td>34.049999</td>\n",
       "      <td>34.305000</td>\n",
       "      <td>21.697107</td>\n",
       "      <td>72993200</td>\n",
       "    </tr>\n",
       "  </tbody>\n",
       "</table>\n",
       "</div>"
      ],
      "text/plain": [
       "                 Open       High        Low      Close  Adj Close    Volume\n",
       "Date                                                                       \n",
       "2002-01-07  34.875000  35.009998  34.174999  34.279999  21.681295  58508800\n",
       "2002-01-08  34.345001  34.930000  34.000000  34.689999  21.940622  47736400\n",
       "2002-01-09  34.860001  35.310001  34.275002  34.355000  21.728731  76304000\n",
       "2002-01-10  34.240002  34.900002  34.064999  34.639999  21.908993  50296600\n",
       "2002-01-11  34.759998  35.160000  34.049999  34.305000  21.697107  72993200"
      ]
     },
     "execution_count": 18,
     "metadata": {},
     "output_type": "execute_result"
    }
   ],
   "source": [
    "msft.head()"
   ]
  },
  {
   "cell_type": "code",
   "execution_count": 19,
   "metadata": {
    "slideshow": {
     "slide_type": "slide"
    }
   },
   "outputs": [
    {
     "data": {
      "text/html": [
       "<div>\n",
       "<style scoped>\n",
       "    .dataframe tbody tr th:only-of-type {\n",
       "        vertical-align: middle;\n",
       "    }\n",
       "\n",
       "    .dataframe tbody tr th {\n",
       "        vertical-align: top;\n",
       "    }\n",
       "\n",
       "    .dataframe thead th {\n",
       "        text-align: right;\n",
       "    }\n",
       "</style>\n",
       "<table border=\"1\" class=\"dataframe\">\n",
       "  <thead>\n",
       "    <tr style=\"text-align: right;\">\n",
       "      <th></th>\n",
       "      <th>Open</th>\n",
       "      <th>High</th>\n",
       "      <th>Low</th>\n",
       "      <th>Close</th>\n",
       "      <th>Adj Close</th>\n",
       "      <th>Volume</th>\n",
       "    </tr>\n",
       "    <tr>\n",
       "      <th>Date</th>\n",
       "      <th></th>\n",
       "      <th></th>\n",
       "      <th></th>\n",
       "      <th></th>\n",
       "      <th></th>\n",
       "      <th></th>\n",
       "    </tr>\n",
       "  </thead>\n",
       "  <tbody>\n",
       "    <tr>\n",
       "      <th>2021-11-08</th>\n",
       "      <td>337.299988</td>\n",
       "      <td>337.649994</td>\n",
       "      <td>334.440002</td>\n",
       "      <td>336.989990</td>\n",
       "      <td>336.989990</td>\n",
       "      <td>20897000</td>\n",
       "    </tr>\n",
       "    <tr>\n",
       "      <th>2021-11-09</th>\n",
       "      <td>337.109985</td>\n",
       "      <td>338.720001</td>\n",
       "      <td>334.529999</td>\n",
       "      <td>335.950012</td>\n",
       "      <td>335.950012</td>\n",
       "      <td>21307400</td>\n",
       "    </tr>\n",
       "    <tr>\n",
       "      <th>2021-11-10</th>\n",
       "      <td>334.570007</td>\n",
       "      <td>334.630005</td>\n",
       "      <td>329.920013</td>\n",
       "      <td>330.799988</td>\n",
       "      <td>330.799988</td>\n",
       "      <td>25500900</td>\n",
       "    </tr>\n",
       "    <tr>\n",
       "      <th>2021-11-11</th>\n",
       "      <td>331.250000</td>\n",
       "      <td>333.769989</td>\n",
       "      <td>330.510010</td>\n",
       "      <td>332.429993</td>\n",
       "      <td>332.429993</td>\n",
       "      <td>16849800</td>\n",
       "    </tr>\n",
       "    <tr>\n",
       "      <th>2021-11-12</th>\n",
       "      <td>333.920013</td>\n",
       "      <td>337.230011</td>\n",
       "      <td>333.790009</td>\n",
       "      <td>336.720001</td>\n",
       "      <td>336.720001</td>\n",
       "      <td>23822000</td>\n",
       "    </tr>\n",
       "  </tbody>\n",
       "</table>\n",
       "</div>"
      ],
      "text/plain": [
       "                  Open        High         Low       Close   Adj Close  \\\n",
       "Date                                                                     \n",
       "2021-11-08  337.299988  337.649994  334.440002  336.989990  336.989990   \n",
       "2021-11-09  337.109985  338.720001  334.529999  335.950012  335.950012   \n",
       "2021-11-10  334.570007  334.630005  329.920013  330.799988  330.799988   \n",
       "2021-11-11  331.250000  333.769989  330.510010  332.429993  332.429993   \n",
       "2021-11-12  333.920013  337.230011  333.790009  336.720001  336.720001   \n",
       "\n",
       "              Volume  \n",
       "Date                  \n",
       "2021-11-08  20897000  \n",
       "2021-11-09  21307400  \n",
       "2021-11-10  25500900  \n",
       "2021-11-11  16849800  \n",
       "2021-11-12  23822000  "
      ]
     },
     "execution_count": 19,
     "metadata": {},
     "output_type": "execute_result"
    }
   ],
   "source": [
    "msft.tail()"
   ]
  },
  {
   "cell_type": "markdown",
   "metadata": {
    "slideshow": {
     "slide_type": "slide"
    }
   },
   "source": [
    "**Simple Rate of Return**\n",
    "\n",
    "$$\n",
    "r=\\frac{P_1-P_0}{P_0}\n",
    "$$"
   ]
  },
  {
   "cell_type": "code",
   "execution_count": 20,
   "metadata": {
    "slideshow": {
     "slide_type": "slide"
    }
   },
   "outputs": [
    {
     "data": {
      "text/plain": [
       "Date\n",
       "2002-01-07         NaN\n",
       "2002-01-08    0.011960\n",
       "2002-01-09   -0.009657\n",
       "Name: simple_return, dtype: float64"
      ]
     },
     "execution_count": 20,
     "metadata": {},
     "output_type": "execute_result"
    }
   ],
   "source": [
    "msft[\"simple_return\"]=(msft[\"Close\"]-msft[\"Close\"].shift(1))/msft[\"Close\"].shift(1)\n",
    "msft[\"simple_return\"].head(3)"
   ]
  },
  {
   "cell_type": "code",
   "execution_count": 21,
   "metadata": {
    "slideshow": {
     "slide_type": "slide"
    }
   },
   "outputs": [
    {
     "data": {
      "text/plain": [
       "<AxesSubplot:xlabel='Date'>"
      ]
     },
     "execution_count": 21,
     "metadata": {},
     "output_type": "execute_result"
    },
    {
     "data": {
      "image/png": "[encoded data removed]",
      "text/plain": [
       "<Figure size 1440x360 with 1 Axes>"
      ]
     },
     "metadata": {
      "needs_background": "light"
     },
     "output_type": "display_data"
    }
   ],
   "source": [
    "msft[\"simple_return\"].plot(figsize=(20,5))"
   ]
  },
  {
   "cell_type": "code",
   "execution_count": 22,
   "metadata": {
    "slideshow": {
     "slide_type": "slide"
    }
   },
   "outputs": [
    {
     "data": {
      "text/plain": [
       "0.0006108360113724699"
      ]
     },
     "execution_count": 22,
     "metadata": {},
     "output_type": "execute_result"
    }
   ],
   "source": [
    "average_daily_return=msft[\"simple_return\"].mean()\n",
    "average_daily_return"
   ]
  },
  {
   "cell_type": "code",
   "execution_count": 23,
   "metadata": {
    "slideshow": {
     "slide_type": "slide"
    }
   },
   "outputs": [
    {
     "data": {
      "text/plain": [
       "0.15270900284311748"
      ]
     },
     "execution_count": 23,
     "metadata": {},
     "output_type": "execute_result"
    }
   ],
   "source": [
    "average_annual_return=msft[\"simple_return\"].mean()*250\n",
    "average_annual_return"
   ]
  },
  {
   "cell_type": "markdown",
   "metadata": {
    "slideshow": {
     "slide_type": "fragment"
    }
   },
   "source": [
    "Or we can transform the annual return into rate of percentage:"
   ]
  },
  {
   "cell_type": "code",
   "execution_count": 24,
   "metadata": {
    "slideshow": {
     "slide_type": "fragment"
    }
   },
   "outputs": [
    {
     "name": "stdout",
     "output_type": "stream",
     "text": [
      "15.271%\n"
     ]
    }
   ],
   "source": [
    "print(str(round(average_annual_return,5)*100)+\"%\")"
   ]
  },
  {
   "cell_type": "markdown",
   "metadata": {
    "slideshow": {
     "slide_type": "slide"
    }
   },
   "source": [
    "**Log Returns**\n",
    "$$\n",
    "ln\\bigg(\\frac{P_t}{P_{t-1}}\\bigg)\n",
    "$$"
   ]
  },
  {
   "cell_type": "code",
   "execution_count": 25,
   "metadata": {
    "slideshow": {
     "slide_type": "slide"
    }
   },
   "outputs": [
    {
     "data": {
      "text/html": [
       "<div>\n",
       "<style scoped>\n",
       "    .dataframe tbody tr th:only-of-type {\n",
       "        vertical-align: middle;\n",
       "    }\n",
       "\n",
       "    .dataframe tbody tr th {\n",
       "        vertical-align: top;\n",
       "    }\n",
       "\n",
       "    .dataframe thead th {\n",
       "        text-align: right;\n",
       "    }\n",
       "</style>\n",
       "<table border=\"1\" class=\"dataframe\">\n",
       "  <thead>\n",
       "    <tr style=\"text-align: right;\">\n",
       "      <th></th>\n",
       "      <th>Open</th>\n",
       "      <th>High</th>\n",
       "      <th>Low</th>\n",
       "      <th>Close</th>\n",
       "      <th>Adj Close</th>\n",
       "      <th>Volume</th>\n",
       "      <th>simple_return</th>\n",
       "      <th>log_return</th>\n",
       "    </tr>\n",
       "    <tr>\n",
       "      <th>Date</th>\n",
       "      <th></th>\n",
       "      <th></th>\n",
       "      <th></th>\n",
       "      <th></th>\n",
       "      <th></th>\n",
       "      <th></th>\n",
       "      <th></th>\n",
       "      <th></th>\n",
       "    </tr>\n",
       "  </thead>\n",
       "  <tbody>\n",
       "    <tr>\n",
       "      <th>2002-01-07</th>\n",
       "      <td>34.875000</td>\n",
       "      <td>35.009998</td>\n",
       "      <td>34.174999</td>\n",
       "      <td>34.279999</td>\n",
       "      <td>21.681295</td>\n",
       "      <td>58508800</td>\n",
       "      <td>NaN</td>\n",
       "      <td>NaN</td>\n",
       "    </tr>\n",
       "    <tr>\n",
       "      <th>2002-01-08</th>\n",
       "      <td>34.345001</td>\n",
       "      <td>34.930000</td>\n",
       "      <td>34.000000</td>\n",
       "      <td>34.689999</td>\n",
       "      <td>21.940622</td>\n",
       "      <td>47736400</td>\n",
       "      <td>0.011960</td>\n",
       "      <td>0.011889</td>\n",
       "    </tr>\n",
       "    <tr>\n",
       "      <th>2002-01-09</th>\n",
       "      <td>34.860001</td>\n",
       "      <td>35.310001</td>\n",
       "      <td>34.275002</td>\n",
       "      <td>34.355000</td>\n",
       "      <td>21.728731</td>\n",
       "      <td>76304000</td>\n",
       "      <td>-0.009657</td>\n",
       "      <td>-0.009704</td>\n",
       "    </tr>\n",
       "    <tr>\n",
       "      <th>2002-01-10</th>\n",
       "      <td>34.240002</td>\n",
       "      <td>34.900002</td>\n",
       "      <td>34.064999</td>\n",
       "      <td>34.639999</td>\n",
       "      <td>21.908993</td>\n",
       "      <td>50296600</td>\n",
       "      <td>0.008296</td>\n",
       "      <td>0.008262</td>\n",
       "    </tr>\n",
       "    <tr>\n",
       "      <th>2002-01-11</th>\n",
       "      <td>34.759998</td>\n",
       "      <td>35.160000</td>\n",
       "      <td>34.049999</td>\n",
       "      <td>34.305000</td>\n",
       "      <td>21.697107</td>\n",
       "      <td>72993200</td>\n",
       "      <td>-0.009671</td>\n",
       "      <td>-0.009718</td>\n",
       "    </tr>\n",
       "  </tbody>\n",
       "</table>\n",
       "</div>"
      ],
      "text/plain": [
       "                 Open       High        Low      Close  Adj Close    Volume  \\\n",
       "Date                                                                          \n",
       "2002-01-07  34.875000  35.009998  34.174999  34.279999  21.681295  58508800   \n",
       "2002-01-08  34.345001  34.930000  34.000000  34.689999  21.940622  47736400   \n",
       "2002-01-09  34.860001  35.310001  34.275002  34.355000  21.728731  76304000   \n",
       "2002-01-10  34.240002  34.900002  34.064999  34.639999  21.908993  50296600   \n",
       "2002-01-11  34.759998  35.160000  34.049999  34.305000  21.697107  72993200   \n",
       "\n",
       "            simple_return  log_return  \n",
       "Date                                   \n",
       "2002-01-07            NaN         NaN  \n",
       "2002-01-08       0.011960    0.011889  \n",
       "2002-01-09      -0.009657   -0.009704  \n",
       "2002-01-10       0.008296    0.008262  \n",
       "2002-01-11      -0.009671   -0.009718  "
      ]
     },
     "execution_count": 25,
     "metadata": {},
     "output_type": "execute_result"
    }
   ],
   "source": [
    "msft[\"log_return\"]=np.log(msft[\"Close\"]/msft[\"Close\"].shift(1))\n",
    "msft.head(5)"
   ]
  },
  {
   "cell_type": "code",
   "execution_count": 26,
   "metadata": {
    "slideshow": {
     "slide_type": "slide"
    }
   },
   "outputs": [
    {
     "data": {
      "text/plain": [
       "<AxesSubplot:xlabel='Date'>"
      ]
     },
     "execution_count": 26,
     "metadata": {},
     "output_type": "execute_result"
    },
    {
     "data": {
      "image/png": "[encoded data removed]",
      "text/plain": [
       "<Figure size 576x360 with 1 Axes>"
      ]
     },
     "metadata": {
      "needs_background": "light"
     },
     "output_type": "display_data"
    }
   ],
   "source": [
    "msft[\"log_return\"].plot(figsize=(8,5))"
   ]
  },
  {
   "cell_type": "code",
   "execution_count": 27,
   "metadata": {
    "slideshow": {
     "slide_type": "slide"
    }
   },
   "outputs": [
    {
     "data": {
      "text/plain": [
       "0.00045702933986152994"
      ]
     },
     "execution_count": 27,
     "metadata": {},
     "output_type": "execute_result"
    }
   ],
   "source": [
    "log_daily_return=msft[\"log_return\"].mean()\n",
    "log_daily_return"
   ]
  },
  {
   "cell_type": "code",
   "execution_count": 28,
   "metadata": {
    "slideshow": {
     "slide_type": "slide"
    }
   },
   "outputs": [
    {
     "data": {
      "text/plain": [
       "0.11425733496538248"
      ]
     },
     "execution_count": 28,
     "metadata": {},
     "output_type": "execute_result"
    }
   ],
   "source": [
    "log_annual_return=msft[\"log_return\"].mean()*250\n",
    "log_annual_return"
   ]
  },
  {
   "cell_type": "code",
   "execution_count": 29,
   "metadata": {
    "slideshow": {
     "slide_type": "slide"
    }
   },
   "outputs": [
    {
     "name": "stdout",
     "output_type": "stream",
     "text": [
      "11.426%\n"
     ]
    }
   ],
   "source": [
    "print(str(round(log_annual_return,5)*100)+\"%\")"
   ]
  },
  {
   "cell_type": "markdown",
   "metadata": {},
   "source": [
    "### Investment  Portfolio "
   ]
  },
  {
   "cell_type": "markdown",
   "metadata": {
    "slideshow": {
     "slide_type": "slide"
    }
   },
   "source": [
    "Most investors own several stocks, and the set of stocks that an investor owns is called his\n",
    "investment portfolio"
   ]
  },
  {
   "cell_type": "markdown",
   "metadata": {
    "slideshow": {
     "slide_type": "slide"
    }
   },
   "source": [
    "\n",
    "![](Figure/portfolio.jpg)"
   ]
  },
  {
   "cell_type": "markdown",
   "metadata": {
    "slideshow": {
     "slide_type": "slide"
    }
   },
   "source": [
    "Calculating the rate of return of a portfolio is an easy and intuitive task. We have the rates of return\n",
    "of individual securities, and we only have to multiply each security’s rate of return by the weight it\n",
    "has in the overall portfolio.\n",
    "-  Portfolio weight is determined by dividing the dollar value of a security by the total dollar value of the portfolio"
   ]
  },
  {
   "cell_type": "markdown",
   "metadata": {
    "slideshow": {
     "slide_type": "slide"
    }
   },
   "source": [
    "<img src=\"Figure/weighted_return.jpg\"  width=\"400\" height=\"40\" align=\"center\" />\n"
   ]
  },
  {
   "cell_type": "code",
   "execution_count": 30,
   "metadata": {
    "slideshow": {
     "slide_type": "slide"
    }
   },
   "outputs": [
    {
     "name": "stdout",
     "output_type": "stream",
     "text": [
      "[*********************100%***********************]  4 of 4 completed\n"
     ]
    }
   ],
   "source": [
    "data = yf.download( \n",
    "        tickers =\"MSFT,IBM,GE ,F\",\n",
    "        period = \"5000d\",\n",
    "        interval = \"1d\",\n",
    "        group_by = 'ticker',\n",
    "        auto_adjust = True,\n",
    "        prepost = True,\n",
    "        threads = True,\n",
    "        proxy = None\n",
    "    )"
   ]
  },
  {
   "cell_type": "code",
   "execution_count": 31,
   "metadata": {
    "slideshow": {
     "slide_type": "slide"
    }
   },
   "outputs": [
    {
     "data": {
      "text/html": [
       "<div>\n",
       "<style scoped>\n",
       "    .dataframe tbody tr th:only-of-type {\n",
       "        vertical-align: middle;\n",
       "    }\n",
       "\n",
       "    .dataframe tbody tr th {\n",
       "        vertical-align: top;\n",
       "    }\n",
       "\n",
       "    .dataframe thead tr th {\n",
       "        text-align: left;\n",
       "    }\n",
       "\n",
       "    .dataframe thead tr:last-of-type th {\n",
       "        text-align: right;\n",
       "    }\n",
       "</style>\n",
       "<table border=\"1\" class=\"dataframe\">\n",
       "  <thead>\n",
       "    <tr>\n",
       "      <th></th>\n",
       "      <th colspan=\"5\" halign=\"left\">MSFT</th>\n",
       "      <th colspan=\"5\" halign=\"left\">F</th>\n",
       "      <th colspan=\"5\" halign=\"left\">GE</th>\n",
       "      <th colspan=\"5\" halign=\"left\">IBM</th>\n",
       "    </tr>\n",
       "    <tr>\n",
       "      <th></th>\n",
       "      <th>Open</th>\n",
       "      <th>High</th>\n",
       "      <th>Low</th>\n",
       "      <th>Close</th>\n",
       "      <th>Volume</th>\n",
       "      <th>Open</th>\n",
       "      <th>High</th>\n",
       "      <th>Low</th>\n",
       "      <th>Close</th>\n",
       "      <th>Volume</th>\n",
       "      <th>Open</th>\n",
       "      <th>High</th>\n",
       "      <th>Low</th>\n",
       "      <th>Close</th>\n",
       "      <th>Volume</th>\n",
       "      <th>Open</th>\n",
       "      <th>High</th>\n",
       "      <th>Low</th>\n",
       "      <th>Close</th>\n",
       "      <th>Volume</th>\n",
       "    </tr>\n",
       "    <tr>\n",
       "      <th>Date</th>\n",
       "      <th></th>\n",
       "      <th></th>\n",
       "      <th></th>\n",
       "      <th></th>\n",
       "      <th></th>\n",
       "      <th></th>\n",
       "      <th></th>\n",
       "      <th></th>\n",
       "      <th></th>\n",
       "      <th></th>\n",
       "      <th></th>\n",
       "      <th></th>\n",
       "      <th></th>\n",
       "      <th></th>\n",
       "      <th></th>\n",
       "      <th></th>\n",
       "      <th></th>\n",
       "      <th></th>\n",
       "      <th></th>\n",
       "      <th></th>\n",
       "    </tr>\n",
       "  </thead>\n",
       "  <tbody>\n",
       "    <tr>\n",
       "      <th>2002-01-07</th>\n",
       "      <td>22.057616</td>\n",
       "      <td>22.142999</td>\n",
       "      <td>21.614882</td>\n",
       "      <td>21.681292</td>\n",
       "      <td>58508800</td>\n",
       "      <td>9.721375</td>\n",
       "      <td>9.749967</td>\n",
       "      <td>9.418297</td>\n",
       "      <td>9.435452</td>\n",
       "      <td>6035300</td>\n",
       "      <td>177.366169</td>\n",
       "      <td>178.238814</td>\n",
       "      <td>170.603119</td>\n",
       "      <td>171.737564</td>\n",
       "      <td>3578497</td>\n",
       "      <td>73.145339</td>\n",
       "      <td>73.841681</td>\n",
       "      <td>72.384628</td>\n",
       "      <td>72.589432</td>\n",
       "      <td>6212822</td>\n",
       "    </tr>\n",
       "    <tr>\n",
       "      <th>2002-01-08</th>\n",
       "      <td>21.722406</td>\n",
       "      <td>22.092404</td>\n",
       "      <td>21.504201</td>\n",
       "      <td>21.940609</td>\n",
       "      <td>47736400</td>\n",
       "      <td>9.395423</td>\n",
       "      <td>9.572695</td>\n",
       "      <td>9.378268</td>\n",
       "      <td>9.469763</td>\n",
       "      <td>4532900</td>\n",
       "      <td>173.002836</td>\n",
       "      <td>174.573603</td>\n",
       "      <td>168.421417</td>\n",
       "      <td>169.948563</td>\n",
       "      <td>3136653</td>\n",
       "      <td>72.706432</td>\n",
       "      <td>73.262339</td>\n",
       "      <td>72.402148</td>\n",
       "      <td>72.969757</td>\n",
       "      <td>5556143</td>\n",
       "    </tr>\n",
       "    <tr>\n",
       "      <th>2002-01-09</th>\n",
       "      <td>22.048132</td>\n",
       "      <td>22.332747</td>\n",
       "      <td>21.678134</td>\n",
       "      <td>21.728731</td>\n",
       "      <td>76304000</td>\n",
       "      <td>9.435455</td>\n",
       "      <td>9.624164</td>\n",
       "      <td>9.321086</td>\n",
       "      <td>9.326804</td>\n",
       "      <td>7033600</td>\n",
       "      <td>168.857870</td>\n",
       "      <td>172.784791</td>\n",
       "      <td>166.632601</td>\n",
       "      <td>168.203369</td>\n",
       "      <td>2624999</td>\n",
       "      <td>72.969764</td>\n",
       "      <td>73.958687</td>\n",
       "      <td>72.647921</td>\n",
       "      <td>72.846878</td>\n",
       "      <td>7154535</td>\n",
       "    </tr>\n",
       "  </tbody>\n",
       "</table>\n",
       "</div>"
      ],
      "text/plain": [
       "                 MSFT                                                    F  \\\n",
       "                 Open       High        Low      Close    Volume      Open   \n",
       "Date                                                                         \n",
       "2002-01-07  22.057616  22.142999  21.614882  21.681292  58508800  9.721375   \n",
       "2002-01-08  21.722406  22.092404  21.504201  21.940609  47736400  9.395423   \n",
       "2002-01-09  22.048132  22.332747  21.678134  21.728731  76304000  9.435455   \n",
       "\n",
       "                                                           GE              \\\n",
       "                High       Low     Close   Volume        Open        High   \n",
       "Date                                                                        \n",
       "2002-01-07  9.749967  9.418297  9.435452  6035300  177.366169  178.238814   \n",
       "2002-01-08  9.572695  9.378268  9.469763  4532900  173.002836  174.573603   \n",
       "2002-01-09  9.624164  9.321086  9.326804  7033600  168.857870  172.784791   \n",
       "\n",
       "                                                   IBM                        \\\n",
       "                   Low       Close   Volume       Open       High        Low   \n",
       "Date                                                                           \n",
       "2002-01-07  170.603119  171.737564  3578497  73.145339  73.841681  72.384628   \n",
       "2002-01-08  168.421417  169.948563  3136653  72.706432  73.262339  72.402148   \n",
       "2002-01-09  166.632601  168.203369  2624999  72.969764  73.958687  72.647921   \n",
       "\n",
       "                                \n",
       "                Close   Volume  \n",
       "Date                            \n",
       "2002-01-07  72.589432  6212822  \n",
       "2002-01-08  72.969757  5556143  \n",
       "2002-01-09  72.846878  7154535  "
      ]
     },
     "execution_count": 31,
     "metadata": {},
     "output_type": "execute_result"
    }
   ],
   "source": [
    "data.head(3)"
   ]
  },
  {
   "cell_type": "code",
   "execution_count": 32,
   "metadata": {
    "slideshow": {
     "slide_type": "slide"
    }
   },
   "outputs": [
    {
     "data": {
      "text/plain": [
       "MultiIndex([('MSFT',   'Open'),\n",
       "            ('MSFT',   'High'),\n",
       "            ('MSFT',    'Low'),\n",
       "            ('MSFT',  'Close'),\n",
       "            ('MSFT', 'Volume'),\n",
       "            (   'F',   'Open'),\n",
       "            (   'F',   'High'),\n",
       "            (   'F',    'Low'),\n",
       "            (   'F',  'Close'),\n",
       "            (   'F', 'Volume'),\n",
       "            (  'GE',   'Open'),\n",
       "            (  'GE',   'High'),\n",
       "            (  'GE',    'Low'),\n",
       "            (  'GE',  'Close'),\n",
       "            (  'GE', 'Volume'),\n",
       "            ( 'IBM',   'Open'),\n",
       "            ( 'IBM',   'High'),\n",
       "            ( 'IBM',    'Low'),\n",
       "            ( 'IBM',  'Close'),\n",
       "            ( 'IBM', 'Volume')],\n",
       "           )"
      ]
     },
     "execution_count": 32,
     "metadata": {},
     "output_type": "execute_result"
    }
   ],
   "source": [
    "data.columns"
   ]
  },
  {
   "cell_type": "code",
   "execution_count": 33,
   "metadata": {
    "slideshow": {
     "slide_type": "slide"
    }
   },
   "outputs": [
    {
     "data": {
      "text/html": [
       "<div>\n",
       "<style scoped>\n",
       "    .dataframe tbody tr th:only-of-type {\n",
       "        vertical-align: middle;\n",
       "    }\n",
       "\n",
       "    .dataframe tbody tr th {\n",
       "        vertical-align: top;\n",
       "    }\n",
       "\n",
       "    .dataframe thead th {\n",
       "        text-align: right;\n",
       "    }\n",
       "</style>\n",
       "<table border=\"1\" class=\"dataframe\">\n",
       "  <thead>\n",
       "    <tr style=\"text-align: right;\">\n",
       "      <th></th>\n",
       "      <th>MSFT</th>\n",
       "      <th>GE</th>\n",
       "      <th>IBM</th>\n",
       "      <th>F</th>\n",
       "    </tr>\n",
       "    <tr>\n",
       "      <th>Date</th>\n",
       "      <th></th>\n",
       "      <th></th>\n",
       "      <th></th>\n",
       "      <th></th>\n",
       "    </tr>\n",
       "  </thead>\n",
       "  <tbody>\n",
       "    <tr>\n",
       "      <th>2002-01-07</th>\n",
       "      <td>21.681292</td>\n",
       "      <td>171.737564</td>\n",
       "      <td>72.589432</td>\n",
       "      <td>9.435452</td>\n",
       "    </tr>\n",
       "    <tr>\n",
       "      <th>2002-01-08</th>\n",
       "      <td>21.940609</td>\n",
       "      <td>169.948563</td>\n",
       "      <td>72.969757</td>\n",
       "      <td>9.469763</td>\n",
       "    </tr>\n",
       "    <tr>\n",
       "      <th>2002-01-09</th>\n",
       "      <td>21.728731</td>\n",
       "      <td>168.203369</td>\n",
       "      <td>72.846878</td>\n",
       "      <td>9.326804</td>\n",
       "    </tr>\n",
       "    <tr>\n",
       "      <th>2002-01-10</th>\n",
       "      <td>21.908989</td>\n",
       "      <td>168.465012</td>\n",
       "      <td>71.471764</td>\n",
       "      <td>8.743519</td>\n",
       "    </tr>\n",
       "    <tr>\n",
       "      <th>2002-01-11</th>\n",
       "      <td>21.697115</td>\n",
       "      <td>166.807053</td>\n",
       "      <td>70.400917</td>\n",
       "      <td>8.863605</td>\n",
       "    </tr>\n",
       "  </tbody>\n",
       "</table>\n",
       "</div>"
      ],
      "text/plain": [
       "                 MSFT          GE        IBM         F\n",
       "Date                                                  \n",
       "2002-01-07  21.681292  171.737564  72.589432  9.435452\n",
       "2002-01-08  21.940609  169.948563  72.969757  9.469763\n",
       "2002-01-09  21.728731  168.203369  72.846878  9.326804\n",
       "2002-01-10  21.908989  168.465012  71.471764  8.743519\n",
       "2002-01-11  21.697115  166.807053  70.400917  8.863605"
      ]
     },
     "execution_count": 33,
     "metadata": {},
     "output_type": "execute_result"
    }
   ],
   "source": [
    "market=pd.DataFrame()\n",
    "market[\"MSFT\"]=data[(\"MSFT\",\"Close\")]\n",
    "market[\"GE\"]=data[(\"GE\",\"Close\")]\n",
    "market[\"IBM\"]=data[(\"IBM\",\"Close\")]\n",
    "market[\"F\"]=data[(\"F\",\"Close\")]\n",
    "market.head(5)"
   ]
  },
  {
   "cell_type": "code",
   "execution_count": 34,
   "metadata": {
    "slideshow": {
     "slide_type": "slide"
    }
   },
   "outputs": [
    {
     "data": {
      "text/html": [
       "<div>\n",
       "<style scoped>\n",
       "    .dataframe tbody tr th:only-of-type {\n",
       "        vertical-align: middle;\n",
       "    }\n",
       "\n",
       "    .dataframe tbody tr th {\n",
       "        vertical-align: top;\n",
       "    }\n",
       "\n",
       "    .dataframe thead th {\n",
       "        text-align: right;\n",
       "    }\n",
       "</style>\n",
       "<table border=\"1\" class=\"dataframe\">\n",
       "  <thead>\n",
       "    <tr style=\"text-align: right;\">\n",
       "      <th></th>\n",
       "      <th>MSFT</th>\n",
       "      <th>GE</th>\n",
       "      <th>IBM</th>\n",
       "      <th>F</th>\n",
       "    </tr>\n",
       "    <tr>\n",
       "      <th>Date</th>\n",
       "      <th></th>\n",
       "      <th></th>\n",
       "      <th></th>\n",
       "      <th></th>\n",
       "    </tr>\n",
       "  </thead>\n",
       "  <tbody>\n",
       "    <tr>\n",
       "      <th>2021-11-08</th>\n",
       "      <td>1554.289277</td>\n",
       "      <td>63.131208</td>\n",
       "      <td>169.308395</td>\n",
       "      <td>213.556262</td>\n",
       "    </tr>\n",
       "    <tr>\n",
       "      <th>2021-11-09</th>\n",
       "      <td>1549.492617</td>\n",
       "      <td>64.802364</td>\n",
       "      <td>166.484288</td>\n",
       "      <td>213.238326</td>\n",
       "    </tr>\n",
       "    <tr>\n",
       "      <th>2021-11-10</th>\n",
       "      <td>1525.739306</td>\n",
       "      <td>63.445641</td>\n",
       "      <td>165.616397</td>\n",
       "      <td>205.183595</td>\n",
       "    </tr>\n",
       "    <tr>\n",
       "      <th>2021-11-11</th>\n",
       "      <td>1533.257331</td>\n",
       "      <td>62.304366</td>\n",
       "      <td>165.685271</td>\n",
       "      <td>207.197263</td>\n",
       "    </tr>\n",
       "    <tr>\n",
       "      <th>2021-11-12</th>\n",
       "      <td>1553.044015</td>\n",
       "      <td>62.647911</td>\n",
       "      <td>163.880604</td>\n",
       "      <td>206.667355</td>\n",
       "    </tr>\n",
       "  </tbody>\n",
       "</table>\n",
       "</div>"
      ],
      "text/plain": [
       "                   MSFT         GE         IBM           F\n",
       "Date                                                      \n",
       "2021-11-08  1554.289277  63.131208  169.308395  213.556262\n",
       "2021-11-09  1549.492617  64.802364  166.484288  213.238326\n",
       "2021-11-10  1525.739306  63.445641  165.616397  205.183595\n",
       "2021-11-11  1533.257331  62.304366  165.685271  207.197263\n",
       "2021-11-12  1553.044015  62.647911  163.880604  206.667355"
      ]
     },
     "execution_count": 34,
     "metadata": {},
     "output_type": "execute_result"
    }
   ],
   "source": [
    "normalized_market=100*market/market.iloc[0]\n",
    "normalized_market.tail(5)"
   ]
  },
  {
   "cell_type": "code",
   "execution_count": 35,
   "metadata": {
    "slideshow": {
     "slide_type": "slide"
    }
   },
   "outputs": [
    {
     "data": {
      "text/plain": [
       "<matplotlib.lines.Line2D at 0x1f79737d550>"
      ]
     },
     "execution_count": 35,
     "metadata": {},
     "output_type": "execute_result"
    },
    {
     "data": {
      "image/png": "[encoded data removed]",
      "text/plain": [
       "<Figure size 1080x432 with 1 Axes>"
      ]
     },
     "metadata": {
      "needs_background": "light"
     },
     "output_type": "display_data"
    }
   ],
   "source": [
    "normalized_market.plot(figsize=(15,6))\n",
    "plt.axvline(pd.to_datetime(\"2008-09-15\"),color=\"red\")"
   ]
  },
  {
   "cell_type": "code",
   "execution_count": 36,
   "metadata": {
    "slideshow": {
     "slide_type": "slide"
    }
   },
   "outputs": [
    {
     "data": {
      "text/html": [
       "<div>\n",
       "<style scoped>\n",
       "    .dataframe tbody tr th:only-of-type {\n",
       "        vertical-align: middle;\n",
       "    }\n",
       "\n",
       "    .dataframe tbody tr th {\n",
       "        vertical-align: top;\n",
       "    }\n",
       "\n",
       "    .dataframe thead th {\n",
       "        text-align: right;\n",
       "    }\n",
       "</style>\n",
       "<table border=\"1\" class=\"dataframe\">\n",
       "  <thead>\n",
       "    <tr style=\"text-align: right;\">\n",
       "      <th></th>\n",
       "      <th>MSFT</th>\n",
       "      <th>GE</th>\n",
       "      <th>IBM</th>\n",
       "      <th>F</th>\n",
       "    </tr>\n",
       "    <tr>\n",
       "      <th>Date</th>\n",
       "      <th></th>\n",
       "      <th></th>\n",
       "      <th></th>\n",
       "      <th></th>\n",
       "    </tr>\n",
       "  </thead>\n",
       "  <tbody>\n",
       "    <tr>\n",
       "      <th>2002-01-07</th>\n",
       "      <td>NaN</td>\n",
       "      <td>NaN</td>\n",
       "      <td>NaN</td>\n",
       "      <td>NaN</td>\n",
       "    </tr>\n",
       "    <tr>\n",
       "      <th>2002-01-08</th>\n",
       "      <td>0.011960</td>\n",
       "      <td>-0.010417</td>\n",
       "      <td>0.005239</td>\n",
       "      <td>0.003636</td>\n",
       "    </tr>\n",
       "    <tr>\n",
       "      <th>2002-01-09</th>\n",
       "      <td>-0.009657</td>\n",
       "      <td>-0.010269</td>\n",
       "      <td>-0.001684</td>\n",
       "      <td>-0.015096</td>\n",
       "    </tr>\n",
       "    <tr>\n",
       "      <th>2002-01-10</th>\n",
       "      <td>0.008296</td>\n",
       "      <td>0.001556</td>\n",
       "      <td>-0.018877</td>\n",
       "      <td>-0.062539</td>\n",
       "    </tr>\n",
       "    <tr>\n",
       "      <th>2002-01-11</th>\n",
       "      <td>-0.009671</td>\n",
       "      <td>-0.009842</td>\n",
       "      <td>-0.014983</td>\n",
       "      <td>0.013734</td>\n",
       "    </tr>\n",
       "  </tbody>\n",
       "</table>\n",
       "</div>"
      ],
      "text/plain": [
       "                MSFT        GE       IBM         F\n",
       "Date                                              \n",
       "2002-01-07       NaN       NaN       NaN       NaN\n",
       "2002-01-08  0.011960 -0.010417  0.005239  0.003636\n",
       "2002-01-09 -0.009657 -0.010269 -0.001684 -0.015096\n",
       "2002-01-10  0.008296  0.001556 -0.018877 -0.062539\n",
       "2002-01-11 -0.009671 -0.009842 -0.014983  0.013734"
      ]
     },
     "execution_count": 36,
     "metadata": {},
     "output_type": "execute_result"
    }
   ],
   "source": [
    "returns=(market-market.shift(1))/market.shift(1)\n",
    "returns.head()"
   ]
  },
  {
   "cell_type": "code",
   "execution_count": 37,
   "metadata": {
    "slideshow": {
     "slide_type": "slide"
    }
   },
   "outputs": [],
   "source": [
    "weights=np.array([0.25,0.25,0.25,0.25])"
   ]
  },
  {
   "cell_type": "code",
   "execution_count": 38,
   "metadata": {
    "slideshow": {
     "slide_type": "slide"
    }
   },
   "outputs": [
    {
     "data": {
      "text/html": [
       "<div>\n",
       "<style scoped>\n",
       "    .dataframe tbody tr th:only-of-type {\n",
       "        vertical-align: middle;\n",
       "    }\n",
       "\n",
       "    .dataframe tbody tr th {\n",
       "        vertical-align: top;\n",
       "    }\n",
       "\n",
       "    .dataframe thead th {\n",
       "        text-align: right;\n",
       "    }\n",
       "</style>\n",
       "<table border=\"1\" class=\"dataframe\">\n",
       "  <thead>\n",
       "    <tr style=\"text-align: right;\">\n",
       "      <th></th>\n",
       "      <th>MSFT</th>\n",
       "      <th>GE</th>\n",
       "      <th>IBM</th>\n",
       "      <th>F</th>\n",
       "      <th>portfolio_daily_return</th>\n",
       "    </tr>\n",
       "    <tr>\n",
       "      <th>Date</th>\n",
       "      <th></th>\n",
       "      <th></th>\n",
       "      <th></th>\n",
       "      <th></th>\n",
       "      <th></th>\n",
       "    </tr>\n",
       "  </thead>\n",
       "  <tbody>\n",
       "    <tr>\n",
       "      <th>2002-01-07</th>\n",
       "      <td>NaN</td>\n",
       "      <td>NaN</td>\n",
       "      <td>NaN</td>\n",
       "      <td>NaN</td>\n",
       "      <td>NaN</td>\n",
       "    </tr>\n",
       "    <tr>\n",
       "      <th>2002-01-08</th>\n",
       "      <td>0.011960</td>\n",
       "      <td>-0.010417</td>\n",
       "      <td>0.005239</td>\n",
       "      <td>0.003636</td>\n",
       "      <td>0.002605</td>\n",
       "    </tr>\n",
       "    <tr>\n",
       "      <th>2002-01-09</th>\n",
       "      <td>-0.009657</td>\n",
       "      <td>-0.010269</td>\n",
       "      <td>-0.001684</td>\n",
       "      <td>-0.015096</td>\n",
       "      <td>-0.009177</td>\n",
       "    </tr>\n",
       "    <tr>\n",
       "      <th>2002-01-10</th>\n",
       "      <td>0.008296</td>\n",
       "      <td>0.001556</td>\n",
       "      <td>-0.018877</td>\n",
       "      <td>-0.062539</td>\n",
       "      <td>-0.017891</td>\n",
       "    </tr>\n",
       "    <tr>\n",
       "      <th>2002-01-11</th>\n",
       "      <td>-0.009671</td>\n",
       "      <td>-0.009842</td>\n",
       "      <td>-0.014983</td>\n",
       "      <td>0.013734</td>\n",
       "      <td>-0.005190</td>\n",
       "    </tr>\n",
       "  </tbody>\n",
       "</table>\n",
       "</div>"
      ],
      "text/plain": [
       "                MSFT        GE       IBM         F  portfolio_daily_return\n",
       "Date                                                                      \n",
       "2002-01-07       NaN       NaN       NaN       NaN                     NaN\n",
       "2002-01-08  0.011960 -0.010417  0.005239  0.003636                0.002605\n",
       "2002-01-09 -0.009657 -0.010269 -0.001684 -0.015096               -0.009177\n",
       "2002-01-10  0.008296  0.001556 -0.018877 -0.062539               -0.017891\n",
       "2002-01-11 -0.009671 -0.009842 -0.014983  0.013734               -0.005190"
      ]
     },
     "execution_count": 38,
     "metadata": {},
     "output_type": "execute_result"
    }
   ],
   "source": [
    "returns[\"portfolio_daily_return\"]=np.dot(returns[[\"MSFT\",\"GE\",\"IBM\",\"F\"]],weights)\n",
    "# np.dot() calculates vector or matrix productos, and the output is dot product\n",
    "returns.head(5)"
   ]
  },
  {
   "cell_type": "markdown",
   "metadata": {
    "slideshow": {
     "slide_type": "slide"
    }
   },
   "source": [
    "$$\n",
    "\\begin{bmatrix}\n",
    "r_{msft}(0)       & r_{ge}(0) & r_{ibm}(0)  & r_f(0) \\\\\n",
    "r_{msft}(1)       & r_{ge}(1) & r_{ibm}(1)  & r_f(1) \\\\\n",
    "\\vdots & \\vdots & \\vdots &\\vdots\\\\\n",
    "r_{msft}(n)       & r_{ge}(n) & r_{ibm}(0)  & r_f(n) \\\\\n",
    "\\end{bmatrix}\n",
    "\\begin{bmatrix}\n",
    "w_{msft}    \\\\\n",
    "w_{ge}     \\\\\n",
    "w_{ibm}\\\\\n",
    "w_f\n",
    "\\end{bmatrix}=\\begin{bmatrix}\n",
    "r_{portfolio}(0)    \\\\\n",
    "r_{portfolio}(1)     \\\\\n",
    "\\vdots\\\\\n",
    "r_{portfolio}(n)\n",
    "\\end{bmatrix}\n",
    "$$"
   ]
  },
  {
   "cell_type": "code",
   "execution_count": 39,
   "metadata": {
    "slideshow": {
     "slide_type": "slide"
    }
   },
   "outputs": [
    {
     "name": "stdout",
     "output_type": "stream",
     "text": [
      "The annaul return of equal weighted portfolio is  9.582%\n"
     ]
    }
   ],
   "source": [
    "portfolio_annual_returns=returns[\"portfolio_daily_return\"].mean()*250\n",
    "\n",
    "print(\"The annaul return of equal weighted portfolio is \", str(round(portfolio_annual_returns,5)*100)+\"%\")"
   ]
  },
  {
   "cell_type": "code",
   "execution_count": 40,
   "metadata": {
    "slideshow": {
     "slide_type": "slide"
    }
   },
   "outputs": [
    {
     "data": {
      "text/html": [
       "<div>\n",
       "<style scoped>\n",
       "    .dataframe tbody tr th:only-of-type {\n",
       "        vertical-align: middle;\n",
       "    }\n",
       "\n",
       "    .dataframe tbody tr th {\n",
       "        vertical-align: top;\n",
       "    }\n",
       "\n",
       "    .dataframe thead th {\n",
       "        text-align: right;\n",
       "    }\n",
       "</style>\n",
       "<table border=\"1\" class=\"dataframe\">\n",
       "  <thead>\n",
       "    <tr style=\"text-align: right;\">\n",
       "      <th></th>\n",
       "      <th>simple_return</th>\n",
       "    </tr>\n",
       "  </thead>\n",
       "  <tbody>\n",
       "    <tr>\n",
       "      <th>MSFT</th>\n",
       "      <td>0.175401</td>\n",
       "    </tr>\n",
       "    <tr>\n",
       "      <th>GE</th>\n",
       "      <td>0.030375</td>\n",
       "    </tr>\n",
       "    <tr>\n",
       "      <th>IBM</th>\n",
       "      <td>0.053700</td>\n",
       "    </tr>\n",
       "    <tr>\n",
       "      <th>F</th>\n",
       "      <td>0.123806</td>\n",
       "    </tr>\n",
       "    <tr>\n",
       "      <th>portfolio_daily_return</th>\n",
       "      <td>0.095820</td>\n",
       "    </tr>\n",
       "  </tbody>\n",
       "</table>\n",
       "</div>"
      ],
      "text/plain": [
       "                        simple_return\n",
       "MSFT                         0.175401\n",
       "GE                           0.030375\n",
       "IBM                          0.053700\n",
       "F                            0.123806\n",
       "portfolio_daily_return       0.095820"
      ]
     },
     "execution_count": 40,
     "metadata": {},
     "output_type": "execute_result"
    }
   ],
   "source": [
    "annual_returns_table=pd.DataFrame(index=returns.columns)\n",
    "annual_returns_table[\"simple_return\"]=returns.mean()*250\n",
    "annual_returns_table\n"
   ]
  },
  {
   "cell_type": "markdown",
   "metadata": {
    "slideshow": {
     "slide_type": "slide"
    }
   },
   "source": [
    "**In- class Practice**\n",
    "Build your own portfolio with your choice of weights and calcualte annual return of the portoflio."
   ]
  },
  {
   "cell_type": "code",
   "execution_count": 41,
   "metadata": {},
   "outputs": [],
   "source": [
    "new_weights = [0.1,0.2,0.3,0.4]\n",
    "new_market = pd.DataFrame()\n",
    "new_market['portfolio_daily_return'] = np.dot(returns[[\"MSFT\",\"GE\",\"IBM\",\"F\"]],new_weights)\n"
   ]
  },
  {
   "cell_type": "code",
   "execution_count": 42,
   "metadata": {},
   "outputs": [
    {
     "data": {
      "text/plain": [
       "(   portfolio_daily_return\n",
       " 0                     NaN\n",
       " 1                0.002139\n",
       " 2               -0.009563\n",
       " 3               -0.029538\n",
       " 4               -0.001936,\n",
       " portfolio_daily_return    0.089247\n",
       " dtype: float64)"
      ]
     },
     "execution_count": 42,
     "metadata": {},
     "output_type": "execute_result"
    }
   ],
   "source": [
    "new_market.head(),new_market.mean()*250"
   ]
  },
  {
   "cell_type": "markdown",
   "metadata": {
    "slideshow": {
     "slide_type": "slide"
    }
   },
   "source": [
    "**Market Index**"
   ]
  },
  {
   "cell_type": "markdown",
   "metadata": {
    "slideshow": {
     "slide_type": "slide"
    }
   },
   "source": [
    "<img src=\"Figure/sp500.png\"  width=\"400\" height=\"300\" align=\"left\" /><img src=\"Figure/nasdaq.jpg\"  width=\"400\" height=\"300\" align=\"right\" />\n"
   ]
  },
  {
   "cell_type": "markdown",
   "metadata": {
    "slideshow": {
     "slide_type": "slide"
    }
   },
   "source": [
    "A market index provides an idea about how a given stock market is performing. It represents a large\n",
    "enough sample of the overall number of stocks in that market and can be considered a good enough\n",
    "proxy of the overall development of the market."
   ]
  },
  {
   "cell_type": "markdown",
   "metadata": {
    "slideshow": {
     "slide_type": "slide"
    }
   },
   "source": [
    "![](Figure/indice.jpg)"
   ]
  },
  {
   "cell_type": "markdown",
   "metadata": {
    "slideshow": {
     "slide_type": "slide"
    }
   },
   "source": [
    "A stock index gives you a sense of the type of return you can expect if you invest in a welldiversified portfolio in a given market."
   ]
  },
  {
   "cell_type": "code",
   "execution_count": 43,
   "metadata": {
    "slideshow": {
     "slide_type": "slide"
    }
   },
   "outputs": [
    {
     "name": "stdout",
     "output_type": "stream",
     "text": [
      "[*********************100%***********************]  4 of 4 completed\n"
     ]
    }
   ],
   "source": [
    "index_data = yf.download( \n",
    "        tickers =\"^GSPC,^IXIC,^GDAXI ,^FTSE\",\n",
    "        period = \"5000d\",\n",
    "        interval = \"1d\",\n",
    "        group_by = 'ticker',\n",
    "        auto_adjust = True,\n",
    "        prepost = True,\n",
    "        threads = True,\n",
    "        proxy = None\n",
    "    )"
   ]
  },
  {
   "cell_type": "code",
   "execution_count": 44,
   "metadata": {
    "slideshow": {
     "slide_type": "slide"
    }
   },
   "outputs": [
    {
     "data": {
      "text/html": [
       "<div>\n",
       "<style scoped>\n",
       "    .dataframe tbody tr th:only-of-type {\n",
       "        vertical-align: middle;\n",
       "    }\n",
       "\n",
       "    .dataframe tbody tr th {\n",
       "        vertical-align: top;\n",
       "    }\n",
       "\n",
       "    .dataframe thead tr th {\n",
       "        text-align: left;\n",
       "    }\n",
       "\n",
       "    .dataframe thead tr:last-of-type th {\n",
       "        text-align: right;\n",
       "    }\n",
       "</style>\n",
       "<table border=\"1\" class=\"dataframe\">\n",
       "  <thead>\n",
       "    <tr>\n",
       "      <th></th>\n",
       "      <th colspan=\"5\" halign=\"left\">^GSPC</th>\n",
       "      <th colspan=\"5\" halign=\"left\">^FTSE</th>\n",
       "      <th colspan=\"5\" halign=\"left\">^IXIC</th>\n",
       "      <th colspan=\"5\" halign=\"left\">^GDAXI</th>\n",
       "    </tr>\n",
       "    <tr>\n",
       "      <th></th>\n",
       "      <th>Open</th>\n",
       "      <th>High</th>\n",
       "      <th>Low</th>\n",
       "      <th>Close</th>\n",
       "      <th>Volume</th>\n",
       "      <th>Open</th>\n",
       "      <th>High</th>\n",
       "      <th>Low</th>\n",
       "      <th>Close</th>\n",
       "      <th>Volume</th>\n",
       "      <th>Open</th>\n",
       "      <th>High</th>\n",
       "      <th>Low</th>\n",
       "      <th>Close</th>\n",
       "      <th>Volume</th>\n",
       "      <th>Open</th>\n",
       "      <th>High</th>\n",
       "      <th>Low</th>\n",
       "      <th>Close</th>\n",
       "      <th>Volume</th>\n",
       "    </tr>\n",
       "    <tr>\n",
       "      <th>Date</th>\n",
       "      <th></th>\n",
       "      <th></th>\n",
       "      <th></th>\n",
       "      <th></th>\n",
       "      <th></th>\n",
       "      <th></th>\n",
       "      <th></th>\n",
       "      <th></th>\n",
       "      <th></th>\n",
       "      <th></th>\n",
       "      <th></th>\n",
       "      <th></th>\n",
       "      <th></th>\n",
       "      <th></th>\n",
       "      <th></th>\n",
       "      <th></th>\n",
       "      <th></th>\n",
       "      <th></th>\n",
       "      <th></th>\n",
       "      <th></th>\n",
       "    </tr>\n",
       "  </thead>\n",
       "  <tbody>\n",
       "    <tr>\n",
       "      <th>2002-01-07</th>\n",
       "      <td>1172.510010</td>\n",
       "      <td>1176.969971</td>\n",
       "      <td>1163.550049</td>\n",
       "      <td>1164.890015</td>\n",
       "      <td>1.308300e+09</td>\n",
       "      <td>NaN</td>\n",
       "      <td>NaN</td>\n",
       "      <td>NaN</td>\n",
       "      <td>NaN</td>\n",
       "      <td>NaN</td>\n",
       "      <td>2075.239990</td>\n",
       "      <td>2081.090088</td>\n",
       "      <td>2036.859985</td>\n",
       "      <td>2037.099976</td>\n",
       "      <td>2.121110e+09</td>\n",
       "      <td>NaN</td>\n",
       "      <td>NaN</td>\n",
       "      <td>NaN</td>\n",
       "      <td>NaN</td>\n",
       "      <td>NaN</td>\n",
       "    </tr>\n",
       "    <tr>\n",
       "      <th>2002-01-08</th>\n",
       "      <td>1164.890015</td>\n",
       "      <td>1167.599976</td>\n",
       "      <td>1157.459961</td>\n",
       "      <td>1160.709961</td>\n",
       "      <td>1.258800e+09</td>\n",
       "      <td>NaN</td>\n",
       "      <td>NaN</td>\n",
       "      <td>NaN</td>\n",
       "      <td>NaN</td>\n",
       "      <td>NaN</td>\n",
       "      <td>2039.420044</td>\n",
       "      <td>2060.229980</td>\n",
       "      <td>2027.339966</td>\n",
       "      <td>2055.739990</td>\n",
       "      <td>1.873670e+09</td>\n",
       "      <td>NaN</td>\n",
       "      <td>NaN</td>\n",
       "      <td>NaN</td>\n",
       "      <td>NaN</td>\n",
       "      <td>NaN</td>\n",
       "    </tr>\n",
       "    <tr>\n",
       "      <th>2002-01-09</th>\n",
       "      <td>1160.709961</td>\n",
       "      <td>1174.260010</td>\n",
       "      <td>1151.890015</td>\n",
       "      <td>1155.140015</td>\n",
       "      <td>1.452000e+09</td>\n",
       "      <td>NaN</td>\n",
       "      <td>NaN</td>\n",
       "      <td>NaN</td>\n",
       "      <td>NaN</td>\n",
       "      <td>NaN</td>\n",
       "      <td>2074.320068</td>\n",
       "      <td>2098.879883</td>\n",
       "      <td>2034.089966</td>\n",
       "      <td>2044.890015</td>\n",
       "      <td>2.321450e+09</td>\n",
       "      <td>NaN</td>\n",
       "      <td>NaN</td>\n",
       "      <td>NaN</td>\n",
       "      <td>NaN</td>\n",
       "      <td>NaN</td>\n",
       "    </tr>\n",
       "    <tr>\n",
       "      <th>2002-01-10</th>\n",
       "      <td>1155.140015</td>\n",
       "      <td>1159.930054</td>\n",
       "      <td>1150.849976</td>\n",
       "      <td>1156.550049</td>\n",
       "      <td>1.299000e+09</td>\n",
       "      <td>NaN</td>\n",
       "      <td>NaN</td>\n",
       "      <td>NaN</td>\n",
       "      <td>NaN</td>\n",
       "      <td>NaN</td>\n",
       "      <td>2045.130005</td>\n",
       "      <td>2055.889893</td>\n",
       "      <td>2026.050049</td>\n",
       "      <td>2047.239990</td>\n",
       "      <td>1.761640e+09</td>\n",
       "      <td>NaN</td>\n",
       "      <td>NaN</td>\n",
       "      <td>NaN</td>\n",
       "      <td>NaN</td>\n",
       "      <td>NaN</td>\n",
       "    </tr>\n",
       "    <tr>\n",
       "      <th>2002-01-11</th>\n",
       "      <td>1156.550049</td>\n",
       "      <td>1159.410034</td>\n",
       "      <td>1145.449951</td>\n",
       "      <td>1145.599976</td>\n",
       "      <td>1.211900e+09</td>\n",
       "      <td>NaN</td>\n",
       "      <td>NaN</td>\n",
       "      <td>NaN</td>\n",
       "      <td>NaN</td>\n",
       "      <td>NaN</td>\n",
       "      <td>2049.500000</td>\n",
       "      <td>2058.770020</td>\n",
       "      <td>2018.680054</td>\n",
       "      <td>2022.459961</td>\n",
       "      <td>1.625530e+09</td>\n",
       "      <td>NaN</td>\n",
       "      <td>NaN</td>\n",
       "      <td>NaN</td>\n",
       "      <td>NaN</td>\n",
       "      <td>NaN</td>\n",
       "    </tr>\n",
       "    <tr>\n",
       "      <th>2002-01-14</th>\n",
       "      <td>1145.599976</td>\n",
       "      <td>1145.599976</td>\n",
       "      <td>1138.150024</td>\n",
       "      <td>1138.410034</td>\n",
       "      <td>1.286400e+09</td>\n",
       "      <td>NaN</td>\n",
       "      <td>NaN</td>\n",
       "      <td>NaN</td>\n",
       "      <td>NaN</td>\n",
       "      <td>NaN</td>\n",
       "      <td>2012.589966</td>\n",
       "      <td>2018.420044</td>\n",
       "      <td>1979.939941</td>\n",
       "      <td>1990.739990</td>\n",
       "      <td>1.801650e+09</td>\n",
       "      <td>NaN</td>\n",
       "      <td>NaN</td>\n",
       "      <td>NaN</td>\n",
       "      <td>NaN</td>\n",
       "      <td>NaN</td>\n",
       "    </tr>\n",
       "    <tr>\n",
       "      <th>2002-01-15</th>\n",
       "      <td>1138.410034</td>\n",
       "      <td>1148.810059</td>\n",
       "      <td>1136.880005</td>\n",
       "      <td>1146.189941</td>\n",
       "      <td>1.386900e+09</td>\n",
       "      <td>NaN</td>\n",
       "      <td>NaN</td>\n",
       "      <td>NaN</td>\n",
       "      <td>NaN</td>\n",
       "      <td>NaN</td>\n",
       "      <td>1994.880005</td>\n",
       "      <td>2011.250000</td>\n",
       "      <td>1977.280029</td>\n",
       "      <td>2000.910034</td>\n",
       "      <td>1.675150e+09</td>\n",
       "      <td>NaN</td>\n",
       "      <td>NaN</td>\n",
       "      <td>NaN</td>\n",
       "      <td>NaN</td>\n",
       "      <td>NaN</td>\n",
       "    </tr>\n",
       "    <tr>\n",
       "      <th>2002-01-16</th>\n",
       "      <td>1146.189941</td>\n",
       "      <td>1146.189941</td>\n",
       "      <td>1127.489990</td>\n",
       "      <td>1127.569946</td>\n",
       "      <td>1.482500e+09</td>\n",
       "      <td>NaN</td>\n",
       "      <td>NaN</td>\n",
       "      <td>NaN</td>\n",
       "      <td>NaN</td>\n",
       "      <td>NaN</td>\n",
       "      <td>1976.420044</td>\n",
       "      <td>1981.810059</td>\n",
       "      <td>1944.319946</td>\n",
       "      <td>1944.439941</td>\n",
       "      <td>1.917270e+09</td>\n",
       "      <td>NaN</td>\n",
       "      <td>NaN</td>\n",
       "      <td>NaN</td>\n",
       "      <td>NaN</td>\n",
       "      <td>NaN</td>\n",
       "    </tr>\n",
       "    <tr>\n",
       "      <th>2002-01-17</th>\n",
       "      <td>1127.569946</td>\n",
       "      <td>1139.270020</td>\n",
       "      <td>1127.569946</td>\n",
       "      <td>1138.880005</td>\n",
       "      <td>1.380100e+09</td>\n",
       "      <td>NaN</td>\n",
       "      <td>NaN</td>\n",
       "      <td>NaN</td>\n",
       "      <td>NaN</td>\n",
       "      <td>NaN</td>\n",
       "      <td>1968.699951</td>\n",
       "      <td>1985.829956</td>\n",
       "      <td>1954.060059</td>\n",
       "      <td>1985.819946</td>\n",
       "      <td>1.893110e+09</td>\n",
       "      <td>NaN</td>\n",
       "      <td>NaN</td>\n",
       "      <td>NaN</td>\n",
       "      <td>NaN</td>\n",
       "      <td>NaN</td>\n",
       "    </tr>\n",
       "    <tr>\n",
       "      <th>2002-01-18</th>\n",
       "      <td>1138.880005</td>\n",
       "      <td>1138.880005</td>\n",
       "      <td>1124.449951</td>\n",
       "      <td>1127.579956</td>\n",
       "      <td>1.333300e+09</td>\n",
       "      <td>NaN</td>\n",
       "      <td>NaN</td>\n",
       "      <td>NaN</td>\n",
       "      <td>NaN</td>\n",
       "      <td>NaN</td>\n",
       "      <td>1943.560059</td>\n",
       "      <td>1964.739990</td>\n",
       "      <td>1922.699951</td>\n",
       "      <td>1930.339966</td>\n",
       "      <td>1.693010e+09</td>\n",
       "      <td>NaN</td>\n",
       "      <td>NaN</td>\n",
       "      <td>NaN</td>\n",
       "      <td>NaN</td>\n",
       "      <td>NaN</td>\n",
       "    </tr>\n",
       "  </tbody>\n",
       "</table>\n",
       "</div>"
      ],
      "text/plain": [
       "                  ^GSPC                                                       \\\n",
       "                   Open         High          Low        Close        Volume   \n",
       "Date                                                                           \n",
       "2002-01-07  1172.510010  1176.969971  1163.550049  1164.890015  1.308300e+09   \n",
       "2002-01-08  1164.890015  1167.599976  1157.459961  1160.709961  1.258800e+09   \n",
       "2002-01-09  1160.709961  1174.260010  1151.890015  1155.140015  1.452000e+09   \n",
       "2002-01-10  1155.140015  1159.930054  1150.849976  1156.550049  1.299000e+09   \n",
       "2002-01-11  1156.550049  1159.410034  1145.449951  1145.599976  1.211900e+09   \n",
       "2002-01-14  1145.599976  1145.599976  1138.150024  1138.410034  1.286400e+09   \n",
       "2002-01-15  1138.410034  1148.810059  1136.880005  1146.189941  1.386900e+09   \n",
       "2002-01-16  1146.189941  1146.189941  1127.489990  1127.569946  1.482500e+09   \n",
       "2002-01-17  1127.569946  1139.270020  1127.569946  1138.880005  1.380100e+09   \n",
       "2002-01-18  1138.880005  1138.880005  1124.449951  1127.579956  1.333300e+09   \n",
       "\n",
       "           ^FTSE                              ^IXIC                            \\\n",
       "            Open High Low Close Volume         Open         High          Low   \n",
       "Date                                                                            \n",
       "2002-01-07   NaN  NaN NaN   NaN    NaN  2075.239990  2081.090088  2036.859985   \n",
       "2002-01-08   NaN  NaN NaN   NaN    NaN  2039.420044  2060.229980  2027.339966   \n",
       "2002-01-09   NaN  NaN NaN   NaN    NaN  2074.320068  2098.879883  2034.089966   \n",
       "2002-01-10   NaN  NaN NaN   NaN    NaN  2045.130005  2055.889893  2026.050049   \n",
       "2002-01-11   NaN  NaN NaN   NaN    NaN  2049.500000  2058.770020  2018.680054   \n",
       "2002-01-14   NaN  NaN NaN   NaN    NaN  2012.589966  2018.420044  1979.939941   \n",
       "2002-01-15   NaN  NaN NaN   NaN    NaN  1994.880005  2011.250000  1977.280029   \n",
       "2002-01-16   NaN  NaN NaN   NaN    NaN  1976.420044  1981.810059  1944.319946   \n",
       "2002-01-17   NaN  NaN NaN   NaN    NaN  1968.699951  1985.829956  1954.060059   \n",
       "2002-01-18   NaN  NaN NaN   NaN    NaN  1943.560059  1964.739990  1922.699951   \n",
       "\n",
       "                                      ^GDAXI                        \n",
       "                  Close        Volume   Open High Low Close Volume  \n",
       "Date                                                                \n",
       "2002-01-07  2037.099976  2.121110e+09    NaN  NaN NaN   NaN    NaN  \n",
       "2002-01-08  2055.739990  1.873670e+09    NaN  NaN NaN   NaN    NaN  \n",
       "2002-01-09  2044.890015  2.321450e+09    NaN  NaN NaN   NaN    NaN  \n",
       "2002-01-10  2047.239990  1.761640e+09    NaN  NaN NaN   NaN    NaN  \n",
       "2002-01-11  2022.459961  1.625530e+09    NaN  NaN NaN   NaN    NaN  \n",
       "2002-01-14  1990.739990  1.801650e+09    NaN  NaN NaN   NaN    NaN  \n",
       "2002-01-15  2000.910034  1.675150e+09    NaN  NaN NaN   NaN    NaN  \n",
       "2002-01-16  1944.439941  1.917270e+09    NaN  NaN NaN   NaN    NaN  \n",
       "2002-01-17  1985.819946  1.893110e+09    NaN  NaN NaN   NaN    NaN  \n",
       "2002-01-18  1930.339966  1.693010e+09    NaN  NaN NaN   NaN    NaN  "
      ]
     },
     "execution_count": 44,
     "metadata": {},
     "output_type": "execute_result"
    }
   ],
   "source": [
    "index_data.head(10)"
   ]
  },
  {
   "cell_type": "code",
   "execution_count": 45,
   "metadata": {
    "slideshow": {
     "slide_type": "slide"
    }
   },
   "outputs": [],
   "source": [
    "ind=pd.DataFrame()\n",
    "ind[\"SP500\"]=index_data[(\"^GSPC\",\"Close\")]\n",
    "ind[\"FTSE\"]=index_data[(\"^FTSE\",\"Close\")]\n",
    "ind[\"DAX\"]=index_data[(\"^GDAXI\",\"Close\")]\n",
    "ind[\"NASDAQ\"]=index_data[(\"^IXIC\",\"Close\")]\n",
    "ind=ind.dropna(axis=0)"
   ]
  },
  {
   "cell_type": "code",
   "execution_count": 46,
   "metadata": {
    "slideshow": {
     "slide_type": "slide"
    }
   },
   "outputs": [
    {
     "data": {
      "image/png": "[encoded data removed]",
      "text/plain": [
       "<Figure size 1080x432 with 1 Axes>"
      ]
     },
     "metadata": {
      "needs_background": "light"
     },
     "output_type": "display_data"
    }
   ],
   "source": [
    "(ind/ind.iloc[0]*100).plot(figsize=(15,6))\n",
    "plt.axvline(pd.to_datetime(\"2000-8-5\"),color=\"purple\")\n",
    "plt.show()"
   ]
  },
  {
   "cell_type": "code",
   "execution_count": 47,
   "metadata": {
    "slideshow": {
     "slide_type": "slide"
    }
   },
   "outputs": [
    {
     "data": {
      "text/html": [
       "<div>\n",
       "<style scoped>\n",
       "    .dataframe tbody tr th:only-of-type {\n",
       "        vertical-align: middle;\n",
       "    }\n",
       "\n",
       "    .dataframe tbody tr th {\n",
       "        vertical-align: top;\n",
       "    }\n",
       "\n",
       "    .dataframe thead th {\n",
       "        text-align: right;\n",
       "    }\n",
       "</style>\n",
       "<table border=\"1\" class=\"dataframe\">\n",
       "  <thead>\n",
       "    <tr style=\"text-align: right;\">\n",
       "      <th></th>\n",
       "      <th>SP500</th>\n",
       "      <th>FTSE</th>\n",
       "      <th>DAX</th>\n",
       "      <th>NASDAQ</th>\n",
       "    </tr>\n",
       "    <tr>\n",
       "      <th>Date</th>\n",
       "      <th></th>\n",
       "      <th></th>\n",
       "      <th></th>\n",
       "      <th></th>\n",
       "    </tr>\n",
       "  </thead>\n",
       "  <tbody>\n",
       "    <tr>\n",
       "      <th>2002-04-10</th>\n",
       "      <td>NaN</td>\n",
       "      <td>NaN</td>\n",
       "      <td>NaN</td>\n",
       "      <td>NaN</td>\n",
       "    </tr>\n",
       "    <tr>\n",
       "      <th>2002-04-11</th>\n",
       "      <td>-0.023689</td>\n",
       "      <td>-0.017537</td>\n",
       "      <td>-0.019448</td>\n",
       "      <td>-0.023672</td>\n",
       "    </tr>\n",
       "    <tr>\n",
       "      <th>2002-04-12</th>\n",
       "      <td>0.006632</td>\n",
       "      <td>0.004594</td>\n",
       "      <td>0.005170</td>\n",
       "      <td>0.017940</td>\n",
       "    </tr>\n",
       "    <tr>\n",
       "      <th>2002-04-15</th>\n",
       "      <td>-0.007615</td>\n",
       "      <td>0.007828</td>\n",
       "      <td>0.010511</td>\n",
       "      <td>-0.001372</td>\n",
       "    </tr>\n",
       "    <tr>\n",
       "      <th>2002-04-16</th>\n",
       "      <td>0.023418</td>\n",
       "      <td>0.011247</td>\n",
       "      <td>0.019008</td>\n",
       "      <td>0.035928</td>\n",
       "    </tr>\n",
       "  </tbody>\n",
       "</table>\n",
       "</div>"
      ],
      "text/plain": [
       "               SP500      FTSE       DAX    NASDAQ\n",
       "Date                                              \n",
       "2002-04-10       NaN       NaN       NaN       NaN\n",
       "2002-04-11 -0.023689 -0.017537 -0.019448 -0.023672\n",
       "2002-04-12  0.006632  0.004594  0.005170  0.017940\n",
       "2002-04-15 -0.007615  0.007828  0.010511 -0.001372\n",
       "2002-04-16  0.023418  0.011247  0.019008  0.035928"
      ]
     },
     "execution_count": 47,
     "metadata": {},
     "output_type": "execute_result"
    }
   ],
   "source": [
    "ind_returns=(ind-ind.shift(1))/ind.shift(1)\n",
    "ind_returns.head()"
   ]
  },
  {
   "cell_type": "code",
   "execution_count": 48,
   "metadata": {
    "slideshow": {
     "slide_type": "slide"
    }
   },
   "outputs": [
    {
     "data": {
      "text/plain": [
       "SP500     0.093440\n",
       "FTSE      0.035680\n",
       "DAX       0.085751\n",
       "NASDAQ    0.138883\n",
       "dtype: float64"
      ]
     },
     "execution_count": 48,
     "metadata": {},
     "output_type": "execute_result"
    }
   ],
   "source": [
    "annual_index_returns=ind_returns.mean()*250\n",
    "annual_index_returns"
   ]
  },
  {
   "cell_type": "markdown",
   "metadata": {
    "slideshow": {
     "slide_type": "slide"
    }
   },
   "source": [
    "### Measuring risk"
   ]
  },
  {
   "cell_type": "markdown",
   "metadata": {
    "slideshow": {
     "slide_type": "slide"
    }
   },
   "source": [
    "**What is risk?**\n",
    "- Probability of Loss\n",
    "- Loss cames from the price variability of Securities. "
   ]
  },
  {
   "cell_type": "markdown",
   "metadata": {
    "slideshow": {
     "slide_type": "slide"
    }
   },
   "source": [
    "Variability plays an important role in the world of finance. It is the best measure of risk we have. A\n",
    "volatile stock is much more likely to deviate from its historical returns and surprise investors\n",
    "negatively. "
   ]
  },
  {
   "cell_type": "markdown",
   "metadata": {
    "slideshow": {
     "slide_type": "slide"
    }
   },
   "source": [
    "$$\n",
    "\\sigma_x=\\sqrt{\\frac{\\sum_{i=1}^n(x_i-\\bar{x})^2}{n-1}}\n",
    "$$\n"
   ]
  },
  {
   "cell_type": "markdown",
   "metadata": {
    "slideshow": {
     "slide_type": "slide"
    }
   },
   "source": [
    "Commonly used statistical measures, such as variance and standard deviation, can help us a great\n",
    "deal when we try to quantify risk associated with the dispersion in the likely outcome. Such\n",
    "dispersion is measured by a security’s variance and standard deviation.\n"
   ]
  },
  {
   "cell_type": "markdown",
   "metadata": {
    "slideshow": {
     "slide_type": "slide"
    }
   },
   "source": []
  },
  {
   "cell_type": "code",
   "execution_count": 49,
   "metadata": {
    "slideshow": {
     "slide_type": "slide"
    }
   },
   "outputs": [
    {
     "name": "stdout",
     "output_type": "stream",
     "text": [
      "[*********************100%***********************]  3 of 3 completed\n"
     ]
    }
   ],
   "source": [
    "china_ipo = yf.download(\n",
    "        tickers =\"BIDU,BABA,LFC\",\n",
    "        period = \"5000d\",\n",
    "        interval = \"1d\",\n",
    "        group_by = 'ticker',\n",
    "        auto_adjust = True,\n",
    "        prepost = True,\n",
    "        threads = True,\n",
    "        proxy = None\n",
    "    )"
   ]
  },
  {
   "cell_type": "code",
   "execution_count": 50,
   "metadata": {
    "slideshow": {
     "slide_type": "slide"
    }
   },
   "outputs": [
    {
     "data": {
      "text/html": [
       "<div>\n",
       "<style scoped>\n",
       "    .dataframe tbody tr th:only-of-type {\n",
       "        vertical-align: middle;\n",
       "    }\n",
       "\n",
       "    .dataframe tbody tr th {\n",
       "        vertical-align: top;\n",
       "    }\n",
       "\n",
       "    .dataframe thead th {\n",
       "        text-align: right;\n",
       "    }\n",
       "</style>\n",
       "<table border=\"1\" class=\"dataframe\">\n",
       "  <thead>\n",
       "    <tr style=\"text-align: right;\">\n",
       "      <th></th>\n",
       "      <th>Alibaba</th>\n",
       "      <th>Baidu</th>\n",
       "      <th>Lfc</th>\n",
       "    </tr>\n",
       "    <tr>\n",
       "      <th>Date</th>\n",
       "      <th></th>\n",
       "      <th></th>\n",
       "      <th></th>\n",
       "    </tr>\n",
       "  </thead>\n",
       "  <tbody>\n",
       "    <tr>\n",
       "      <th>2014-09-19</th>\n",
       "      <td>93.889999</td>\n",
       "      <td>224.929993</td>\n",
       "      <td>11.978705</td>\n",
       "    </tr>\n",
       "    <tr>\n",
       "      <th>2014-09-22</th>\n",
       "      <td>89.889999</td>\n",
       "      <td>214.860001</td>\n",
       "      <td>11.793224</td>\n",
       "    </tr>\n",
       "    <tr>\n",
       "      <th>2014-09-23</th>\n",
       "      <td>87.169998</td>\n",
       "      <td>214.789993</td>\n",
       "      <td>11.760005</td>\n",
       "    </tr>\n",
       "    <tr>\n",
       "      <th>2014-09-24</th>\n",
       "      <td>90.570000</td>\n",
       "      <td>221.970001</td>\n",
       "      <td>11.973169</td>\n",
       "    </tr>\n",
       "    <tr>\n",
       "      <th>2014-09-25</th>\n",
       "      <td>88.919998</td>\n",
       "      <td>217.550003</td>\n",
       "      <td>11.718479</td>\n",
       "    </tr>\n",
       "  </tbody>\n",
       "</table>\n",
       "</div>"
      ],
      "text/plain": [
       "              Alibaba       Baidu        Lfc\n",
       "Date                                        \n",
       "2014-09-19  93.889999  224.929993  11.978705\n",
       "2014-09-22  89.889999  214.860001  11.793224\n",
       "2014-09-23  87.169998  214.789993  11.760005\n",
       "2014-09-24  90.570000  221.970001  11.973169\n",
       "2014-09-25  88.919998  217.550003  11.718479"
      ]
     },
     "execution_count": 50,
     "metadata": {},
     "output_type": "execute_result"
    }
   ],
   "source": [
    "china_stocks=pd.DataFrame()\n",
    "china_stocks[\"Alibaba\"]=china_ipo[(\"BABA\",\"Close\")]\n",
    "china_stocks[\"Baidu\"]=china_ipo[(\"BIDU\",\"Close\")]\n",
    "china_stocks[\"Lfc\"]=china_ipo[(\"LFC\",\"Close\")]\n",
    "china_stocks=china_stocks.dropna(axis=0)\n",
    "china_stocks.head()"
   ]
  },
  {
   "cell_type": "code",
   "execution_count": 51,
   "metadata": {
    "slideshow": {
     "slide_type": "slide"
    }
   },
   "outputs": [
    {
     "data": {
      "text/plain": [
       "<AxesSubplot:xlabel='Date'>"
      ]
     },
     "execution_count": 51,
     "metadata": {},
     "output_type": "execute_result"
    },
    {
     "data": {
      "image/png": "[encoded data removed]",
      "text/plain": [
       "<Figure size 720x360 with 1 Axes>"
      ]
     },
     "metadata": {
      "needs_background": "light"
     },
     "output_type": "display_data"
    }
   ],
   "source": [
    "(china_stocks/china_stocks.iloc[0]*100).plot(figsize=(10,5))"
   ]
  },
  {
   "cell_type": "code",
   "execution_count": 52,
   "metadata": {
    "slideshow": {
     "slide_type": "slide"
    }
   },
   "outputs": [
    {
     "data": {
      "text/plain": [
       "Alibaba    0.138197\n",
       "Baidu      0.039632\n",
       "Lfc        0.012947\n",
       "dtype: float64"
      ]
     },
     "execution_count": 52,
     "metadata": {},
     "output_type": "execute_result"
    }
   ],
   "source": [
    "china_returns=(china_stocks-china_stocks.shift(1))/china_stocks.shift(1) # log return is ok. \n",
    "annualreturns_china=china_returns.mean()*250\n",
    "annualreturns_china"
   ]
  },
  {
   "cell_type": "code",
   "execution_count": 53,
   "metadata": {
    "slideshow": {
     "slide_type": "slide"
    }
   },
   "outputs": [
    {
     "data": {
      "text/plain": [
       "Alibaba    0.341863\n",
       "Baidu      0.395290\n",
       "Lfc        0.331556\n",
       "dtype: float64"
      ]
     },
     "execution_count": 53,
     "metadata": {},
     "output_type": "execute_result"
    }
   ],
   "source": [
    "annualvolatility_china=china_returns.std(ddof=1)*(250**0.5)\n",
    "annualvolatility_china"
   ]
  },
  {
   "cell_type": "markdown",
   "metadata": {
    "slideshow": {
     "slide_type": "slide"
    },
    "toc-hr-collapsed": true
   },
   "source": [
    "### The relationship between securities"
   ]
  },
  {
   "cell_type": "markdown",
   "metadata": {
    "slideshow": {
     "slide_type": "slide"
    }
   },
   "source": [
    "<img src=\"Figure/economy.jpg\"  width=\"400\" height=\"300\" align=\"middle\" />\n",
    "\n",
    "It is reasonable to expect the prices of shares in a stock exchange are influenced by common factors.\n",
    "The most obvious example is the development of the economy. In general, favorable macroeconomic\n",
    "conditions facilitate the business of all companies. "
   ]
  },
  {
   "cell_type": "markdown",
   "metadata": {
    "slideshow": {
     "slide_type": "slide"
    }
   },
   "source": [
    "Companies’ shares are influenced by the state of the economy. However, different industries are\n",
    "influenced in a different way. Some industries do better than others in times of crisis."
   ]
  },
  {
   "cell_type": "markdown",
   "metadata": {
    "slideshow": {
     "slide_type": "slide"
    }
   },
   "source": [
    "<img src=\"Figure/suffer.jpg\"  width=\"400\" height=\"300\" align=\"middle\" />\n",
    "Different industries are influenced by the state of the economy in a different way. When the crisis comes, who will suffer more:\n",
    "- car makers\n",
    "- supermarket chains\n"
   ]
  },
  {
   "cell_type": "markdown",
   "metadata": {
    "slideshow": {
     "slide_type": "slide"
    }
   },
   "source": [
    "There is a relationship between the prices of different companies, and it is very important to understand\n",
    "what causes this relationship and how to use this measurement to build optimal investment portfolios."
   ]
  },
  {
   "cell_type": "markdown",
   "metadata": {
    "slideshow": {
     "slide_type": "slide"
    }
   },
   "source": [
    "**Covariance**"
   ]
  },
  {
   "cell_type": "markdown",
   "metadata": {
    "slideshow": {
     "slide_type": "slide"
    }
   },
   "source": [
    "$$\n",
    "\\sigma_{xy}=\\sum_{i=1}^n\\frac{(x_i-\\bar{x})(y_i-\\bar{y})}{n-1}\n",
    "$$"
   ]
  },
  {
   "cell_type": "markdown",
   "metadata": {
    "slideshow": {
     "slide_type": "slide"
    }
   },
   "source": [
    "**Correlation**"
   ]
  },
  {
   "cell_type": "markdown",
   "metadata": {
    "slideshow": {
     "slide_type": "fragment"
    }
   },
   "source": [
    "$$\n",
    "\\rho_{xy}=\\frac{\\sigma_{xy}}{\\sigma_x\\sigma_y}\n",
    "$$"
   ]
  },
  {
   "cell_type": "markdown",
   "metadata": {
    "slideshow": {
     "slide_type": "slide"
    }
   },
   "source": [
    "![](Figure/correlation.jpg)"
   ]
  },
  {
   "cell_type": "markdown",
   "metadata": {
    "slideshow": {
     "slide_type": "slide"
    }
   },
   "source": [
    "In python, we can calcualte covariance matrix:\n",
    "![](Figure/covariance.jpg)"
   ]
  },
  {
   "cell_type": "code",
   "execution_count": 54,
   "metadata": {
    "slideshow": {
     "slide_type": "slide"
    }
   },
   "outputs": [
    {
     "data": {
      "text/html": [
       "<div>\n",
       "<style scoped>\n",
       "    .dataframe tbody tr th:only-of-type {\n",
       "        vertical-align: middle;\n",
       "    }\n",
       "\n",
       "    .dataframe tbody tr th {\n",
       "        vertical-align: top;\n",
       "    }\n",
       "\n",
       "    .dataframe thead th {\n",
       "        text-align: right;\n",
       "    }\n",
       "</style>\n",
       "<table border=\"1\" class=\"dataframe\">\n",
       "  <thead>\n",
       "    <tr style=\"text-align: right;\">\n",
       "      <th></th>\n",
       "      <th>Alibaba</th>\n",
       "      <th>Baidu</th>\n",
       "      <th>Lfc</th>\n",
       "    </tr>\n",
       "  </thead>\n",
       "  <tbody>\n",
       "    <tr>\n",
       "      <th>Alibaba</th>\n",
       "      <td>0.000467</td>\n",
       "      <td>0.000291</td>\n",
       "      <td>0.000211</td>\n",
       "    </tr>\n",
       "    <tr>\n",
       "      <th>Baidu</th>\n",
       "      <td>0.000291</td>\n",
       "      <td>0.000625</td>\n",
       "      <td>0.000225</td>\n",
       "    </tr>\n",
       "    <tr>\n",
       "      <th>Lfc</th>\n",
       "      <td>0.000211</td>\n",
       "      <td>0.000225</td>\n",
       "      <td>0.000440</td>\n",
       "    </tr>\n",
       "  </tbody>\n",
       "</table>\n",
       "</div>"
      ],
      "text/plain": [
       "          Alibaba     Baidu       Lfc\n",
       "Alibaba  0.000467  0.000291  0.000211\n",
       "Baidu    0.000291  0.000625  0.000225\n",
       "Lfc      0.000211  0.000225  0.000440"
      ]
     },
     "execution_count": 54,
     "metadata": {},
     "output_type": "execute_result"
    }
   ],
   "source": [
    "china_returns.cov() # normalized by n-1"
   ]
  },
  {
   "cell_type": "code",
   "execution_count": 55,
   "metadata": {
    "slideshow": {
     "slide_type": "slide"
    }
   },
   "outputs": [
    {
     "data": {
      "text/html": [
       "<div>\n",
       "<style scoped>\n",
       "    .dataframe tbody tr th:only-of-type {\n",
       "        vertical-align: middle;\n",
       "    }\n",
       "\n",
       "    .dataframe tbody tr th {\n",
       "        vertical-align: top;\n",
       "    }\n",
       "\n",
       "    .dataframe thead th {\n",
       "        text-align: right;\n",
       "    }\n",
       "</style>\n",
       "<table border=\"1\" class=\"dataframe\">\n",
       "  <thead>\n",
       "    <tr style=\"text-align: right;\">\n",
       "      <th></th>\n",
       "      <th>Alibaba</th>\n",
       "      <th>Baidu</th>\n",
       "      <th>Lfc</th>\n",
       "    </tr>\n",
       "  </thead>\n",
       "  <tbody>\n",
       "    <tr>\n",
       "      <th>Alibaba</th>\n",
       "      <td>1.000000</td>\n",
       "      <td>0.537688</td>\n",
       "      <td>0.464443</td>\n",
       "    </tr>\n",
       "    <tr>\n",
       "      <th>Baidu</th>\n",
       "      <td>0.537688</td>\n",
       "      <td>1.000000</td>\n",
       "      <td>0.429941</td>\n",
       "    </tr>\n",
       "    <tr>\n",
       "      <th>Lfc</th>\n",
       "      <td>0.464443</td>\n",
       "      <td>0.429941</td>\n",
       "      <td>1.000000</td>\n",
       "    </tr>\n",
       "  </tbody>\n",
       "</table>\n",
       "</div>"
      ],
      "text/plain": [
       "          Alibaba     Baidu       Lfc\n",
       "Alibaba  1.000000  0.537688  0.464443\n",
       "Baidu    0.537688  1.000000  0.429941\n",
       "Lfc      0.464443  0.429941  1.000000"
      ]
     },
     "execution_count": 55,
     "metadata": {},
     "output_type": "execute_result"
    }
   ],
   "source": [
    "china_returns.corr() # normalized by n-1"
   ]
  },
  {
   "cell_type": "markdown",
   "metadata": {
    "slideshow": {
     "slide_type": "slide"
    }
   },
   "source": [
    "## Risk of Portfolio"
   ]
  },
  {
   "cell_type": "markdown",
   "metadata": {
    "slideshow": {
     "slide_type": "slide"
    }
   },
   "source": [
    "**Variance of Portfolio of Two Securities**\n",
    "$$\n",
    "Var(w_1P_1+w_2P_2)=w_1^2\\sigma_1^2+w_2^2\\sigma_2^2+2w_1w_2\\sigma_1\\sigma_2\\rho_{12}\n",
    "$$"
   ]
  },
  {
   "cell_type": "code",
   "execution_count": 56,
   "metadata": {
    "slideshow": {
     "slide_type": "slide"
    }
   },
   "outputs": [],
   "source": [
    "weight2=np.array([0.5,0.5])\n",
    "# 50% Baidu and 50% LFC"
   ]
  },
  {
   "cell_type": "markdown",
   "metadata": {
    "slideshow": {
     "slide_type": "slide"
    }
   },
   "source": [
    "**Annual Portfolio Variance**"
   ]
  },
  {
   "cell_type": "code",
   "execution_count": 57,
   "metadata": {
    "slideshow": {
     "slide_type": "slide"
    }
   },
   "outputs": [
    {
     "data": {
      "text/plain": [
       "0.09472018479633507"
      ]
     },
     "execution_count": 57,
     "metadata": {},
     "output_type": "execute_result"
    }
   ],
   "source": [
    "portfolio_var=np.dot(weight2.T, np.dot(china_returns[[\"Baidu\",\"Lfc\"]].cov(),weight2))\n",
    "portfolio_var = portfolio_var*(250)\n",
    "portfolio_var"
   ]
  },
  {
   "cell_type": "markdown",
   "metadata": {
    "slideshow": {
     "slide_type": "slide"
    }
   },
   "source": [
    "**Annual Portfolio Volatility**"
   ]
  },
  {
   "cell_type": "code",
   "execution_count": 58,
   "metadata": {
    "slideshow": {
     "slide_type": "slide"
    }
   },
   "outputs": [
    {
     "data": {
      "text/plain": [
       "0.3077664452085949"
      ]
     },
     "execution_count": 58,
     "metadata": {},
     "output_type": "execute_result"
    }
   ],
   "source": [
    "portfolio_vol=portfolio_var**0.5\n",
    "portfolio_vol"
   ]
  },
  {
   "cell_type": "markdown",
   "metadata": {
    "slideshow": {
     "slide_type": "slide"
    }
   },
   "source": [
    "<img src=\"Figure/portfolio_risk.jpg\"  width=\"300\" height=\"200\" align=\"left\" />\n",
    "\n",
    "<font color=\"green\" size=5>\n",
    "\n",
    "- Variance of individual securies\n",
    "    \n",
    "- the product between covariance and volatilties of securities\n",
    "</font>"
   ]
  },
  {
   "cell_type": "markdown",
   "metadata": {
    "slideshow": {
     "slide_type": "slide"
    }
   },
   "source": [
    "## Systematic Risk and Unsystematic Risk"
   ]
  },
  {
   "cell_type": "markdown",
   "metadata": {
    "slideshow": {
     "slide_type": "slide"
    }
   },
   "source": [
    "<font size=6, color=\"purple\">**Two Types of Investment Risk**</font>\n",
    "<font size=4, color=\"green\">\n",
    "    \n",
    "- Systematic Risk (Un-Diversifiable Risk )\n",
    "     - Systematic risk is that part of the total risk that is caused by factors beyond the control of a specific company or individual.\n",
    "     -  Systematic risk is caused by factors that are external to the organization and that are  macro economy factors, i.e. recession, low consumer spending, war, nature force etc .  \n",
    "     -  All investments or securities are subject to systematic risk and therefore, it is a non-diversifiable risk. Systematic risk cannot be diversified away by holding a large number of securities.\n",
    "    \n",
    "    \n",
    "- Unsystematic Risk (Diversifiable Risk, Idiosyncratic Risk )\n",
    "    - Driven by company-specific events\n",
    "    - It can be diversified away by holding a large number of securities, i.e. 30+ uncorrelated stocks in US market. \n",
    "</font>"
   ]
  },
  {
   "cell_type": "markdown",
   "metadata": {
    "slideshow": {
     "slide_type": "slide"
    }
   },
   "source": [
    "<img src=\"Figure/riskplot.jpg\" width=650 height=100 align=\"middle\">"
   ]
  },
  {
   "cell_type": "markdown",
   "metadata": {
    "slideshow": {
     "slide_type": "slide"
    }
   },
   "source": [
    "**Types of Systematic Risk**\n",
    "- Market Risk: \n",
    "    - caused by the herd mentality of investors, i.e. the tendency of investors to follow the direction of the market.\n",
    "    - market risk is the tendency of security prices to move together. \n",
    "    - Market risk constitutes almost two-thirds of total systematic risk. Therefore, sometimes the systematic risk is also referred to as market risk. \n",
    "\n",
    " "
   ]
  },
  {
   "cell_type": "markdown",
   "metadata": {},
   "source": [
    "- Interest Rate Risk\n",
    "    - Interest rate risk arises due to changes in market interest rates. \n",
    "    - In the stock market, this primarily affects fixed income securities because bond prices are inversely related to the market interest rate. \n",
    "- "
   ]
  },
  {
   "cell_type": "markdown",
   "metadata": {
    "slideshow": {
     "slide_type": "slide"
    }
   },
   "source": [
    "## Portfolio Variance with Many Risky Securities"
   ]
  },
  {
   "cell_type": "markdown",
   "metadata": {
    "slideshow": {
     "slide_type": "slide"
    }
   },
   "source": [
    "### Unsystematic risk only"
   ]
  },
  {
   "cell_type": "markdown",
   "metadata": {
    "slideshow": {
     "slide_type": "slide"
    }
   },
   "source": [
    "If all securities of a portfolio are all indpendent, the portfolio variance \n",
    "$$\n",
    "\\sigma_p^2=w_1^2\\sigma_1^2+w_2^2\\sigma_2^2+\\ldots+w_n^2\\sigma_n^2\n",
    "$$"
   ]
  },
  {
   "cell_type": "markdown",
   "metadata": {
    "slideshow": {
     "slide_type": "fragment"
    }
   },
   "source": [
    "As $N\\rightarrow \\infty$, the portfolio variance $\\rightarrow 0$."
   ]
  },
  {
   "cell_type": "markdown",
   "metadata": {
    "slideshow": {
     "slide_type": "slide"
    }
   },
   "source": [
    "### Systematic and unsystematic risk"
   ]
  },
  {
   "cell_type": "markdown",
   "metadata": {
    "slideshow": {
     "slide_type": "slide"
    }
   },
   "source": [
    "In fact, U.S. stocks do not have zero correlation with one another. Let $R_i$ denote the return on an individual  stock, and $R_M$ the return on  a broad market index like the $S&P500$. Run linear regression of the value $R_i$ on $R_M$:\n",
    "$$\n",
    "R_i=a_i+\\beta_iR_M+\\epsilon_i\n",
    "$$\n",
    "We can find that \n",
    "$$\n",
    "\\beta_i=\\frac{cov(R_i,R_M)}{\\sigma_M^2}\n",
    "$$"
   ]
  },
  {
   "cell_type": "markdown",
   "metadata": {
    "slideshow": {
     "slide_type": "slide"
    }
   },
   "source": [
    "- The coefficient $\\beta_i$ is a measure of how much the stock moves together with the market index $R_M$.\n",
    "- The error term, $\\epsilon_i$, measures the variability in $R_i$ that is independent of all other securities in $R_M$."
   ]
  },
  {
   "cell_type": "markdown",
   "metadata": {
    "slideshow": {
     "slide_type": "slide"
    }
   },
   "source": []
  },
  {
   "cell_type": "markdown",
   "metadata": {
    "slideshow": {
     "slide_type": "slide"
    }
   },
   "source": [
    "**In-class Practice**: Build a portfolio of Microsoft and the S&P 500 with weight you choose, calculate Microsoft's beta in order to understand how much systematic risk it has."
   ]
  },
  {
   "cell_type": "code",
   "execution_count": 3,
   "metadata": {},
   "outputs": [
    {
     "name": "stdout",
     "output_type": "stream",
     "text": [
      "Microsoft's 3Y Beta is: 1.1762634371693546\n"
     ]
    }
   ],
   "source": [
    "import yfinance as yf\n",
    "import numpy as np\n",
    "\n",
    "#Pick length we want to use for our beta.\n",
    "beta_length='3Y'\n",
    "\n",
    "#Download our data\n",
    "msft = yf.download(\n",
    "        tickers =\"MSFT\",\n",
    "        period = beta_length,\n",
    "        interval = \"1d\",\n",
    "        group_by = 'ticker',\n",
    "        progress=False)\n",
    "spy = yf.download(\n",
    "        tickers =\"SPY\",\n",
    "        period = beta_length,\n",
    "        interval = \"1d\",\n",
    "        group_by = 'ticker',\n",
    "        progress=False)\n",
    "\n",
    "#Now calculate the returns of each day\n",
    "msft['return']=msft['Adj Close']/msft['Adj Close'].shift(1)-1\n",
    "spy['return']=spy['Adj Close']/spy['Adj Close'].shift(1)-1\n",
    "\n",
    "#Drop observations where return is nan.\n",
    "spy=spy.drop(spy.index[spy['return'].isna()])\n",
    "msft=msft.drop(msft.index[msft['return'].isna()])\n",
    "\n",
    "#Now calculate the beta using the formula Beta=Cov(MSFT,S&P)/Var(S&P)\n",
    "msft_beta=np.cov(msft['return'],spy['return'])[0,1]/np.var(spy['return'])\n",
    "\n",
    "print(\"Microsoft's \"+beta_length+\" Beta is: \"+str(msft_beta))"
   ]
  },
  {
   "cell_type": "code",
   "execution_count": 4,
   "metadata": {
    "slideshow": {
     "slide_type": "slide"
    }
   },
   "outputs": [
    {
     "name": "stdout",
     "output_type": "stream",
     "text": [
      "Microsoft's 3Y Beta is: 1.174703406085575\n",
      "Microsoft's 3Y Alpha is: 18.512%\n"
     ]
    }
   ],
   "source": [
    "# We can also calculate the beta using a regression. This  method also allows us to calculate Microsofts abnormal returns.\n",
    "from sklearn.linear_model import LinearRegression\n",
    "import pandas as pd\n",
    "reg=LinearRegression(fit_intercept=True)\n",
    "reg=reg.fit(pd.DataFrame(spy['return']),pd.DataFrame(msft['return']))\n",
    "\n",
    "print(\"Microsoft's \"+beta_length+\" Beta is: \"+str(reg.coef_[0][0]))\n",
    "print(\"Microsoft's \"+beta_length+\" Alpha is: \"+str(round(252*reg.intercept_[0]*100,3))+\"%\")"
   ]
  },
  {
   "cell_type": "code",
   "execution_count": null,
   "metadata": {
    "slideshow": {
     "slide_type": "fragment"
    }
   },
   "outputs": [],
   "source": []
  },
  {
   "cell_type": "code",
   "execution_count": null,
   "metadata": {},
   "outputs": [],
   "source": []
  }
 ],
 "metadata": {
  "celltoolbar": "Slideshow",
  "kernelspec": {
   "display_name": "Python 3 (ipykernel)",
   "language": "python",
   "name": "python3"
  },
  "language_info": {
   "codemirror_mode": {
    "name": "ipython",
    "version": 3
   },
   "file_extension": ".py",
   "mimetype": "text/x-python",
   "name": "python",
   "nbconvert_exporter": "python",
   "pygments_lexer": "ipython3",
   "version": "3.8.8"
  },
  "toc": {
   "base_numbering": 1,
   "nav_menu": {
    "height": "419px",
    "width": "598px"
   },
   "number_sections": true,
   "sideBar": false,
   "skip_h1_title": false,
   "title_cell": "Table of Contents",
   "title_sidebar": "Contents",
   "toc_cell": true,
   "toc_position": {
    "height": "1001.66px",
    "left": "630px",
    "top": "0px",
    "width": "263.193px"
   },
   "toc_section_display": false,
   "toc_window_display": false
  }
 },
 "nbformat": 4,
 "nbformat_minor": 4
}
