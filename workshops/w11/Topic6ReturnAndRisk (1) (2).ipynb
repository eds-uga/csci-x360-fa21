{
 "cells": [
  {
   "cell_type": "markdown",
   "metadata": {},
   "source": [
    "# Return and Risk"
   ]
  },
  {
   "cell_type": "markdown",
   "metadata": {
    "slideshow": {
     "slide_type": "slide"
    }
   },
   "source": [
    "## Imported Modules "
   ]
  },
  {
   "cell_type": "code",
   "execution_count": 73,
   "metadata": {
    "slideshow": {
     "slide_type": "slide"
    }
   },
   "outputs": [],
   "source": [
    "import pandas as pd\n",
    "import numpy as np\n",
    "import matplotlib.pyplot as plt\n",
    "%matplotlib inline\n",
    "import statsmodels.formula.api as smf\n",
    "import warnings\n",
    "warnings.filterwarnings(\"ignore\")"
   ]
  },
  {
   "cell_type": "markdown",
   "metadata": {
    "slideshow": {
     "slide_type": "slide"
    }
   },
   "source": [
    "##  Risk and Return "
   ]
  },
  {
   "cell_type": "markdown",
   "metadata": {
    "slideshow": {
     "slide_type": "slide"
    }
   },
   "source": [
    "When we think of an investment, we have to remember two things – its upside and its downside. In\n",
    "other words, we should consider the profit that will be made if everything goes well and the risk of\n",
    "losses if the investmentis unsuccessful."
   ]
  },
  {
   "cell_type": "markdown",
   "metadata": {
    "slideshow": {
     "slide_type": "slide"
    }
   },
   "source": [
    "### Calculating rates of return"
   ]
  },
  {
   "cell_type": "markdown",
   "metadata": {
    "slideshow": {
     "slide_type": "slide"
    }
   },
   "source": [
    "Returns can only be compared among investments with the same hoding period(time frame):\n",
    "- daily return\n",
    "- weekly return\n",
    "- monthly return \n",
    "- annual or yearly return\n",
    "- Historical Rates of Return\n",
    "- Future Rates of Return (Expected Return)\n",
    "    - Prediction with statistical and machine learning models\n",
    "    - approximation of financial models. "
   ]
  },
  {
   "cell_type": "code",
   "execution_count": 75,
   "metadata": {
    "slideshow": {
     "slide_type": "slide"
    }
   },
   "outputs": [],
   "source": [
    "import yfinance as yf"
   ]
  },
  {
   "cell_type": "code",
   "execution_count": 76,
   "metadata": {
    "slideshow": {
     "slide_type": "slide"
    }
   },
   "outputs": [
    {
     "name": "stdout",
     "output_type": "stream",
     "text": [
      "[*********************100%***********************]  1 of 1 completed\n"
     ]
    }
   ],
   "source": [
    "msft = yf.download(  # or pdr.get_data_yahoo(...\n",
    "        # tickers list or string as well\n",
    "        tickers =\"MSFT\",\n",
    "\n",
    "        # use \"period\" instead of start/end\n",
    "        # valid periods: 1d,5d,1mo,3mo,6mo,1y,2y,5y,10y,ytd,max\n",
    "        # (optional, default is '1mo')\n",
    "        period = \"5000d\",\n",
    "\n",
    "        # fetch data by interval (including intraday if period < 60 days)\n",
    "        # valid intervals: 1m,2m,5m,15m,30m,60m,90m,1h,1d,5d,1wk,1mo,3mo\n",
    "        # (optional, default is '1d')\n",
    "        interval = \"1d\",\n",
    "\n",
    "        # group by ticker (to access via data['SPY'])\n",
    "        # (optional, default is 'column')\n",
    "        group_by = 'ticker',\n",
    "\n",
    "        # adjust all OHLC automatically\n",
    "        # (optional, default is False)\n",
    "        auto_adjust = False,\n",
    "\n",
    "        # download pre/post regular market hours data\n",
    "        # (optional, default is False)\n",
    "        prepost = True,\n",
    "\n",
    "        # use threads for mass downloading? (True/False/Integer)\n",
    "        # (optional, default is True)\n",
    "        threads = True,\n",
    "\n",
    "        # proxy URL scheme use use when downloading?\n",
    "        # (optional, default is None)\n",
    "        proxy = None\n",
    "    )"
   ]
  },
  {
   "cell_type": "code",
   "execution_count": 77,
   "metadata": {
    "slideshow": {
     "slide_type": "slide"
    }
   },
   "outputs": [
    {
     "data": {
      "text/html": [
       "<div>\n",
       "<style scoped>\n",
       "    .dataframe tbody tr th:only-of-type {\n",
       "        vertical-align: middle;\n",
       "    }\n",
       "\n",
       "    .dataframe tbody tr th {\n",
       "        vertical-align: top;\n",
       "    }\n",
       "\n",
       "    .dataframe thead th {\n",
       "        text-align: right;\n",
       "    }\n",
       "</style>\n",
       "<table border=\"1\" class=\"dataframe\">\n",
       "  <thead>\n",
       "    <tr style=\"text-align: right;\">\n",
       "      <th></th>\n",
       "      <th>Open</th>\n",
       "      <th>High</th>\n",
       "      <th>Low</th>\n",
       "      <th>Close</th>\n",
       "      <th>Adj Close</th>\n",
       "      <th>Volume</th>\n",
       "    </tr>\n",
       "    <tr>\n",
       "      <th>Date</th>\n",
       "      <th></th>\n",
       "      <th></th>\n",
       "      <th></th>\n",
       "      <th></th>\n",
       "      <th></th>\n",
       "      <th></th>\n",
       "    </tr>\n",
       "  </thead>\n",
       "  <tbody>\n",
       "    <tr>\n",
       "      <th>2002-01-15</th>\n",
       "      <td>34.330002</td>\n",
       "      <td>34.810001</td>\n",
       "      <td>34.250000</td>\n",
       "      <td>34.775002</td>\n",
       "      <td>21.954210</td>\n",
       "      <td>60717400</td>\n",
       "    </tr>\n",
       "    <tr>\n",
       "      <th>2002-01-16</th>\n",
       "      <td>34.424999</td>\n",
       "      <td>34.919998</td>\n",
       "      <td>33.924999</td>\n",
       "      <td>33.935001</td>\n",
       "      <td>21.423895</td>\n",
       "      <td>61955400</td>\n",
       "    </tr>\n",
       "    <tr>\n",
       "      <th>2002-01-17</th>\n",
       "      <td>34.264999</td>\n",
       "      <td>35.000000</td>\n",
       "      <td>34.200001</td>\n",
       "      <td>34.930000</td>\n",
       "      <td>22.052065</td>\n",
       "      <td>78958000</td>\n",
       "    </tr>\n",
       "    <tr>\n",
       "      <th>2002-01-18</th>\n",
       "      <td>33.549999</td>\n",
       "      <td>33.924999</td>\n",
       "      <td>32.709999</td>\n",
       "      <td>33.049999</td>\n",
       "      <td>20.865177</td>\n",
       "      <td>107140400</td>\n",
       "    </tr>\n",
       "    <tr>\n",
       "      <th>2002-01-22</th>\n",
       "      <td>33.305000</td>\n",
       "      <td>33.314999</td>\n",
       "      <td>32.125000</td>\n",
       "      <td>32.230000</td>\n",
       "      <td>20.347494</td>\n",
       "      <td>76837200</td>\n",
       "    </tr>\n",
       "  </tbody>\n",
       "</table>\n",
       "</div>"
      ],
      "text/plain": [
       "                 Open       High        Low      Close  Adj Close     Volume\n",
       "Date                                                                        \n",
       "2002-01-15  34.330002  34.810001  34.250000  34.775002  21.954210   60717400\n",
       "2002-01-16  34.424999  34.919998  33.924999  33.935001  21.423895   61955400\n",
       "2002-01-17  34.264999  35.000000  34.200001  34.930000  22.052065   78958000\n",
       "2002-01-18  33.549999  33.924999  32.709999  33.049999  20.865177  107140400\n",
       "2002-01-22  33.305000  33.314999  32.125000  32.230000  20.347494   76837200"
      ]
     },
     "execution_count": 77,
     "metadata": {},
     "output_type": "execute_result"
    }
   ],
   "source": [
    "msft.head()"
   ]
  },
  {
   "cell_type": "code",
   "execution_count": 78,
   "metadata": {
    "slideshow": {
     "slide_type": "slide"
    }
   },
   "outputs": [
    {
     "data": {
      "text/html": [
       "<div>\n",
       "<style scoped>\n",
       "    .dataframe tbody tr th:only-of-type {\n",
       "        vertical-align: middle;\n",
       "    }\n",
       "\n",
       "    .dataframe tbody tr th {\n",
       "        vertical-align: top;\n",
       "    }\n",
       "\n",
       "    .dataframe thead th {\n",
       "        text-align: right;\n",
       "    }\n",
       "</style>\n",
       "<table border=\"1\" class=\"dataframe\">\n",
       "  <thead>\n",
       "    <tr style=\"text-align: right;\">\n",
       "      <th></th>\n",
       "      <th>Open</th>\n",
       "      <th>High</th>\n",
       "      <th>Low</th>\n",
       "      <th>Close</th>\n",
       "      <th>Adj Close</th>\n",
       "      <th>Volume</th>\n",
       "    </tr>\n",
       "    <tr>\n",
       "      <th>Date</th>\n",
       "      <th></th>\n",
       "      <th></th>\n",
       "      <th></th>\n",
       "      <th></th>\n",
       "      <th></th>\n",
       "      <th></th>\n",
       "    </tr>\n",
       "  </thead>\n",
       "  <tbody>\n",
       "    <tr>\n",
       "      <th>2021-11-16</th>\n",
       "      <td>335.679993</td>\n",
       "      <td>340.670013</td>\n",
       "      <td>335.510010</td>\n",
       "      <td>339.510010</td>\n",
       "      <td>338.890015</td>\n",
       "      <td>20886800</td>\n",
       "    </tr>\n",
       "    <tr>\n",
       "      <th>2021-11-17</th>\n",
       "      <td>338.940002</td>\n",
       "      <td>342.190002</td>\n",
       "      <td>338.000000</td>\n",
       "      <td>339.119995</td>\n",
       "      <td>339.119995</td>\n",
       "      <td>19053400</td>\n",
       "    </tr>\n",
       "    <tr>\n",
       "      <th>2021-11-18</th>\n",
       "      <td>338.179993</td>\n",
       "      <td>342.450012</td>\n",
       "      <td>337.119995</td>\n",
       "      <td>341.269989</td>\n",
       "      <td>341.269989</td>\n",
       "      <td>22463500</td>\n",
       "    </tr>\n",
       "    <tr>\n",
       "      <th>2021-11-19</th>\n",
       "      <td>342.640015</td>\n",
       "      <td>345.100006</td>\n",
       "      <td>342.200012</td>\n",
       "      <td>343.109985</td>\n",
       "      <td>343.109985</td>\n",
       "      <td>21942200</td>\n",
       "    </tr>\n",
       "    <tr>\n",
       "      <th>2021-11-22</th>\n",
       "      <td>344.619995</td>\n",
       "      <td>349.665009</td>\n",
       "      <td>341.589996</td>\n",
       "      <td>343.790009</td>\n",
       "      <td>343.790009</td>\n",
       "      <td>21287658</td>\n",
       "    </tr>\n",
       "  </tbody>\n",
       "</table>\n",
       "</div>"
      ],
      "text/plain": [
       "                  Open        High         Low       Close   Adj Close  \\\n",
       "Date                                                                     \n",
       "2021-11-16  335.679993  340.670013  335.510010  339.510010  338.890015   \n",
       "2021-11-17  338.940002  342.190002  338.000000  339.119995  339.119995   \n",
       "2021-11-18  338.179993  342.450012  337.119995  341.269989  341.269989   \n",
       "2021-11-19  342.640015  345.100006  342.200012  343.109985  343.109985   \n",
       "2021-11-22  344.619995  349.665009  341.589996  343.790009  343.790009   \n",
       "\n",
       "              Volume  \n",
       "Date                  \n",
       "2021-11-16  20886800  \n",
       "2021-11-17  19053400  \n",
       "2021-11-18  22463500  \n",
       "2021-11-19  21942200  \n",
       "2021-11-22  21287658  "
      ]
     },
     "execution_count": 78,
     "metadata": {},
     "output_type": "execute_result"
    }
   ],
   "source": [
    "msft.tail()"
   ]
  },
  {
   "cell_type": "markdown",
   "metadata": {
    "slideshow": {
     "slide_type": "slide"
    }
   },
   "source": [
    "**Simple Rate of Return**\n",
    "\n",
    "$$\n",
    "r=\\frac{P_1-P_0}{P_0}\n",
    "$$"
   ]
  },
  {
   "cell_type": "code",
   "execution_count": 79,
   "metadata": {
    "slideshow": {
     "slide_type": "slide"
    }
   },
   "outputs": [
    {
     "data": {
      "text/plain": [
       "Date\n",
       "2002-01-15         NaN\n",
       "2002-01-16   -0.024155\n",
       "2002-01-17    0.029321\n",
       "Name: simple_return, dtype: float64"
      ]
     },
     "execution_count": 79,
     "metadata": {},
     "output_type": "execute_result"
    }
   ],
   "source": [
    "msft[\"simple_return\"]=(msft[\"Close\"]-msft[\"Close\"].shift(1))/msft[\"Close\"].shift(1)\n",
    "msft[\"simple_return\"].head(3)"
   ]
  },
  {
   "cell_type": "code",
   "execution_count": 80,
   "metadata": {
    "slideshow": {
     "slide_type": "slide"
    }
   },
   "outputs": [
    {
     "data": {
      "text/plain": [
       "<AxesSubplot:xlabel='Date'>"
      ]
     },
     "execution_count": 80,
     "metadata": {},
     "output_type": "execute_result"
    },
    {
     "data": {
      "image/png": "[encoded data removed]",
      "text/plain": [
       "<Figure size 1440x360 with 1 Axes>"
      ]
     },
     "metadata": {
      "needs_background": "light"
     },
     "output_type": "display_data"
    }
   ],
   "source": [
    "msft[\"simple_return\"].plot(figsize=(20,5))"
   ]
  },
  {
   "cell_type": "code",
   "execution_count": 81,
   "metadata": {},
   "outputs": [
    {
     "data": {
      "text/plain": [
       "0.15301952626461698"
      ]
     },
     "execution_count": 81,
     "metadata": {},
     "output_type": "execute_result"
    }
   ],
   "source": [
    "average_annual_return=msft[\"simple_return\"].mean()*250\n",
    "average_annual_return"
   ]
  },
  {
   "cell_type": "code",
   "execution_count": 82,
   "metadata": {},
   "outputs": [
    {
     "name": "stdout",
     "output_type": "stream",
     "text": [
      "15.302%\n"
     ]
    }
   ],
   "source": [
    "print(str(round(average_annual_return, 5)*100)+\"%\")"
   ]
  },
  {
   "cell_type": "markdown",
   "metadata": {
    "slideshow": {
     "slide_type": "slide"
    }
   },
   "source": [
    "**Log Returns**\n",
    "$$\n",
    "ln\\bigg(\\frac{P_t}{P_{t-1}}\\bigg)\n",
    "$$"
   ]
  },
  {
   "cell_type": "code",
   "execution_count": 83,
   "metadata": {
    "slideshow": {
     "slide_type": "slide"
    }
   },
   "outputs": [
    {
     "data": {
      "text/html": [
       "<div>\n",
       "<style scoped>\n",
       "    .dataframe tbody tr th:only-of-type {\n",
       "        vertical-align: middle;\n",
       "    }\n",
       "\n",
       "    .dataframe tbody tr th {\n",
       "        vertical-align: top;\n",
       "    }\n",
       "\n",
       "    .dataframe thead th {\n",
       "        text-align: right;\n",
       "    }\n",
       "</style>\n",
       "<table border=\"1\" class=\"dataframe\">\n",
       "  <thead>\n",
       "    <tr style=\"text-align: right;\">\n",
       "      <th></th>\n",
       "      <th>Open</th>\n",
       "      <th>High</th>\n",
       "      <th>Low</th>\n",
       "      <th>Close</th>\n",
       "      <th>Adj Close</th>\n",
       "      <th>Volume</th>\n",
       "      <th>simple_return</th>\n",
       "      <th>log_return</th>\n",
       "    </tr>\n",
       "    <tr>\n",
       "      <th>Date</th>\n",
       "      <th></th>\n",
       "      <th></th>\n",
       "      <th></th>\n",
       "      <th></th>\n",
       "      <th></th>\n",
       "      <th></th>\n",
       "      <th></th>\n",
       "      <th></th>\n",
       "    </tr>\n",
       "  </thead>\n",
       "  <tbody>\n",
       "    <tr>\n",
       "      <th>2002-01-15</th>\n",
       "      <td>34.330002</td>\n",
       "      <td>34.810001</td>\n",
       "      <td>34.250000</td>\n",
       "      <td>34.775002</td>\n",
       "      <td>21.954210</td>\n",
       "      <td>60717400</td>\n",
       "      <td>NaN</td>\n",
       "      <td>NaN</td>\n",
       "    </tr>\n",
       "    <tr>\n",
       "      <th>2002-01-16</th>\n",
       "      <td>34.424999</td>\n",
       "      <td>34.919998</td>\n",
       "      <td>33.924999</td>\n",
       "      <td>33.935001</td>\n",
       "      <td>21.423895</td>\n",
       "      <td>61955400</td>\n",
       "      <td>-0.024155</td>\n",
       "      <td>-0.024452</td>\n",
       "    </tr>\n",
       "    <tr>\n",
       "      <th>2002-01-17</th>\n",
       "      <td>34.264999</td>\n",
       "      <td>35.000000</td>\n",
       "      <td>34.200001</td>\n",
       "      <td>34.930000</td>\n",
       "      <td>22.052065</td>\n",
       "      <td>78958000</td>\n",
       "      <td>0.029321</td>\n",
       "      <td>0.028899</td>\n",
       "    </tr>\n",
       "    <tr>\n",
       "      <th>2002-01-18</th>\n",
       "      <td>33.549999</td>\n",
       "      <td>33.924999</td>\n",
       "      <td>32.709999</td>\n",
       "      <td>33.049999</td>\n",
       "      <td>20.865177</td>\n",
       "      <td>107140400</td>\n",
       "      <td>-0.053822</td>\n",
       "      <td>-0.055325</td>\n",
       "    </tr>\n",
       "    <tr>\n",
       "      <th>2002-01-22</th>\n",
       "      <td>33.305000</td>\n",
       "      <td>33.314999</td>\n",
       "      <td>32.125000</td>\n",
       "      <td>32.230000</td>\n",
       "      <td>20.347494</td>\n",
       "      <td>76837200</td>\n",
       "      <td>-0.024811</td>\n",
       "      <td>-0.025124</td>\n",
       "    </tr>\n",
       "  </tbody>\n",
       "</table>\n",
       "</div>"
      ],
      "text/plain": [
       "                 Open       High        Low      Close  Adj Close     Volume  \\\n",
       "Date                                                                           \n",
       "2002-01-15  34.330002  34.810001  34.250000  34.775002  21.954210   60717400   \n",
       "2002-01-16  34.424999  34.919998  33.924999  33.935001  21.423895   61955400   \n",
       "2002-01-17  34.264999  35.000000  34.200001  34.930000  22.052065   78958000   \n",
       "2002-01-18  33.549999  33.924999  32.709999  33.049999  20.865177  107140400   \n",
       "2002-01-22  33.305000  33.314999  32.125000  32.230000  20.347494   76837200   \n",
       "\n",
       "            simple_return  log_return  \n",
       "Date                                   \n",
       "2002-01-15            NaN         NaN  \n",
       "2002-01-16      -0.024155   -0.024452  \n",
       "2002-01-17       0.029321    0.028899  \n",
       "2002-01-18      -0.053822   -0.055325  \n",
       "2002-01-22      -0.024811   -0.025124  "
      ]
     },
     "execution_count": 83,
     "metadata": {},
     "output_type": "execute_result"
    }
   ],
   "source": [
    "msft[\"log_return\"]=np.log(msft[\"Close\"]/msft[\"Close\"].shift(1))\n",
    "msft.head(5)"
   ]
  },
  {
   "cell_type": "code",
   "execution_count": 84,
   "metadata": {
    "slideshow": {
     "slide_type": "slide"
    }
   },
   "outputs": [
    {
     "data": {
      "text/plain": [
       "<AxesSubplot:xlabel='Date'>"
      ]
     },
     "execution_count": 84,
     "metadata": {},
     "output_type": "execute_result"
    },
    {
     "data": {
      "image/png": "[encoded data removed]",
      "text/plain": [
       "<Figure size 576x360 with 1 Axes>"
      ]
     },
     "metadata": {
      "needs_background": "light"
     },
     "output_type": "display_data"
    }
   ],
   "source": [
    "msft[\"log_return\"].plot(figsize=(8,5))"
   ]
  },
  {
   "cell_type": "code",
   "execution_count": 85,
   "metadata": {
    "slideshow": {
     "slide_type": "slide"
    }
   },
   "outputs": [
    {
     "data": {
      "text/plain": [
       "0.11457952835638932"
      ]
     },
     "execution_count": 85,
     "metadata": {},
     "output_type": "execute_result"
    }
   ],
   "source": [
    "log_annual_return=msft[\"log_return\"].mean()*250\n",
    "log_annual_return"
   ]
  },
  {
   "cell_type": "code",
   "execution_count": 86,
   "metadata": {
    "slideshow": {
     "slide_type": "slide"
    }
   },
   "outputs": [
    {
     "name": "stdout",
     "output_type": "stream",
     "text": [
      "11.458%\n"
     ]
    }
   ],
   "source": [
    "print(str(round(log_annual_return,5)*100)+\"%\")"
   ]
  },
  {
   "cell_type": "markdown",
   "metadata": {},
   "source": [
    "### Investment  Portfolio "
   ]
  },
  {
   "cell_type": "markdown",
   "metadata": {
    "slideshow": {
     "slide_type": "slide"
    }
   },
   "source": [
    "Most investors own several stocks, and the set of stocks that an investor owns is called his\n",
    "investment portfolio"
   ]
  },
  {
   "cell_type": "markdown",
   "metadata": {
    "slideshow": {
     "slide_type": "slide"
    }
   },
   "source": [
    "Calculating the rate of return of a portfolio is an easy and intuitive task. We have the rates of return\n",
    "of individual securities, and we only have to multiply each security’s rate of return by the weight it\n",
    "has in the overall portfolio.\n",
    "-  Portfolio weight is determined by dividing the dollar value of a security by the total dollar value of the portfolio"
   ]
  },
  {
   "cell_type": "code",
   "execution_count": 87,
   "metadata": {
    "slideshow": {
     "slide_type": "slide"
    }
   },
   "outputs": [
    {
     "name": "stdout",
     "output_type": "stream",
     "text": [
      "[*********************100%***********************]  4 of 4 completed\n"
     ]
    }
   ],
   "source": [
    "data = yf.download( \n",
    "        tickers =\"MSFT,IBM,GE ,F\",\n",
    "        period = \"5000d\",\n",
    "        interval = \"1d\",\n",
    "        group_by = 'ticker',\n",
    "        auto_adjust = True,\n",
    "        prepost = True,\n",
    "        threads = True,\n",
    "        proxy = None\n",
    "    )"
   ]
  },
  {
   "cell_type": "code",
   "execution_count": 88,
   "metadata": {
    "slideshow": {
     "slide_type": "slide"
    }
   },
   "outputs": [
    {
     "data": {
      "text/html": [
       "<div>\n",
       "<style scoped>\n",
       "    .dataframe tbody tr th:only-of-type {\n",
       "        vertical-align: middle;\n",
       "    }\n",
       "\n",
       "    .dataframe tbody tr th {\n",
       "        vertical-align: top;\n",
       "    }\n",
       "\n",
       "    .dataframe thead tr th {\n",
       "        text-align: left;\n",
       "    }\n",
       "\n",
       "    .dataframe thead tr:last-of-type th {\n",
       "        text-align: right;\n",
       "    }\n",
       "</style>\n",
       "<table border=\"1\" class=\"dataframe\">\n",
       "  <thead>\n",
       "    <tr>\n",
       "      <th></th>\n",
       "      <th colspan=\"5\" halign=\"left\">MSFT</th>\n",
       "      <th colspan=\"5\" halign=\"left\">IBM</th>\n",
       "      <th colspan=\"5\" halign=\"left\">F</th>\n",
       "      <th colspan=\"5\" halign=\"left\">GE</th>\n",
       "    </tr>\n",
       "    <tr>\n",
       "      <th></th>\n",
       "      <th>Open</th>\n",
       "      <th>High</th>\n",
       "      <th>Low</th>\n",
       "      <th>Close</th>\n",
       "      <th>Volume</th>\n",
       "      <th>Open</th>\n",
       "      <th>High</th>\n",
       "      <th>Low</th>\n",
       "      <th>Close</th>\n",
       "      <th>Volume</th>\n",
       "      <th>Open</th>\n",
       "      <th>High</th>\n",
       "      <th>Low</th>\n",
       "      <th>Close</th>\n",
       "      <th>Volume</th>\n",
       "      <th>Open</th>\n",
       "      <th>High</th>\n",
       "      <th>Low</th>\n",
       "      <th>Close</th>\n",
       "      <th>Volume</th>\n",
       "    </tr>\n",
       "    <tr>\n",
       "      <th>Date</th>\n",
       "      <th></th>\n",
       "      <th></th>\n",
       "      <th></th>\n",
       "      <th></th>\n",
       "      <th></th>\n",
       "      <th></th>\n",
       "      <th></th>\n",
       "      <th></th>\n",
       "      <th></th>\n",
       "      <th></th>\n",
       "      <th></th>\n",
       "      <th></th>\n",
       "      <th></th>\n",
       "      <th></th>\n",
       "      <th></th>\n",
       "      <th></th>\n",
       "      <th></th>\n",
       "      <th></th>\n",
       "      <th></th>\n",
       "      <th></th>\n",
       "    </tr>\n",
       "  </thead>\n",
       "  <tbody>\n",
       "    <tr>\n",
       "      <th>2002-01-15</th>\n",
       "      <td>21.673272</td>\n",
       "      <td>21.976306</td>\n",
       "      <td>21.622765</td>\n",
       "      <td>21.954210</td>\n",
       "      <td>60717400</td>\n",
       "      <td>69.078452</td>\n",
       "      <td>70.043970</td>\n",
       "      <td>68.885351</td>\n",
       "      <td>69.546585</td>\n",
       "      <td>5907703</td>\n",
       "      <td>8.648509</td>\n",
       "      <td>8.870412</td>\n",
       "      <td>8.483505</td>\n",
       "      <td>8.557472</td>\n",
       "      <td>9463000</td>\n",
       "      <td>164.930885</td>\n",
       "      <td>170.123150</td>\n",
       "      <td>163.927340</td>\n",
       "      <td>168.901443</td>\n",
       "      <td>3386149</td>\n",
       "    </tr>\n",
       "    <tr>\n",
       "      <th>2002-01-16</th>\n",
       "      <td>21.733247</td>\n",
       "      <td>22.045750</td>\n",
       "      <td>21.417586</td>\n",
       "      <td>21.423901</td>\n",
       "      <td>61955400</td>\n",
       "      <td>69.049196</td>\n",
       "      <td>69.488069</td>\n",
       "      <td>68.610324</td>\n",
       "      <td>68.698097</td>\n",
       "      <td>5613150</td>\n",
       "      <td>8.477813</td>\n",
       "      <td>8.705406</td>\n",
       "      <td>8.449365</td>\n",
       "      <td>8.511952</td>\n",
       "      <td>7703100</td>\n",
       "      <td>167.548846</td>\n",
       "      <td>167.941547</td>\n",
       "      <td>164.538211</td>\n",
       "      <td>164.581833</td>\n",
       "      <td>2976337</td>\n",
       "    </tr>\n",
       "    <tr>\n",
       "      <th>2002-01-17</th>\n",
       "      <td>21.632232</td>\n",
       "      <td>22.096253</td>\n",
       "      <td>21.591197</td>\n",
       "      <td>22.052061</td>\n",
       "      <td>78958000</td>\n",
       "      <td>70.131747</td>\n",
       "      <td>70.541358</td>\n",
       "      <td>68.616172</td>\n",
       "      <td>70.161003</td>\n",
       "      <td>11666770</td>\n",
       "      <td>8.506261</td>\n",
       "      <td>8.511951</td>\n",
       "      <td>8.244530</td>\n",
       "      <td>8.364016</td>\n",
       "      <td>13617400</td>\n",
       "      <td>169.730426</td>\n",
       "      <td>169.774048</td>\n",
       "      <td>167.112475</td>\n",
       "      <td>169.075943</td>\n",
       "      <td>2932852</td>\n",
       "    </tr>\n",
       "  </tbody>\n",
       "</table>\n",
       "</div>"
      ],
      "text/plain": [
       "                 MSFT                                                   IBM  \\\n",
       "                 Open       High        Low      Close    Volume       Open   \n",
       "Date                                                                          \n",
       "2002-01-15  21.673272  21.976306  21.622765  21.954210  60717400  69.078452   \n",
       "2002-01-16  21.733247  22.045750  21.417586  21.423901  61955400  69.049196   \n",
       "2002-01-17  21.632232  22.096253  21.591197  22.052061  78958000  70.131747   \n",
       "\n",
       "                                                              F            \\\n",
       "                 High        Low      Close    Volume      Open      High   \n",
       "Date                                                                        \n",
       "2002-01-15  70.043970  68.885351  69.546585   5907703  8.648509  8.870412   \n",
       "2002-01-16  69.488069  68.610324  68.698097   5613150  8.477813  8.705406   \n",
       "2002-01-17  70.541358  68.616172  70.161003  11666770  8.506261  8.511951   \n",
       "\n",
       "                                                  GE                          \\\n",
       "                 Low     Close    Volume        Open        High         Low   \n",
       "Date                                                                           \n",
       "2002-01-15  8.483505  8.557472   9463000  164.930885  170.123150  163.927340   \n",
       "2002-01-16  8.449365  8.511952   7703100  167.548846  167.941547  164.538211   \n",
       "2002-01-17  8.244530  8.364016  13617400  169.730426  169.774048  167.112475   \n",
       "\n",
       "                                 \n",
       "                 Close   Volume  \n",
       "Date                             \n",
       "2002-01-15  168.901443  3386149  \n",
       "2002-01-16  164.581833  2976337  \n",
       "2002-01-17  169.075943  2932852  "
      ]
     },
     "execution_count": 88,
     "metadata": {},
     "output_type": "execute_result"
    }
   ],
   "source": [
    "data.head(3)"
   ]
  },
  {
   "cell_type": "code",
   "execution_count": 89,
   "metadata": {
    "slideshow": {
     "slide_type": "slide"
    }
   },
   "outputs": [
    {
     "data": {
      "text/plain": [
       "MultiIndex([('MSFT',   'Open'),\n",
       "            ('MSFT',   'High'),\n",
       "            ('MSFT',    'Low'),\n",
       "            ('MSFT',  'Close'),\n",
       "            ('MSFT', 'Volume'),\n",
       "            ( 'IBM',   'Open'),\n",
       "            ( 'IBM',   'High'),\n",
       "            ( 'IBM',    'Low'),\n",
       "            ( 'IBM',  'Close'),\n",
       "            ( 'IBM', 'Volume'),\n",
       "            (   'F',   'Open'),\n",
       "            (   'F',   'High'),\n",
       "            (   'F',    'Low'),\n",
       "            (   'F',  'Close'),\n",
       "            (   'F', 'Volume'),\n",
       "            (  'GE',   'Open'),\n",
       "            (  'GE',   'High'),\n",
       "            (  'GE',    'Low'),\n",
       "            (  'GE',  'Close'),\n",
       "            (  'GE', 'Volume')],\n",
       "           )"
      ]
     },
     "execution_count": 89,
     "metadata": {},
     "output_type": "execute_result"
    }
   ],
   "source": [
    "data.columns"
   ]
  },
  {
   "cell_type": "code",
   "execution_count": 90,
   "metadata": {
    "slideshow": {
     "slide_type": "slide"
    }
   },
   "outputs": [
    {
     "data": {
      "text/html": [
       "<div>\n",
       "<style scoped>\n",
       "    .dataframe tbody tr th:only-of-type {\n",
       "        vertical-align: middle;\n",
       "    }\n",
       "\n",
       "    .dataframe tbody tr th {\n",
       "        vertical-align: top;\n",
       "    }\n",
       "\n",
       "    .dataframe thead th {\n",
       "        text-align: right;\n",
       "    }\n",
       "</style>\n",
       "<table border=\"1\" class=\"dataframe\">\n",
       "  <thead>\n",
       "    <tr style=\"text-align: right;\">\n",
       "      <th></th>\n",
       "      <th>MSFT</th>\n",
       "      <th>GE</th>\n",
       "      <th>IBM</th>\n",
       "      <th>F</th>\n",
       "    </tr>\n",
       "    <tr>\n",
       "      <th>Date</th>\n",
       "      <th></th>\n",
       "      <th></th>\n",
       "      <th></th>\n",
       "      <th></th>\n",
       "    </tr>\n",
       "  </thead>\n",
       "  <tbody>\n",
       "    <tr>\n",
       "      <th>2002-01-15</th>\n",
       "      <td>21.954210</td>\n",
       "      <td>168.901443</td>\n",
       "      <td>69.546585</td>\n",
       "      <td>8.557472</td>\n",
       "    </tr>\n",
       "    <tr>\n",
       "      <th>2002-01-16</th>\n",
       "      <td>21.423901</td>\n",
       "      <td>164.581833</td>\n",
       "      <td>68.698097</td>\n",
       "      <td>8.511952</td>\n",
       "    </tr>\n",
       "    <tr>\n",
       "      <th>2002-01-17</th>\n",
       "      <td>22.052061</td>\n",
       "      <td>169.075943</td>\n",
       "      <td>70.161003</td>\n",
       "      <td>8.364016</td>\n",
       "    </tr>\n",
       "    <tr>\n",
       "      <th>2002-01-18</th>\n",
       "      <td>20.865179</td>\n",
       "      <td>168.770554</td>\n",
       "      <td>66.854813</td>\n",
       "      <td>8.250219</td>\n",
       "    </tr>\n",
       "    <tr>\n",
       "      <th>2002-01-22</th>\n",
       "      <td>20.347494</td>\n",
       "      <td>167.112473</td>\n",
       "      <td>64.660484</td>\n",
       "      <td>8.210389</td>\n",
       "    </tr>\n",
       "  </tbody>\n",
       "</table>\n",
       "</div>"
      ],
      "text/plain": [
       "                 MSFT          GE        IBM         F\n",
       "Date                                                  \n",
       "2002-01-15  21.954210  168.901443  69.546585  8.557472\n",
       "2002-01-16  21.423901  164.581833  68.698097  8.511952\n",
       "2002-01-17  22.052061  169.075943  70.161003  8.364016\n",
       "2002-01-18  20.865179  168.770554  66.854813  8.250219\n",
       "2002-01-22  20.347494  167.112473  64.660484  8.210389"
      ]
     },
     "execution_count": 90,
     "metadata": {},
     "output_type": "execute_result"
    }
   ],
   "source": [
    "market=pd.DataFrame()\n",
    "market[\"MSFT\"]=data[(\"MSFT\",\"Close\")]\n",
    "market[\"GE\"]=data[(\"GE\",\"Close\")]\n",
    "market[\"IBM\"]=data[(\"IBM\",\"Close\")]\n",
    "market[\"F\"]=data[(\"F\",\"Close\")]\n",
    "market.head(5)"
   ]
  },
  {
   "cell_type": "code",
   "execution_count": 91,
   "metadata": {
    "slideshow": {
     "slide_type": "slide"
    }
   },
   "outputs": [
    {
     "data": {
      "text/html": [
       "<div>\n",
       "<style scoped>\n",
       "    .dataframe tbody tr th:only-of-type {\n",
       "        vertical-align: middle;\n",
       "    }\n",
       "\n",
       "    .dataframe tbody tr th {\n",
       "        vertical-align: top;\n",
       "    }\n",
       "\n",
       "    .dataframe thead th {\n",
       "        text-align: right;\n",
       "    }\n",
       "</style>\n",
       "<table border=\"1\" class=\"dataframe\">\n",
       "  <thead>\n",
       "    <tr style=\"text-align: right;\">\n",
       "      <th></th>\n",
       "      <th>MSFT</th>\n",
       "      <th>GE</th>\n",
       "      <th>IBM</th>\n",
       "      <th>F</th>\n",
       "    </tr>\n",
       "    <tr>\n",
       "      <th>Date</th>\n",
       "      <th></th>\n",
       "      <th></th>\n",
       "      <th></th>\n",
       "      <th></th>\n",
       "    </tr>\n",
       "  </thead>\n",
       "  <tbody>\n",
       "    <tr>\n",
       "      <th>2021-11-16</th>\n",
       "      <td>1543.621976</td>\n",
       "      <td>61.189529</td>\n",
       "      <td>170.331870</td>\n",
       "      <td>230.101280</td>\n",
       "    </tr>\n",
       "    <tr>\n",
       "      <th>2021-11-17</th>\n",
       "      <td>1544.669522</td>\n",
       "      <td>60.384326</td>\n",
       "      <td>169.756714</td>\n",
       "      <td>232.077863</td>\n",
       "    </tr>\n",
       "    <tr>\n",
       "      <th>2021-11-18</th>\n",
       "      <td>1554.462605</td>\n",
       "      <td>59.602805</td>\n",
       "      <td>167.743684</td>\n",
       "      <td>228.572164</td>\n",
       "    </tr>\n",
       "    <tr>\n",
       "      <th>2021-11-19</th>\n",
       "      <td>1562.843668</td>\n",
       "      <td>59.182442</td>\n",
       "      <td>166.866573</td>\n",
       "      <td>226.585595</td>\n",
       "    </tr>\n",
       "    <tr>\n",
       "      <th>2021-11-22</th>\n",
       "      <td>1565.662841</td>\n",
       "      <td>60.117484</td>\n",
       "      <td>168.635165</td>\n",
       "      <td>241.718570</td>\n",
       "    </tr>\n",
       "  </tbody>\n",
       "</table>\n",
       "</div>"
      ],
      "text/plain": [
       "                   MSFT         GE         IBM           F\n",
       "Date                                                      \n",
       "2021-11-16  1543.621976  61.189529  170.331870  230.101280\n",
       "2021-11-17  1544.669522  60.384326  169.756714  232.077863\n",
       "2021-11-18  1554.462605  59.602805  167.743684  228.572164\n",
       "2021-11-19  1562.843668  59.182442  166.866573  226.585595\n",
       "2021-11-22  1565.662841  60.117484  168.635165  241.718570"
      ]
     },
     "execution_count": 91,
     "metadata": {},
     "output_type": "execute_result"
    }
   ],
   "source": [
    "normalized_market=100*market/market.iloc[0]\n",
    "normalized_market.tail(5)"
   ]
  },
  {
   "cell_type": "code",
   "execution_count": 92,
   "metadata": {
    "slideshow": {
     "slide_type": "slide"
    }
   },
   "outputs": [
    {
     "data": {
      "text/plain": [
       "<matplotlib.lines.Line2D at 0x1adc62815e0>"
      ]
     },
     "execution_count": 92,
     "metadata": {},
     "output_type": "execute_result"
    },
    {
     "data": {
      "image/png": "[encoded data removed]",
      "text/plain": [
       "<Figure size 1080x432 with 1 Axes>"
      ]
     },
     "metadata": {
      "needs_background": "light"
     },
     "output_type": "display_data"
    }
   ],
   "source": [
    "normalized_market.plot(figsize=(15,6))\n",
    "plt.axvline(pd.to_datetime(\"2008-09-15\"),color=\"red\")"
   ]
  },
  {
   "cell_type": "code",
   "execution_count": 93,
   "metadata": {
    "slideshow": {
     "slide_type": "slide"
    }
   },
   "outputs": [
    {
     "data": {
      "text/html": [
       "<div>\n",
       "<style scoped>\n",
       "    .dataframe tbody tr th:only-of-type {\n",
       "        vertical-align: middle;\n",
       "    }\n",
       "\n",
       "    .dataframe tbody tr th {\n",
       "        vertical-align: top;\n",
       "    }\n",
       "\n",
       "    .dataframe thead th {\n",
       "        text-align: right;\n",
       "    }\n",
       "</style>\n",
       "<table border=\"1\" class=\"dataframe\">\n",
       "  <thead>\n",
       "    <tr style=\"text-align: right;\">\n",
       "      <th></th>\n",
       "      <th>MSFT</th>\n",
       "      <th>GE</th>\n",
       "      <th>IBM</th>\n",
       "      <th>F</th>\n",
       "    </tr>\n",
       "    <tr>\n",
       "      <th>Date</th>\n",
       "      <th></th>\n",
       "      <th></th>\n",
       "      <th></th>\n",
       "      <th></th>\n",
       "    </tr>\n",
       "  </thead>\n",
       "  <tbody>\n",
       "    <tr>\n",
       "      <th>2002-01-15</th>\n",
       "      <td>NaN</td>\n",
       "      <td>NaN</td>\n",
       "      <td>NaN</td>\n",
       "      <td>NaN</td>\n",
       "    </tr>\n",
       "    <tr>\n",
       "      <th>2002-01-16</th>\n",
       "      <td>-0.024155</td>\n",
       "      <td>-0.025575</td>\n",
       "      <td>-0.012200</td>\n",
       "      <td>-0.005319</td>\n",
       "    </tr>\n",
       "    <tr>\n",
       "      <th>2002-01-17</th>\n",
       "      <td>0.029321</td>\n",
       "      <td>0.027306</td>\n",
       "      <td>0.021295</td>\n",
       "      <td>-0.017380</td>\n",
       "    </tr>\n",
       "    <tr>\n",
       "      <th>2002-01-18</th>\n",
       "      <td>-0.053822</td>\n",
       "      <td>-0.001806</td>\n",
       "      <td>-0.047123</td>\n",
       "      <td>-0.013605</td>\n",
       "    </tr>\n",
       "    <tr>\n",
       "      <th>2002-01-22</th>\n",
       "      <td>-0.024811</td>\n",
       "      <td>-0.009824</td>\n",
       "      <td>-0.032822</td>\n",
       "      <td>-0.004828</td>\n",
       "    </tr>\n",
       "  </tbody>\n",
       "</table>\n",
       "</div>"
      ],
      "text/plain": [
       "                MSFT        GE       IBM         F\n",
       "Date                                              \n",
       "2002-01-15       NaN       NaN       NaN       NaN\n",
       "2002-01-16 -0.024155 -0.025575 -0.012200 -0.005319\n",
       "2002-01-17  0.029321  0.027306  0.021295 -0.017380\n",
       "2002-01-18 -0.053822 -0.001806 -0.047123 -0.013605\n",
       "2002-01-22 -0.024811 -0.009824 -0.032822 -0.004828"
      ]
     },
     "execution_count": 93,
     "metadata": {},
     "output_type": "execute_result"
    }
   ],
   "source": [
    "returns=(market-market.shift(1))/market.shift(1)\n",
    "returns.head()"
   ]
  },
  {
   "cell_type": "markdown",
   "metadata": {
    "slideshow": {
     "slide_type": "slide"
    }
   },
   "source": [
    "**Market Index**"
   ]
  },
  {
   "cell_type": "markdown",
   "metadata": {
    "slideshow": {
     "slide_type": "slide"
    }
   },
   "source": [
    "A market index provides an idea about how a given stock market is performing. It represents a large\n",
    "enough sample of the overall number of stocks in that market and can be considered a good enough\n",
    "proxy of the overall development of the market."
   ]
  },
  {
   "cell_type": "markdown",
   "metadata": {
    "slideshow": {
     "slide_type": "slide"
    }
   },
   "source": [
    "A stock index gives you a sense of the type of return you can expect if you invest in a welldiversified portfolio in a given market."
   ]
  },
  {
   "cell_type": "code",
   "execution_count": 94,
   "metadata": {
    "slideshow": {
     "slide_type": "slide"
    }
   },
   "outputs": [
    {
     "name": "stdout",
     "output_type": "stream",
     "text": [
      "[*********************100%***********************]  4 of 4 completed\n"
     ]
    }
   ],
   "source": [
    "\n",
    "index_data = yf.download( \n",
    "        tickers =\"^GSPC,^IXIC,^GDAXI ,^FTSE\",\n",
    "        period = \"5000d\",\n",
    "        interval = \"1d\",\n",
    "        group_by = 'ticker',\n",
    "        auto_adjust = True,\n",
    "        prepost = True,\n",
    "        threads = True,\n",
    "        proxy = None\n",
    "    )"
   ]
  },
  {
   "cell_type": "code",
   "execution_count": 95,
   "metadata": {
    "slideshow": {
     "slide_type": "slide"
    }
   },
   "outputs": [
    {
     "data": {
      "text/html": [
       "<div>\n",
       "<style scoped>\n",
       "    .dataframe tbody tr th:only-of-type {\n",
       "        vertical-align: middle;\n",
       "    }\n",
       "\n",
       "    .dataframe tbody tr th {\n",
       "        vertical-align: top;\n",
       "    }\n",
       "\n",
       "    .dataframe thead tr th {\n",
       "        text-align: left;\n",
       "    }\n",
       "\n",
       "    .dataframe thead tr:last-of-type th {\n",
       "        text-align: right;\n",
       "    }\n",
       "</style>\n",
       "<table border=\"1\" class=\"dataframe\">\n",
       "  <thead>\n",
       "    <tr>\n",
       "      <th></th>\n",
       "      <th colspan=\"5\" halign=\"left\">^FTSE</th>\n",
       "      <th colspan=\"5\" halign=\"left\">^IXIC</th>\n",
       "      <th colspan=\"5\" halign=\"left\">^GDAXI</th>\n",
       "      <th colspan=\"5\" halign=\"left\">^GSPC</th>\n",
       "    </tr>\n",
       "    <tr>\n",
       "      <th></th>\n",
       "      <th>Open</th>\n",
       "      <th>High</th>\n",
       "      <th>Low</th>\n",
       "      <th>Close</th>\n",
       "      <th>Volume</th>\n",
       "      <th>Open</th>\n",
       "      <th>High</th>\n",
       "      <th>Low</th>\n",
       "      <th>Close</th>\n",
       "      <th>Volume</th>\n",
       "      <th>Open</th>\n",
       "      <th>High</th>\n",
       "      <th>Low</th>\n",
       "      <th>Close</th>\n",
       "      <th>Volume</th>\n",
       "      <th>Open</th>\n",
       "      <th>High</th>\n",
       "      <th>Low</th>\n",
       "      <th>Close</th>\n",
       "      <th>Volume</th>\n",
       "    </tr>\n",
       "    <tr>\n",
       "      <th>Date</th>\n",
       "      <th></th>\n",
       "      <th></th>\n",
       "      <th></th>\n",
       "      <th></th>\n",
       "      <th></th>\n",
       "      <th></th>\n",
       "      <th></th>\n",
       "      <th></th>\n",
       "      <th></th>\n",
       "      <th></th>\n",
       "      <th></th>\n",
       "      <th></th>\n",
       "      <th></th>\n",
       "      <th></th>\n",
       "      <th></th>\n",
       "      <th></th>\n",
       "      <th></th>\n",
       "      <th></th>\n",
       "      <th></th>\n",
       "      <th></th>\n",
       "    </tr>\n",
       "  </thead>\n",
       "  <tbody>\n",
       "    <tr>\n",
       "      <th>2002-01-15</th>\n",
       "      <td>NaN</td>\n",
       "      <td>NaN</td>\n",
       "      <td>NaN</td>\n",
       "      <td>NaN</td>\n",
       "      <td>NaN</td>\n",
       "      <td>1994.880005</td>\n",
       "      <td>2011.250000</td>\n",
       "      <td>1977.280029</td>\n",
       "      <td>2000.910034</td>\n",
       "      <td>1.675150e+09</td>\n",
       "      <td>NaN</td>\n",
       "      <td>NaN</td>\n",
       "      <td>NaN</td>\n",
       "      <td>NaN</td>\n",
       "      <td>NaN</td>\n",
       "      <td>1138.410034</td>\n",
       "      <td>1148.810059</td>\n",
       "      <td>1136.880005</td>\n",
       "      <td>1146.189941</td>\n",
       "      <td>1.386900e+09</td>\n",
       "    </tr>\n",
       "    <tr>\n",
       "      <th>2002-01-16</th>\n",
       "      <td>NaN</td>\n",
       "      <td>NaN</td>\n",
       "      <td>NaN</td>\n",
       "      <td>NaN</td>\n",
       "      <td>NaN</td>\n",
       "      <td>1976.420044</td>\n",
       "      <td>1981.810059</td>\n",
       "      <td>1944.319946</td>\n",
       "      <td>1944.439941</td>\n",
       "      <td>1.917270e+09</td>\n",
       "      <td>NaN</td>\n",
       "      <td>NaN</td>\n",
       "      <td>NaN</td>\n",
       "      <td>NaN</td>\n",
       "      <td>NaN</td>\n",
       "      <td>1146.189941</td>\n",
       "      <td>1146.189941</td>\n",
       "      <td>1127.489990</td>\n",
       "      <td>1127.569946</td>\n",
       "      <td>1.482500e+09</td>\n",
       "    </tr>\n",
       "    <tr>\n",
       "      <th>2002-01-17</th>\n",
       "      <td>NaN</td>\n",
       "      <td>NaN</td>\n",
       "      <td>NaN</td>\n",
       "      <td>NaN</td>\n",
       "      <td>NaN</td>\n",
       "      <td>1968.699951</td>\n",
       "      <td>1985.829956</td>\n",
       "      <td>1954.060059</td>\n",
       "      <td>1985.819946</td>\n",
       "      <td>1.893110e+09</td>\n",
       "      <td>NaN</td>\n",
       "      <td>NaN</td>\n",
       "      <td>NaN</td>\n",
       "      <td>NaN</td>\n",
       "      <td>NaN</td>\n",
       "      <td>1127.569946</td>\n",
       "      <td>1139.270020</td>\n",
       "      <td>1127.569946</td>\n",
       "      <td>1138.880005</td>\n",
       "      <td>1.380100e+09</td>\n",
       "    </tr>\n",
       "    <tr>\n",
       "      <th>2002-01-18</th>\n",
       "      <td>NaN</td>\n",
       "      <td>NaN</td>\n",
       "      <td>NaN</td>\n",
       "      <td>NaN</td>\n",
       "      <td>NaN</td>\n",
       "      <td>1943.560059</td>\n",
       "      <td>1964.739990</td>\n",
       "      <td>1922.699951</td>\n",
       "      <td>1930.339966</td>\n",
       "      <td>1.693010e+09</td>\n",
       "      <td>NaN</td>\n",
       "      <td>NaN</td>\n",
       "      <td>NaN</td>\n",
       "      <td>NaN</td>\n",
       "      <td>NaN</td>\n",
       "      <td>1138.880005</td>\n",
       "      <td>1138.880005</td>\n",
       "      <td>1124.449951</td>\n",
       "      <td>1127.579956</td>\n",
       "      <td>1.333300e+09</td>\n",
       "    </tr>\n",
       "    <tr>\n",
       "      <th>2002-01-22</th>\n",
       "      <td>NaN</td>\n",
       "      <td>NaN</td>\n",
       "      <td>NaN</td>\n",
       "      <td>NaN</td>\n",
       "      <td>NaN</td>\n",
       "      <td>1946.869995</td>\n",
       "      <td>1947.410034</td>\n",
       "      <td>1882.140015</td>\n",
       "      <td>1882.530029</td>\n",
       "      <td>1.817220e+09</td>\n",
       "      <td>NaN</td>\n",
       "      <td>NaN</td>\n",
       "      <td>NaN</td>\n",
       "      <td>NaN</td>\n",
       "      <td>NaN</td>\n",
       "      <td>1127.579956</td>\n",
       "      <td>1135.260010</td>\n",
       "      <td>1117.910034</td>\n",
       "      <td>1119.310059</td>\n",
       "      <td>1.311600e+09</td>\n",
       "    </tr>\n",
       "    <tr>\n",
       "      <th>2002-01-23</th>\n",
       "      <td>NaN</td>\n",
       "      <td>NaN</td>\n",
       "      <td>NaN</td>\n",
       "      <td>NaN</td>\n",
       "      <td>NaN</td>\n",
       "      <td>1889.530029</td>\n",
       "      <td>1925.150024</td>\n",
       "      <td>1879.239990</td>\n",
       "      <td>1922.380005</td>\n",
       "      <td>1.871120e+09</td>\n",
       "      <td>NaN</td>\n",
       "      <td>NaN</td>\n",
       "      <td>NaN</td>\n",
       "      <td>NaN</td>\n",
       "      <td>NaN</td>\n",
       "      <td>1119.310059</td>\n",
       "      <td>1131.939941</td>\n",
       "      <td>1117.430054</td>\n",
       "      <td>1128.180054</td>\n",
       "      <td>1.479200e+09</td>\n",
       "    </tr>\n",
       "    <tr>\n",
       "      <th>2002-01-24</th>\n",
       "      <td>NaN</td>\n",
       "      <td>NaN</td>\n",
       "      <td>NaN</td>\n",
       "      <td>NaN</td>\n",
       "      <td>NaN</td>\n",
       "      <td>1937.670044</td>\n",
       "      <td>1959.930054</td>\n",
       "      <td>1936.339966</td>\n",
       "      <td>1942.579956</td>\n",
       "      <td>1.907870e+09</td>\n",
       "      <td>NaN</td>\n",
       "      <td>NaN</td>\n",
       "      <td>NaN</td>\n",
       "      <td>NaN</td>\n",
       "      <td>NaN</td>\n",
       "      <td>1128.180054</td>\n",
       "      <td>1139.500000</td>\n",
       "      <td>1128.180054</td>\n",
       "      <td>1132.150024</td>\n",
       "      <td>1.552800e+09</td>\n",
       "    </tr>\n",
       "    <tr>\n",
       "      <th>2002-01-25</th>\n",
       "      <td>NaN</td>\n",
       "      <td>NaN</td>\n",
       "      <td>NaN</td>\n",
       "      <td>NaN</td>\n",
       "      <td>NaN</td>\n",
       "      <td>1929.150024</td>\n",
       "      <td>1951.790039</td>\n",
       "      <td>1923.060059</td>\n",
       "      <td>1937.699951</td>\n",
       "      <td>1.655310e+09</td>\n",
       "      <td>NaN</td>\n",
       "      <td>NaN</td>\n",
       "      <td>NaN</td>\n",
       "      <td>NaN</td>\n",
       "      <td>NaN</td>\n",
       "      <td>1132.150024</td>\n",
       "      <td>1138.310059</td>\n",
       "      <td>1127.819946</td>\n",
       "      <td>1133.280029</td>\n",
       "      <td>1.345100e+09</td>\n",
       "    </tr>\n",
       "    <tr>\n",
       "      <th>2002-01-28</th>\n",
       "      <td>NaN</td>\n",
       "      <td>NaN</td>\n",
       "      <td>NaN</td>\n",
       "      <td>NaN</td>\n",
       "      <td>NaN</td>\n",
       "      <td>1951.119995</td>\n",
       "      <td>1958.959961</td>\n",
       "      <td>1925.430054</td>\n",
       "      <td>1943.910034</td>\n",
       "      <td>1.482080e+09</td>\n",
       "      <td>NaN</td>\n",
       "      <td>NaN</td>\n",
       "      <td>NaN</td>\n",
       "      <td>NaN</td>\n",
       "      <td>NaN</td>\n",
       "      <td>1133.280029</td>\n",
       "      <td>1138.630005</td>\n",
       "      <td>1126.660034</td>\n",
       "      <td>1133.060059</td>\n",
       "      <td>1.186800e+09</td>\n",
       "    </tr>\n",
       "    <tr>\n",
       "      <th>2002-01-29</th>\n",
       "      <td>NaN</td>\n",
       "      <td>NaN</td>\n",
       "      <td>NaN</td>\n",
       "      <td>NaN</td>\n",
       "      <td>NaN</td>\n",
       "      <td>1947.089966</td>\n",
       "      <td>1959.050049</td>\n",
       "      <td>1883.489990</td>\n",
       "      <td>1892.989990</td>\n",
       "      <td>1.875380e+09</td>\n",
       "      <td>NaN</td>\n",
       "      <td>NaN</td>\n",
       "      <td>NaN</td>\n",
       "      <td>NaN</td>\n",
       "      <td>NaN</td>\n",
       "      <td>1133.060059</td>\n",
       "      <td>1137.469971</td>\n",
       "      <td>1098.739990</td>\n",
       "      <td>1100.640015</td>\n",
       "      <td>1.812000e+09</td>\n",
       "    </tr>\n",
       "  </tbody>\n",
       "</table>\n",
       "</div>"
      ],
      "text/plain": [
       "           ^FTSE                              ^IXIC                            \\\n",
       "            Open High Low Close Volume         Open         High          Low   \n",
       "Date                                                                            \n",
       "2002-01-15   NaN  NaN NaN   NaN    NaN  1994.880005  2011.250000  1977.280029   \n",
       "2002-01-16   NaN  NaN NaN   NaN    NaN  1976.420044  1981.810059  1944.319946   \n",
       "2002-01-17   NaN  NaN NaN   NaN    NaN  1968.699951  1985.829956  1954.060059   \n",
       "2002-01-18   NaN  NaN NaN   NaN    NaN  1943.560059  1964.739990  1922.699951   \n",
       "2002-01-22   NaN  NaN NaN   NaN    NaN  1946.869995  1947.410034  1882.140015   \n",
       "2002-01-23   NaN  NaN NaN   NaN    NaN  1889.530029  1925.150024  1879.239990   \n",
       "2002-01-24   NaN  NaN NaN   NaN    NaN  1937.670044  1959.930054  1936.339966   \n",
       "2002-01-25   NaN  NaN NaN   NaN    NaN  1929.150024  1951.790039  1923.060059   \n",
       "2002-01-28   NaN  NaN NaN   NaN    NaN  1951.119995  1958.959961  1925.430054   \n",
       "2002-01-29   NaN  NaN NaN   NaN    NaN  1947.089966  1959.050049  1883.489990   \n",
       "\n",
       "                                      ^GDAXI                        \\\n",
       "                  Close        Volume   Open High Low Close Volume   \n",
       "Date                                                                 \n",
       "2002-01-15  2000.910034  1.675150e+09    NaN  NaN NaN   NaN    NaN   \n",
       "2002-01-16  1944.439941  1.917270e+09    NaN  NaN NaN   NaN    NaN   \n",
       "2002-01-17  1985.819946  1.893110e+09    NaN  NaN NaN   NaN    NaN   \n",
       "2002-01-18  1930.339966  1.693010e+09    NaN  NaN NaN   NaN    NaN   \n",
       "2002-01-22  1882.530029  1.817220e+09    NaN  NaN NaN   NaN    NaN   \n",
       "2002-01-23  1922.380005  1.871120e+09    NaN  NaN NaN   NaN    NaN   \n",
       "2002-01-24  1942.579956  1.907870e+09    NaN  NaN NaN   NaN    NaN   \n",
       "2002-01-25  1937.699951  1.655310e+09    NaN  NaN NaN   NaN    NaN   \n",
       "2002-01-28  1943.910034  1.482080e+09    NaN  NaN NaN   NaN    NaN   \n",
       "2002-01-29  1892.989990  1.875380e+09    NaN  NaN NaN   NaN    NaN   \n",
       "\n",
       "                  ^GSPC                                                       \n",
       "                   Open         High          Low        Close        Volume  \n",
       "Date                                                                          \n",
       "2002-01-15  1138.410034  1148.810059  1136.880005  1146.189941  1.386900e+09  \n",
       "2002-01-16  1146.189941  1146.189941  1127.489990  1127.569946  1.482500e+09  \n",
       "2002-01-17  1127.569946  1139.270020  1127.569946  1138.880005  1.380100e+09  \n",
       "2002-01-18  1138.880005  1138.880005  1124.449951  1127.579956  1.333300e+09  \n",
       "2002-01-22  1127.579956  1135.260010  1117.910034  1119.310059  1.311600e+09  \n",
       "2002-01-23  1119.310059  1131.939941  1117.430054  1128.180054  1.479200e+09  \n",
       "2002-01-24  1128.180054  1139.500000  1128.180054  1132.150024  1.552800e+09  \n",
       "2002-01-25  1132.150024  1138.310059  1127.819946  1133.280029  1.345100e+09  \n",
       "2002-01-28  1133.280029  1138.630005  1126.660034  1133.060059  1.186800e+09  \n",
       "2002-01-29  1133.060059  1137.469971  1098.739990  1100.640015  1.812000e+09  "
      ]
     },
     "execution_count": 95,
     "metadata": {},
     "output_type": "execute_result"
    }
   ],
   "source": [
    "index_data.head(10)"
   ]
  },
  {
   "cell_type": "code",
   "execution_count": 96,
   "metadata": {
    "slideshow": {
     "slide_type": "slide"
    }
   },
   "outputs": [],
   "source": [
    "ind=pd.DataFrame()\n",
    "ind[\"SP500\"]=index_data[(\"^GSPC\",\"Close\")]\n",
    "ind[\"FTSE\"]=index_data[(\"^FTSE\",\"Close\")]\n",
    "ind[\"DAX\"]=index_data[(\"^GDAXI\",\"Close\")]\n",
    "ind[\"NASDAQ\"]=index_data[(\"^IXIC\",\"Close\")]\n",
    "ind=ind.dropna(axis=0)"
   ]
  },
  {
   "cell_type": "code",
   "execution_count": 97,
   "metadata": {
    "slideshow": {
     "slide_type": "slide"
    }
   },
   "outputs": [
    {
     "data": {
      "image/png": "[encoded data removed]",
      "text/plain": [
       "<Figure size 1080x432 with 1 Axes>"
      ]
     },
     "metadata": {
      "needs_background": "light"
     },
     "output_type": "display_data"
    }
   ],
   "source": [
    "(ind/ind.iloc[0]*100).plot(figsize=(15,6))\n",
    "plt.axvline(pd.to_datetime(\"2012-8-5\"),color=\"purple\")\n",
    "plt.show()"
   ]
  },
  {
   "cell_type": "code",
   "execution_count": 98,
   "metadata": {
    "slideshow": {
     "slide_type": "slide"
    }
   },
   "outputs": [
    {
     "data": {
      "text/html": [
       "<div>\n",
       "<style scoped>\n",
       "    .dataframe tbody tr th:only-of-type {\n",
       "        vertical-align: middle;\n",
       "    }\n",
       "\n",
       "    .dataframe tbody tr th {\n",
       "        vertical-align: top;\n",
       "    }\n",
       "\n",
       "    .dataframe thead th {\n",
       "        text-align: right;\n",
       "    }\n",
       "</style>\n",
       "<table border=\"1\" class=\"dataframe\">\n",
       "  <thead>\n",
       "    <tr style=\"text-align: right;\">\n",
       "      <th></th>\n",
       "      <th>SP500</th>\n",
       "      <th>FTSE</th>\n",
       "      <th>DAX</th>\n",
       "      <th>NASDAQ</th>\n",
       "    </tr>\n",
       "    <tr>\n",
       "      <th>Date</th>\n",
       "      <th></th>\n",
       "      <th></th>\n",
       "      <th></th>\n",
       "      <th></th>\n",
       "    </tr>\n",
       "  </thead>\n",
       "  <tbody>\n",
       "    <tr>\n",
       "      <th>2002-04-18</th>\n",
       "      <td>NaN</td>\n",
       "      <td>NaN</td>\n",
       "      <td>NaN</td>\n",
       "      <td>NaN</td>\n",
       "    </tr>\n",
       "    <tr>\n",
       "      <th>2002-04-19</th>\n",
       "      <td>0.000623</td>\n",
       "      <td>0.002715</td>\n",
       "      <td>0.004118</td>\n",
       "      <td>-0.003107</td>\n",
       "    </tr>\n",
       "    <tr>\n",
       "      <th>2002-04-22</th>\n",
       "      <td>-0.015411</td>\n",
       "      <td>-0.004215</td>\n",
       "      <td>-0.014962</td>\n",
       "      <td>-0.021232</td>\n",
       "    </tr>\n",
       "    <tr>\n",
       "      <th>2002-04-23</th>\n",
       "      <td>-0.006201</td>\n",
       "      <td>-0.005841</td>\n",
       "      <td>-0.002570</td>\n",
       "      <td>-0.016143</td>\n",
       "    </tr>\n",
       "    <tr>\n",
       "      <th>2002-04-24</th>\n",
       "      <td>-0.007103</td>\n",
       "      <td>0.005240</td>\n",
       "      <td>-0.006155</td>\n",
       "      <td>-0.009796</td>\n",
       "    </tr>\n",
       "  </tbody>\n",
       "</table>\n",
       "</div>"
      ],
      "text/plain": [
       "               SP500      FTSE       DAX    NASDAQ\n",
       "Date                                              \n",
       "2002-04-18       NaN       NaN       NaN       NaN\n",
       "2002-04-19  0.000623  0.002715  0.004118 -0.003107\n",
       "2002-04-22 -0.015411 -0.004215 -0.014962 -0.021232\n",
       "2002-04-23 -0.006201 -0.005841 -0.002570 -0.016143\n",
       "2002-04-24 -0.007103  0.005240 -0.006155 -0.009796"
      ]
     },
     "execution_count": 98,
     "metadata": {},
     "output_type": "execute_result"
    }
   ],
   "source": [
    "ind_returns=(ind-ind.shift(1))/ind.shift(1)\n",
    "ind_returns.head()"
   ]
  },
  {
   "cell_type": "code",
   "execution_count": 99,
   "metadata": {
    "slideshow": {
     "slide_type": "slide"
    }
   },
   "outputs": [
    {
     "data": {
      "text/plain": [
       "SP500     0.094161\n",
       "FTSE      0.035004\n",
       "DAX       0.085822\n",
       "NASDAQ    0.138342\n",
       "dtype: float64"
      ]
     },
     "execution_count": 99,
     "metadata": {},
     "output_type": "execute_result"
    }
   ],
   "source": [
    "annual_index_returns=ind_returns.mean()*250\n",
    "annual_index_returns"
   ]
  }
 ],
 "metadata": {
  "celltoolbar": "Slideshow",
  "kernelspec": {
   "display_name": "Python 3",
   "language": "python",
   "name": "python3"
  },
  "language_info": {
   "codemirror_mode": {
    "name": "ipython",
    "version": 3
   },
   "file_extension": ".py",
   "mimetype": "text/x-python",
   "name": "python",
   "nbconvert_exporter": "python",
   "pygments_lexer": "ipython3",
   "version": "3.8.8"
  },
  "toc": {
   "base_numbering": 1,
   "nav_menu": {
    "height": "419px",
    "width": "598px"
   },
   "number_sections": true,
   "sideBar": false,
   "skip_h1_title": false,
   "title_cell": "Table of Contents",
   "title_sidebar": "Contents",
   "toc_cell": true,
   "toc_position": {
    "height": "1001.66px",
    "left": "630px",
    "top": "0px",
    "width": "263.193px"
   },
   "toc_section_display": false,
   "toc_window_display": false
  }
 },
 "nbformat": 4,
 "nbformat_minor": 4
}
