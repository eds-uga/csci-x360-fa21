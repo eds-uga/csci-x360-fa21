{
 "cells": [
  {
   "cell_type": "markdown",
   "id": "d5fe3933",
   "metadata": {},
   "source": [
    "# Decision Tree - Diabetes Dataset"
   ]
  },
  {
   "cell_type": "code",
   "execution_count": null,
   "id": "8a763655",
   "metadata": {},
   "outputs": [],
   "source": [
    "# import Pkg; Pkg.add(\"CSV\")\n",
    "# import Pkg; Pkg.add(\"DataFrames\")\n",
    "# import Pkg; Pkg.add(\"Lathe\")\n",
    "# import Pkg; Pkg.add(\"DecisionTree\")"
   ]
  },
  {
   "cell_type": "code",
   "execution_count": 277,
   "id": "c1be669d",
   "metadata": {},
   "outputs": [],
   "source": [
    "using CSV, DataFrames, DecisionTree"
   ]
  },
  {
   "cell_type": "code",
   "execution_count": 278,
   "id": "816a71ab",
   "metadata": {},
   "outputs": [
    {
     "data": {
      "text/html": [
       "<table class=\"data-frame\"><thead><tr><th></th><th>Age</th><th>Gender</th><th>Polyuria</th><th>Polydipsia</th><th>sudden weight loss</th><th>weakness</th><th>Polyphagia</th></tr><tr><th></th><th>Int64</th><th>String7</th><th>String3</th><th>String3</th><th>String3</th><th>String3</th><th>String3</th></tr></thead><tbody><p>516 rows × 17 columns (omitted printing of 10 columns)</p><tr><th>1</th><td>40</td><td>Male</td><td>No</td><td>Yes</td><td>No</td><td>Yes</td><td>No</td></tr><tr><th>2</th><td>58</td><td>Male</td><td>No</td><td>No</td><td>No</td><td>Yes</td><td>No</td></tr><tr><th>3</th><td>41</td><td>Male</td><td>Yes</td><td>No</td><td>No</td><td>Yes</td><td>Yes</td></tr><tr><th>4</th><td>45</td><td>Male</td><td>No</td><td>No</td><td>Yes</td><td>Yes</td><td>Yes</td></tr><tr><th>5</th><td>60</td><td>Male</td><td>Yes</td><td>Yes</td><td>Yes</td><td>Yes</td><td>Yes</td></tr><tr><th>6</th><td>55</td><td>Male</td><td>Yes</td><td>Yes</td><td>No</td><td>Yes</td><td>Yes</td></tr><tr><th>7</th><td>57</td><td>Male</td><td>Yes</td><td>Yes</td><td>No</td><td>Yes</td><td>Yes</td></tr><tr><th>8</th><td>66</td><td>Male</td><td>Yes</td><td>Yes</td><td>Yes</td><td>Yes</td><td>No</td></tr><tr><th>9</th><td>67</td><td>Male</td><td>Yes</td><td>Yes</td><td>No</td><td>Yes</td><td>Yes</td></tr><tr><th>10</th><td>70</td><td>Male</td><td>No</td><td>Yes</td><td>Yes</td><td>Yes</td><td>Yes</td></tr><tr><th>11</th><td>44</td><td>Male</td><td>Yes</td><td>Yes</td><td>No</td><td>Yes</td><td>No</td></tr><tr><th>12</th><td>38</td><td>Male</td><td>Yes</td><td>Yes</td><td>No</td><td>No</td><td>Yes</td></tr><tr><th>13</th><td>35</td><td>Male</td><td>Yes</td><td>No</td><td>No</td><td>No</td><td>Yes</td></tr><tr><th>14</th><td>61</td><td>Male</td><td>Yes</td><td>Yes</td><td>Yes</td><td>Yes</td><td>Yes</td></tr><tr><th>15</th><td>60</td><td>Male</td><td>Yes</td><td>Yes</td><td>No</td><td>Yes</td><td>Yes</td></tr><tr><th>16</th><td>58</td><td>Male</td><td>Yes</td><td>Yes</td><td>No</td><td>Yes</td><td>Yes</td></tr><tr><th>17</th><td>54</td><td>Male</td><td>Yes</td><td>Yes</td><td>Yes</td><td>Yes</td><td>No</td></tr><tr><th>18</th><td>67</td><td>Male</td><td>No</td><td>Yes</td><td>No</td><td>Yes</td><td>Yes</td></tr><tr><th>19</th><td>66</td><td>Male</td><td>Yes</td><td>Yes</td><td>No</td><td>Yes</td><td>Yes</td></tr><tr><th>20</th><td>43</td><td>Male</td><td>Yes</td><td>Yes</td><td>Yes</td><td>Yes</td><td>No</td></tr><tr><th>21</th><td>62</td><td>Male</td><td>Yes</td><td>Yes</td><td>No</td><td>Yes</td><td>Yes</td></tr><tr><th>22</th><td>54</td><td>Male</td><td>Yes</td><td>Yes</td><td>Yes</td><td>Yes</td><td>Yes</td></tr><tr><th>23</th><td>39</td><td>Male</td><td>Yes</td><td>No</td><td>Yes</td><td>No</td><td>No</td></tr><tr><th>24</th><td>48</td><td>Male</td><td>No</td><td>Yes</td><td>Yes</td><td>Yes</td><td>No</td></tr><tr><th>25</th><td>58</td><td>Male</td><td>Yes</td><td>Yes</td><td>Yes</td><td>Yes</td><td>Yes</td></tr><tr><th>26</th><td>32</td><td>Male</td><td>No</td><td>No</td><td>No</td><td>No</td><td>No</td></tr><tr><th>27</th><td>42</td><td>Male</td><td>No</td><td>No</td><td>No</td><td>Yes</td><td>Yes</td></tr><tr><th>28</th><td>52</td><td>Male</td><td>Yes</td><td>Yes</td><td>Yes</td><td>Yes</td><td>Yes</td></tr><tr><th>29</th><td>38</td><td>Male</td><td>No</td><td>Yes</td><td>No</td><td>No</td><td>No</td></tr><tr><th>30</th><td>53</td><td>Male</td><td>Yes</td><td>Yes</td><td>Yes</td><td>Yes</td><td>Yes</td></tr><tr><th>&vellip;</th><td>&vellip;</td><td>&vellip;</td><td>&vellip;</td><td>&vellip;</td><td>&vellip;</td><td>&vellip;</td><td>&vellip;</td></tr></tbody></table>"
      ],
      "text/latex": [
       "\\begin{tabular}{r|cccccccc}\n",
       "\t& Age & Gender & Polyuria & Polydipsia & sudden weight loss & weakness & Polyphagia & \\\\\n",
       "\t\\hline\n",
       "\t& Int64 & String7 & String3 & String3 & String3 & String3 & String3 & \\\\\n",
       "\t\\hline\n",
       "\t1 & 40 & Male & No & Yes & No & Yes & No & $\\dots$ \\\\\n",
       "\t2 & 58 & Male & No & No & No & Yes & No & $\\dots$ \\\\\n",
       "\t3 & 41 & Male & Yes & No & No & Yes & Yes & $\\dots$ \\\\\n",
       "\t4 & 45 & Male & No & No & Yes & Yes & Yes & $\\dots$ \\\\\n",
       "\t5 & 60 & Male & Yes & Yes & Yes & Yes & Yes & $\\dots$ \\\\\n",
       "\t6 & 55 & Male & Yes & Yes & No & Yes & Yes & $\\dots$ \\\\\n",
       "\t7 & 57 & Male & Yes & Yes & No & Yes & Yes & $\\dots$ \\\\\n",
       "\t8 & 66 & Male & Yes & Yes & Yes & Yes & No & $\\dots$ \\\\\n",
       "\t9 & 67 & Male & Yes & Yes & No & Yes & Yes & $\\dots$ \\\\\n",
       "\t10 & 70 & Male & No & Yes & Yes & Yes & Yes & $\\dots$ \\\\\n",
       "\t11 & 44 & Male & Yes & Yes & No & Yes & No & $\\dots$ \\\\\n",
       "\t12 & 38 & Male & Yes & Yes & No & No & Yes & $\\dots$ \\\\\n",
       "\t13 & 35 & Male & Yes & No & No & No & Yes & $\\dots$ \\\\\n",
       "\t14 & 61 & Male & Yes & Yes & Yes & Yes & Yes & $\\dots$ \\\\\n",
       "\t15 & 60 & Male & Yes & Yes & No & Yes & Yes & $\\dots$ \\\\\n",
       "\t16 & 58 & Male & Yes & Yes & No & Yes & Yes & $\\dots$ \\\\\n",
       "\t17 & 54 & Male & Yes & Yes & Yes & Yes & No & $\\dots$ \\\\\n",
       "\t18 & 67 & Male & No & Yes & No & Yes & Yes & $\\dots$ \\\\\n",
       "\t19 & 66 & Male & Yes & Yes & No & Yes & Yes & $\\dots$ \\\\\n",
       "\t20 & 43 & Male & Yes & Yes & Yes & Yes & No & $\\dots$ \\\\\n",
       "\t21 & 62 & Male & Yes & Yes & No & Yes & Yes & $\\dots$ \\\\\n",
       "\t22 & 54 & Male & Yes & Yes & Yes & Yes & Yes & $\\dots$ \\\\\n",
       "\t23 & 39 & Male & Yes & No & Yes & No & No & $\\dots$ \\\\\n",
       "\t24 & 48 & Male & No & Yes & Yes & Yes & No & $\\dots$ \\\\\n",
       "\t25 & 58 & Male & Yes & Yes & Yes & Yes & Yes & $\\dots$ \\\\\n",
       "\t26 & 32 & Male & No & No & No & No & No & $\\dots$ \\\\\n",
       "\t27 & 42 & Male & No & No & No & Yes & Yes & $\\dots$ \\\\\n",
       "\t28 & 52 & Male & Yes & Yes & Yes & Yes & Yes & $\\dots$ \\\\\n",
       "\t29 & 38 & Male & No & Yes & No & No & No & $\\dots$ \\\\\n",
       "\t30 & 53 & Male & Yes & Yes & Yes & Yes & Yes & $\\dots$ \\\\\n",
       "\t$\\dots$ & $\\dots$ & $\\dots$ & $\\dots$ & $\\dots$ & $\\dots$ & $\\dots$ & $\\dots$ &  \\\\\n",
       "\\end{tabular}\n"
      ],
      "text/plain": [
       "\u001b[1m516×17 DataFrame\u001b[0m\n",
       "\u001b[1m Row \u001b[0m│\u001b[1m Age   \u001b[0m\u001b[1m Gender  \u001b[0m\u001b[1m Polyuria \u001b[0m\u001b[1m Polydipsia \u001b[0m\u001b[1m sudden weight loss \u001b[0m\u001b[1m weakness \u001b[0m\u001b[1m Pol\u001b[0m ⋯\n",
       "\u001b[1m     \u001b[0m│\u001b[90m Int64 \u001b[0m\u001b[90m String7 \u001b[0m\u001b[90m String3  \u001b[0m\u001b[90m String3    \u001b[0m\u001b[90m String3            \u001b[0m\u001b[90m String3  \u001b[0m\u001b[90m Str\u001b[0m ⋯\n",
       "─────┼──────────────────────────────────────────────────────────────────────────\n",
       "   1 │    40  Male     No        Yes         No                  Yes       No  ⋯\n",
       "   2 │    58  Male     No        No          No                  Yes       No\n",
       "   3 │    41  Male     Yes       No          No                  Yes       Yes\n",
       "   4 │    45  Male     No        No          Yes                 Yes       Yes\n",
       "   5 │    60  Male     Yes       Yes         Yes                 Yes       Yes ⋯\n",
       "   6 │    55  Male     Yes       Yes         No                  Yes       Yes\n",
       "   7 │    57  Male     Yes       Yes         No                  Yes       Yes\n",
       "   8 │    66  Male     Yes       Yes         Yes                 Yes       No\n",
       "   9 │    67  Male     Yes       Yes         No                  Yes       Yes ⋯\n",
       "  10 │    70  Male     No        Yes         Yes                 Yes       Yes\n",
       "  11 │    44  Male     Yes       Yes         No                  Yes       No\n",
       "  ⋮  │   ⋮       ⋮        ⋮          ⋮               ⋮              ⋮          ⋱\n",
       " 507 │    61  Male     No        No          No                  Yes       No\n",
       " 508 │    60  Male     No        No          Yes                 No        No  ⋯\n",
       " 509 │    58  Male     No        No          No                  Yes       No\n",
       " 510 │    54  Male     No        No          No                  No        No\n",
       " 511 │    67  Male     No        No          No                  Yes       No\n",
       " 512 │    66  Male     No        No          No                  Yes       Yes ⋯\n",
       " 513 │    43  Male     No        No          No                  No        No\n",
       " 514 │    62  Female   Yes       Yes         Yes                 Yes       No\n",
       " 515 │    54  Female   Yes       Yes         Yes                 Yes       Yes\n",
       " 516 │    39  Female   Yes       Yes         Yes                 No        Yes ⋯\n",
       "\u001b[36m                                                 11 columns and 495 rows omitted\u001b[0m"
      ]
     },
     "execution_count": 278,
     "metadata": {},
     "output_type": "execute_result"
    }
   ],
   "source": [
    "diabetes = DataFrame(CSV.File(\"data/diabetes_data.csv\"))"
   ]
  },
  {
   "cell_type": "code",
   "execution_count": 279,
   "id": "56ea7304",
   "metadata": {},
   "outputs": [],
   "source": [
    "features = convert(Array, diabetes[:, 1:end-1]);\n",
    "labels = convert(Array, diabetes[:, end]);"
   ]
  },
  {
   "cell_type": "code",
   "execution_count": 280,
   "id": "ea68931e",
   "metadata": {},
   "outputs": [
    {
     "data": {
      "text/plain": [
       "Decision Tree\n",
       "Leaves: 32\n",
       "Depth:  8"
      ]
     },
     "execution_count": 280,
     "metadata": {},
     "output_type": "execute_result"
    }
   ],
   "source": [
    "# Training the model\n",
    "model = build_tree(labels, features)"
   ]
  },
  {
   "cell_type": "code",
   "execution_count": 281,
   "id": "ede6a310",
   "metadata": {},
   "outputs": [
    {
     "data": {
      "text/plain": [
       "Decision Tree\n",
       "Leaves: 31\n",
       "Depth:  8"
      ]
     },
     "execution_count": 281,
     "metadata": {},
     "output_type": "execute_result"
    }
   ],
   "source": [
    "# Pruning\n",
    "# merge leaves having >= 90% combined purity\n",
    "model = prune_tree(model, 0.9)"
   ]
  },
  {
   "cell_type": "code",
   "execution_count": 282,
   "id": "82367778",
   "metadata": {},
   "outputs": [
    {
     "name": "stdout",
     "output_type": "stream",
     "text": [
      "Feature 3, Threshold Yes\n",
      "L-> Feature 2, Threshold Male\n",
      "    L-> Feature 15, Threshold Yes\n",
      "        L-> Feature 1, Threshold 37.0\n",
      "            L-> Feature 14, Threshold Yes\n",
      "                L-> Feature 1, Threshold 34.5\n",
      "                    L-> Negative : 5/5\n",
      "                    R-> Feature 11, Threshold Yes\n",
      "                        L-> Positive : 6/6\n",
      "                        R-> Negative : 1/1\n",
      "                R-> Positive : 6/6\n",
      "            R-> Positive : 29/29\n",
      "        R-> Feature 12, Threshold Yes\n",
      "            L-> Positive : 3/3\n",
      "            R-> Negative : 12/12\n",
      "    R-> Feature 4, Threshold Yes\n",
      "        L-> Feature 11, Threshold Yes\n",
      "            L-> Feature 6, Threshold Yes\n",
      "                L-> Negative : 87/88\n",
      "                R-> Feature 10, Threshold Yes\n",
      "                    L-> Feature 15, Threshold Yes\n",
      "                        L-> Negative : 10/10\n",
      "                        R-> Feature 8, Threshold Yes\n",
      "                            L-> Positive : 4/4\n",
      "                            R-> Negative : 3/3\n",
      "                    R-> Feature 15, Threshold Yes\n",
      "                        L-> Feature 1, Threshold 50.0\n",
      "                            L-> Positive : 1/1\n",
      "                            R-> Negative : 1/1\n",
      "                        R-> Negative : 45/45\n",
      "            R-> Feature 8, Threshold Yes\n",
      "                L-> Feature 1, Threshold 42.5\n",
      "                    L-> Feature 7, Threshold Yes\n",
      "                        L-> Negative : 1/1\n",
      "                        R-> Positive : 2/2\n",
      "                    R-> Negative : 10/10\n",
      "                R-> Positive : 5/5\n",
      "        R-> Feature 11, Threshold Yes\n",
      "            L-> Feature 14, Threshold Yes\n",
      "                L-> Feature 1, Threshold 48.0\n",
      "                    L-> Positive : 6/6\n",
      "                    R-> Feature 6, Threshold Yes\n",
      "                        L-> Negative : 1/1\n",
      "                        R-> Positive : 2/2\n",
      "                R-> Feature 9, Threshold Yes\n",
      "                    L-> Positive : 1/1\n",
      "                    R-> Negative : 7/7\n",
      "            R-> Positive : 11/11\n",
      "R-> Feature 4, Threshold Yes\n",
      "    L-> Feature 10, Threshold Yes\n",
      "        L-> Positive : 30/30\n",
      "        R-> Feature 12, Threshold Yes\n",
      "            L-> Positive : 11/11\n",
      "            R-> Feature 15, Threshold Yes\n",
      "                L-> Positive : 5/5\n",
      "                R-> Feature 1, Threshold 42.5\n",
      "                    L-> Positive : 2/2\n",
      "                    R-> Feature 2, Threshold Male\n",
      "                        L-> Positive : 2/2\n",
      "                        R-> Negative : 15/15\n",
      "    R-> Positive : 191/191\n"
     ]
    }
   ],
   "source": [
    "print_tree(model)"
   ]
  },
  {
   "cell_type": "code",
   "execution_count": 283,
   "id": "70851a7f",
   "metadata": {},
   "outputs": [
    {
     "data": {
      "text/plain": [
       "2×2 Matrix{Int64}:\n",
       " 43   4\n",
       "  2  80"
      ]
     },
     "metadata": {},
     "output_type": "display_data"
    },
    {
     "data": {
      "text/plain": [
       "2×2 Matrix{Int64}:\n",
       " 45   4\n",
       "  3  77"
      ]
     },
     "metadata": {},
     "output_type": "display_data"
    },
    {
     "name": "stdout",
     "output_type": "stream",
     "text": [
      "\n",
      "Fold 1\n",
      "Classes:  String15[\"Negative\", \"Positive\"]\n",
      "Matrix:   \n",
      "Accuracy: 0.9534883720930233\n",
      "Kappa:    0.8986645718774549\n",
      "\n",
      "Fold 2\n",
      "Classes:  String15[\"Negative\", \"Positive\"]\n",
      "Matrix:   \n",
      "Accuracy: 0.9457364341085271\n",
      "Kappa:    0.8843641951594314\n"
     ]
    },
    {
     "data": {
      "text/plain": [
       "2×2 Matrix{Int64}:\n",
       " 52   1\n",
       "  5  71"
      ]
     },
     "metadata": {},
     "output_type": "display_data"
    },
    {
     "data": {
      "text/plain": [
       "2×2 Matrix{Int64}:\n",
       " 46   3\n",
       "  1  79"
      ]
     },
     "metadata": {},
     "output_type": "display_data"
    },
    {
     "name": "stdout",
     "output_type": "stream",
     "text": [
      "\n",
      "Fold 3\n",
      "Classes:  String15[\"Negative\", \"Positive\"]\n",
      "Matrix:   \n",
      "Accuracy: 0.9534883720930233\n",
      "Kappa:    0.9050073637702504\n",
      "\n",
      "Fold 4\n",
      "Classes:  String15[\"Negative\", \"Positive\"]\n",
      "Matrix:   \n",
      "Accuracy: 0.9689922480620154\n",
      "Kappa:    0.933659038313191\n",
      "\n",
      "Mean Accuracy: 0.9554263565891473\n"
     ]
    },
    {
     "data": {
      "text/plain": [
       "4-element Vector{Float64}:\n",
       " 0.9534883720930233\n",
       " 0.9457364341085271\n",
       " 0.9534883720930233\n",
       " 0.9689922480620154"
      ]
     },
     "execution_count": 283,
     "metadata": {},
     "output_type": "execute_result"
    }
   ],
   "source": [
    "nfoldCV_tree(labels, features,4)"
   ]
  },
  {
   "cell_type": "code",
   "execution_count": 284,
   "id": "ec9cf180",
   "metadata": {},
   "outputs": [
    {
     "data": {
      "text/html": [
       "<table class=\"data-frame\"><thead><tr><th></th><th>Age</th><th>Gender</th><th>Polyuria</th><th>Polydipsia</th><th>sudden weight loss</th><th>weakness</th><th>Polyphagia</th></tr><tr><th></th><th>Int64</th><th>String7</th><th>String3</th><th>String3</th><th>String3</th><th>String3</th><th>String3</th></tr></thead><tbody><p>4 rows × 17 columns (omitted printing of 10 columns)</p><tr><th>1</th><td>48</td><td>Female</td><td>Yes</td><td>Yes</td><td>Yes</td><td>Yes</td><td>Yes</td></tr><tr><th>2</th><td>58</td><td>Female</td><td>Yes</td><td>Yes</td><td>Yes</td><td>Yes</td><td>Yes</td></tr><tr><th>3</th><td>32</td><td>Female</td><td>No</td><td>No</td><td>No</td><td>Yes</td><td>No</td></tr><tr><th>4</th><td>42</td><td>Male</td><td>No</td><td>No</td><td>No</td><td>No</td><td>No</td></tr></tbody></table>"
      ],
      "text/latex": [
       "\\begin{tabular}{r|cccccccc}\n",
       "\t& Age & Gender & Polyuria & Polydipsia & sudden weight loss & weakness & Polyphagia & \\\\\n",
       "\t\\hline\n",
       "\t& Int64 & String7 & String3 & String3 & String3 & String3 & String3 & \\\\\n",
       "\t\\hline\n",
       "\t1 & 48 & Female & Yes & Yes & Yes & Yes & Yes & $\\dots$ \\\\\n",
       "\t2 & 58 & Female & Yes & Yes & Yes & Yes & Yes & $\\dots$ \\\\\n",
       "\t3 & 32 & Female & No & No & No & Yes & No & $\\dots$ \\\\\n",
       "\t4 & 42 & Male & No & No & No & No & No & $\\dots$ \\\\\n",
       "\\end{tabular}\n"
      ],
      "text/plain": [
       "\u001b[1m4×17 DataFrame\u001b[0m\n",
       "\u001b[1m Row \u001b[0m│\u001b[1m Age   \u001b[0m\u001b[1m Gender  \u001b[0m\u001b[1m Polyuria \u001b[0m\u001b[1m Polydipsia \u001b[0m\u001b[1m sudden weight loss \u001b[0m\u001b[1m weakness \u001b[0m\u001b[1m Pol\u001b[0m ⋯\n",
       "\u001b[1m     \u001b[0m│\u001b[90m Int64 \u001b[0m\u001b[90m String7 \u001b[0m\u001b[90m String3  \u001b[0m\u001b[90m String3    \u001b[0m\u001b[90m String3            \u001b[0m\u001b[90m String3  \u001b[0m\u001b[90m Str\u001b[0m ⋯\n",
       "─────┼──────────────────────────────────────────────────────────────────────────\n",
       "   1 │    48  Female   Yes       Yes         Yes                 Yes       Yes ⋯\n",
       "   2 │    58  Female   Yes       Yes         Yes                 Yes       Yes\n",
       "   3 │    32  Female   No        No          No                  Yes       No\n",
       "   4 │    42  Male     No        No          No                  No        No\n",
       "\u001b[36m                                                              11 columns omitted\u001b[0m"
      ]
     },
     "execution_count": 284,
     "metadata": {},
     "output_type": "execute_result"
    }
   ],
   "source": [
    "test = DataFrame(CSV.File(\"data/test.csv\"))"
   ]
  },
  {
   "cell_type": "code",
   "execution_count": 285,
   "id": "31523d97",
   "metadata": {},
   "outputs": [
    {
     "data": {
      "text/plain": [
       "4-element PooledArrays.PooledVector{String15, UInt32, Vector{UInt32}}:\n",
       " \"Positive\"\n",
       " \"Positive\"\n",
       " \"Negative\"\n",
       " \"Negative\""
      ]
     },
     "execution_count": 285,
     "metadata": {},
     "output_type": "execute_result"
    }
   ],
   "source": [
    "t_features = test[!,1:end-1]\n",
    "t_labels = test[!,end]\n",
    "\n",
    "# t_features[1:1,:]\n",
    "# t_labels[1:1,end]"
   ]
  },
  {
   "cell_type": "code",
   "execution_count": 286,
   "id": "8c7940c2",
   "metadata": {},
   "outputs": [
    {
     "data": {
      "text/plain": [
       "1×16 Matrix{Any}:\n",
       " 32  \"Female\"  \"No\"  \"No\"  \"No\"  \"Yes\"  …  \"Yes\"  \"No\"  \"No\"  \"Yes\"  \"No\""
      ]
     },
     "execution_count": 286,
     "metadata": {},
     "output_type": "execute_result"
    }
   ],
   "source": [
    "arr = convert(Matrix,t_features[3:3,:])"
   ]
  },
  {
   "cell_type": "code",
   "execution_count": 288,
   "id": "86d956ad",
   "metadata": {},
   "outputs": [
    {
     "data": {
      "text/plain": [
       "true"
      ]
     },
     "execution_count": 288,
     "metadata": {},
     "output_type": "execute_result"
    }
   ],
   "source": [
    "apply_tree(model,arr) == t_labels[3:3,end]"
   ]
  },
  {
   "cell_type": "markdown",
   "id": "b3aaeec1",
   "metadata": {},
   "source": [
    "# Random Forests"
   ]
  },
  {
   "cell_type": "code",
   "execution_count": 289,
   "id": "1be83d7c",
   "metadata": {},
   "outputs": [
    {
     "data": {
      "text/plain": [
       "Ensemble of Decision Trees\n",
       "Trees:      10\n",
       "Avg Leaves: 29.8\n",
       "Avg Depth:  9.4"
      ]
     },
     "execution_count": 289,
     "metadata": {},
     "output_type": "execute_result"
    }
   ],
   "source": [
    "# using 5 random features, 10 trees, and 0.5 portion of samples per tree (optional)\n",
    "forest = build_forest(labels, features, 5, 10, 0.5)"
   ]
  },
  {
   "cell_type": "code",
   "execution_count": 290,
   "id": "3cdc10e5",
   "metadata": {},
   "outputs": [
    {
     "data": {
      "text/plain": [
       "1-element Vector{String15}:\n",
       " \"Negative\""
      ]
     },
     "execution_count": 290,
     "metadata": {},
     "output_type": "execute_result"
    }
   ],
   "source": [
    "apply_forest(forest, arr)"
   ]
  },
  {
   "cell_type": "code",
   "execution_count": 291,
   "id": "b65e9992",
   "metadata": {},
   "outputs": [
    {
     "data": {
      "text/plain": [
       "1×2 Matrix{Float64}:\n",
       " 0.9  0.1"
      ]
     },
     "execution_count": 291,
     "metadata": {},
     "output_type": "execute_result"
    }
   ],
   "source": [
    "apply_forest_proba(forest, arr, [\"Negative\", \"Positive\"])"
   ]
  },
  {
   "cell_type": "code",
   "execution_count": 293,
   "id": "d26b3918",
   "metadata": {},
   "outputs": [
    {
     "data": {
      "text/plain": [
       "4-element Vector{Int64}:\n",
       " 1\n",
       " 2\n",
       " 3\n",
       " 4"
      ]
     },
     "execution_count": 293,
     "metadata": {},
     "output_type": "execute_result"
    }
   ],
   "source": [
    "x  = [1,2,3,4]"
   ]
  },
  {
   "cell_type": "code",
   "execution_count": 294,
   "id": "1482d63e",
   "metadata": {},
   "outputs": [
    {
     "data": {
      "text/plain": [
       "4-element Vector{Int64}:\n",
       " 3\n",
       " 4\n",
       " 5\n",
       " 6"
      ]
     },
     "execution_count": 294,
     "metadata": {},
     "output_type": "execute_result"
    }
   ],
   "source": [
    "x .+ 2"
   ]
  },
  {
   "cell_type": "code",
   "execution_count": 295,
   "id": "c9644415",
   "metadata": {},
   "outputs": [
    {
     "data": {
      "text/plain": [
       "10"
      ]
     },
     "execution_count": 295,
     "metadata": {},
     "output_type": "execute_result"
    }
   ],
   "source": [
    "x |> sum"
   ]
  },
  {
   "cell_type": "code",
   "execution_count": null,
   "id": "207e28b6",
   "metadata": {},
   "outputs": [],
   "source": []
  }
 ],
 "metadata": {
  "kernelspec": {
   "display_name": "Julia 1.6.3",
   "language": "julia",
   "name": "julia-1.6"
  },
  "language_info": {
   "file_extension": ".jl",
   "mimetype": "application/julia",
   "name": "julia",
   "version": "1.6.3"
  }
 },
 "nbformat": 4,
 "nbformat_minor": 5
}
