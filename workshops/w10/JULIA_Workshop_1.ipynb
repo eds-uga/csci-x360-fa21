{
 "cells": [
  {
   "cell_type": "markdown",
   "metadata": {},
   "source": [
    "# Julia Workshop "
   ]
  },
  {
   "cell_type": "markdown",
   "metadata": {},
   "source": [
    "### \"Hello World\""
   ]
  },
  {
   "cell_type": "code",
   "execution_count": 207,
   "metadata": {},
   "outputs": [
    {
     "name": "stdout",
     "output_type": "stream",
     "text": [
      "Hello World\n"
     ]
    }
   ],
   "source": [
    "println(\"Hello World\")"
   ]
  },
  {
   "cell_type": "markdown",
   "metadata": {},
   "source": [
    "### Operators"
   ]
  },
  {
   "cell_type": "code",
   "execution_count": 208,
   "metadata": {},
   "outputs": [
    {
     "name": "stdout",
     "output_type": "stream",
     "text": [
      "15\n",
      "-2\n",
      "18\n",
      "5.0\n",
      "6.5\n",
      "25\n",
      "1\n"
     ]
    }
   ],
   "source": [
    "println(7+8) #Add\n",
    "println(3-5) #Substract\n",
    "println(6*3) #Multiply\n",
    "println(55/11) #Divide\n",
    "println(13/2) #Divide\n",
    "println(5^2) #Power \n",
    "println(5%2) #Remainder"
   ]
  },
  {
   "cell_type": "markdown",
   "metadata": {},
   "source": [
    "### Numeric Comparison Operators"
   ]
  },
  {
   "cell_type": "code",
   "execution_count": 209,
   "metadata": {},
   "outputs": [
    {
     "name": "stdout",
     "output_type": "stream",
     "text": [
      "true\n",
      "false\n",
      "false\n",
      "true\n",
      "true\n",
      "true\n"
     ]
    }
   ],
   "source": [
    "println(500 == 500)\n",
    "println(500 == 501)\n",
    "println(500 != 500)\n",
    "println(100 == 100.0) \n",
    "println(100 < 200) \n",
    "println(-5 <= -5)"
   ]
  },
  {
   "cell_type": "markdown",
   "metadata": {},
   "source": [
    "### Variables"
   ]
  },
  {
   "cell_type": "code",
   "execution_count": 210,
   "metadata": {
    "scrolled": true
   },
   "outputs": [
    {
     "name": "stdout",
     "output_type": "stream",
     "text": [
      "Julia\n",
      "Int64\n",
      "Float64\n"
     ]
    }
   ],
   "source": [
    "#Case Sensitive: student_name and Student_name are not the same\n",
    "#Names have to start with an underscore or letter or certain unicode characters \n",
    "#Variables can contain digits or special characters but should not begin with them\n",
    "#Operators can also be named to use variable \n",
    "\n",
    "student_name = \"Julia\"\n",
    "student_age = 15\n",
    "student_gpa = 2.5\n",
    "last_name = \"Smith\"\n",
    "\n",
    "println(student_name)\n",
    "println(typeof(student_age))\n",
    "println(typeof(student_gpa))"
   ]
  },
  {
   "cell_type": "markdown",
   "metadata": {},
   "source": [
    "### Strings"
   ]
  },
  {
   "cell_type": "code",
   "execution_count": 211,
   "metadata": {},
   "outputs": [
    {
     "name": "stdout",
     "output_type": "stream",
     "text": [
      "Julia says, \"Hi\". \n",
      "e\n",
      "J\n",
      "JuliaSmith\n"
     ]
    }
   ],
   "source": [
    "s = \"Julia is a great language\"\n",
    "b = \"\"\"Julia says, \"Hi\". \"\"\"\n",
    "student_name = \"Julia\"\n",
    "last_name = \"Smith\"\n",
    "\n",
    "println(b)\n",
    "println(s[end])\n",
    "println(s[begin])\n",
    "println(\"$student_name$last_name\")"
   ]
  },
  {
   "cell_type": "markdown",
   "metadata": {},
   "source": [
    "### Insert Variables Into A String"
   ]
  },
  {
   "cell_type": "code",
   "execution_count": 212,
   "metadata": {},
   "outputs": [
    {
     "name": "stdout",
     "output_type": "stream",
     "text": [
      "The student's name is Julia and her gpa is 2.5.\n"
     ]
    }
   ],
   "source": [
    "student_name = \"Julia\"\n",
    "student_gpa = 2.5\n",
    "println(\"The student's name is $student_name and her gpa is $student_gpa.\")"
   ]
  },
  {
   "cell_type": "markdown",
   "metadata": {},
   "source": [
    "## Data Structures"
   ]
  },
  {
   "cell_type": "markdown",
   "metadata": {},
   "source": [
    "### Tuples"
   ]
  },
  {
   "cell_type": "code",
   "execution_count": 213,
   "metadata": {},
   "outputs": [
    {
     "name": "stdout",
     "output_type": "stream",
     "text": [
      "(\"Ally\", \"Julia\", \"Bob\")\n",
      "(\"Julia\", \"Bob\")\n",
      "(1, 2)\n",
      "2\n"
     ]
    }
   ],
   "source": [
    "#Immutable \n",
    "students = (\"Ally\",\"Julia\",\"Bob\")\n",
    "println(students)\n",
    "println(students[2:end])\n",
    "\n",
    "\n",
    "#Another type of tuple\n",
    "tupl = ((1,2),(3,4))\n",
    "println(tupl[1])\n",
    "println(tupl[1][2])\n",
    "\n"
   ]
  },
  {
   "cell_type": "markdown",
   "metadata": {},
   "source": [
    "### Named Tuples"
   ]
  },
  {
   "cell_type": "code",
   "execution_count": 214,
   "metadata": {},
   "outputs": [
    {
     "name": "stdout",
     "output_type": "stream",
     "text": [
      "(-1, -1)\n"
     ]
    },
    {
     "data": {
      "text/plain": [
       "(x1 = (1, 1), x2 = (-1, -1), x3 = (5, 1), x4 = (-6, -1), x5 = (3, 0))"
      ]
     },
     "execution_count": 214,
     "metadata": {},
     "output_type": "execute_result"
    }
   ],
   "source": [
    "#Keys with tuples \n",
    "coord = (x1 = (1,1), x2 = (-1,-1), x3 = (0,0) )\n",
    "println(coord.x2) #use . \n",
    "\n",
    "#Combining two named tuples \n",
    "\n",
    "new_coord = (x3 = (5,1), x4 = (-6,-1), x5 = (3,0) )\n",
    "merge(coord,new_coord)"
   ]
  },
  {
   "cell_type": "markdown",
   "metadata": {},
   "source": [
    "### Dictionaries"
   ]
  },
  {
   "cell_type": "code",
   "execution_count": 215,
   "metadata": {},
   "outputs": [
    {
     "name": "stdout",
     "output_type": "stream",
     "text": [
      "Dict(\"Address\" => \"324 Bermont Point\", \"Phone\" => \"678-459-8431\")\n"
     ]
    }
   ],
   "source": [
    "contacts  = Dict(\"Phone\" => \"678-459-8431\", \"Address\" => \"324 Bermont Point\")\n",
    "println(contacts)\n"
   ]
  },
  {
   "cell_type": "code",
   "execution_count": 216,
   "metadata": {},
   "outputs": [
    {
     "data": {
      "text/plain": [
       "true"
      ]
     },
     "execution_count": 216,
     "metadata": {},
     "output_type": "execute_result"
    }
   ],
   "source": [
    "#Search for a key\n",
    "haskey(contacts, \"Address\")"
   ]
  },
  {
   "cell_type": "code",
   "execution_count": 217,
   "metadata": {},
   "outputs": [
    {
     "name": "stdout",
     "output_type": "stream",
     "text": [
      "Dict(\"Address\" => \"324 Bermont Point\", \"Phone\" => \"678-459-8431\", \"Zip\" => \"30005\")\n",
      "Dict(\"Address\" => \"324 Bermont Point\", \"Zip\" => \"30005\")\n"
     ]
    }
   ],
   "source": [
    "#add to a dictionary\n",
    "contacts[\"Zip\"] = \"30005\"\n",
    "println(contacts)\n",
    "\n",
    "#remove from a dictionary\n",
    "#Delete an element from a dictionary\n",
    "pop!(contacts,\"Phone\")\n",
    "println(contacts)"
   ]
  },
  {
   "cell_type": "markdown",
   "metadata": {},
   "source": [
    "### Arrays"
   ]
  },
  {
   "cell_type": "code",
   "execution_count": 218,
   "metadata": {},
   "outputs": [
    {
     "name": "stdout",
     "output_type": "stream",
     "text": [
      "2\n",
      "6\n",
      "true\n",
      "3\n",
      "(6,)\n",
      "6\n"
     ]
    }
   ],
   "source": [
    "#Index starts at 1 \n",
    "a = [1,3,2,4,5,6]\n",
    "println(a[3])\n",
    "println(a[end])\n",
    "println(4 in a)\n",
    "println(findfirst(isequal(2),a))\n",
    "println(size(a))\n",
    "println(length(a))"
   ]
  },
  {
   "cell_type": "code",
   "execution_count": 219,
   "metadata": {},
   "outputs": [
    {
     "name": "stdout",
     "output_type": "stream",
     "text": [
      "6\n",
      "1\n"
     ]
    }
   ],
   "source": [
    "#called maximum and minimum instead of min and max \n",
    "println(maximum(a))\n",
    "println(minimum(a))"
   ]
  },
  {
   "cell_type": "code",
   "execution_count": 220,
   "metadata": {},
   "outputs": [
    {
     "name": "stdout",
     "output_type": "stream",
     "text": [
      "[3, 9, 6, 12, 15, 18]\n"
     ]
    }
   ],
   "source": [
    "println(a *3)"
   ]
  },
  {
   "cell_type": "markdown",
   "metadata": {},
   "source": [
    "### Creating arrays using comprehensions and generators"
   ]
  },
  {
   "cell_type": "code",
   "execution_count": 221,
   "metadata": {},
   "outputs": [
    {
     "name": "stdout",
     "output_type": "stream",
     "text": [
      "[1, 4, 9, 16, 25, 36, 49, 64]\n"
     ]
    }
   ],
   "source": [
    "square_array = [n^2 for n in 1:8]\n",
    "println(square_array)"
   ]
  },
  {
   "cell_type": "markdown",
   "metadata": {},
   "source": [
    "### Creating arrays with different types"
   ]
  },
  {
   "cell_type": "code",
   "execution_count": 222,
   "metadata": {},
   "outputs": [
    {
     "name": "stdout",
     "output_type": "stream",
     "text": [
      "Int64[]\n",
      "Any[15, \"Julia\", 3.95]\n"
     ]
    }
   ],
   "source": [
    "empty_arr = Int64[]\n",
    "different_type = [15,\"Julia\",3.95]\n",
    "println(empty_arr)\n",
    "println(different_type)"
   ]
  },
  {
   "cell_type": "markdown",
   "metadata": {},
   "source": [
    "### Collect Function"
   ]
  },
  {
   "cell_type": "code",
   "execution_count": 223,
   "metadata": {
    "scrolled": true
   },
   "outputs": [
    {
     "name": "stdout",
     "output_type": "stream",
     "text": [
      "[1.5, 2.5, 3.5, 4.5, 5.5, 6.5, 7.5, 8.5, 9.5, 10.5]\n",
      "[0, 2, 4, 6, 8, 10, 12, 14, 16]\n"
     ]
    }
   ],
   "source": [
    "#Create an array using range objects is collect()\n",
    "println(collect(1.5:10.5)) #Step Size 1 \n",
    "println(collect(0:2:16)) #Step Size 2 "
   ]
  },
  {
   "cell_type": "markdown",
   "metadata": {},
   "source": [
    "### Creating 2-D Arrays"
   ]
  },
  {
   "cell_type": "code",
   "execution_count": 224,
   "metadata": {},
   "outputs": [
    {
     "data": {
      "text/plain": [
       "8×8 Matrix{Int64}:\n",
       " 1   2   3   4   5   6   7   8\n",
       " 2   4   6   8  10  12  14  16\n",
       " 3   6   9  12  15  18  21  24\n",
       " 4   8  12  16  20  24  28  32\n",
       " 5  10  15  20  25  30  35  40\n",
       " 6  12  18  24  30  36  42  48\n",
       " 7  14  21  28  35  42  49  56\n",
       " 8  16  24  32  40  48  56  64"
      ]
     },
     "execution_count": 224,
     "metadata": {},
     "output_type": "execute_result"
    }
   ],
   "source": [
    "[n *m for n in 1:8, m in 1:8]"
   ]
  },
  {
   "cell_type": "markdown",
   "metadata": {},
   "source": [
    "### Populating An Array "
   ]
  },
  {
   "cell_type": "code",
   "execution_count": 225,
   "metadata": {},
   "outputs": [
    {
     "data": {
      "text/plain": [
       "4×5 Matrix{Float64}:\n",
       " 0.0  0.0  0.0  0.0  0.0\n",
       " 0.0  0.0  0.0  0.0  0.0\n",
       " 0.0  0.0  0.0  0.0  0.0\n",
       " 0.0  0.0  0.0  0.0  0.0"
      ]
     },
     "execution_count": 225,
     "metadata": {},
     "output_type": "execute_result"
    }
   ],
   "source": [
    "#Populating an array of zeros\n",
    "zero = zeros(4,5)\n",
    "zero"
   ]
  },
  {
   "cell_type": "code",
   "execution_count": 226,
   "metadata": {},
   "outputs": [
    {
     "data": {
      "text/plain": [
       "4×5 Matrix{Float64}:\n",
       " 1.0  1.0  1.0  1.0  1.0\n",
       " 1.0  1.0  1.0  1.0  1.0\n",
       " 1.0  1.0  1.0  1.0  1.0\n",
       " 1.0  1.0  1.0  1.0  1.0"
      ]
     },
     "execution_count": 226,
     "metadata": {},
     "output_type": "execute_result"
    }
   ],
   "source": [
    "#Populating an array with ones \n",
    "ones(4,5)"
   ]
  },
  {
   "cell_type": "code",
   "execution_count": 227,
   "metadata": {},
   "outputs": [
    {
     "data": {
      "text/plain": [
       "4×5 Matrix{Float64}:\n",
       " 0.758932  0.623587  0.647571   0.700826  0.0981899\n",
       " 0.297693  0.243941  0.368938   0.773796  0.331872\n",
       " 0.804888  0.278723  0.45662    0.167135  0.664903\n",
       " 0.463063  0.368211  0.0635996  0.333001  0.0350247"
      ]
     },
     "execution_count": 227,
     "metadata": {},
     "output_type": "execute_result"
    }
   ],
   "source": [
    "#m*n matrix of normally distributed random numbers with mean=0 and standard deviation = 1 \n",
    "rnorm_arr = rand(4,5)"
   ]
  },
  {
   "cell_type": "markdown",
   "metadata": {},
   "source": [
    "### Accessing Contents of an 2D Array"
   ]
  },
  {
   "cell_type": "code",
   "execution_count": 228,
   "metadata": {},
   "outputs": [
    {
     "name": "stdout",
     "output_type": "stream",
     "text": [
      "0.2787233393036965\n",
      "0.2787233393036965\n"
     ]
    }
   ],
   "source": [
    "println(rnorm_arr[3,2])\n",
    "println(getindex(rnorm_arr,3,2))"
   ]
  },
  {
   "cell_type": "markdown",
   "metadata": {},
   "source": [
    "### Adding and Removing Elements from an array"
   ]
  },
  {
   "cell_type": "code",
   "execution_count": 229,
   "metadata": {},
   "outputs": [
    {
     "name": "stdout",
     "output_type": "stream",
     "text": [
      "[8, 10, 11, 1, 2, 3, 4, 5, 6, 7, 8]\n"
     ]
    }
   ],
   "source": [
    "v = collect(1:7)\n",
    "push!(v,8) #add at the end \n",
    "pushfirst!(v,8) #add at the front \n",
    "splice!(v,2:1,[10,11]) #add at a given index \n",
    "println(v)\n"
   ]
  },
  {
   "cell_type": "code",
   "execution_count": 230,
   "metadata": {},
   "outputs": [
    {
     "name": "stdout",
     "output_type": "stream",
     "text": [
      "8\n",
      "[8, 10, 11, 1, 2, 3, 4, 5, 6, 7]\n",
      "8\n",
      "[10, 11, 1, 2, 3, 4, 5, 6, 7]\n",
      "11\n",
      "[10, 1, 2, 3, 4, 5, 6, 7]\n"
     ]
    }
   ],
   "source": [
    "println(pop!(v)) #remove last element of an array \n",
    "println(v)\n",
    "println(popfirst!(v))# remove first element of an array\n",
    "println(v)\n",
    "println(splice!(v,2)) #remove the second element of an array\n",
    "println(v)"
   ]
  },
  {
   "cell_type": "markdown",
   "metadata": {},
   "source": [
    "### You can even store functions in an array!"
   ]
  },
  {
   "cell_type": "code",
   "execution_count": 231,
   "metadata": {},
   "outputs": [
    {
     "name": "stdout",
     "output_type": "stream",
     "text": [
      "0.0\n",
      "1.0\n",
      "0.0\n"
     ]
    }
   ],
   "source": [
    "math_functions = [sin,cos,tan]\n",
    "for i in math_functions\n",
    "    println(i(0))\n",
    "    end''''';;;;;   "
   ]
  },
  {
   "cell_type": "code",
   "execution_count": null,
   "metadata": {},
   "outputs": [],
   "source": []
  }
 ],
 "metadata": {
  "kernelspec": {
   "display_name": "Julia 1.6.3",
   "language": "julia",
   "name": "julia-1.6"
  },
  "language_info": {
   "file_extension": ".jl",
   "mimetype": "application/julia",
   "name": "julia",
   "version": "1.6.3"
  }
 },
 "nbformat": 4,
 "nbformat_minor": 4
}
