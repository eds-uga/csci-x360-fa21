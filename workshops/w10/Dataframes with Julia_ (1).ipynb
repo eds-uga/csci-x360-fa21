{
 "cells": [
  {
   "cell_type": "markdown",
   "id": "41ba6451",
   "metadata": {},
   "source": [
    "# DataFrames using Julia"
   ]
  },
  {
   "cell_type": "markdown",
   "id": "c217a2d9",
   "metadata": {},
   "source": [
    "Step-1: Check the status of the project file to find out what packages are there and need to be included."
   ]
  },
  {
   "cell_type": "code",
   "execution_count": 1,
   "id": "4f2c19fd",
   "metadata": {},
   "outputs": [
    {
     "name": "stdout",
     "output_type": "stream",
     "text": [
      "\u001b[32m\u001b[1m      Status\u001b[22m\u001b[39m `~/Project.toml`\n",
      " \u001b[90m [a93c6f00] \u001b[39mDataFrames v1.2.2\n",
      " \u001b[90m [38e38edf] \u001b[39mGLM v1.5.1\n",
      " \u001b[90m [c91e804a] \u001b[39mGadfly v1.3.3\n",
      " \u001b[90m [438e738f] \u001b[39mPyCall v1.92.5\n",
      " \u001b[90m [d330b81b] \u001b[39mPyPlot v2.10.0\n",
      " \u001b[90m [ce6b1742] \u001b[39mRDatasets v0.7.5\n",
      " \u001b[90m [10745b16] \u001b[39mStatistics\n"
     ]
    }
   ],
   "source": [
    "] status"
   ]
  },
  {
   "cell_type": "markdown",
   "id": "35d49701",
   "metadata": {},
   "source": [
    "isfile.([\"Project.toml\", \"Manifest.toml\"])  \n",
    "You can use this command at the very start of the project to make sure that we have both files."
   ]
  },
  {
   "cell_type": "markdown",
   "id": "100ffd69",
   "metadata": {},
   "source": [
    "Step-2: If the packages are not installed in the project file, then use instantiate command to install the rest."
   ]
  },
  {
   "cell_type": "markdown",
   "id": "361cff8e",
   "metadata": {},
   "source": [
    "#Note: If some installation issue comes up regarding some packages:\n",
    "-> It might have to do something with some PyCall error.\n",
    "-> To resolve that, we can run the following commands in the Julia terminal\n",
    "ENV[\"PYTHON\"]=\"\"\n",
    ";import Pkg\n",
    ";Pkg.add(\"_package_\")\n",
    ";Pkg.build(\"_package_\")"
   ]
  },
  {
   "cell_type": "code",
   "execution_count": 2,
   "id": "957bcd1f",
   "metadata": {},
   "outputs": [],
   "source": [
    "] instantiate"
   ]
  },
  {
   "cell_type": "code",
   "execution_count": 10,
   "id": "3d9eb2f1",
   "metadata": {},
   "outputs": [
    {
     "name": "stderr",
     "output_type": "stream",
     "text": [
      "\u001b[32m\u001b[1m    Updating\u001b[22m\u001b[39m registry at `C:\\Users\\viyen\\.julia\\registries\\General`\n",
      "\u001b[32m\u001b[1m    Updating\u001b[22m\u001b[39m git-repo `https://github.com/JuliaRegistries/General.git`\n",
      "\u001b[32m\u001b[1m   Resolving\u001b[22m\u001b[39m package versions...\n",
      "\u001b[32m\u001b[1m  No Changes\u001b[22m\u001b[39m to `C:\\Users\\viyen\\.julia\\environments\\v1.6\\Project.toml`\n",
      "\u001b[32m\u001b[1m  No Changes\u001b[22m\u001b[39m to `C:\\Users\\viyen\\.julia\\environments\\v1.6\\Manifest.toml`\n"
     ]
    }
   ],
   "source": [
    "import Pkg\n",
    "Pkg.add(\"DataFrames\")"
   ]
  },
  {
   "cell_type": "code",
   "execution_count": 11,
   "id": "f150e749",
   "metadata": {},
   "outputs": [
    {
     "name": "stderr",
     "output_type": "stream",
     "text": [
      "\u001b[32m\u001b[1m   Resolving\u001b[22m\u001b[39m package versions...\n",
      "\u001b[32m\u001b[1m  No Changes\u001b[22m\u001b[39m to `C:\\Users\\viyen\\.julia\\environments\\v1.6\\Project.toml`\n",
      "\u001b[32m\u001b[1m  No Changes\u001b[22m\u001b[39m to `C:\\Users\\viyen\\.julia\\environments\\v1.6\\Manifest.toml`\n"
     ]
    }
   ],
   "source": [
    "import Pkg\n",
    "Pkg.add(\"Statistics\")"
   ]
  },
  {
   "cell_type": "code",
   "execution_count": 12,
   "id": "32451e64",
   "metadata": {},
   "outputs": [
    {
     "name": "stderr",
     "output_type": "stream",
     "text": [
      "\u001b[32m\u001b[1m   Resolving\u001b[22m\u001b[39m package versions...\n",
      "\u001b[32m\u001b[1m  No Changes\u001b[22m\u001b[39m to `C:\\Users\\viyen\\.julia\\environments\\v1.6\\Project.toml`\n",
      "\u001b[32m\u001b[1m  No Changes\u001b[22m\u001b[39m to `C:\\Users\\viyen\\.julia\\environments\\v1.6\\Manifest.toml`\n"
     ]
    }
   ],
   "source": [
    "import Pkg\n",
    "Pkg.add(\"GLM\")"
   ]
  },
  {
   "cell_type": "code",
   "execution_count": 13,
   "id": "6504c421",
   "metadata": {},
   "outputs": [],
   "source": [
    "using DataFrames\n",
    "using Statistics\n",
    "using GLM"
   ]
  },
  {
   "cell_type": "code",
   "execution_count": 8,
   "id": "87285eb5",
   "metadata": {},
   "outputs": [
    {
     "name": "stderr",
     "output_type": "stream",
     "text": [
      "\u001b[32m\u001b[1m   Resolving\u001b[22m\u001b[39m package versions...\n",
      "\u001b[32m\u001b[1m  No Changes\u001b[22m\u001b[39m to `~/Project.toml`\n",
      "\u001b[32m\u001b[1m  No Changes\u001b[22m\u001b[39m to `~/Manifest.toml`\n"
     ]
    }
   ],
   "source": [
    "ENV[\"PYTHON\"]=\"\"\n",
    "import Pkg\n",
    "Pkg.add(\"PyCall\")"
   ]
  },
  {
   "cell_type": "code",
   "execution_count": 9,
   "id": "d677d65f",
   "metadata": {},
   "outputs": [
    {
     "name": "stderr",
     "output_type": "stream",
     "text": [
      "\u001b[32m\u001b[1m    Building\u001b[22m\u001b[39m Conda ─→ `/srv/julia/pkg/scratchspaces/44cfe95a-1eb2-52ea-b672-e2afdf69b78f/299304989a5e6473d985212c28928899c74e9421/build.log`\n",
      "\u001b[32m\u001b[1m    Building\u001b[22m\u001b[39m PyCall → `/srv/julia/pkg/scratchspaces/44cfe95a-1eb2-52ea-b672-e2afdf69b78f/4ba3651d33ef76e24fef6a598b63ffd1c5e1cd17/build.log`\n"
     ]
    }
   ],
   "source": [
    "import Pkg\n",
    "Pkg.build(\"PyCall\")"
   ]
  },
  {
   "cell_type": "code",
   "execution_count": 14,
   "id": "6173e370",
   "metadata": {},
   "outputs": [
    {
     "data": {
      "text/plain": [
       "12×8 Matrix{Float64}:\n",
       "  1.05   6.04  11.17   3.23  10.99   7.46   8.6    6.56\n",
       "  2.2    6.99   3.33   8.57   8.7    6.77   7.07   5.76\n",
       " 13.07   6.28   3.46   9.24  13.0   12.74   8.06   7.77\n",
       "  9.9    9.81   4.57   1.09   9.4    7.11   5.8    8.12\n",
       " 11.16   1.33   1.24   9.99   1.0    7.81   2.12   8.47\n",
       " 12.0    4.56   9.8    8.67   4.0    8.84   6.1    7.03\n",
       "  6.0    8.24   4.99   6.9    6.0    6.08   1.01   5.2\n",
       "  3.0    5.26   1.67   3.45   4.4    5.39  19.0   12.6\n",
       "  1.01  10.88  13.9    9.17  13.2    8.15  11.1    5.56\n",
       "  7.09   3.81   7.7    7.22   8.6    6.42   8.05   7.81\n",
       "  5.35   2.66   8.67   4.75  15.6    5.73   7.77   6.08\n",
       "  8.63   6.27   2.22  11.3    2.91   4.0    2.22  13.0"
      ]
     },
     "execution_count": 14,
     "metadata": {},
     "output_type": "execute_result"
    }
   ],
   "source": [
    "mt = [\n",
    "      1.05  6.04  11.17 3.23  10.99  7.46  8.60  6.56\n",
    "      2.2   6.99  3.33  8.57   8.7  6.77  7.07   5.76\n",
    "      13.07  6.28  3.46 9.24  13.0  12.74 8.06   7.77\n",
    "      9.90   9.81  4.57  1.09  9.40  7.11  5.80   8.12\n",
    "      11.16  1.33  1.24 9.99  1.0  7.81  2.12   8.47\n",
    "      12.0  4.56  9.80  8.67  4.0  8.84  6.10   7.03\n",
    "      6.0   8.24  4.99  6.90  6.0  6.08  1.01   5.20\n",
    "      3.0   5.26  1.67  3.45  4.40  5.39  19.0  12.60 \n",
    "      1.01  10.88  13.90 9.17  13.20  8.15  11.1  5.56\n",
    "      7.09   3.81  7.70  7.22  8.60  6.42  8.05   7.81\n",
    "      5.35   2.66  8.67  4.75  15.60  5.73  7.77  6.08\n",
    "      8.63  6.27  2.22 11.30   2.91 4.00  2.22  13.0]"
   ]
  },
  {
   "cell_type": "code",
   "execution_count": 15,
   "id": "6cae492e",
   "metadata": {},
   "outputs": [
    {
     "data": {
      "text/html": [
       "<div class=\"data-frame\"><p>12 rows × 8 columns</p><table class=\"data-frame\"><thead><tr><th></th><th>x1</th><th>x2</th><th>x3</th><th>x4</th><th>x5</th><th>x6</th><th>x7</th><th>x8</th></tr><tr><th></th><th title=\"Float64\">Float64</th><th title=\"Float64\">Float64</th><th title=\"Float64\">Float64</th><th title=\"Float64\">Float64</th><th title=\"Float64\">Float64</th><th title=\"Float64\">Float64</th><th title=\"Float64\">Float64</th><th title=\"Float64\">Float64</th></tr></thead><tbody><tr><th>1</th><td>1.05</td><td>6.04</td><td>11.17</td><td>3.23</td><td>10.99</td><td>7.46</td><td>8.6</td><td>6.56</td></tr><tr><th>2</th><td>2.2</td><td>6.99</td><td>3.33</td><td>8.57</td><td>8.7</td><td>6.77</td><td>7.07</td><td>5.76</td></tr><tr><th>3</th><td>13.07</td><td>6.28</td><td>3.46</td><td>9.24</td><td>13.0</td><td>12.74</td><td>8.06</td><td>7.77</td></tr><tr><th>4</th><td>9.9</td><td>9.81</td><td>4.57</td><td>1.09</td><td>9.4</td><td>7.11</td><td>5.8</td><td>8.12</td></tr><tr><th>5</th><td>11.16</td><td>1.33</td><td>1.24</td><td>9.99</td><td>1.0</td><td>7.81</td><td>2.12</td><td>8.47</td></tr><tr><th>6</th><td>12.0</td><td>4.56</td><td>9.8</td><td>8.67</td><td>4.0</td><td>8.84</td><td>6.1</td><td>7.03</td></tr><tr><th>7</th><td>6.0</td><td>8.24</td><td>4.99</td><td>6.9</td><td>6.0</td><td>6.08</td><td>1.01</td><td>5.2</td></tr><tr><th>8</th><td>3.0</td><td>5.26</td><td>1.67</td><td>3.45</td><td>4.4</td><td>5.39</td><td>19.0</td><td>12.6</td></tr><tr><th>9</th><td>1.01</td><td>10.88</td><td>13.9</td><td>9.17</td><td>13.2</td><td>8.15</td><td>11.1</td><td>5.56</td></tr><tr><th>10</th><td>7.09</td><td>3.81</td><td>7.7</td><td>7.22</td><td>8.6</td><td>6.42</td><td>8.05</td><td>7.81</td></tr><tr><th>11</th><td>5.35</td><td>2.66</td><td>8.67</td><td>4.75</td><td>15.6</td><td>5.73</td><td>7.77</td><td>6.08</td></tr><tr><th>12</th><td>8.63</td><td>6.27</td><td>2.22</td><td>11.3</td><td>2.91</td><td>4.0</td><td>2.22</td><td>13.0</td></tr></tbody></table></div>"
      ],
      "text/latex": [
       "\\begin{tabular}{r|cccccccc}\n",
       "\t& x1 & x2 & x3 & x4 & x5 & x6 & x7 & x8\\\\\n",
       "\t\\hline\n",
       "\t& Float64 & Float64 & Float64 & Float64 & Float64 & Float64 & Float64 & Float64\\\\\n",
       "\t\\hline\n",
       "\t1 & 1.05 & 6.04 & 11.17 & 3.23 & 10.99 & 7.46 & 8.6 & 6.56 \\\\\n",
       "\t2 & 2.2 & 6.99 & 3.33 & 8.57 & 8.7 & 6.77 & 7.07 & 5.76 \\\\\n",
       "\t3 & 13.07 & 6.28 & 3.46 & 9.24 & 13.0 & 12.74 & 8.06 & 7.77 \\\\\n",
       "\t4 & 9.9 & 9.81 & 4.57 & 1.09 & 9.4 & 7.11 & 5.8 & 8.12 \\\\\n",
       "\t5 & 11.16 & 1.33 & 1.24 & 9.99 & 1.0 & 7.81 & 2.12 & 8.47 \\\\\n",
       "\t6 & 12.0 & 4.56 & 9.8 & 8.67 & 4.0 & 8.84 & 6.1 & 7.03 \\\\\n",
       "\t7 & 6.0 & 8.24 & 4.99 & 6.9 & 6.0 & 6.08 & 1.01 & 5.2 \\\\\n",
       "\t8 & 3.0 & 5.26 & 1.67 & 3.45 & 4.4 & 5.39 & 19.0 & 12.6 \\\\\n",
       "\t9 & 1.01 & 10.88 & 13.9 & 9.17 & 13.2 & 8.15 & 11.1 & 5.56 \\\\\n",
       "\t10 & 7.09 & 3.81 & 7.7 & 7.22 & 8.6 & 6.42 & 8.05 & 7.81 \\\\\n",
       "\t11 & 5.35 & 2.66 & 8.67 & 4.75 & 15.6 & 5.73 & 7.77 & 6.08 \\\\\n",
       "\t12 & 8.63 & 6.27 & 2.22 & 11.3 & 2.91 & 4.0 & 2.22 & 13.0 \\\\\n",
       "\\end{tabular}\n"
      ],
      "text/plain": [
       "\u001b[1m12×8 DataFrame\u001b[0m\n",
       "\u001b[1m Row \u001b[0m│\u001b[1m x1      \u001b[0m\u001b[1m x2      \u001b[0m\u001b[1m x3      \u001b[0m\u001b[1m x4      \u001b[0m\u001b[1m x5      \u001b[0m\u001b[1m x6      \u001b[0m\u001b[1m x7      \u001b[0m\u001b[1m x8      \u001b[0m\n",
       "\u001b[1m     \u001b[0m│\u001b[90m Float64 \u001b[0m\u001b[90m Float64 \u001b[0m\u001b[90m Float64 \u001b[0m\u001b[90m Float64 \u001b[0m\u001b[90m Float64 \u001b[0m\u001b[90m Float64 \u001b[0m\u001b[90m Float64 \u001b[0m\u001b[90m Float64 \u001b[0m\n",
       "─────┼────────────────────────────────────────────────────────────────────────\n",
       "   1 │    1.05     6.04    11.17     3.23    10.99     7.46     8.6      6.56\n",
       "   2 │    2.2      6.99     3.33     8.57     8.7      6.77     7.07     5.76\n",
       "   3 │   13.07     6.28     3.46     9.24    13.0     12.74     8.06     7.77\n",
       "   4 │    9.9      9.81     4.57     1.09     9.4      7.11     5.8      8.12\n",
       "   5 │   11.16     1.33     1.24     9.99     1.0      7.81     2.12     8.47\n",
       "   6 │   12.0      4.56     9.8      8.67     4.0      8.84     6.1      7.03\n",
       "   7 │    6.0      8.24     4.99     6.9      6.0      6.08     1.01     5.2\n",
       "   8 │    3.0      5.26     1.67     3.45     4.4      5.39    19.0     12.6\n",
       "   9 │    1.01    10.88    13.9      9.17    13.2      8.15    11.1      5.56\n",
       "  10 │    7.09     3.81     7.7      7.22     8.6      6.42     8.05     7.81\n",
       "  11 │    5.35     2.66     8.67     4.75    15.6      5.73     7.77     6.08\n",
       "  12 │    8.63     6.27     2.22    11.3      2.91     4.0      2.22    13.0"
      ]
     },
     "execution_count": 15,
     "metadata": {},
     "output_type": "execute_result"
    }
   ],
   "source": [
    "#auto command helps to give labels to the dataframe\n",
    "df = DataFrame(mt, :auto)"
   ]
  },
  {
   "cell_type": "code",
   "execution_count": 11,
   "id": "e316174b",
   "metadata": {},
   "outputs": [
    {
     "data": {
      "text/plain": [
       "8-element Vector{String}:\n",
       " \"a1\"\n",
       " \"b1\"\n",
       " \"a2\"\n",
       " \"b2\"\n",
       " \"a3\"\n",
       " \"b3\"\n",
       " \"a4\"\n",
       " \"b4\""
      ]
     },
     "execution_count": 11,
     "metadata": {},
     "output_type": "execute_result"
    }
   ],
   "source": [
    "#we can create our own labels using the vec function\n",
    "n = vec(string.([\"a\", \"b\"], [1 2 3 4]))"
   ]
  },
  {
   "cell_type": "code",
   "execution_count": 12,
   "id": "b8e3cf76",
   "metadata": {},
   "outputs": [
    {
     "data": {
      "text/html": [
       "<div class=\"data-frame\"><p>12 rows × 8 columns</p><table class=\"data-frame\"><thead><tr><th></th><th>a1</th><th>b1</th><th>a2</th><th>b2</th><th>a3</th><th>b3</th><th>a4</th><th>b4</th></tr><tr><th></th><th title=\"Float64\">Float64</th><th title=\"Float64\">Float64</th><th title=\"Float64\">Float64</th><th title=\"Float64\">Float64</th><th title=\"Float64\">Float64</th><th title=\"Float64\">Float64</th><th title=\"Float64\">Float64</th><th title=\"Float64\">Float64</th></tr></thead><tbody><tr><th>1</th><td>1.05</td><td>6.04</td><td>11.17</td><td>3.23</td><td>10.99</td><td>7.46</td><td>8.6</td><td>6.56</td></tr><tr><th>2</th><td>2.2</td><td>6.99</td><td>3.33</td><td>8.57</td><td>8.7</td><td>6.77</td><td>7.07</td><td>5.76</td></tr><tr><th>3</th><td>13.07</td><td>6.28</td><td>3.46</td><td>9.24</td><td>13.0</td><td>12.74</td><td>8.06</td><td>7.77</td></tr><tr><th>4</th><td>9.9</td><td>9.81</td><td>4.57</td><td>1.09</td><td>9.4</td><td>7.11</td><td>5.8</td><td>8.12</td></tr><tr><th>5</th><td>11.16</td><td>1.33</td><td>1.24</td><td>9.99</td><td>1.0</td><td>7.81</td><td>2.12</td><td>8.47</td></tr><tr><th>6</th><td>12.0</td><td>4.56</td><td>9.8</td><td>8.67</td><td>4.0</td><td>8.84</td><td>6.1</td><td>7.03</td></tr><tr><th>7</th><td>6.0</td><td>8.24</td><td>4.99</td><td>6.9</td><td>6.0</td><td>6.08</td><td>1.01</td><td>5.2</td></tr><tr><th>8</th><td>3.0</td><td>5.26</td><td>1.67</td><td>3.45</td><td>4.4</td><td>5.39</td><td>19.0</td><td>12.6</td></tr><tr><th>9</th><td>1.01</td><td>10.88</td><td>13.9</td><td>9.17</td><td>13.2</td><td>8.15</td><td>11.1</td><td>5.56</td></tr><tr><th>10</th><td>7.09</td><td>3.81</td><td>7.7</td><td>7.22</td><td>8.6</td><td>6.42</td><td>8.05</td><td>7.81</td></tr><tr><th>11</th><td>5.35</td><td>2.66</td><td>8.67</td><td>4.75</td><td>15.6</td><td>5.73</td><td>7.77</td><td>6.08</td></tr><tr><th>12</th><td>8.63</td><td>6.27</td><td>2.22</td><td>11.3</td><td>2.91</td><td>4.0</td><td>2.22</td><td>13.0</td></tr></tbody></table></div>"
      ],
      "text/latex": [
       "\\begin{tabular}{r|cccccccc}\n",
       "\t& a1 & b1 & a2 & b2 & a3 & b3 & a4 & b4\\\\\n",
       "\t\\hline\n",
       "\t& Float64 & Float64 & Float64 & Float64 & Float64 & Float64 & Float64 & Float64\\\\\n",
       "\t\\hline\n",
       "\t1 & 1.05 & 6.04 & 11.17 & 3.23 & 10.99 & 7.46 & 8.6 & 6.56 \\\\\n",
       "\t2 & 2.2 & 6.99 & 3.33 & 8.57 & 8.7 & 6.77 & 7.07 & 5.76 \\\\\n",
       "\t3 & 13.07 & 6.28 & 3.46 & 9.24 & 13.0 & 12.74 & 8.06 & 7.77 \\\\\n",
       "\t4 & 9.9 & 9.81 & 4.57 & 1.09 & 9.4 & 7.11 & 5.8 & 8.12 \\\\\n",
       "\t5 & 11.16 & 1.33 & 1.24 & 9.99 & 1.0 & 7.81 & 2.12 & 8.47 \\\\\n",
       "\t6 & 12.0 & 4.56 & 9.8 & 8.67 & 4.0 & 8.84 & 6.1 & 7.03 \\\\\n",
       "\t7 & 6.0 & 8.24 & 4.99 & 6.9 & 6.0 & 6.08 & 1.01 & 5.2 \\\\\n",
       "\t8 & 3.0 & 5.26 & 1.67 & 3.45 & 4.4 & 5.39 & 19.0 & 12.6 \\\\\n",
       "\t9 & 1.01 & 10.88 & 13.9 & 9.17 & 13.2 & 8.15 & 11.1 & 5.56 \\\\\n",
       "\t10 & 7.09 & 3.81 & 7.7 & 7.22 & 8.6 & 6.42 & 8.05 & 7.81 \\\\\n",
       "\t11 & 5.35 & 2.66 & 8.67 & 4.75 & 15.6 & 5.73 & 7.77 & 6.08 \\\\\n",
       "\t12 & 8.63 & 6.27 & 2.22 & 11.3 & 2.91 & 4.0 & 2.22 & 13.0 \\\\\n",
       "\\end{tabular}\n"
      ],
      "text/plain": [
       "\u001b[1m12×8 DataFrame\u001b[0m\n",
       "\u001b[1m Row \u001b[0m│\u001b[1m a1      \u001b[0m\u001b[1m b1      \u001b[0m\u001b[1m a2      \u001b[0m\u001b[1m b2      \u001b[0m\u001b[1m a3      \u001b[0m\u001b[1m b3      \u001b[0m\u001b[1m a4      \u001b[0m\u001b[1m b4      \u001b[0m\n",
       "\u001b[1m     \u001b[0m│\u001b[90m Float64 \u001b[0m\u001b[90m Float64 \u001b[0m\u001b[90m Float64 \u001b[0m\u001b[90m Float64 \u001b[0m\u001b[90m Float64 \u001b[0m\u001b[90m Float64 \u001b[0m\u001b[90m Float64 \u001b[0m\u001b[90m Float64 \u001b[0m\n",
       "─────┼────────────────────────────────────────────────────────────────────────\n",
       "   1 │    1.05     6.04    11.17     3.23    10.99     7.46     8.6      6.56\n",
       "   2 │    2.2      6.99     3.33     8.57     8.7      6.77     7.07     5.76\n",
       "   3 │   13.07     6.28     3.46     9.24    13.0     12.74     8.06     7.77\n",
       "   4 │    9.9      9.81     4.57     1.09     9.4      7.11     5.8      8.12\n",
       "   5 │   11.16     1.33     1.24     9.99     1.0      7.81     2.12     8.47\n",
       "   6 │   12.0      4.56     9.8      8.67     4.0      8.84     6.1      7.03\n",
       "   7 │    6.0      8.24     4.99     6.9      6.0      6.08     1.01     5.2\n",
       "   8 │    3.0      5.26     1.67     3.45     4.4      5.39    19.0     12.6\n",
       "   9 │    1.01    10.88    13.9      9.17    13.2      8.15    11.1      5.56\n",
       "  10 │    7.09     3.81     7.7      7.22     8.6      6.42     8.05     7.81\n",
       "  11 │    5.35     2.66     8.67     4.75    15.6      5.73     7.77     6.08\n",
       "  12 │    8.63     6.27     2.22    11.3      2.91     4.0      2.22    13.0"
      ]
     },
     "execution_count": 12,
     "metadata": {},
     "output_type": "execute_result"
    }
   ],
   "source": [
    "#rename helps to use to the labels created by the vec function \n",
    "rename!(df, n)"
   ]
  },
  {
   "cell_type": "code",
   "execution_count": 13,
   "id": "c9a6b688",
   "metadata": {},
   "outputs": [
    {
     "data": {
      "text/html": [
       "<div class=\"data-frame\"><p>12 rows × 8 columns</p><table class=\"data-frame\"><thead><tr><th></th><th>a1</th><th>b1</th><th>a2</th><th>b2</th><th>a3</th><th>b3</th><th>a4</th><th>b4</th></tr><tr><th></th><th title=\"Float64\">Float64</th><th title=\"Float64\">Float64</th><th title=\"Float64\">Float64</th><th title=\"Float64\">Float64</th><th title=\"Float64\">Float64</th><th title=\"Float64\">Float64</th><th title=\"Float64\">Float64</th><th title=\"Float64\">Float64</th></tr></thead><tbody><tr><th>1</th><td>1.05</td><td>6.04</td><td>11.17</td><td>3.23</td><td>10.99</td><td>7.46</td><td>8.6</td><td>6.56</td></tr><tr><th>2</th><td>2.2</td><td>6.99</td><td>3.33</td><td>8.57</td><td>8.7</td><td>6.77</td><td>7.07</td><td>5.76</td></tr><tr><th>3</th><td>13.07</td><td>6.28</td><td>3.46</td><td>9.24</td><td>13.0</td><td>12.74</td><td>8.06</td><td>7.77</td></tr><tr><th>4</th><td>9.9</td><td>9.81</td><td>4.57</td><td>1.09</td><td>9.4</td><td>7.11</td><td>5.8</td><td>8.12</td></tr><tr><th>5</th><td>11.16</td><td>1.33</td><td>1.24</td><td>9.99</td><td>1.0</td><td>7.81</td><td>2.12</td><td>8.47</td></tr><tr><th>6</th><td>12.0</td><td>4.56</td><td>9.8</td><td>8.67</td><td>4.0</td><td>8.84</td><td>6.1</td><td>7.03</td></tr><tr><th>7</th><td>6.0</td><td>8.24</td><td>4.99</td><td>6.9</td><td>6.0</td><td>6.08</td><td>1.01</td><td>5.2</td></tr><tr><th>8</th><td>3.0</td><td>5.26</td><td>1.67</td><td>3.45</td><td>4.4</td><td>5.39</td><td>19.0</td><td>12.6</td></tr><tr><th>9</th><td>1.01</td><td>10.88</td><td>13.9</td><td>9.17</td><td>13.2</td><td>8.15</td><td>11.1</td><td>5.56</td></tr><tr><th>10</th><td>7.09</td><td>3.81</td><td>7.7</td><td>7.22</td><td>8.6</td><td>6.42</td><td>8.05</td><td>7.81</td></tr><tr><th>11</th><td>5.35</td><td>2.66</td><td>8.67</td><td>4.75</td><td>15.6</td><td>5.73</td><td>7.77</td><td>6.08</td></tr><tr><th>12</th><td>8.63</td><td>6.27</td><td>2.22</td><td>11.3</td><td>2.91</td><td>4.0</td><td>2.22</td><td>13.0</td></tr></tbody></table></div>"
      ],
      "text/latex": [
       "\\begin{tabular}{r|cccccccc}\n",
       "\t& a1 & b1 & a2 & b2 & a3 & b3 & a4 & b4\\\\\n",
       "\t\\hline\n",
       "\t& Float64 & Float64 & Float64 & Float64 & Float64 & Float64 & Float64 & Float64\\\\\n",
       "\t\\hline\n",
       "\t1 & 1.05 & 6.04 & 11.17 & 3.23 & 10.99 & 7.46 & 8.6 & 6.56 \\\\\n",
       "\t2 & 2.2 & 6.99 & 3.33 & 8.57 & 8.7 & 6.77 & 7.07 & 5.76 \\\\\n",
       "\t3 & 13.07 & 6.28 & 3.46 & 9.24 & 13.0 & 12.74 & 8.06 & 7.77 \\\\\n",
       "\t4 & 9.9 & 9.81 & 4.57 & 1.09 & 9.4 & 7.11 & 5.8 & 8.12 \\\\\n",
       "\t5 & 11.16 & 1.33 & 1.24 & 9.99 & 1.0 & 7.81 & 2.12 & 8.47 \\\\\n",
       "\t6 & 12.0 & 4.56 & 9.8 & 8.67 & 4.0 & 8.84 & 6.1 & 7.03 \\\\\n",
       "\t7 & 6.0 & 8.24 & 4.99 & 6.9 & 6.0 & 6.08 & 1.01 & 5.2 \\\\\n",
       "\t8 & 3.0 & 5.26 & 1.67 & 3.45 & 4.4 & 5.39 & 19.0 & 12.6 \\\\\n",
       "\t9 & 1.01 & 10.88 & 13.9 & 9.17 & 13.2 & 8.15 & 11.1 & 5.56 \\\\\n",
       "\t10 & 7.09 & 3.81 & 7.7 & 7.22 & 8.6 & 6.42 & 8.05 & 7.81 \\\\\n",
       "\t11 & 5.35 & 2.66 & 8.67 & 4.75 & 15.6 & 5.73 & 7.77 & 6.08 \\\\\n",
       "\t12 & 8.63 & 6.27 & 2.22 & 11.3 & 2.91 & 4.0 & 2.22 & 13.0 \\\\\n",
       "\\end{tabular}\n"
      ],
      "text/plain": [
       "\u001b[1m12×8 DataFrame\u001b[0m\n",
       "\u001b[1m Row \u001b[0m│\u001b[1m a1      \u001b[0m\u001b[1m b1      \u001b[0m\u001b[1m a2      \u001b[0m\u001b[1m b2      \u001b[0m\u001b[1m a3      \u001b[0m\u001b[1m b3      \u001b[0m\u001b[1m a4      \u001b[0m\u001b[1m b4      \u001b[0m\n",
       "\u001b[1m     \u001b[0m│\u001b[90m Float64 \u001b[0m\u001b[90m Float64 \u001b[0m\u001b[90m Float64 \u001b[0m\u001b[90m Float64 \u001b[0m\u001b[90m Float64 \u001b[0m\u001b[90m Float64 \u001b[0m\u001b[90m Float64 \u001b[0m\u001b[90m Float64 \u001b[0m\n",
       "─────┼────────────────────────────────────────────────────────────────────────\n",
       "   1 │    1.05     6.04    11.17     3.23    10.99     7.46     8.6      6.56\n",
       "   2 │    2.2      6.99     3.33     8.57     8.7      6.77     7.07     5.76\n",
       "   3 │   13.07     6.28     3.46     9.24    13.0     12.74     8.06     7.77\n",
       "   4 │    9.9      9.81     4.57     1.09     9.4      7.11     5.8      8.12\n",
       "   5 │   11.16     1.33     1.24     9.99     1.0      7.81     2.12     8.47\n",
       "   6 │   12.0      4.56     9.8      8.67     4.0      8.84     6.1      7.03\n",
       "   7 │    6.0      8.24     4.99     6.9      6.0      6.08     1.01     5.2\n",
       "   8 │    3.0      5.26     1.67     3.45     4.4      5.39    19.0     12.6\n",
       "   9 │    1.01    10.88    13.9      9.17    13.2      8.15    11.1      5.56\n",
       "  10 │    7.09     3.81     7.7      7.22     8.6      6.42     8.05     7.81\n",
       "  11 │    5.35     2.66     8.67     4.75    15.6      5.73     7.77     6.08\n",
       "  12 │    8.63     6.27     2.22    11.3      2.91     4.0      2.22    13.0"
      ]
     },
     "execution_count": 13,
     "metadata": {},
     "output_type": "execute_result"
    }
   ],
   "source": [
    "#This is also another method to create the labels\n",
    "DataFrame(mt, [:a1, :b1, :a2, :b2, :a3, :b3, :a4, :b4])"
   ]
  },
  {
   "cell_type": "code",
   "execution_count": 15,
   "id": "82227482",
   "metadata": {},
   "outputs": [
    {
     "data": {
      "text/plain": [
       "12-element Vector{Float64}:\n",
       "  3.23\n",
       "  8.57\n",
       "  9.24\n",
       "  1.09\n",
       "  9.99\n",
       "  8.67\n",
       "  6.9\n",
       "  3.45\n",
       "  9.17\n",
       "  7.22\n",
       "  4.75\n",
       " 11.3"
      ]
     },
     "execution_count": 15,
     "metadata": {},
     "output_type": "execute_result"
    }
   ],
   "source": [
    "#here are the ways to access the column values\n",
    "df.b2"
   ]
  },
  {
   "cell_type": "code",
   "execution_count": 16,
   "id": "7c197e2e",
   "metadata": {},
   "outputs": [
    {
     "data": {
      "text/plain": [
       "12-element Vector{Float64}:\n",
       "  3.23\n",
       "  8.57\n",
       "  9.24\n",
       "  1.09\n",
       "  9.99\n",
       "  8.67\n",
       "  6.9\n",
       "  3.45\n",
       "  9.17\n",
       "  7.22\n",
       "  4.75\n",
       " 11.3"
      ]
     },
     "execution_count": 16,
     "metadata": {},
     "output_type": "execute_result"
    }
   ],
   "source": [
    "df.\"b2\""
   ]
  },
  {
   "cell_type": "code",
   "execution_count": 17,
   "id": "2b044ebd",
   "metadata": {},
   "outputs": [
    {
     "data": {
      "text/plain": [
       "12-element Vector{Float64}:\n",
       "  3.23\n",
       "  8.57\n",
       "  9.24\n",
       "  1.09\n",
       "  9.99\n",
       "  8.67\n",
       "  6.9\n",
       "  3.45\n",
       "  9.17\n",
       "  7.22\n",
       "  4.75\n",
       " 11.3"
      ]
     },
     "execution_count": 17,
     "metadata": {},
     "output_type": "execute_result"
    }
   ],
   "source": [
    "df[:, :b2]"
   ]
  },
  {
   "cell_type": "code",
   "execution_count": 18,
   "id": "e04d7d3c",
   "metadata": {},
   "outputs": [
    {
     "data": {
      "text/plain": [
       "12-element Vector{Float64}:\n",
       "  3.23\n",
       "  8.57\n",
       "  9.24\n",
       "  1.09\n",
       "  9.99\n",
       "  8.67\n",
       "  6.9\n",
       "  3.45\n",
       "  9.17\n",
       "  7.22\n",
       "  4.75\n",
       " 11.3"
      ]
     },
     "execution_count": 18,
     "metadata": {},
     "output_type": "execute_result"
    }
   ],
   "source": [
    "df[:, \"b2\"]"
   ]
  },
  {
   "cell_type": "markdown",
   "id": "2cfca18f",
   "metadata": {},
   "source": [
    "You can use select! function to group columns with similar labels on one side and group others on the other side"
   ]
  },
  {
   "cell_type": "code",
   "execution_count": 45,
   "id": "00a2feed",
   "metadata": {},
   "outputs": [
    {
     "data": {
      "text/html": [
       "<div class=\"data-frame\"><p>12 rows × 8 columns</p><table class=\"data-frame\"><thead><tr><th></th><th>a1</th><th>a2</th><th>a3</th><th>a4</th><th>b1</th><th>b2</th><th>b3</th><th>b4</th></tr><tr><th></th><th title=\"Float64\">Float64</th><th title=\"Float64\">Float64</th><th title=\"Float64\">Float64</th><th title=\"Float64\">Float64</th><th title=\"Float64\">Float64</th><th title=\"Float64\">Float64</th><th title=\"Float64\">Float64</th><th title=\"Float64\">Float64</th></tr></thead><tbody><tr><th>1</th><td>1.05</td><td>11.17</td><td>10.99</td><td>8.6</td><td>6.04</td><td>3.23</td><td>7.46</td><td>6.56</td></tr><tr><th>2</th><td>2.2</td><td>3.33</td><td>8.7</td><td>7.07</td><td>6.99</td><td>8.57</td><td>6.77</td><td>5.76</td></tr><tr><th>3</th><td>13.07</td><td>3.46</td><td>13.0</td><td>8.06</td><td>6.28</td><td>9.24</td><td>12.74</td><td>7.77</td></tr><tr><th>4</th><td>9.9</td><td>4.57</td><td>9.4</td><td>5.8</td><td>9.81</td><td>1.09</td><td>7.11</td><td>8.12</td></tr><tr><th>5</th><td>11.16</td><td>1.24</td><td>1.0</td><td>2.12</td><td>1.33</td><td>9.99</td><td>7.81</td><td>8.47</td></tr><tr><th>6</th><td>12.0</td><td>9.8</td><td>4.0</td><td>6.1</td><td>4.56</td><td>8.67</td><td>8.84</td><td>7.03</td></tr><tr><th>7</th><td>6.0</td><td>4.99</td><td>6.0</td><td>1.01</td><td>8.24</td><td>6.9</td><td>6.08</td><td>5.2</td></tr><tr><th>8</th><td>3.0</td><td>1.67</td><td>4.4</td><td>19.0</td><td>5.26</td><td>3.45</td><td>5.39</td><td>12.6</td></tr><tr><th>9</th><td>1.01</td><td>13.9</td><td>13.2</td><td>11.1</td><td>10.88</td><td>9.17</td><td>8.15</td><td>5.56</td></tr><tr><th>10</th><td>7.09</td><td>7.7</td><td>8.6</td><td>8.05</td><td>3.81</td><td>7.22</td><td>6.42</td><td>7.81</td></tr><tr><th>11</th><td>5.35</td><td>8.67</td><td>15.6</td><td>7.77</td><td>2.66</td><td>4.75</td><td>5.73</td><td>6.08</td></tr><tr><th>12</th><td>8.63</td><td>2.22</td><td>2.91</td><td>2.22</td><td>6.27</td><td>11.3</td><td>4.0</td><td>13.0</td></tr></tbody></table></div>"
      ],
      "text/latex": [
       "\\begin{tabular}{r|cccccccc}\n",
       "\t& a1 & a2 & a3 & a4 & b1 & b2 & b3 & b4\\\\\n",
       "\t\\hline\n",
       "\t& Float64 & Float64 & Float64 & Float64 & Float64 & Float64 & Float64 & Float64\\\\\n",
       "\t\\hline\n",
       "\t1 & 1.05 & 11.17 & 10.99 & 8.6 & 6.04 & 3.23 & 7.46 & 6.56 \\\\\n",
       "\t2 & 2.2 & 3.33 & 8.7 & 7.07 & 6.99 & 8.57 & 6.77 & 5.76 \\\\\n",
       "\t3 & 13.07 & 3.46 & 13.0 & 8.06 & 6.28 & 9.24 & 12.74 & 7.77 \\\\\n",
       "\t4 & 9.9 & 4.57 & 9.4 & 5.8 & 9.81 & 1.09 & 7.11 & 8.12 \\\\\n",
       "\t5 & 11.16 & 1.24 & 1.0 & 2.12 & 1.33 & 9.99 & 7.81 & 8.47 \\\\\n",
       "\t6 & 12.0 & 9.8 & 4.0 & 6.1 & 4.56 & 8.67 & 8.84 & 7.03 \\\\\n",
       "\t7 & 6.0 & 4.99 & 6.0 & 1.01 & 8.24 & 6.9 & 6.08 & 5.2 \\\\\n",
       "\t8 & 3.0 & 1.67 & 4.4 & 19.0 & 5.26 & 3.45 & 5.39 & 12.6 \\\\\n",
       "\t9 & 1.01 & 13.9 & 13.2 & 11.1 & 10.88 & 9.17 & 8.15 & 5.56 \\\\\n",
       "\t10 & 7.09 & 7.7 & 8.6 & 8.05 & 3.81 & 7.22 & 6.42 & 7.81 \\\\\n",
       "\t11 & 5.35 & 8.67 & 15.6 & 7.77 & 2.66 & 4.75 & 5.73 & 6.08 \\\\\n",
       "\t12 & 8.63 & 2.22 & 2.91 & 2.22 & 6.27 & 11.3 & 4.0 & 13.0 \\\\\n",
       "\\end{tabular}\n"
      ],
      "text/plain": [
       "\u001b[1m12×8 DataFrame\u001b[0m\n",
       "\u001b[1m Row \u001b[0m│\u001b[1m a1      \u001b[0m\u001b[1m a2      \u001b[0m\u001b[1m a3      \u001b[0m\u001b[1m a4      \u001b[0m\u001b[1m b1      \u001b[0m\u001b[1m b2      \u001b[0m\u001b[1m b3      \u001b[0m\u001b[1m b4      \u001b[0m\n",
       "\u001b[1m     \u001b[0m│\u001b[90m Float64 \u001b[0m\u001b[90m Float64 \u001b[0m\u001b[90m Float64 \u001b[0m\u001b[90m Float64 \u001b[0m\u001b[90m Float64 \u001b[0m\u001b[90m Float64 \u001b[0m\u001b[90m Float64 \u001b[0m\u001b[90m Float64 \u001b[0m\n",
       "─────┼────────────────────────────────────────────────────────────────────────\n",
       "   1 │    1.05    11.17    10.99     8.6      6.04     3.23     7.46     6.56\n",
       "   2 │    2.2      3.33     8.7      7.07     6.99     8.57     6.77     5.76\n",
       "   3 │   13.07     3.46    13.0      8.06     6.28     9.24    12.74     7.77\n",
       "   4 │    9.9      4.57     9.4      5.8      9.81     1.09     7.11     8.12\n",
       "   5 │   11.16     1.24     1.0      2.12     1.33     9.99     7.81     8.47\n",
       "   6 │   12.0      9.8      4.0      6.1      4.56     8.67     8.84     7.03\n",
       "   7 │    6.0      4.99     6.0      1.01     8.24     6.9      6.08     5.2\n",
       "   8 │    3.0      1.67     4.4     19.0      5.26     3.45     5.39    12.6\n",
       "   9 │    1.01    13.9     13.2     11.1     10.88     9.17     8.15     5.56\n",
       "  10 │    7.09     7.7      8.6      8.05     3.81     7.22     6.42     7.81\n",
       "  11 │    5.35     8.67    15.6      7.77     2.66     4.75     5.73     6.08\n",
       "  12 │    8.63     2.22     2.91     2.22     6.27    11.3      4.0     13.0"
      ]
     },
     "execution_count": 45,
     "metadata": {},
     "output_type": "execute_result"
    }
   ],
   "source": [
    "select!(df, r\"a\", :)"
   ]
  },
  {
   "cell_type": "code",
   "execution_count": 47,
   "id": "3c0420e6",
   "metadata": {},
   "outputs": [
    {
     "data": {
      "text/html": [
       "<div class=\"data-frame\"><p>8 rows × 3 columns</p><table class=\"data-frame\"><thead><tr><th></th><th>variable</th><th>mean</th><th>std</th></tr><tr><th></th><th title=\"Symbol\">Symbol</th><th title=\"Float64\">Float64</th><th title=\"Float64\">Float64</th></tr></thead><tbody><tr><th>1</th><td>a1</td><td>6.705</td><td>4.29827</td></tr><tr><th>2</th><td>a2</td><td>6.06</td><td>4.11091</td></tr><tr><th>3</th><td>a3</td><td>8.15</td><td>4.56417</td></tr><tr><th>4</th><td>a4</td><td>7.24167</td><td>4.77004</td></tr><tr><th>5</th><td>b1</td><td>6.01083</td><td>2.77753</td></tr><tr><th>6</th><td>b2</td><td>6.965</td><td>3.15162</td></tr><tr><th>7</th><td>b3</td><td>7.20833</td><td>2.18373</td></tr><tr><th>8</th><td>b4</td><td>7.83</td><td>2.55218</td></tr></tbody></table></div>"
      ],
      "text/latex": [
       "\\begin{tabular}{r|ccc}\n",
       "\t& variable & mean & std\\\\\n",
       "\t\\hline\n",
       "\t& Symbol & Float64 & Float64\\\\\n",
       "\t\\hline\n",
       "\t1 & a1 & 6.705 & 4.29827 \\\\\n",
       "\t2 & a2 & 6.06 & 4.11091 \\\\\n",
       "\t3 & a3 & 8.15 & 4.56417 \\\\\n",
       "\t4 & a4 & 7.24167 & 4.77004 \\\\\n",
       "\t5 & b1 & 6.01083 & 2.77753 \\\\\n",
       "\t6 & b2 & 6.965 & 3.15162 \\\\\n",
       "\t7 & b3 & 7.20833 & 2.18373 \\\\\n",
       "\t8 & b4 & 7.83 & 2.55218 \\\\\n",
       "\\end{tabular}\n"
      ],
      "text/plain": [
       "\u001b[1m8×3 DataFrame\u001b[0m\n",
       "\u001b[1m Row \u001b[0m│\u001b[1m variable \u001b[0m\u001b[1m mean    \u001b[0m\u001b[1m std     \u001b[0m\n",
       "\u001b[1m     \u001b[0m│\u001b[90m Symbol   \u001b[0m\u001b[90m Float64 \u001b[0m\u001b[90m Float64 \u001b[0m\n",
       "─────┼────────────────────────────\n",
       "   1 │ a1        6.705    4.29827\n",
       "   2 │ a2        6.06     4.11091\n",
       "   3 │ a3        8.15     4.56417\n",
       "   4 │ a4        7.24167  4.77004\n",
       "   5 │ b1        6.01083  2.77753\n",
       "   6 │ b2        6.965    3.15162\n",
       "   7 │ b3        7.20833  2.18373\n",
       "   8 │ b4        7.83     2.55218"
      ]
     },
     "execution_count": 47,
     "metadata": {},
     "output_type": "execute_result"
    }
   ],
   "source": [
    "#describe is a statistical function\n",
    "describe(df, mean => :mean, std => :std)"
   ]
  },
  {
   "cell_type": "markdown",
   "id": "7e997a7b",
   "metadata": {},
   "source": [
    "Add a new column by the name of id"
   ]
  },
  {
   "cell_type": "code",
   "execution_count": 19,
   "id": "cd0c4740",
   "metadata": {},
   "outputs": [
    {
     "data": {
      "text/html": [
       "<div class=\"data-frame\"><p>12 rows × 9 columns</p><table class=\"data-frame\"><thead><tr><th></th><th>a1</th><th>b1</th><th>a2</th><th>b2</th><th>a3</th><th>b3</th><th>a4</th><th>b4</th><th>c_id</th></tr><tr><th></th><th title=\"Float64\">Float64</th><th title=\"Float64\">Float64</th><th title=\"Float64\">Float64</th><th title=\"Float64\">Float64</th><th title=\"Float64\">Float64</th><th title=\"Float64\">Float64</th><th title=\"Float64\">Float64</th><th title=\"Float64\">Float64</th><th title=\"Int64\">Int64</th></tr></thead><tbody><tr><th>1</th><td>1.05</td><td>6.04</td><td>11.17</td><td>3.23</td><td>10.99</td><td>7.46</td><td>8.6</td><td>6.56</td><td>1</td></tr><tr><th>2</th><td>2.2</td><td>6.99</td><td>3.33</td><td>8.57</td><td>8.7</td><td>6.77</td><td>7.07</td><td>5.76</td><td>2</td></tr><tr><th>3</th><td>13.07</td><td>6.28</td><td>3.46</td><td>9.24</td><td>13.0</td><td>12.74</td><td>8.06</td><td>7.77</td><td>3</td></tr><tr><th>4</th><td>9.9</td><td>9.81</td><td>4.57</td><td>1.09</td><td>9.4</td><td>7.11</td><td>5.8</td><td>8.12</td><td>4</td></tr><tr><th>5</th><td>11.16</td><td>1.33</td><td>1.24</td><td>9.99</td><td>1.0</td><td>7.81</td><td>2.12</td><td>8.47</td><td>5</td></tr><tr><th>6</th><td>12.0</td><td>4.56</td><td>9.8</td><td>8.67</td><td>4.0</td><td>8.84</td><td>6.1</td><td>7.03</td><td>6</td></tr><tr><th>7</th><td>6.0</td><td>8.24</td><td>4.99</td><td>6.9</td><td>6.0</td><td>6.08</td><td>1.01</td><td>5.2</td><td>7</td></tr><tr><th>8</th><td>3.0</td><td>5.26</td><td>1.67</td><td>3.45</td><td>4.4</td><td>5.39</td><td>19.0</td><td>12.6</td><td>8</td></tr><tr><th>9</th><td>1.01</td><td>10.88</td><td>13.9</td><td>9.17</td><td>13.2</td><td>8.15</td><td>11.1</td><td>5.56</td><td>9</td></tr><tr><th>10</th><td>7.09</td><td>3.81</td><td>7.7</td><td>7.22</td><td>8.6</td><td>6.42</td><td>8.05</td><td>7.81</td><td>10</td></tr><tr><th>11</th><td>5.35</td><td>2.66</td><td>8.67</td><td>4.75</td><td>15.6</td><td>5.73</td><td>7.77</td><td>6.08</td><td>11</td></tr><tr><th>12</th><td>8.63</td><td>6.27</td><td>2.22</td><td>11.3</td><td>2.91</td><td>4.0</td><td>2.22</td><td>13.0</td><td>12</td></tr></tbody></table></div>"
      ],
      "text/latex": [
       "\\begin{tabular}{r|ccccccccc}\n",
       "\t& a1 & b1 & a2 & b2 & a3 & b3 & a4 & b4 & c\\_id\\\\\n",
       "\t\\hline\n",
       "\t& Float64 & Float64 & Float64 & Float64 & Float64 & Float64 & Float64 & Float64 & Int64\\\\\n",
       "\t\\hline\n",
       "\t1 & 1.05 & 6.04 & 11.17 & 3.23 & 10.99 & 7.46 & 8.6 & 6.56 & 1 \\\\\n",
       "\t2 & 2.2 & 6.99 & 3.33 & 8.57 & 8.7 & 6.77 & 7.07 & 5.76 & 2 \\\\\n",
       "\t3 & 13.07 & 6.28 & 3.46 & 9.24 & 13.0 & 12.74 & 8.06 & 7.77 & 3 \\\\\n",
       "\t4 & 9.9 & 9.81 & 4.57 & 1.09 & 9.4 & 7.11 & 5.8 & 8.12 & 4 \\\\\n",
       "\t5 & 11.16 & 1.33 & 1.24 & 9.99 & 1.0 & 7.81 & 2.12 & 8.47 & 5 \\\\\n",
       "\t6 & 12.0 & 4.56 & 9.8 & 8.67 & 4.0 & 8.84 & 6.1 & 7.03 & 6 \\\\\n",
       "\t7 & 6.0 & 8.24 & 4.99 & 6.9 & 6.0 & 6.08 & 1.01 & 5.2 & 7 \\\\\n",
       "\t8 & 3.0 & 5.26 & 1.67 & 3.45 & 4.4 & 5.39 & 19.0 & 12.6 & 8 \\\\\n",
       "\t9 & 1.01 & 10.88 & 13.9 & 9.17 & 13.2 & 8.15 & 11.1 & 5.56 & 9 \\\\\n",
       "\t10 & 7.09 & 3.81 & 7.7 & 7.22 & 8.6 & 6.42 & 8.05 & 7.81 & 10 \\\\\n",
       "\t11 & 5.35 & 2.66 & 8.67 & 4.75 & 15.6 & 5.73 & 7.77 & 6.08 & 11 \\\\\n",
       "\t12 & 8.63 & 6.27 & 2.22 & 11.3 & 2.91 & 4.0 & 2.22 & 13.0 & 12 \\\\\n",
       "\\end{tabular}\n"
      ],
      "text/plain": [
       "\u001b[1m12×9 DataFrame\u001b[0m\n",
       "\u001b[1m Row \u001b[0m│\u001b[1m a1      \u001b[0m\u001b[1m b1      \u001b[0m\u001b[1m a2      \u001b[0m\u001b[1m b2      \u001b[0m\u001b[1m a3      \u001b[0m\u001b[1m b3      \u001b[0m\u001b[1m a4      \u001b[0m\u001b[1m b4      \u001b[0m\u001b[1m\u001b[0m ⋯\n",
       "\u001b[1m     \u001b[0m│\u001b[90m Float64 \u001b[0m\u001b[90m Float64 \u001b[0m\u001b[90m Float64 \u001b[0m\u001b[90m Float64 \u001b[0m\u001b[90m Float64 \u001b[0m\u001b[90m Float64 \u001b[0m\u001b[90m Float64 \u001b[0m\u001b[90m Float64 \u001b[0m\u001b[90m\u001b[0m ⋯\n",
       "─────┼──────────────────────────────────────────────────────────────────────────\n",
       "   1 │    1.05     6.04    11.17     3.23    10.99     7.46     8.6      6.56  ⋯\n",
       "   2 │    2.2      6.99     3.33     8.57     8.7      6.77     7.07     5.76\n",
       "   3 │   13.07     6.28     3.46     9.24    13.0     12.74     8.06     7.77\n",
       "   4 │    9.9      9.81     4.57     1.09     9.4      7.11     5.8      8.12\n",
       "   5 │   11.16     1.33     1.24     9.99     1.0      7.81     2.12     8.47  ⋯\n",
       "   6 │   12.0      4.56     9.8      8.67     4.0      8.84     6.1      7.03\n",
       "   7 │    6.0      8.24     4.99     6.9      6.0      6.08     1.01     5.2\n",
       "   8 │    3.0      5.26     1.67     3.45     4.4      5.39    19.0     12.6\n",
       "   9 │    1.01    10.88    13.9      9.17    13.2      8.15    11.1      5.56  ⋯\n",
       "  10 │    7.09     3.81     7.7      7.22     8.6      6.42     8.05     7.81\n",
       "  11 │    5.35     2.66     8.67     4.75    15.6      5.73     7.77     6.08\n",
       "  12 │    8.63     6.27     2.22    11.3      2.91     4.0      2.22    13.0\n",
       "\u001b[36m                                                                1 column omitted\u001b[0m"
      ]
     },
     "execution_count": 19,
     "metadata": {},
     "output_type": "execute_result"
    }
   ],
   "source": [
    "df.c_id = 1:nrow(df)\n",
    "df"
   ]
  },
  {
   "cell_type": "code",
   "execution_count": 20,
   "id": "091584fd",
   "metadata": {},
   "outputs": [
    {
     "data": {
      "text/html": [
       "<div class=\"data-frame\"><p>12 rows × 9 columns</p><table class=\"data-frame\"><thead><tr><th></th><th>c_id</th><th>a1</th><th>b1</th><th>a2</th><th>b2</th><th>a3</th><th>b3</th><th>a4</th><th>b4</th></tr><tr><th></th><th title=\"Int64\">Int64</th><th title=\"Float64\">Float64</th><th title=\"Float64\">Float64</th><th title=\"Float64\">Float64</th><th title=\"Float64\">Float64</th><th title=\"Float64\">Float64</th><th title=\"Float64\">Float64</th><th title=\"Float64\">Float64</th><th title=\"Float64\">Float64</th></tr></thead><tbody><tr><th>1</th><td>1</td><td>1.05</td><td>6.04</td><td>11.17</td><td>3.23</td><td>10.99</td><td>7.46</td><td>8.6</td><td>6.56</td></tr><tr><th>2</th><td>2</td><td>2.2</td><td>6.99</td><td>3.33</td><td>8.57</td><td>8.7</td><td>6.77</td><td>7.07</td><td>5.76</td></tr><tr><th>3</th><td>3</td><td>13.07</td><td>6.28</td><td>3.46</td><td>9.24</td><td>13.0</td><td>12.74</td><td>8.06</td><td>7.77</td></tr><tr><th>4</th><td>4</td><td>9.9</td><td>9.81</td><td>4.57</td><td>1.09</td><td>9.4</td><td>7.11</td><td>5.8</td><td>8.12</td></tr><tr><th>5</th><td>5</td><td>11.16</td><td>1.33</td><td>1.24</td><td>9.99</td><td>1.0</td><td>7.81</td><td>2.12</td><td>8.47</td></tr><tr><th>6</th><td>6</td><td>12.0</td><td>4.56</td><td>9.8</td><td>8.67</td><td>4.0</td><td>8.84</td><td>6.1</td><td>7.03</td></tr><tr><th>7</th><td>7</td><td>6.0</td><td>8.24</td><td>4.99</td><td>6.9</td><td>6.0</td><td>6.08</td><td>1.01</td><td>5.2</td></tr><tr><th>8</th><td>8</td><td>3.0</td><td>5.26</td><td>1.67</td><td>3.45</td><td>4.4</td><td>5.39</td><td>19.0</td><td>12.6</td></tr><tr><th>9</th><td>9</td><td>1.01</td><td>10.88</td><td>13.9</td><td>9.17</td><td>13.2</td><td>8.15</td><td>11.1</td><td>5.56</td></tr><tr><th>10</th><td>10</td><td>7.09</td><td>3.81</td><td>7.7</td><td>7.22</td><td>8.6</td><td>6.42</td><td>8.05</td><td>7.81</td></tr><tr><th>11</th><td>11</td><td>5.35</td><td>2.66</td><td>8.67</td><td>4.75</td><td>15.6</td><td>5.73</td><td>7.77</td><td>6.08</td></tr><tr><th>12</th><td>12</td><td>8.63</td><td>6.27</td><td>2.22</td><td>11.3</td><td>2.91</td><td>4.0</td><td>2.22</td><td>13.0</td></tr></tbody></table></div>"
      ],
      "text/latex": [
       "\\begin{tabular}{r|ccccccccc}\n",
       "\t& c\\_id & a1 & b1 & a2 & b2 & a3 & b3 & a4 & b4\\\\\n",
       "\t\\hline\n",
       "\t& Int64 & Float64 & Float64 & Float64 & Float64 & Float64 & Float64 & Float64 & Float64\\\\\n",
       "\t\\hline\n",
       "\t1 & 1 & 1.05 & 6.04 & 11.17 & 3.23 & 10.99 & 7.46 & 8.6 & 6.56 \\\\\n",
       "\t2 & 2 & 2.2 & 6.99 & 3.33 & 8.57 & 8.7 & 6.77 & 7.07 & 5.76 \\\\\n",
       "\t3 & 3 & 13.07 & 6.28 & 3.46 & 9.24 & 13.0 & 12.74 & 8.06 & 7.77 \\\\\n",
       "\t4 & 4 & 9.9 & 9.81 & 4.57 & 1.09 & 9.4 & 7.11 & 5.8 & 8.12 \\\\\n",
       "\t5 & 5 & 11.16 & 1.33 & 1.24 & 9.99 & 1.0 & 7.81 & 2.12 & 8.47 \\\\\n",
       "\t6 & 6 & 12.0 & 4.56 & 9.8 & 8.67 & 4.0 & 8.84 & 6.1 & 7.03 \\\\\n",
       "\t7 & 7 & 6.0 & 8.24 & 4.99 & 6.9 & 6.0 & 6.08 & 1.01 & 5.2 \\\\\n",
       "\t8 & 8 & 3.0 & 5.26 & 1.67 & 3.45 & 4.4 & 5.39 & 19.0 & 12.6 \\\\\n",
       "\t9 & 9 & 1.01 & 10.88 & 13.9 & 9.17 & 13.2 & 8.15 & 11.1 & 5.56 \\\\\n",
       "\t10 & 10 & 7.09 & 3.81 & 7.7 & 7.22 & 8.6 & 6.42 & 8.05 & 7.81 \\\\\n",
       "\t11 & 11 & 5.35 & 2.66 & 8.67 & 4.75 & 15.6 & 5.73 & 7.77 & 6.08 \\\\\n",
       "\t12 & 12 & 8.63 & 6.27 & 2.22 & 11.3 & 2.91 & 4.0 & 2.22 & 13.0 \\\\\n",
       "\\end{tabular}\n"
      ],
      "text/plain": [
       "\u001b[1m12×9 DataFrame\u001b[0m\n",
       "\u001b[1m Row \u001b[0m│\u001b[1m c_id  \u001b[0m\u001b[1m a1      \u001b[0m\u001b[1m b1      \u001b[0m\u001b[1m a2      \u001b[0m\u001b[1m b2      \u001b[0m\u001b[1m a3      \u001b[0m\u001b[1m b3      \u001b[0m\u001b[1m a4      \u001b[0m\u001b[1m b\u001b[0m ⋯\n",
       "\u001b[1m     \u001b[0m│\u001b[90m Int64 \u001b[0m\u001b[90m Float64 \u001b[0m\u001b[90m Float64 \u001b[0m\u001b[90m Float64 \u001b[0m\u001b[90m Float64 \u001b[0m\u001b[90m Float64 \u001b[0m\u001b[90m Float64 \u001b[0m\u001b[90m Float64 \u001b[0m\u001b[90m F\u001b[0m ⋯\n",
       "─────┼──────────────────────────────────────────────────────────────────────────\n",
       "   1 │     1     1.05     6.04    11.17     3.23    10.99     7.46     8.6     ⋯\n",
       "   2 │     2     2.2      6.99     3.33     8.57     8.7      6.77     7.07\n",
       "   3 │     3    13.07     6.28     3.46     9.24    13.0     12.74     8.06\n",
       "   4 │     4     9.9      9.81     4.57     1.09     9.4      7.11     5.8\n",
       "   5 │     5    11.16     1.33     1.24     9.99     1.0      7.81     2.12    ⋯\n",
       "   6 │     6    12.0      4.56     9.8      8.67     4.0      8.84     6.1\n",
       "   7 │     7     6.0      8.24     4.99     6.9      6.0      6.08     1.01\n",
       "   8 │     8     3.0      5.26     1.67     3.45     4.4      5.39    19.0\n",
       "   9 │     9     1.01    10.88    13.9      9.17    13.2      8.15    11.1     ⋯\n",
       "  10 │    10     7.09     3.81     7.7      7.22     8.6      6.42     8.05\n",
       "  11 │    11     5.35     2.66     8.67     4.75    15.6      5.73     7.77\n",
       "  12 │    12     8.63     6.27     2.22    11.3      2.91     4.0      2.22\n",
       "\u001b[36m                                                                1 column omitted\u001b[0m"
      ]
     },
     "execution_count": 20,
     "metadata": {},
     "output_type": "execute_result"
    }
   ],
   "source": [
    "select(df, \"c_id\", :)"
   ]
  },
  {
   "cell_type": "code",
   "execution_count": 21,
   "id": "dd9402bf",
   "metadata": {},
   "outputs": [
    {
     "data": {
      "text/html": [
       "<div class=\"data-frame\"><p>12 rows × 9 columns</p><table class=\"data-frame\"><thead><tr><th></th><th>a1</th><th>b1</th><th>a2</th><th>b2</th><th>a3</th><th>b3</th><th>a4</th><th>b4</th><th>c_id</th></tr><tr><th></th><th title=\"Float64\">Float64</th><th title=\"Float64\">Float64</th><th title=\"Float64\">Float64</th><th title=\"Float64\">Float64</th><th title=\"Float64\">Float64</th><th title=\"Float64\">Float64</th><th title=\"Float64\">Float64</th><th title=\"Float64\">Float64</th><th title=\"Int64\">Int64</th></tr></thead><tbody><tr><th>1</th><td>1.05</td><td>6.04</td><td>11.17</td><td>3.23</td><td>10.99</td><td>7.46</td><td>8.6</td><td>6.56</td><td>1</td></tr><tr><th>2</th><td>2.2</td><td>6.99</td><td>3.33</td><td>8.57</td><td>8.7</td><td>6.77</td><td>7.07</td><td>5.76</td><td>2</td></tr><tr><th>3</th><td>13.07</td><td>6.28</td><td>3.46</td><td>9.24</td><td>13.0</td><td>12.74</td><td>8.06</td><td>7.77</td><td>3</td></tr><tr><th>4</th><td>9.9</td><td>9.81</td><td>4.57</td><td>1.09</td><td>9.4</td><td>7.11</td><td>5.8</td><td>8.12</td><td>4</td></tr><tr><th>5</th><td>11.16</td><td>1.33</td><td>1.24</td><td>9.99</td><td>1.0</td><td>7.81</td><td>2.12</td><td>8.47</td><td>5</td></tr><tr><th>6</th><td>12.0</td><td>4.56</td><td>9.8</td><td>8.67</td><td>4.0</td><td>8.84</td><td>6.1</td><td>7.03</td><td>6</td></tr><tr><th>7</th><td>6.0</td><td>8.24</td><td>4.99</td><td>6.9</td><td>6.0</td><td>6.08</td><td>1.01</td><td>5.2</td><td>7</td></tr><tr><th>8</th><td>3.0</td><td>5.26</td><td>1.67</td><td>3.45</td><td>4.4</td><td>5.39</td><td>19.0</td><td>12.6</td><td>8</td></tr><tr><th>9</th><td>1.01</td><td>10.88</td><td>13.9</td><td>9.17</td><td>13.2</td><td>8.15</td><td>11.1</td><td>5.56</td><td>9</td></tr><tr><th>10</th><td>7.09</td><td>3.81</td><td>7.7</td><td>7.22</td><td>8.6</td><td>6.42</td><td>8.05</td><td>7.81</td><td>10</td></tr><tr><th>11</th><td>5.35</td><td>2.66</td><td>8.67</td><td>4.75</td><td>15.6</td><td>5.73</td><td>7.77</td><td>6.08</td><td>11</td></tr><tr><th>12</th><td>8.63</td><td>6.27</td><td>2.22</td><td>11.3</td><td>2.91</td><td>4.0</td><td>2.22</td><td>13.0</td><td>12</td></tr></tbody></table></div>"
      ],
      "text/latex": [
       "\\begin{tabular}{r|ccccccccc}\n",
       "\t& a1 & b1 & a2 & b2 & a3 & b3 & a4 & b4 & c\\_id\\\\\n",
       "\t\\hline\n",
       "\t& Float64 & Float64 & Float64 & Float64 & Float64 & Float64 & Float64 & Float64 & Int64\\\\\n",
       "\t\\hline\n",
       "\t1 & 1.05 & 6.04 & 11.17 & 3.23 & 10.99 & 7.46 & 8.6 & 6.56 & 1 \\\\\n",
       "\t2 & 2.2 & 6.99 & 3.33 & 8.57 & 8.7 & 6.77 & 7.07 & 5.76 & 2 \\\\\n",
       "\t3 & 13.07 & 6.28 & 3.46 & 9.24 & 13.0 & 12.74 & 8.06 & 7.77 & 3 \\\\\n",
       "\t4 & 9.9 & 9.81 & 4.57 & 1.09 & 9.4 & 7.11 & 5.8 & 8.12 & 4 \\\\\n",
       "\t5 & 11.16 & 1.33 & 1.24 & 9.99 & 1.0 & 7.81 & 2.12 & 8.47 & 5 \\\\\n",
       "\t6 & 12.0 & 4.56 & 9.8 & 8.67 & 4.0 & 8.84 & 6.1 & 7.03 & 6 \\\\\n",
       "\t7 & 6.0 & 8.24 & 4.99 & 6.9 & 6.0 & 6.08 & 1.01 & 5.2 & 7 \\\\\n",
       "\t8 & 3.0 & 5.26 & 1.67 & 3.45 & 4.4 & 5.39 & 19.0 & 12.6 & 8 \\\\\n",
       "\t9 & 1.01 & 10.88 & 13.9 & 9.17 & 13.2 & 8.15 & 11.1 & 5.56 & 9 \\\\\n",
       "\t10 & 7.09 & 3.81 & 7.7 & 7.22 & 8.6 & 6.42 & 8.05 & 7.81 & 10 \\\\\n",
       "\t11 & 5.35 & 2.66 & 8.67 & 4.75 & 15.6 & 5.73 & 7.77 & 6.08 & 11 \\\\\n",
       "\t12 & 8.63 & 6.27 & 2.22 & 11.3 & 2.91 & 4.0 & 2.22 & 13.0 & 12 \\\\\n",
       "\\end{tabular}\n"
      ],
      "text/plain": [
       "\u001b[1m12×9 DataFrame\u001b[0m\n",
       "\u001b[1m Row \u001b[0m│\u001b[1m a1      \u001b[0m\u001b[1m b1      \u001b[0m\u001b[1m a2      \u001b[0m\u001b[1m b2      \u001b[0m\u001b[1m a3      \u001b[0m\u001b[1m b3      \u001b[0m\u001b[1m a4      \u001b[0m\u001b[1m b4      \u001b[0m\u001b[1m\u001b[0m ⋯\n",
       "\u001b[1m     \u001b[0m│\u001b[90m Float64 \u001b[0m\u001b[90m Float64 \u001b[0m\u001b[90m Float64 \u001b[0m\u001b[90m Float64 \u001b[0m\u001b[90m Float64 \u001b[0m\u001b[90m Float64 \u001b[0m\u001b[90m Float64 \u001b[0m\u001b[90m Float64 \u001b[0m\u001b[90m\u001b[0m ⋯\n",
       "─────┼──────────────────────────────────────────────────────────────────────────\n",
       "   1 │    1.05     6.04    11.17     3.23    10.99     7.46     8.6      6.56  ⋯\n",
       "   2 │    2.2      6.99     3.33     8.57     8.7      6.77     7.07     5.76\n",
       "   3 │   13.07     6.28     3.46     9.24    13.0     12.74     8.06     7.77\n",
       "   4 │    9.9      9.81     4.57     1.09     9.4      7.11     5.8      8.12\n",
       "   5 │   11.16     1.33     1.24     9.99     1.0      7.81     2.12     8.47  ⋯\n",
       "   6 │   12.0      4.56     9.8      8.67     4.0      8.84     6.1      7.03\n",
       "   7 │    6.0      8.24     4.99     6.9      6.0      6.08     1.01     5.2\n",
       "   8 │    3.0      5.26     1.67     3.45     4.4      5.39    19.0     12.6\n",
       "   9 │    1.01    10.88    13.9      9.17    13.2      8.15    11.1      5.56  ⋯\n",
       "  10 │    7.09     3.81     7.7      7.22     8.6      6.42     8.05     7.81\n",
       "  11 │    5.35     2.66     8.67     4.75    15.6      5.73     7.77     6.08\n",
       "  12 │    8.63     6.27     2.22    11.3      2.91     4.0      2.22    13.0\n",
       "\u001b[36m                                                                1 column omitted\u001b[0m"
      ]
     },
     "execution_count": 21,
     "metadata": {},
     "output_type": "execute_result"
    }
   ],
   "source": [
    "df"
   ]
  },
  {
   "cell_type": "code",
   "execution_count": 16,
   "id": "dcd99ef0",
   "metadata": {},
   "outputs": [
    {
     "data": {
      "text/plain": [
       "12×8 Matrix{Float64}:\n",
       "  1.05   6.04  11.17   3.23  10.99   7.46   8.6    6.56\n",
       "  2.2    6.99   3.33   8.57   8.7    6.77   7.07   5.76\n",
       " 13.07   6.28   3.46   9.24  13.0   12.74   8.06   7.77\n",
       "  9.9    9.81   4.57   1.09   9.4    7.11   5.8    8.12\n",
       " 11.16   1.33   1.24   9.99   1.0    7.81   2.12   8.47\n",
       " 12.0    4.56   9.8    8.67   4.0    8.84   6.1    7.03\n",
       "  6.0    8.24   4.99   6.9    6.0    6.08   1.01   5.2\n",
       "  3.0    5.26   1.67   3.45   4.4    5.39  19.0   12.6\n",
       "  1.01  10.88  13.9    9.17  13.2    8.15  11.1    5.56\n",
       "  7.09   3.81   7.7    7.22   8.6    6.42   8.05   7.81\n",
       "  5.35   2.66   8.67   4.75  15.6    5.73   7.77   6.08\n",
       "  8.63   6.27   2.22  11.3    2.91   4.0    2.22  13.0"
      ]
     },
     "execution_count": 16,
     "metadata": {},
     "output_type": "execute_result"
    }
   ],
   "source": [
    "Matrix(df)"
   ]
  },
  {
   "cell_type": "markdown",
   "id": "2b87c225",
   "metadata": {},
   "source": [
    "#GLM example"
   ]
  },
  {
   "cell_type": "code",
   "execution_count": 23,
   "id": "f448f182",
   "metadata": {},
   "outputs": [
    {
     "data": {
      "text/html": [
       "<div class=\"data-frame\"><p>4 rows × 3 columns</p><table class=\"data-frame\"><thead><tr><th></th><th>A</th><th>B</th><th>C</th></tr><tr><th></th><th title=\"Int64\">Int64</th><th title=\"Int64\">Int64</th><th title=\"Int64\">Int64</th></tr></thead><tbody><tr><th>1</th><td>70</td><td>20</td><td>16</td></tr><tr><th>2</th><td>25</td><td>44</td><td>17</td></tr><tr><th>3</th><td>92</td><td>17</td><td>28</td></tr><tr><th>4</th><td>16</td><td>18</td><td>96</td></tr></tbody></table></div>"
      ],
      "text/latex": [
       "\\begin{tabular}{r|ccc}\n",
       "\t& A & B & C\\\\\n",
       "\t\\hline\n",
       "\t& Int64 & Int64 & Int64\\\\\n",
       "\t\\hline\n",
       "\t1 & 70 & 20 & 16 \\\\\n",
       "\t2 & 25 & 44 & 17 \\\\\n",
       "\t3 & 92 & 17 & 28 \\\\\n",
       "\t4 & 16 & 18 & 96 \\\\\n",
       "\\end{tabular}\n"
      ],
      "text/plain": [
       "\u001b[1m4×3 DataFrame\u001b[0m\n",
       "\u001b[1m Row \u001b[0m│\u001b[1m A     \u001b[0m\u001b[1m B     \u001b[0m\u001b[1m C     \u001b[0m\n",
       "\u001b[1m     \u001b[0m│\u001b[90m Int64 \u001b[0m\u001b[90m Int64 \u001b[0m\u001b[90m Int64 \u001b[0m\n",
       "─────┼─────────────────────\n",
       "   1 │    70     20     16\n",
       "   2 │    25     44     17\n",
       "   3 │    92     17     28\n",
       "   4 │    16     18     96"
      ]
     },
     "execution_count": 23,
     "metadata": {},
     "output_type": "execute_result"
    }
   ],
   "source": [
    "K = DataFrame(A=[70, 25, 92, 16], B=[20, 44, 17, 18], C=[16, 17, 28, 96])"
   ]
  },
  {
   "cell_type": "markdown",
   "id": "b25b0804",
   "metadata": {},
   "source": [
    "@formula will take the dataframe columns A and B and give a formula for it.\n",
    "lm function helps in fitting a linear model."
   ]
  },
  {
   "cell_type": "code",
   "execution_count": 24,
   "id": "d6e40650",
   "metadata": {},
   "outputs": [
    {
     "data": {
      "text/plain": [
       "StatsModels.TableRegressionModel{LinearModel{GLM.LmResp{Vector{Float64}}, GLM.DensePredChol{Float64, LinearAlgebra.CholeskyPivoted{Float64, Matrix{Float64}}}}, Matrix{Float64}}\n",
       "\n",
       "B ~ 1 + A\n",
       "\n",
       "Coefficients:\n",
       "─────────────────────────────────────────────────────────────────────────\n",
       "                 Coef.  Std. Error      t  Pr(>|t|)  Lower 95%  Upper 95%\n",
       "─────────────────────────────────────────────────────────────────────────\n",
       "(Intercept)  33.403      13.1712     2.54    0.1266  -23.2681    90.0741\n",
       "A            -0.170503    0.220711  -0.77    0.5206   -1.12015    0.77914\n",
       "─────────────────────────────────────────────────────────────────────────"
      ]
     },
     "execution_count": 24,
     "metadata": {},
     "output_type": "execute_result"
    }
   ],
   "source": [
    "L = lm(@formula(B ~ A), K)"
   ]
  },
  {
   "cell_type": "markdown",
   "id": "b2276661",
   "metadata": {},
   "source": [
    "stderror function gives the standard error values in the model"
   ]
  },
  {
   "cell_type": "code",
   "execution_count": 25,
   "id": "433afc38",
   "metadata": {},
   "outputs": [
    {
     "data": {
      "text/plain": [
       "2-element Vector{Float64}:\n",
       " 13.171202632805619\n",
       "  0.22071111263112683"
      ]
     },
     "execution_count": 25,
     "metadata": {},
     "output_type": "execute_result"
    }
   ],
   "source": [
    "stderror(L)"
   ]
  },
  {
   "cell_type": "markdown",
   "id": "1b9ab211",
   "metadata": {},
   "source": [
    "Next, predict function will obtain predicted values from the model"
   ]
  },
  {
   "cell_type": "code",
   "execution_count": 26,
   "id": "6d765a69",
   "metadata": {},
   "outputs": [
    {
     "data": {
      "text/plain": [
       "4-element Vector{Float64}:\n",
       " 21.46782068353307\n",
       " 29.140447657092125\n",
       " 17.716758607570867\n",
       " 30.67497305180394"
      ]
     },
     "execution_count": 26,
     "metadata": {},
     "output_type": "execute_result"
    }
   ],
   "source": [
    "predict(L)"
   ]
  }
 ],
 "metadata": {
  "kernelspec": {
   "display_name": "Julia 1.6.3",
   "language": "julia",
   "name": "julia-1.6"
  },
  "language_info": {
   "file_extension": ".jl",
   "mimetype": "application/julia",
   "name": "julia",
   "version": "1.6.3"
  }
 },
 "nbformat": 4,
 "nbformat_minor": 5
}
