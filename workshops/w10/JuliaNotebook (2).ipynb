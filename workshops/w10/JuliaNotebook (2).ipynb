{
 "cells": [
  {
   "cell_type": "markdown",
   "id": "5745a4c6",
   "metadata": {},
   "source": [
    "# Multi-Dimensional Arrays "
   ]
  },
  {
   "cell_type": "markdown",
   "id": "6a564db3",
   "metadata": {},
   "source": [
    "# 2-D array operations\n"
   ]
  },
  {
   "cell_type": "code",
   "execution_count": 18,
   "id": "53c3fa58",
   "metadata": {},
   "outputs": [
    {
     "data": {
      "text/plain": [
       "4×5 Matrix{Int64}:\n",
       " 10  15  12  14  36\n",
       " 11  13  31  19  94\n",
       " 21  25  40  22  23\n",
       " 61  28  89  38  77"
      ]
     },
     "execution_count": 18,
     "metadata": {},
     "output_type": "execute_result"
    }
   ],
   "source": [
    "A = [10 15 12 14 36;11 13 31 19 94;21 25 40 22 23;61 28 89 38 77]"
   ]
  },
  {
   "cell_type": "code",
   "execution_count": 20,
   "id": "42ce45d7",
   "metadata": {},
   "outputs": [
    {
     "name": "stdout",
     "output_type": "stream",
     "text": [
      "22\n"
     ]
    }
   ],
   "source": [
    "#Accessing values \n",
    "println(A[3, 4])"
   ]
  },
  {
   "cell_type": "code",
   "execution_count": 21,
   "id": "83f67bc3",
   "metadata": {},
   "outputs": [
    {
     "name": "stdout",
     "output_type": "stream",
     "text": [
      "23\n"
     ]
    }
   ],
   "source": [
    "#Access end element\n",
    "println(A[3, end])"
   ]
  },
  {
   "cell_type": "code",
   "execution_count": 22,
   "id": "b1f9fc7e",
   "metadata": {},
   "outputs": [
    {
     "name": "stdout",
     "output_type": "stream",
     "text": [
      "77\n"
     ]
    }
   ],
   "source": [
    "#use of getindex() function\n",
    "println(getindex(A, 4, 5))"
   ]
  },
  {
   "cell_type": "markdown",
   "id": "67b0e9b7",
   "metadata": {},
   "source": [
    "# 3-D array operations"
   ]
  },
  {
   "cell_type": "code",
   "execution_count": 23,
   "id": "8e79b557",
   "metadata": {},
   "outputs": [
    {
     "data": {
      "text/plain": [
       "2×4×3 Array{Any, 3}:\n",
       "[:, :, 1] =\n",
       "  3  7  12  24\n",
       " 18  1   8  15\n",
       "\n",
       "[:, :, 2] =\n",
       " 17  14   9   2\n",
       " 16  19  27  36\n",
       "\n",
       "[:, :, 3] =\n",
       " \"hi\"   \"aaa\"  \"jjj\"  \"lll\"\n",
       " \"abc\"  \"def\"  \"ghi\"  \"jkl\""
      ]
     },
     "execution_count": 23,
     "metadata": {},
     "output_type": "execute_result"
    }
   ],
   "source": [
    "A3 = cat([3 7 12 24;18 1 8 15], [17 14 9 2; 16 19 27 36], [\"hi\" \"aaa\" \"jjj\" \"lll\"; \"abc\" \"def\" \"ghi\" \"jkl\"], dims = 3)"
   ]
  },
  {
   "cell_type": "code",
   "execution_count": 27,
   "id": "0d4b3629",
   "metadata": {},
   "outputs": [
    {
     "name": "stdout",
     "output_type": "stream",
     "text": [
      "ghi\n"
     ]
    }
   ],
   "source": [
    "#print value using row and column \n",
    "println(A3[2, 3, 3])"
   ]
  },
  {
   "cell_type": "code",
   "execution_count": 35,
   "id": "8b5fe3ed",
   "metadata": {},
   "outputs": [
    {
     "name": "stdout",
     "output_type": "stream",
     "text": [
      "Any[\"hi\" \"aaa\" \"jjj\"; \"abc\" \"def\" \"ghi\"]\n"
     ]
    }
   ],
   "source": [
    "#find a range of elements\n",
    "println(A3[1:2, 1:3, 3])"
   ]
  },
  {
   "cell_type": "code",
   "execution_count": 36,
   "id": "4444a76e",
   "metadata": {},
   "outputs": [
    {
     "name": "stdout",
     "output_type": "stream",
     "text": [
      "Any[\"hi\" \"aaa\" \"jjj\" \"lll\"; \"abc\" \"def\" \"ghi\" \"jkl\"]\n"
     ]
    }
   ],
   "source": [
    "println(A3[:, :, 3])"
   ]
  },
  {
   "cell_type": "code",
   "execution_count": 40,
   "id": "1106f2ca",
   "metadata": {},
   "outputs": [
    {
     "name": "stdout",
     "output_type": "stream",
     "text": [
      "7\n"
     ]
    }
   ],
   "source": [
    "println(getindex(A3, 1, 2, 1))"
   ]
  },
  {
   "cell_type": "markdown",
   "id": "39e010e3",
   "metadata": {},
   "source": [
    "# Conditional Operations"
   ]
  },
  {
   "cell_type": "code",
   "execution_count": 10,
   "id": "3cb65a45",
   "metadata": {},
   "outputs": [
    {
     "name": "stdout",
     "output_type": "stream",
     "text": [
      "The value is 20\n"
     ]
    }
   ],
   "source": [
    "#use of the if-else condition\n",
    "fir= 10\n",
    "sec = 20\n",
    "if fir>sec\n",
    "    println(\"The value is $fir\")\n",
    "elseif sec>fir\n",
    "    println(\"The value is $sec\")\n",
    "else\n",
    "    println(\"Both are equal\")\n",
    "end   "
   ]
  },
  {
   "cell_type": "code",
   "execution_count": 11,
   "id": "b38008da",
   "metadata": {},
   "outputs": [
    {
     "data": {
      "text/plain": [
       "20"
      ]
     },
     "execution_count": 11,
     "metadata": {},
     "output_type": "execute_result"
    }
   ],
   "source": [
    "if fir>sec\n",
    "    fir\n",
    "elseif sec>fir\n",
    "    sec\n",
    "end  "
   ]
  },
  {
   "cell_type": "code",
   "execution_count": 12,
   "id": "7b4465d0",
   "metadata": {},
   "outputs": [
    {
     "data": {
      "text/plain": [
       "20"
      ]
     },
     "execution_count": 12,
     "metadata": {},
     "output_type": "execute_result"
    }
   ],
   "source": [
    "#conditional operator\n",
    "(fir > sec) ? fir : sec"
   ]
  },
  {
   "cell_type": "code",
   "execution_count": 13,
   "id": "a64951cc",
   "metadata": {},
   "outputs": [
    {
     "data": {
      "text/plain": [
       "false"
      ]
     },
     "execution_count": 13,
     "metadata": {},
     "output_type": "execute_result"
    }
   ],
   "source": [
    "(fir > sec) && println(\"$fir is the larger number\")"
   ]
  },
  {
   "cell_type": "code",
   "execution_count": 14,
   "id": "b022cb3f",
   "metadata": {},
   "outputs": [
    {
     "name": "stdout",
     "output_type": "stream",
     "text": [
      "10 is the smaller number\n"
     ]
    }
   ],
   "source": [
    "(fir < sec) && println(\"$fir is the smaller number\")"
   ]
  },
  {
   "cell_type": "markdown",
   "id": "6cb47c1f",
   "metadata": {},
   "source": [
    "# Loops in Julia"
   ]
  },
  {
   "cell_type": "code",
   "execution_count": 15,
   "id": "d3c5bc62",
   "metadata": {},
   "outputs": [
    {
     "name": "stdout",
     "output_type": "stream",
     "text": [
      "2\n",
      "4\n",
      "8\n",
      "16\n"
     ]
    }
   ],
   "source": [
    "n = 1\n",
    "num = 10\n",
    "while n<num\n",
    "    n*=2\n",
    "    println(n)\n",
    "end    "
   ]
  },
  {
   "cell_type": "code",
   "execution_count": 43,
   "id": "670c671b",
   "metadata": {},
   "outputs": [
    {
     "name": "stdout",
     "output_type": "stream",
     "text": [
      "1 : Hi Ted\n",
      "2 : Hi Alex\n",
      "3 : Hi Claire\n",
      "4 : Hi Jeremy\n",
      "5 : Hi Olivia\n",
      "6 : Hi Troy\n",
      "7 : Hi James\n",
      "8 : Hi Leonardo\n",
      "9 : Hi Jake\n",
      "10 : Hi Scinthia\n"
     ]
    }
   ],
   "source": [
    "A = [\"Ted\", \"Alex\", \"Claire\", \"Jeremy\", \"Olivia\", \"Troy\", \"James\", \"Leonardo\", \"Jake\", \"Scinthia\"]\n",
    "\n",
    "val=1\n",
    "while val <= length(A)\n",
    "    name=A[val]\n",
    "    println(\"$val : Hi $name\")\n",
    "    val+=1\n",
    "end   "
   ]
  },
  {
   "cell_type": "code",
   "execution_count": 45,
   "id": "cf0bad06",
   "metadata": {},
   "outputs": [
    {
     "name": "stdout",
     "output_type": "stream",
     "text": [
      "99\n",
      "97\n",
      "94\n",
      "90\n",
      "85\n",
      "79\n",
      "72\n",
      "64\n",
      "55\n",
      "45\n",
      "34\n",
      "22\n",
      "9\n",
      "-5\n",
      "-20\n"
     ]
    }
   ],
   "source": [
    "#We can also rewrite the loop using the equals sign and the epsilon sign\n",
    "j = 100\n",
    "for n = 1:15\n",
    "    j -=n\n",
    "    println(j)\n",
    "end    "
   ]
  },
  {
   "cell_type": "code",
   "execution_count": 44,
   "id": "151b5908",
   "metadata": {},
   "outputs": [
    {
     "name": "stdout",
     "output_type": "stream",
     "text": [
      "2\n",
      "4\n",
      "7\n",
      "11\n",
      "16\n",
      "22\n",
      "29\n",
      "37\n",
      "46\n",
      "56\n",
      "67\n",
      "79\n",
      "92\n",
      "106\n",
      "121\n"
     ]
    }
   ],
   "source": [
    "a = 1\n",
    "for n ∈ 1:15\n",
    "    a+=n\n",
    "    println(a)\n",
    "end "
   ]
  },
  {
   "cell_type": "code",
   "execution_count": 56,
   "id": "6a77067f",
   "metadata": {},
   "outputs": [
    {
     "data": {
      "text/plain": [
       "10×10 Matrix{Float64}:\n",
       "  3.0   5.0   7.0   9.0  11.0  13.0  15.0  17.0  19.0  21.0\n",
       "  4.0   6.0   8.0  10.0  12.0  14.0  16.0  18.0  20.0  22.0\n",
       "  5.0   7.0   9.0  11.0  13.0  15.0  17.0  19.0  21.0  23.0\n",
       "  6.0   8.0  10.0  12.0  14.0  16.0  18.0  20.0  22.0  24.0\n",
       "  7.0   9.0  11.0  13.0  15.0  17.0  19.0  21.0  23.0  25.0\n",
       "  8.0  10.0  12.0  14.0  16.0  18.0  20.0  22.0  24.0  26.0\n",
       "  9.0  11.0  13.0  15.0  17.0  19.0  21.0  23.0  25.0  27.0\n",
       " 10.0  12.0  14.0  16.0  18.0  20.0  22.0  24.0  26.0  28.0\n",
       " 11.0  13.0  15.0  17.0  19.0  21.0  23.0  25.0  27.0  29.0\n",
       " 12.0  14.0  16.0  18.0  20.0  22.0  24.0  26.0  28.0  30.0"
      ]
     },
     "execution_count": 56,
     "metadata": {},
     "output_type": "execute_result"
    }
   ],
   "source": [
    "#nested loops\n",
    "a, b = 10, 10\n",
    "M = zeros(a,b)\n",
    "for i in 1:a\n",
    "    for j in 1:b\n",
    "        M[i,j] = i + 2*j\n",
    "    end\n",
    "end\n",
    "M"
   ]
  },
  {
   "cell_type": "code",
   "execution_count": 57,
   "id": "c308874b",
   "metadata": {},
   "outputs": [
    {
     "data": {
      "text/plain": [
       "10×10 Matrix{Float64}:\n",
       "  4.0   7.0  10.0  13.0  16.0  19.0  22.0  25.0  28.0  31.0\n",
       "  5.0   8.0  11.0  14.0  17.0  20.0  23.0  26.0  29.0  32.0\n",
       "  6.0   9.0  12.0  15.0  18.0  21.0  24.0  27.0  30.0  33.0\n",
       "  7.0  10.0  13.0  16.0  19.0  22.0  25.0  28.0  31.0  34.0\n",
       "  8.0  11.0  14.0  17.0  20.0  23.0  26.0  29.0  32.0  35.0\n",
       "  9.0  12.0  15.0  18.0  21.0  24.0  27.0  30.0  33.0  36.0\n",
       " 10.0  13.0  16.0  19.0  22.0  25.0  28.0  31.0  34.0  37.0\n",
       " 11.0  14.0  17.0  20.0  23.0  26.0  29.0  32.0  35.0  38.0\n",
       " 12.0  15.0  18.0  21.0  24.0  27.0  30.0  33.0  36.0  39.0\n",
       " 13.0  16.0  19.0  22.0  25.0  28.0  31.0  34.0  37.0  40.0"
      ]
     },
     "execution_count": 57,
     "metadata": {},
     "output_type": "execute_result"
    }
   ],
   "source": [
    "#we can write the nested loop in list comprehensive form as well\n",
    "N = zeros(a,b)\n",
    "for i in 1:a, j in 1:b\n",
    "    N[i,j] = i+ 3*j\n",
    "end\n",
    "N"
   ]
  },
  {
   "cell_type": "code",
   "execution_count": 58,
   "id": "f15e1419",
   "metadata": {},
   "outputs": [
    {
     "data": {
      "text/plain": [
       "10×10 Matrix{Int64}:\n",
       "  2   3   4   5   6   7   8   9  10  11\n",
       "  3   4   5   6   7   8   9  10  11  12\n",
       "  4   5   6   7   8   9  10  11  12  13\n",
       "  5   6   7   8   9  10  11  12  13  14\n",
       "  6   7   8   9  10  11  12  13  14  15\n",
       "  7   8   9  10  11  12  13  14  15  16\n",
       "  8   9  10  11  12  13  14  15  16  17\n",
       "  9  10  11  12  13  14  15  16  17  18\n",
       " 10  11  12  13  14  15  16  17  18  19\n",
       " 11  12  13  14  15  16  17  18  19  20"
      ]
     },
     "execution_count": 58,
     "metadata": {},
     "output_type": "execute_result"
    }
   ],
   "source": [
    "#List Comprehensive form of the for loop\n",
    "O = [i+j for i in 1:a, j in 1:b]"
   ]
  },
  {
   "cell_type": "code",
   "execution_count": 22,
   "id": "cb47b597",
   "metadata": {},
   "outputs": [
    {
     "data": {
      "text/plain": [
       "0-dimensional Array{Int64, 0}:\n",
       "2"
      ]
     },
     "metadata": {},
     "output_type": "display_data"
    },
    {
     "data": {
      "text/plain": [
       "0-dimensional Array{Int64, 0}:\n",
       "4"
      ]
     },
     "metadata": {},
     "output_type": "display_data"
    },
    {
     "data": {
      "text/plain": [
       "0-dimensional Array{Int64, 0}:\n",
       "6"
      ]
     },
     "metadata": {},
     "output_type": "display_data"
    },
    {
     "data": {
      "text/plain": [
       "0-dimensional Array{Int64, 0}:\n",
       "8"
      ]
     },
     "metadata": {},
     "output_type": "display_data"
    },
    {
     "data": {
      "text/plain": [
       "0-dimensional Array{Int64, 0}:\n",
       "10"
      ]
     },
     "metadata": {},
     "output_type": "display_data"
    },
    {
     "data": {
      "text/plain": [
       "0-dimensional Array{Int64, 0}:\n",
       "12"
      ]
     },
     "metadata": {},
     "output_type": "display_data"
    },
    {
     "data": {
      "text/plain": [
       "0-dimensional Array{Int64, 0}:\n",
       "14"
      ]
     },
     "metadata": {},
     "output_type": "display_data"
    },
    {
     "data": {
      "text/plain": [
       "0-dimensional Array{Int64, 0}:\n",
       "16"
      ]
     },
     "metadata": {},
     "output_type": "display_data"
    },
    {
     "data": {
      "text/plain": [
       "0-dimensional Array{Int64, 0}:\n",
       "18"
      ]
     },
     "metadata": {},
     "output_type": "display_data"
    },
    {
     "data": {
      "text/plain": [
       "0-dimensional Array{Int64, 0}:\n",
       "20"
      ]
     },
     "metadata": {},
     "output_type": "display_data"
    },
    {
     "data": {
      "text/plain": [
       "0-dimensional Array{Int64, 0}:\n",
       "22"
      ]
     },
     "metadata": {},
     "output_type": "display_data"
    },
    {
     "data": {
      "text/plain": [
       "0-dimensional Array{Int64, 0}:\n",
       "24"
      ]
     },
     "metadata": {},
     "output_type": "display_data"
    },
    {
     "data": {
      "text/plain": [
       "0-dimensional Array{Int64, 0}:\n",
       "26"
      ]
     },
     "metadata": {},
     "output_type": "display_data"
    },
    {
     "data": {
      "text/plain": [
       "0-dimensional Array{Int64, 0}:\n",
       "28"
      ]
     },
     "metadata": {},
     "output_type": "display_data"
    },
    {
     "data": {
      "text/plain": [
       "0-dimensional Array{Int64, 0}:\n",
       "30"
      ]
     },
     "metadata": {},
     "output_type": "display_data"
    }
   ],
   "source": [
    "#display function prints each value along with it's datatype and the array dimension\n",
    "for x in 1:15\n",
    "    P = [i+j for i in x, j in x]\n",
    "    display(P)\n",
    "end"
   ]
  },
  {
   "cell_type": "markdown",
   "id": "8be2fe51",
   "metadata": {},
   "source": [
    "# Functions"
   ]
  },
  {
   "cell_type": "code",
   "execution_count": 59,
   "id": "2d6aa28a",
   "metadata": {},
   "outputs": [
    {
     "data": {
      "text/plain": [
       "Intro (generic function with 1 method)"
      ]
     },
     "execution_count": 59,
     "metadata": {},
     "output_type": "execute_result"
    }
   ],
   "source": [
    "#Running this will give description of the function\n",
    "function Intro(first_name)\n",
    "    println(\"Hello, this is $first_name over here !!\")\n",
    "end    "
   ]
  },
  {
   "cell_type": "code",
   "execution_count": 60,
   "id": "d1700a79",
   "metadata": {},
   "outputs": [
    {
     "name": "stdout",
     "output_type": "stream",
     "text": [
      "Hello, this is Vijay over here !!\n"
     ]
    }
   ],
   "source": [
    "Intro(\"Vijay\")"
   ]
  },
  {
   "cell_type": "code",
   "execution_count": 61,
   "id": "f21acfa3",
   "metadata": {},
   "outputs": [
    {
     "data": {
      "text/plain": [
       "math (generic function with 1 method)"
      ]
     },
     "execution_count": 61,
     "metadata": {},
     "output_type": "execute_result"
    }
   ],
   "source": [
    "function math(x)\n",
    "    print(\"The value is:\", x*4)\n",
    "end    "
   ]
  },
  {
   "cell_type": "code",
   "execution_count": 62,
   "id": "644360fc",
   "metadata": {},
   "outputs": [
    {
     "name": "stdout",
     "output_type": "stream",
     "text": [
      "The value is:40"
     ]
    }
   ],
   "source": [
    "math(10)"
   ]
  },
  {
   "cell_type": "code",
   "execution_count": 67,
   "id": "78c44d62",
   "metadata": {},
   "outputs": [
    {
     "data": {
      "text/plain": [
       "Ar (generic function with 1 method)"
      ]
     },
     "execution_count": 67,
     "metadata": {},
     "output_type": "execute_result"
    }
   ],
   "source": [
    "Ar(first_name) = println(\"Hello $first_name !!\")"
   ]
  },
  {
   "cell_type": "code",
   "execution_count": 68,
   "id": "fd7827c3",
   "metadata": {},
   "outputs": [
    {
     "name": "stdout",
     "output_type": "stream",
     "text": [
      "Hello Vijay !!\n"
     ]
    }
   ],
   "source": [
    "Ar(\"Vijay\")"
   ]
  },
  {
   "cell_type": "code",
   "execution_count": 65,
   "id": "247302c6",
   "metadata": {},
   "outputs": [
    {
     "data": {
      "text/plain": [
       "m (generic function with 1 method)"
      ]
     },
     "execution_count": 65,
     "metadata": {},
     "output_type": "execute_result"
    }
   ],
   "source": [
    "m(x) = println(\"The value is:\", x*4)"
   ]
  },
  {
   "cell_type": "code",
   "execution_count": 66,
   "id": "77c6d92b",
   "metadata": {},
   "outputs": [
    {
     "name": "stdout",
     "output_type": "stream",
     "text": [
      "The value is:80\n"
     ]
    }
   ],
   "source": [
    "m(20)"
   ]
  },
  {
   "cell_type": "code",
   "execution_count": 69,
   "id": "6a2549e8",
   "metadata": {},
   "outputs": [
    {
     "data": {
      "text/plain": [
       "#3 (generic function with 1 method)"
      ]
     },
     "execution_count": 69,
     "metadata": {},
     "output_type": "execute_result"
    }
   ],
   "source": [
    "#anonymous function\n",
    "Nfunc = first_name -> println(\"Hello $first_name , how is it going!\")"
   ]
  },
  {
   "cell_type": "code",
   "execution_count": 70,
   "id": "98878849",
   "metadata": {},
   "outputs": [
    {
     "name": "stdout",
     "output_type": "stream",
     "text": [
      "Hello Alex , how is it going!\n"
     ]
    }
   ],
   "source": [
    "Nfunc(\"Alex\")"
   ]
  },
  {
   "cell_type": "code",
   "execution_count": 71,
   "id": "5c4a741a",
   "metadata": {},
   "outputs": [
    {
     "data": {
      "text/plain": [
       "#5 (generic function with 1 method)"
      ]
     },
     "execution_count": 71,
     "metadata": {},
     "output_type": "execute_result"
    }
   ],
   "source": [
    "Mfunc = x->println(\"The value of the function is:\", x^3)"
   ]
  },
  {
   "cell_type": "code",
   "execution_count": 72,
   "id": "5e049a2b",
   "metadata": {},
   "outputs": [
    {
     "name": "stdout",
     "output_type": "stream",
     "text": [
      "The value of the function is:27000\n"
     ]
    }
   ],
   "source": [
    "Mfunc(30)"
   ]
  },
  {
   "cell_type": "code",
   "execution_count": 73,
   "id": "1c3c3e59",
   "metadata": {},
   "outputs": [
    {
     "name": "stdout",
     "output_type": "stream",
     "text": [
      "Hello, this is 3332210 over here !!\n"
     ]
    }
   ],
   "source": [
    "#Duck-Typing in Julia\n",
    "Intro(3332210)"
   ]
  },
  {
   "cell_type": "code",
   "execution_count": 74,
   "id": "8360fcfa",
   "metadata": {},
   "outputs": [
    {
     "data": {
      "text/plain": [
       "4×4×4 Array{Float64, 3}:\n",
       "[:, :, 1] =\n",
       " 0.514471  0.106524  0.737708  0.0673483\n",
       " 0.405279  0.313327  0.49641   0.436922\n",
       " 0.823212  0.888521  0.316793  0.950336\n",
       " 0.326221  0.987284  0.222218  0.474197\n",
       "\n",
       "[:, :, 2] =\n",
       " 0.867614  0.715893  0.580426  0.330109\n",
       " 0.612025  0.896091  0.291747  0.680222\n",
       " 0.809645  0.448983  0.210576  0.316285\n",
       " 0.991226  0.809275  0.598628  0.79828\n",
       "\n",
       "[:, :, 3] =\n",
       " 0.83331   0.569165  0.94465   0.388712\n",
       " 0.181616  0.162241  0.984596  0.98588\n",
       " 0.602875  0.116308  0.718407  0.238808\n",
       " 0.979388  0.745072  0.525948  0.727115\n",
       "\n",
       "[:, :, 4] =\n",
       " 0.394241  0.32933    0.514411  0.939282\n",
       " 0.751983  0.836337   0.403764  0.727744\n",
       " 0.777879  0.0524268  0.981626  0.555677\n",
       " 0.146858  0.977533   0.741821  0.533434"
      ]
     },
     "execution_count": 74,
     "metadata": {},
     "output_type": "execute_result"
    }
   ],
   "source": [
    "#creating a random matrix\n",
    "X = rand(4,4,4)\n",
    "X"
   ]
  },
  {
   "cell_type": "code",
   "execution_count": 176,
   "id": "27c19a8f",
   "metadata": {},
   "outputs": [
    {
     "name": "stdout",
     "output_type": "stream",
     "text": [
      "The value is:[2.0578859421328337 0.4260968520229911 2.9508306719564663 0.2693931754820973; 1.621114820977085 1.253308408031618 1.9856412278985518 1.7476867577259023; 3.2928463567304957 3.5540823382607414 1.267171666129908 3.8013430863276945; 1.3048831207940133 3.949135732058968 0.8888717935446895 1.8967885081308724]\n",
      "\n",
      "[3.4704560267710507 2.8635713886306995 2.321703822665625 1.3204355384218092; 2.448101963200373 3.584364377190372 1.1669880371589487 2.7208863433472033; 3.238579174686997 1.7959338343008309 0.8423046255657596 1.265141713745665; 3.9649029302733165 3.2370988309371826 2.3945136550975574 3.19311900076388]\n",
      "\n",
      "[3.3332410096212257 2.2766595973228245 3.7785993887188187 1.5548499903302764; 0.7264623480132348 0.6489624111849581 3.938385966458174 3.9435196934829335; 2.411498619032802 0.4652310311559793 2.873628014130208 0.9552335032273671; 3.917551789978753 2.9802895821614346 2.1037910060909555 2.908458676623342]\n",
      "\n",
      "[1.576964228009233 1.3173205794215157 2.0576420883023046 3.7571273786237738; 3.0079312776541576 3.3453474238690033 1.6150573783391282 2.91097583896852; 3.1115177719243805 0.2097073207459781 3.92650351597851 2.2227097678499197; 0.587433963301824 3.9101306786949213 2.9672842985182735 2.1337354748417674]"
     ]
    }
   ],
   "source": [
    "#on passing X as an argument of the above math function that returns four times the value\n",
    "math(X)"
   ]
  },
  {
   "cell_type": "code",
   "execution_count": 174,
   "id": "7c798ae2",
   "metadata": {},
   "outputs": [
    {
     "data": {
      "text/plain": [
       "10-element Vector{Float64}:\n",
       " 0.8197809088649284\n",
       " 0.1061261647984737\n",
       " 0.8442598178110017\n",
       " 0.1571779649105185\n",
       " 0.4267119519747622\n",
       " 0.8094721591333986\n",
       " 0.9398730687883969\n",
       " 0.8132984586244656\n",
       " 0.34028562035457854\n",
       " 0.984274961833733"
      ]
     },
     "execution_count": 174,
     "metadata": {},
     "output_type": "execute_result"
    }
   ],
   "source": [
    "#Creating random vectors\n",
    "Vec_func = rand(10)"
   ]
  },
  {
   "cell_type": "code",
   "execution_count": 175,
   "id": "ee9975d4",
   "metadata": {},
   "outputs": [
    {
     "name": "stdout",
     "output_type": "stream",
     "text": [
      "The value is:[3.2791236354597135, 0.4245046591938948, 3.3770392712440067, 0.628711859642074, 1.7068478078990488, 3.2378886365335946, 3.7594922751535877, 3.2531938344978624, 1.3611424814183142, 3.937099847334932]"
     ]
    }
   ],
   "source": [
    "#passing them through the math function\n",
    "math(Vec_func)"
   ]
  },
  {
   "cell_type": "markdown",
   "id": "c6934498",
   "metadata": {},
   "source": [
    "# Files operations"
   ]
  },
  {
   "cell_type": "code",
   "execution_count": 78,
   "id": "04c734a4",
   "metadata": {},
   "outputs": [
    {
     "data": {
      "text/plain": [
       "\"file.txt\""
      ]
     },
     "execution_count": 78,
     "metadata": {},
     "output_type": "execute_result"
    }
   ],
   "source": [
    "#The touch function is used to create a new file on any directory\n",
    "touch(\"file.txt\")\n"
   ]
  },
  {
   "cell_type": "code",
   "execution_count": 167,
   "id": "fb081931",
   "metadata": {},
   "outputs": [
    {
     "data": {
      "text/plain": [
       "45"
      ]
     },
     "execution_count": 167,
     "metadata": {},
     "output_type": "execute_result"
    }
   ],
   "source": [
    "#Write operation in a file\n",
    "open(\"file.txt\", \"w\") do enter\n",
    "    write(enter, \"xyz\\n\", \"abcdef\\n\", \"lmnopq\\n\",\"jihlmqas\\n\", \"aaaabbbb\\n\", \"cquyudfr\\n\")\n",
    "end    "
   ]
  },
  {
   "cell_type": "code",
   "execution_count": 168,
   "id": "af7ddad2",
   "metadata": {},
   "outputs": [
    {
     "name": "stdout",
     "output_type": "stream",
     "text": [
      "xyz\n",
      "abcdef\n",
      "lmnopq\n",
      "jihlmqas\n",
      "aaaabbbb\n",
      "cquyudfr\n"
     ]
    }
   ],
   "source": [
    "#Read everything in one operation\n",
    "open(\"file.txt\", \"r\") do enter\n",
    "    fi = read(enter, String)\n",
    "    print(fi)\n",
    "end    "
   ]
  },
  {
   "cell_type": "code",
   "execution_count": 169,
   "id": "4b072f5f",
   "metadata": {},
   "outputs": [
    {
     "name": "stdout",
     "output_type": "stream",
     "text": [
      "xyz\n",
      "abcdef\n",
      "lmnopq\n",
      "jihlmqas\n",
      "aaaabbbb\n",
      "cquyudfr\n"
     ]
    }
   ],
   "source": [
    "#Line by Line read operation\n",
    "open(\"file.txt\", \"r\") do enter\n",
    "  for count in eachline(enter)\n",
    "    println(count)\n",
    "  end\n",
    "end"
   ]
  },
  {
   "cell_type": "code",
   "execution_count": 172,
   "id": "60846984",
   "metadata": {},
   "outputs": [
    {
     "name": "stdout",
     "output_type": "stream",
     "text": [
      "1 xyz\n",
      "2 abcdef\n",
      "3 lmnopq\n",
      "4 jihlmqas\n",
      "5 aaaabbbb\n",
      "6 cquyudfr\n"
     ]
    }
   ],
   "source": [
    "#Print Line number using the eachline function\n",
    "open(\"file.txt\", \"r\") do enter\n",
    "   for (num,count) in enumerate(eachline(enter))\n",
    "     println(\"$num $count\")\n",
    "   end\n",
    "end"
   ]
  },
  {
   "cell_type": "markdown",
   "id": "b0d971e4",
   "metadata": {},
   "source": [
    "# Plotting Operations"
   ]
  },
  {
   "cell_type": "code",
   "execution_count": 51,
   "id": "075857c7",
   "metadata": {},
   "outputs": [
    {
     "name": "stderr",
     "output_type": "stream",
     "text": [
      "\u001b[32m\u001b[1m   Resolving\u001b[22m\u001b[39m package versions...\n",
      "\u001b[32m\u001b[1m  No Changes\u001b[22m\u001b[39m to `C:\\Users\\viyen\\.julia\\environments\\v1.6\\Project.toml`\n",
      "\u001b[32m\u001b[1m  No Changes\u001b[22m\u001b[39m to `C:\\Users\\viyen\\.julia\\environments\\v1.6\\Manifest.toml`\n"
     ]
    }
   ],
   "source": [
    "ENV[\"PYTHON\"]=\"\"\n",
    "import Pkg\n",
    "Pkg.add(\"PyCall\")"
   ]
  },
  {
   "cell_type": "code",
   "execution_count": 52,
   "id": "fecb1312",
   "metadata": {},
   "outputs": [
    {
     "name": "stderr",
     "output_type": "stream",
     "text": [
      "\u001b[32m\u001b[1m    Building\u001b[22m\u001b[39m Conda ─→ `C:\\Users\\viyen\\.julia\\scratchspaces\\44cfe95a-1eb2-52ea-b672-e2afdf69b78f\\299304989a5e6473d985212c28928899c74e9421\\build.log`\n",
      "\u001b[32m\u001b[1m    Building\u001b[22m\u001b[39m PyCall → `C:\\Users\\viyen\\.julia\\scratchspaces\\44cfe95a-1eb2-52ea-b672-e2afdf69b78f\\4ba3651d33ef76e24fef6a598b63ffd1c5e1cd17\\build.log`\n"
     ]
    }
   ],
   "source": [
    "Pkg.build(\"PyCall\")"
   ]
  },
  {
   "cell_type": "code",
   "execution_count": 4,
   "id": "4709a7e3",
   "metadata": {},
   "outputs": [
    {
     "name": "stderr",
     "output_type": "stream",
     "text": [
      "\u001b[32m\u001b[1m    Updating\u001b[22m\u001b[39m registry at `C:\\Users\\viyen\\.julia\\registries\\General`\n",
      "\u001b[32m\u001b[1m    Updating\u001b[22m\u001b[39m git-repo `https://github.com/JuliaRegistries/General.git`\n",
      "\u001b[32m\u001b[1m   Resolving\u001b[22m\u001b[39m package versions...\n",
      "\u001b[32m\u001b[1m  No Changes\u001b[22m\u001b[39m to `C:\\Users\\viyen\\.julia\\environments\\v1.6\\Project.toml`\n",
      "\u001b[32m\u001b[1m  No Changes\u001b[22m\u001b[39m to `C:\\Users\\viyen\\.julia\\environments\\v1.6\\Manifest.toml`\n"
     ]
    }
   ],
   "source": [
    "import Pkg\n",
    "Pkg.add(\"PyPlot\")"
   ]
  },
  {
   "cell_type": "code",
   "execution_count": 98,
   "id": "ec8f59d7",
   "metadata": {},
   "outputs": [],
   "source": [
    "using Plots"
   ]
  },
  {
   "cell_type": "code",
   "execution_count": 155,
   "id": "a8c066a7",
   "metadata": {},
   "outputs": [
    {
     "data": {
      "text/plain": [
       "71-element Vector{Float64}:\n",
       "  -8.0\n",
       "  -6.858999999999999\n",
       "  -5.832000000000001\n",
       "  -4.912999999999999\n",
       "  -4.096000000000001\n",
       "  -3.375\n",
       "  -2.7439999999999993\n",
       "  -2.1970000000000005\n",
       "  -1.728\n",
       "  -1.3310000000000004\n",
       "  -1.0\n",
       "  -0.7290000000000001\n",
       "  -0.5120000000000001\n",
       "   ⋮\n",
       "  59.318999999999996\n",
       "  64.0\n",
       "  68.92099999999999\n",
       "  74.08800000000001\n",
       "  79.50699999999999\n",
       "  85.18400000000003\n",
       "  91.125\n",
       "  97.33599999999997\n",
       " 103.82300000000002\n",
       " 110.592\n",
       " 117.64900000000003\n",
       " 125.0"
      ]
     },
     "execution_count": 155,
     "metadata": {},
     "output_type": "execute_result"
    }
   ],
   "source": [
    "x_plot = -2:0.1:5\n",
    "f(x_plot) = x_plot^3\n",
    "y_plot = f.(x_plot)"
   ]
  },
  {
   "cell_type": "code",
   "execution_count": 152,
   "id": "24acd1fa",
   "metadata": {},
   "outputs": [
    {
     "data": {
      "text/plain": [
       "Plots.GRBackend()"
      ]
     },
     "execution_count": 152,
     "metadata": {},
     "output_type": "execute_result"
    }
   ],
   "source": [
    "gr()"
   ]
  },
  {
   "cell_type": "code",
   "execution_count": 162,
   "id": "da57352a",
   "metadata": {},
   "outputs": [
    {
     "data": {
      "image/svg+xml": [
       "<?xml version=\"1.0\" encoding=\"utf-8\"?>\n",
       "<svg xmlns=\"http://www.w3.org/2000/svg\" xmlns:xlink=\"http://www.w3.org/1999/xlink\" width=\"600\" height=\"400\" viewBox=\"0 0 2400 1600\">\n",
       "<defs>\n",
       "  <clipPath id=\"clip220\">\n",
       "    <rect x=\"0\" y=\"0\" width=\"2400\" height=\"1600\"/>\n",
       "  </clipPath>\n",
       "</defs>\n",
       "<path clip-path=\"url(#clip220)\" d=\"\n",
       "M0 1600 L2400 1600 L2400 0 L0 0  Z\n",
       "  \" fill=\"#ffffff\" fill-rule=\"evenodd\" fill-opacity=\"1\"/>\n",
       "<defs>\n",
       "  <clipPath id=\"clip221\">\n",
       "    <rect x=\"480\" y=\"0\" width=\"1681\" height=\"1600\"/>\n",
       "  </clipPath>\n",
       "</defs>\n",
       "<path clip-path=\"url(#clip220)\" d=\"\n",
       "M169.121 1486.45 L2352.76 1486.45 L2352.76 47.2441 L169.121 47.2441  Z\n",
       "  \" fill=\"#ffffff\" fill-rule=\"evenodd\" fill-opacity=\"1\"/>\n",
       "<defs>\n",
       "  <clipPath id=\"clip222\">\n",
       "    <rect x=\"169\" y=\"47\" width=\"2185\" height=\"1440\"/>\n",
       "  </clipPath>\n",
       "</defs>\n",
       "<polyline clip-path=\"url(#clip222)\" style=\"stroke:#000000; stroke-linecap:butt; stroke-linejoin:round; stroke-width:2; stroke-opacity:0.1; fill:none\" points=\"\n",
       "  230.922,1486.45 230.922,47.2441 \n",
       "  \"/>\n",
       "<polyline clip-path=\"url(#clip222)\" style=\"stroke:#000000; stroke-linecap:butt; stroke-linejoin:round; stroke-width:2; stroke-opacity:0.1; fill:none\" points=\"\n",
       "  819.503,1486.45 819.503,47.2441 \n",
       "  \"/>\n",
       "<polyline clip-path=\"url(#clip222)\" style=\"stroke:#000000; stroke-linecap:butt; stroke-linejoin:round; stroke-width:2; stroke-opacity:0.1; fill:none\" points=\"\n",
       "  1408.08,1486.45 1408.08,47.2441 \n",
       "  \"/>\n",
       "<polyline clip-path=\"url(#clip222)\" style=\"stroke:#000000; stroke-linecap:butt; stroke-linejoin:round; stroke-width:2; stroke-opacity:0.1; fill:none\" points=\"\n",
       "  1996.66,1486.45 1996.66,47.2441 \n",
       "  \"/>\n",
       "<polyline clip-path=\"url(#clip220)\" style=\"stroke:#000000; stroke-linecap:butt; stroke-linejoin:round; stroke-width:4; stroke-opacity:1; fill:none\" points=\"\n",
       "  169.121,1486.45 2352.76,1486.45 \n",
       "  \"/>\n",
       "<polyline clip-path=\"url(#clip220)\" style=\"stroke:#000000; stroke-linecap:butt; stroke-linejoin:round; stroke-width:4; stroke-opacity:1; fill:none\" points=\"\n",
       "  230.922,1486.45 230.922,1467.55 \n",
       "  \"/>\n",
       "<polyline clip-path=\"url(#clip220)\" style=\"stroke:#000000; stroke-linecap:butt; stroke-linejoin:round; stroke-width:4; stroke-opacity:1; fill:none\" points=\"\n",
       "  819.503,1486.45 819.503,1467.55 \n",
       "  \"/>\n",
       "<polyline clip-path=\"url(#clip220)\" style=\"stroke:#000000; stroke-linecap:butt; stroke-linejoin:round; stroke-width:4; stroke-opacity:1; fill:none\" points=\"\n",
       "  1408.08,1486.45 1408.08,1467.55 \n",
       "  \"/>\n",
       "<polyline clip-path=\"url(#clip220)\" style=\"stroke:#000000; stroke-linecap:butt; stroke-linejoin:round; stroke-width:4; stroke-opacity:1; fill:none\" points=\"\n",
       "  1996.66,1486.45 1996.66,1467.55 \n",
       "  \"/>\n",
       "<path clip-path=\"url(#clip220)\" d=\"M200.865 1532.02 L230.54 1532.02 L230.54 1535.95 L200.865 1535.95 L200.865 1532.02 Z\" fill=\"#000000\" fill-rule=\"evenodd\" fill-opacity=\"1\" /><path clip-path=\"url(#clip220)\" d=\"M244.661 1544.91 L260.98 1544.91 L260.98 1548.85 L239.036 1548.85 L239.036 1544.91 Q241.698 1542.16 246.281 1537.53 Q250.887 1532.88 252.068 1531.53 Q254.313 1529.01 255.193 1527.27 Q256.096 1525.51 256.096 1523.82 Q256.096 1521.07 254.151 1519.33 Q252.23 1517.6 249.128 1517.6 Q246.929 1517.6 244.475 1518.36 Q242.045 1519.13 239.267 1520.68 L239.267 1515.95 Q242.091 1514.82 244.545 1514.24 Q246.999 1513.66 249.036 1513.66 Q254.406 1513.66 257.6 1516.35 Q260.795 1519.03 260.795 1523.52 Q260.795 1525.65 259.985 1527.57 Q259.198 1529.47 257.091 1532.07 Q256.512 1532.74 253.411 1535.95 Q250.309 1539.15 244.661 1544.91 Z\" fill=\"#000000\" fill-rule=\"evenodd\" fill-opacity=\"1\" /><path clip-path=\"url(#clip220)\" d=\"M819.503 1517.37 Q815.892 1517.37 814.063 1520.93 Q812.258 1524.47 812.258 1531.6 Q812.258 1538.71 814.063 1542.27 Q815.892 1545.82 819.503 1545.82 Q823.137 1545.82 824.943 1542.27 Q826.772 1538.71 826.772 1531.6 Q826.772 1524.47 824.943 1520.93 Q823.137 1517.37 819.503 1517.37 M819.503 1513.66 Q825.313 1513.66 828.369 1518.27 Q831.447 1522.85 831.447 1531.6 Q831.447 1540.33 828.369 1544.94 Q825.313 1549.52 819.503 1549.52 Q813.693 1549.52 810.614 1544.94 Q807.559 1540.33 807.559 1531.6 Q807.559 1522.85 810.614 1518.27 Q813.693 1513.66 819.503 1513.66 Z\" fill=\"#000000\" fill-rule=\"evenodd\" fill-opacity=\"1\" /><path clip-path=\"url(#clip220)\" d=\"M1402.74 1544.91 L1419.06 1544.91 L1419.06 1548.85 L1397.11 1548.85 L1397.11 1544.91 Q1399.77 1542.16 1404.36 1537.53 Q1408.96 1532.88 1410.14 1531.53 Q1412.39 1529.01 1413.27 1527.27 Q1414.17 1525.51 1414.17 1523.82 Q1414.17 1521.07 1412.23 1519.33 Q1410.31 1517.6 1407.2 1517.6 Q1405.01 1517.6 1402.55 1518.36 Q1400.12 1519.13 1397.34 1520.68 L1397.34 1515.95 Q1400.17 1514.82 1402.62 1514.24 Q1405.07 1513.66 1407.11 1513.66 Q1412.48 1513.66 1415.68 1516.35 Q1418.87 1519.03 1418.87 1523.52 Q1418.87 1525.65 1418.06 1527.57 Q1417.27 1529.47 1415.17 1532.07 Q1414.59 1532.74 1411.49 1535.95 Q1408.38 1539.15 1402.74 1544.91 Z\" fill=\"#000000\" fill-rule=\"evenodd\" fill-opacity=\"1\" /><path clip-path=\"url(#clip220)\" d=\"M1999.67 1518.36 L1987.87 1536.81 L1999.67 1536.81 L1999.67 1518.36 M1998.45 1514.29 L2004.33 1514.29 L2004.33 1536.81 L2009.26 1536.81 L2009.26 1540.7 L2004.33 1540.7 L2004.33 1548.85 L1999.67 1548.85 L1999.67 1540.7 L1984.07 1540.7 L1984.07 1536.19 L1998.45 1514.29 Z\" fill=\"#000000\" fill-rule=\"evenodd\" fill-opacity=\"1\" /><polyline clip-path=\"url(#clip222)\" style=\"stroke:#000000; stroke-linecap:butt; stroke-linejoin:round; stroke-width:2; stroke-opacity:0.1; fill:none\" points=\"\n",
       "  169.121,1364.05 2352.76,1364.05 \n",
       "  \"/>\n",
       "<polyline clip-path=\"url(#clip222)\" style=\"stroke:#000000; stroke-linecap:butt; stroke-linejoin:round; stroke-width:2; stroke-opacity:0.1; fill:none\" points=\"\n",
       "  169.121,1159.88 2352.76,1159.88 \n",
       "  \"/>\n",
       "<polyline clip-path=\"url(#clip222)\" style=\"stroke:#000000; stroke-linecap:butt; stroke-linejoin:round; stroke-width:2; stroke-opacity:0.1; fill:none\" points=\"\n",
       "  169.121,955.704 2352.76,955.704 \n",
       "  \"/>\n",
       "<polyline clip-path=\"url(#clip222)\" style=\"stroke:#000000; stroke-linecap:butt; stroke-linejoin:round; stroke-width:2; stroke-opacity:0.1; fill:none\" points=\"\n",
       "  169.121,751.533 2352.76,751.533 \n",
       "  \"/>\n",
       "<polyline clip-path=\"url(#clip222)\" style=\"stroke:#000000; stroke-linecap:butt; stroke-linejoin:round; stroke-width:2; stroke-opacity:0.1; fill:none\" points=\"\n",
       "  169.121,547.362 2352.76,547.362 \n",
       "  \"/>\n",
       "<polyline clip-path=\"url(#clip222)\" style=\"stroke:#000000; stroke-linecap:butt; stroke-linejoin:round; stroke-width:2; stroke-opacity:0.1; fill:none\" points=\"\n",
       "  169.121,343.19 2352.76,343.19 \n",
       "  \"/>\n",
       "<polyline clip-path=\"url(#clip222)\" style=\"stroke:#000000; stroke-linecap:butt; stroke-linejoin:round; stroke-width:2; stroke-opacity:0.1; fill:none\" points=\"\n",
       "  169.121,139.019 2352.76,139.019 \n",
       "  \"/>\n",
       "<polyline clip-path=\"url(#clip220)\" style=\"stroke:#000000; stroke-linecap:butt; stroke-linejoin:round; stroke-width:4; stroke-opacity:1; fill:none\" points=\"\n",
       "  169.121,1486.45 169.121,47.2441 \n",
       "  \"/>\n",
       "<polyline clip-path=\"url(#clip220)\" style=\"stroke:#000000; stroke-linecap:butt; stroke-linejoin:round; stroke-width:4; stroke-opacity:1; fill:none\" points=\"\n",
       "  169.121,1364.05 188.019,1364.05 \n",
       "  \"/>\n",
       "<polyline clip-path=\"url(#clip220)\" style=\"stroke:#000000; stroke-linecap:butt; stroke-linejoin:round; stroke-width:4; stroke-opacity:1; fill:none\" points=\"\n",
       "  169.121,1159.88 188.019,1159.88 \n",
       "  \"/>\n",
       "<polyline clip-path=\"url(#clip220)\" style=\"stroke:#000000; stroke-linecap:butt; stroke-linejoin:round; stroke-width:4; stroke-opacity:1; fill:none\" points=\"\n",
       "  169.121,955.704 188.019,955.704 \n",
       "  \"/>\n",
       "<polyline clip-path=\"url(#clip220)\" style=\"stroke:#000000; stroke-linecap:butt; stroke-linejoin:round; stroke-width:4; stroke-opacity:1; fill:none\" points=\"\n",
       "  169.121,751.533 188.019,751.533 \n",
       "  \"/>\n",
       "<polyline clip-path=\"url(#clip220)\" style=\"stroke:#000000; stroke-linecap:butt; stroke-linejoin:round; stroke-width:4; stroke-opacity:1; fill:none\" points=\"\n",
       "  169.121,547.362 188.019,547.362 \n",
       "  \"/>\n",
       "<polyline clip-path=\"url(#clip220)\" style=\"stroke:#000000; stroke-linecap:butt; stroke-linejoin:round; stroke-width:4; stroke-opacity:1; fill:none\" points=\"\n",
       "  169.121,343.19 188.019,343.19 \n",
       "  \"/>\n",
       "<polyline clip-path=\"url(#clip220)\" style=\"stroke:#000000; stroke-linecap:butt; stroke-linejoin:round; stroke-width:4; stroke-opacity:1; fill:none\" points=\"\n",
       "  169.121,139.019 188.019,139.019 \n",
       "  \"/>\n",
       "<path clip-path=\"url(#clip220)\" d=\"M121.177 1349.85 Q117.566 1349.85 115.737 1353.41 Q113.932 1356.95 113.932 1364.08 Q113.932 1371.19 115.737 1374.75 Q117.566 1378.29 121.177 1378.29 Q124.811 1378.29 126.617 1374.75 Q128.445 1371.19 128.445 1364.08 Q128.445 1356.95 126.617 1353.41 Q124.811 1349.85 121.177 1349.85 M121.177 1346.14 Q126.987 1346.14 130.043 1350.75 Q133.121 1355.33 133.121 1364.08 Q133.121 1372.81 130.043 1377.42 Q126.987 1382 121.177 1382 Q115.367 1382 112.288 1377.42 Q109.233 1372.81 109.233 1364.08 Q109.233 1355.33 112.288 1350.75 Q115.367 1346.14 121.177 1346.14 Z\" fill=\"#000000\" fill-rule=\"evenodd\" fill-opacity=\"1\" /><path clip-path=\"url(#clip220)\" d=\"M85.0429 1173.22 L101.362 1173.22 L101.362 1177.16 L79.4179 1177.16 L79.4179 1173.22 Q82.0799 1170.47 86.6632 1165.84 Q91.2697 1161.18 92.4502 1159.84 Q94.6956 1157.32 95.5752 1155.58 Q96.478 1153.82 96.478 1152.13 Q96.478 1149.38 94.5336 1147.64 Q92.6123 1145.91 89.5104 1145.91 Q87.3114 1145.91 84.8577 1146.67 Q82.4271 1147.43 79.6494 1148.98 L79.6494 1144.26 Q82.4734 1143.13 84.9271 1142.55 Q87.3808 1141.97 89.4178 1141.97 Q94.7882 1141.97 97.9826 1144.66 Q101.177 1147.34 101.177 1151.83 Q101.177 1153.96 100.367 1155.88 Q99.5798 1157.78 97.4734 1160.37 Q96.8947 1161.04 93.7928 1164.26 Q90.691 1167.46 85.0429 1173.22 Z\" fill=\"#000000\" fill-rule=\"evenodd\" fill-opacity=\"1\" /><path clip-path=\"url(#clip220)\" d=\"M121.177 1145.67 Q117.566 1145.67 115.737 1149.24 Q113.932 1152.78 113.932 1159.91 Q113.932 1167.02 115.737 1170.58 Q117.566 1174.12 121.177 1174.12 Q124.811 1174.12 126.617 1170.58 Q128.445 1167.02 128.445 1159.91 Q128.445 1152.78 126.617 1149.24 Q124.811 1145.67 121.177 1145.67 M121.177 1141.97 Q126.987 1141.97 130.043 1146.58 Q133.121 1151.16 133.121 1159.91 Q133.121 1168.64 130.043 1173.24 Q126.987 1177.83 121.177 1177.83 Q115.367 1177.83 112.288 1173.24 Q109.233 1168.64 109.233 1159.91 Q109.233 1151.16 112.288 1146.58 Q115.367 1141.97 121.177 1141.97 Z\" fill=\"#000000\" fill-rule=\"evenodd\" fill-opacity=\"1\" /><path clip-path=\"url(#clip220)\" d=\"M93.8623 942.499 L82.0568 960.948 L93.8623 960.948 L93.8623 942.499 M92.6354 938.424 L98.515 938.424 L98.515 960.948 L103.446 960.948 L103.446 964.836 L98.515 964.836 L98.515 972.984 L93.8623 972.984 L93.8623 964.836 L78.2605 964.836 L78.2605 960.323 L92.6354 938.424 Z\" fill=\"#000000\" fill-rule=\"evenodd\" fill-opacity=\"1\" /><path clip-path=\"url(#clip220)\" d=\"M121.177 941.503 Q117.566 941.503 115.737 945.068 Q113.932 948.61 113.932 955.739 Q113.932 962.846 115.737 966.41 Q117.566 969.952 121.177 969.952 Q124.811 969.952 126.617 966.41 Q128.445 962.846 128.445 955.739 Q128.445 948.61 126.617 945.068 Q124.811 941.503 121.177 941.503 M121.177 937.799 Q126.987 937.799 130.043 942.406 Q133.121 946.989 133.121 955.739 Q133.121 964.466 130.043 969.072 Q126.987 973.656 121.177 973.656 Q115.367 973.656 112.288 969.072 Q109.233 964.466 109.233 955.739 Q109.233 946.989 112.288 942.406 Q115.367 937.799 121.177 937.799 Z\" fill=\"#000000\" fill-rule=\"evenodd\" fill-opacity=\"1\" /><path clip-path=\"url(#clip220)\" d=\"M91.5938 749.67 Q88.4456 749.67 86.5938 751.822 Q84.7651 753.975 84.7651 757.725 Q84.7651 761.452 86.5938 763.628 Q88.4456 765.781 91.5938 765.781 Q94.7419 765.781 96.5706 763.628 Q98.4224 761.452 98.4224 757.725 Q98.4224 753.975 96.5706 751.822 Q94.7419 749.67 91.5938 749.67 M100.876 735.017 L100.876 739.276 Q99.1169 738.443 97.3113 738.003 Q95.5289 737.563 93.7697 737.563 Q89.1401 737.563 86.6864 740.688 Q84.2558 743.813 83.9086 750.133 Q85.2743 748.119 87.3345 747.054 Q89.3947 745.966 91.8715 745.966 Q97.0798 745.966 100.089 749.137 Q103.121 752.285 103.121 757.725 Q103.121 763.049 99.9733 766.267 Q96.8252 769.484 91.5938 769.484 Q85.5984 769.484 82.4271 764.901 Q79.2559 760.295 79.2559 751.568 Q79.2559 743.373 83.1447 738.512 Q87.0336 733.628 93.5845 733.628 Q95.3437 733.628 97.1261 733.975 Q98.9317 734.323 100.876 735.017 Z\" fill=\"#000000\" fill-rule=\"evenodd\" fill-opacity=\"1\" /><path clip-path=\"url(#clip220)\" d=\"M121.177 737.332 Q117.566 737.332 115.737 740.897 Q113.932 744.438 113.932 751.568 Q113.932 758.674 115.737 762.239 Q117.566 765.781 121.177 765.781 Q124.811 765.781 126.617 762.239 Q128.445 758.674 128.445 751.568 Q128.445 744.438 126.617 740.897 Q124.811 737.332 121.177 737.332 M121.177 733.628 Q126.987 733.628 130.043 738.235 Q133.121 742.818 133.121 751.568 Q133.121 760.295 130.043 764.901 Q126.987 769.484 121.177 769.484 Q115.367 769.484 112.288 764.901 Q109.233 760.295 109.233 751.568 Q109.233 742.818 112.288 738.235 Q115.367 733.628 121.177 733.628 Z\" fill=\"#000000\" fill-rule=\"evenodd\" fill-opacity=\"1\" /><path clip-path=\"url(#clip220)\" d=\"M91.0151 548.23 Q87.6817 548.23 85.7605 550.012 Q83.8623 551.795 83.8623 554.92 Q83.8623 558.045 85.7605 559.827 Q87.6817 561.609 91.0151 561.609 Q94.3484 561.609 96.2697 559.827 Q98.1909 558.021 98.1909 554.92 Q98.1909 551.795 96.2697 550.012 Q94.3715 548.23 91.0151 548.23 M86.3392 546.239 Q83.3299 545.498 81.6401 543.438 Q79.9735 541.378 79.9735 538.415 Q79.9735 534.272 82.9133 531.864 Q85.8762 529.457 91.0151 529.457 Q96.1771 529.457 99.1169 531.864 Q102.057 534.272 102.057 538.415 Q102.057 541.378 100.367 543.438 Q98.7002 545.498 95.7141 546.239 Q99.0937 547.026 100.969 549.318 Q102.867 551.609 102.867 554.92 Q102.867 559.943 99.7882 562.628 Q96.7326 565.313 91.0151 565.313 Q85.2975 565.313 82.2188 562.628 Q79.1633 559.943 79.1633 554.92 Q79.1633 551.609 81.0614 549.318 Q82.9595 547.026 86.3392 546.239 M84.6262 538.855 Q84.6262 541.54 86.2929 543.045 Q87.9827 544.549 91.0151 544.549 Q94.0243 544.549 95.7141 543.045 Q97.4271 541.54 97.4271 538.855 Q97.4271 536.17 95.7141 534.665 Q94.0243 533.16 91.0151 533.16 Q87.9827 533.16 86.2929 534.665 Q84.6262 536.17 84.6262 538.855 Z\" fill=\"#000000\" fill-rule=\"evenodd\" fill-opacity=\"1\" /><path clip-path=\"url(#clip220)\" d=\"M121.177 533.16 Q117.566 533.16 115.737 536.725 Q113.932 540.267 113.932 547.397 Q113.932 554.503 115.737 558.068 Q117.566 561.609 121.177 561.609 Q124.811 561.609 126.617 558.068 Q128.445 554.503 128.445 547.397 Q128.445 540.267 126.617 536.725 Q124.811 533.16 121.177 533.16 M121.177 529.457 Q126.987 529.457 130.043 534.063 Q133.121 538.647 133.121 547.397 Q133.121 556.123 130.043 560.73 Q126.987 565.313 121.177 565.313 Q115.367 565.313 112.288 560.73 Q109.233 556.123 109.233 547.397 Q109.233 538.647 112.288 534.063 Q115.367 529.457 121.177 529.457 Z\" fill=\"#000000\" fill-rule=\"evenodd\" fill-opacity=\"1\" /><path clip-path=\"url(#clip220)\" d=\"M51.6634 356.535 L59.3023 356.535 L59.3023 330.17 L50.9921 331.836 L50.9921 327.577 L59.256 325.91 L63.9319 325.91 L63.9319 356.535 L71.5707 356.535 L71.5707 360.47 L51.6634 360.47 L51.6634 356.535 Z\" fill=\"#000000\" fill-rule=\"evenodd\" fill-opacity=\"1\" /><path clip-path=\"url(#clip220)\" d=\"M91.0151 328.989 Q87.404 328.989 85.5753 332.554 Q83.7697 336.096 83.7697 343.225 Q83.7697 350.332 85.5753 353.896 Q87.404 357.438 91.0151 357.438 Q94.6493 357.438 96.4548 353.896 Q98.2835 350.332 98.2835 343.225 Q98.2835 336.096 96.4548 332.554 Q94.6493 328.989 91.0151 328.989 M91.0151 325.285 Q96.8252 325.285 99.8808 329.892 Q102.959 334.475 102.959 343.225 Q102.959 351.952 99.8808 356.558 Q96.8252 361.142 91.0151 361.142 Q85.2049 361.142 82.1262 356.558 Q79.0707 351.952 79.0707 343.225 Q79.0707 334.475 82.1262 329.892 Q85.2049 325.285 91.0151 325.285 Z\" fill=\"#000000\" fill-rule=\"evenodd\" fill-opacity=\"1\" /><path clip-path=\"url(#clip220)\" d=\"M121.177 328.989 Q117.566 328.989 115.737 332.554 Q113.932 336.096 113.932 343.225 Q113.932 350.332 115.737 353.896 Q117.566 357.438 121.177 357.438 Q124.811 357.438 126.617 353.896 Q128.445 350.332 128.445 343.225 Q128.445 336.096 126.617 332.554 Q124.811 328.989 121.177 328.989 M121.177 325.285 Q126.987 325.285 130.043 329.892 Q133.121 334.475 133.121 343.225 Q133.121 351.952 130.043 356.558 Q126.987 361.142 121.177 361.142 Q115.367 361.142 112.288 356.558 Q109.233 351.952 109.233 343.225 Q109.233 334.475 112.288 329.892 Q115.367 325.285 121.177 325.285 Z\" fill=\"#000000\" fill-rule=\"evenodd\" fill-opacity=\"1\" /><path clip-path=\"url(#clip220)\" d=\"M51.6634 152.364 L59.3023 152.364 L59.3023 125.998 L50.9921 127.665 L50.9921 123.406 L59.256 121.739 L63.9319 121.739 L63.9319 152.364 L71.5707 152.364 L71.5707 156.299 L51.6634 156.299 L51.6634 152.364 Z\" fill=\"#000000\" fill-rule=\"evenodd\" fill-opacity=\"1\" /><path clip-path=\"url(#clip220)\" d=\"M85.0429 152.364 L101.362 152.364 L101.362 156.299 L79.4179 156.299 L79.4179 152.364 Q82.0799 149.609 86.6632 144.98 Q91.2697 140.327 92.4502 138.984 Q94.6956 136.461 95.5752 134.725 Q96.478 132.966 96.478 131.276 Q96.478 128.521 94.5336 126.785 Q92.6123 125.049 89.5104 125.049 Q87.3114 125.049 84.8577 125.813 Q82.4271 126.577 79.6494 128.128 L79.6494 123.406 Q82.4734 122.272 84.9271 121.693 Q87.3808 121.114 89.4178 121.114 Q94.7882 121.114 97.9826 123.799 Q101.177 126.484 101.177 130.975 Q101.177 133.105 100.367 135.026 Q99.5798 136.924 97.4734 139.517 Q96.8947 140.188 93.7928 143.406 Q90.691 146.6 85.0429 152.364 Z\" fill=\"#000000\" fill-rule=\"evenodd\" fill-opacity=\"1\" /><path clip-path=\"url(#clip220)\" d=\"M121.177 124.818 Q117.566 124.818 115.737 128.383 Q113.932 131.924 113.932 139.054 Q113.932 146.16 115.737 149.725 Q117.566 153.267 121.177 153.267 Q124.811 153.267 126.617 149.725 Q128.445 146.16 128.445 139.054 Q128.445 131.924 126.617 128.383 Q124.811 124.818 121.177 124.818 M121.177 121.114 Q126.987 121.114 130.043 125.721 Q133.121 130.304 133.121 139.054 Q133.121 147.781 130.043 152.387 Q126.987 156.97 121.177 156.97 Q115.367 156.97 112.288 152.387 Q109.233 147.781 109.233 139.054 Q109.233 130.304 112.288 125.721 Q115.367 121.114 121.177 121.114 Z\" fill=\"#000000\" fill-rule=\"evenodd\" fill-opacity=\"1\" /><path clip-path=\"url(#clip222)\" d=\"\n",
       "M230.922 1445.72 L260.351 1434.07 L289.78 1423.58 L319.209 1414.2 L348.638 1405.86 L378.067 1398.5 L407.497 1392.06 L436.926 1386.48 L466.355 1381.69 L495.784 1377.63 \n",
       "  L525.213 1374.26 L554.642 1371.49 L584.071 1369.27 L613.5 1367.55 L642.929 1366.25 L672.358 1365.32 L701.787 1364.7 L731.216 1364.32 L760.645 1364.13 L790.074 1364.06 \n",
       "  L819.503 1364.05 L848.932 1364.04 L878.361 1363.97 L907.79 1363.77 L937.219 1363.39 L966.648 1362.77 L996.077 1361.84 L1025.51 1360.55 L1054.94 1358.82 L1084.36 1356.61 \n",
       "  L1113.79 1353.84 L1143.22 1350.46 L1172.65 1346.41 L1202.08 1341.62 L1231.51 1336.03 L1260.94 1329.59 L1290.37 1322.23 L1319.8 1313.89 L1349.23 1304.51 L1378.65 1294.03 \n",
       "  L1408.08 1282.38 L1437.51 1269.51 L1466.94 1255.35 L1496.37 1239.84 L1525.8 1222.92 L1555.23 1204.54 L1584.66 1184.62 L1614.09 1163.11 L1643.52 1139.95 L1672.95 1115.07 \n",
       "  L1702.37 1088.42 L1731.8 1059.92 L1761.23 1029.53 L1790.66 997.182 L1820.09 962.81 L1849.52 926.355 L1878.95 887.756 L1908.38 846.953 L1937.81 803.883 L1967.24 758.485 \n",
       "  L1996.66 710.699 L2026.09 660.463 L2055.52 607.715 L2084.95 552.395 L2114.38 494.441 L2143.81 433.791 L2173.24 370.386 L2202.67 304.163 L2232.1 235.061 L2261.53 163.019 \n",
       "  L2290.95 87.9763 L2290.95 1364.05 L2261.53 1364.05 L2232.1 1364.05 L2202.67 1364.05 L2173.24 1364.05 L2143.81 1364.05 L2114.38 1364.05 L2084.95 1364.05 L2055.52 1364.05 \n",
       "  L2026.09 1364.05 L1996.66 1364.05 L1967.24 1364.05 L1937.81 1364.05 L1908.38 1364.05 L1878.95 1364.05 L1849.52 1364.05 L1820.09 1364.05 L1790.66 1364.05 L1761.23 1364.05 \n",
       "  L1731.8 1364.05 L1702.37 1364.05 L1672.95 1364.05 L1643.52 1364.05 L1614.09 1364.05 L1584.66 1364.05 L1555.23 1364.05 L1525.8 1364.05 L1496.37 1364.05 L1466.94 1364.05 \n",
       "  L1437.51 1364.05 L1408.08 1364.05 L1378.65 1364.05 L1349.23 1364.05 L1319.8 1364.05 L1290.37 1364.05 L1260.94 1364.05 L1231.51 1364.05 L1202.08 1364.05 L1172.65 1364.05 \n",
       "  L1143.22 1364.05 L1113.79 1364.05 L1084.36 1364.05 L1054.94 1364.05 L1025.51 1364.05 L996.077 1364.05 L966.648 1364.05 L937.219 1364.05 L907.79 1364.05 L878.361 1364.05 \n",
       "  L848.932 1364.05 L819.503 1364.05 L790.074 1364.05 L760.645 1364.05 L731.216 1364.05 L701.787 1364.05 L672.358 1364.05 L642.929 1364.05 L613.5 1364.05 L584.071 1364.05 \n",
       "  L554.642 1364.05 L525.213 1364.05 L495.784 1364.05 L466.355 1364.05 L436.926 1364.05 L407.497 1364.05 L378.067 1364.05 L348.638 1364.05 L319.209 1364.05 L289.78 1364.05 \n",
       "  L260.351 1364.05 L230.922 1364.05  Z\n",
       "  \" fill=\"#a52a2a\" fill-rule=\"evenodd\" fill-opacity=\"1\"/>\n",
       "<polyline clip-path=\"url(#clip222)\" style=\"stroke:#009af9; stroke-linecap:butt; stroke-linejoin:round; stroke-width:4; stroke-opacity:1; fill:none\" points=\"\n",
       "  230.922,1445.72 260.351,1434.07 289.78,1423.58 319.209,1414.2 348.638,1405.86 378.067,1398.5 407.497,1392.06 436.926,1386.48 466.355,1381.69 495.784,1377.63 \n",
       "  525.213,1374.26 554.642,1371.49 584.071,1369.27 613.5,1367.55 642.929,1366.25 672.358,1365.32 701.787,1364.7 731.216,1364.32 760.645,1364.13 790.074,1364.06 \n",
       "  819.503,1364.05 848.932,1364.04 878.361,1363.97 907.79,1363.77 937.219,1363.39 966.648,1362.77 996.077,1361.84 1025.51,1360.55 1054.94,1358.82 1084.36,1356.61 \n",
       "  1113.79,1353.84 1143.22,1350.46 1172.65,1346.41 1202.08,1341.62 1231.51,1336.03 1260.94,1329.59 1290.37,1322.23 1319.8,1313.89 1349.23,1304.51 1378.65,1294.03 \n",
       "  1408.08,1282.38 1437.51,1269.51 1466.94,1255.35 1496.37,1239.84 1525.8,1222.92 1555.23,1204.54 1584.66,1184.62 1614.09,1163.11 1643.52,1139.95 1672.95,1115.07 \n",
       "  1702.37,1088.42 1731.8,1059.92 1761.23,1029.53 1790.66,997.182 1820.09,962.81 1849.52,926.355 1878.95,887.756 1908.38,846.953 1937.81,803.883 1967.24,758.485 \n",
       "  1996.66,710.699 2026.09,660.463 2055.52,607.715 2084.95,552.395 2114.38,494.441 2143.81,433.791 2173.24,370.386 2202.67,304.163 2232.1,235.061 2261.53,163.019 \n",
       "  2290.95,87.9763 \n",
       "  \"/>\n",
       "<circle clip-path=\"url(#clip222)\" cx=\"230.922\" cy=\"1445.72\" r=\"14\" fill=\"#ffff00\" fill-rule=\"evenodd\" fill-opacity=\"1\" stroke=\"#000000\" stroke-opacity=\"1\" stroke-width=\"3.2\"/>\n",
       "<circle clip-path=\"url(#clip222)\" cx=\"260.351\" cy=\"1434.07\" r=\"14\" fill=\"#ffff00\" fill-rule=\"evenodd\" fill-opacity=\"1\" stroke=\"#000000\" stroke-opacity=\"1\" stroke-width=\"3.2\"/>\n",
       "<circle clip-path=\"url(#clip222)\" cx=\"289.78\" cy=\"1423.58\" r=\"14\" fill=\"#ffff00\" fill-rule=\"evenodd\" fill-opacity=\"1\" stroke=\"#000000\" stroke-opacity=\"1\" stroke-width=\"3.2\"/>\n",
       "<circle clip-path=\"url(#clip222)\" cx=\"319.209\" cy=\"1414.2\" r=\"14\" fill=\"#ffff00\" fill-rule=\"evenodd\" fill-opacity=\"1\" stroke=\"#000000\" stroke-opacity=\"1\" stroke-width=\"3.2\"/>\n",
       "<circle clip-path=\"url(#clip222)\" cx=\"348.638\" cy=\"1405.86\" r=\"14\" fill=\"#ffff00\" fill-rule=\"evenodd\" fill-opacity=\"1\" stroke=\"#000000\" stroke-opacity=\"1\" stroke-width=\"3.2\"/>\n",
       "<circle clip-path=\"url(#clip222)\" cx=\"378.067\" cy=\"1398.5\" r=\"14\" fill=\"#ffff00\" fill-rule=\"evenodd\" fill-opacity=\"1\" stroke=\"#000000\" stroke-opacity=\"1\" stroke-width=\"3.2\"/>\n",
       "<circle clip-path=\"url(#clip222)\" cx=\"407.497\" cy=\"1392.06\" r=\"14\" fill=\"#ffff00\" fill-rule=\"evenodd\" fill-opacity=\"1\" stroke=\"#000000\" stroke-opacity=\"1\" stroke-width=\"3.2\"/>\n",
       "<circle clip-path=\"url(#clip222)\" cx=\"436.926\" cy=\"1386.48\" r=\"14\" fill=\"#ffff00\" fill-rule=\"evenodd\" fill-opacity=\"1\" stroke=\"#000000\" stroke-opacity=\"1\" stroke-width=\"3.2\"/>\n",
       "<circle clip-path=\"url(#clip222)\" cx=\"466.355\" cy=\"1381.69\" r=\"14\" fill=\"#ffff00\" fill-rule=\"evenodd\" fill-opacity=\"1\" stroke=\"#000000\" stroke-opacity=\"1\" stroke-width=\"3.2\"/>\n",
       "<circle clip-path=\"url(#clip222)\" cx=\"495.784\" cy=\"1377.63\" r=\"14\" fill=\"#ffff00\" fill-rule=\"evenodd\" fill-opacity=\"1\" stroke=\"#000000\" stroke-opacity=\"1\" stroke-width=\"3.2\"/>\n",
       "<circle clip-path=\"url(#clip222)\" cx=\"525.213\" cy=\"1374.26\" r=\"14\" fill=\"#ffff00\" fill-rule=\"evenodd\" fill-opacity=\"1\" stroke=\"#000000\" stroke-opacity=\"1\" stroke-width=\"3.2\"/>\n",
       "<circle clip-path=\"url(#clip222)\" cx=\"554.642\" cy=\"1371.49\" r=\"14\" fill=\"#ffff00\" fill-rule=\"evenodd\" fill-opacity=\"1\" stroke=\"#000000\" stroke-opacity=\"1\" stroke-width=\"3.2\"/>\n",
       "<circle clip-path=\"url(#clip222)\" cx=\"584.071\" cy=\"1369.27\" r=\"14\" fill=\"#ffff00\" fill-rule=\"evenodd\" fill-opacity=\"1\" stroke=\"#000000\" stroke-opacity=\"1\" stroke-width=\"3.2\"/>\n",
       "<circle clip-path=\"url(#clip222)\" cx=\"613.5\" cy=\"1367.55\" r=\"14\" fill=\"#ffff00\" fill-rule=\"evenodd\" fill-opacity=\"1\" stroke=\"#000000\" stroke-opacity=\"1\" stroke-width=\"3.2\"/>\n",
       "<circle clip-path=\"url(#clip222)\" cx=\"642.929\" cy=\"1366.25\" r=\"14\" fill=\"#ffff00\" fill-rule=\"evenodd\" fill-opacity=\"1\" stroke=\"#000000\" stroke-opacity=\"1\" stroke-width=\"3.2\"/>\n",
       "<circle clip-path=\"url(#clip222)\" cx=\"672.358\" cy=\"1365.32\" r=\"14\" fill=\"#ffff00\" fill-rule=\"evenodd\" fill-opacity=\"1\" stroke=\"#000000\" stroke-opacity=\"1\" stroke-width=\"3.2\"/>\n",
       "<circle clip-path=\"url(#clip222)\" cx=\"701.787\" cy=\"1364.7\" r=\"14\" fill=\"#ffff00\" fill-rule=\"evenodd\" fill-opacity=\"1\" stroke=\"#000000\" stroke-opacity=\"1\" stroke-width=\"3.2\"/>\n",
       "<circle clip-path=\"url(#clip222)\" cx=\"731.216\" cy=\"1364.32\" r=\"14\" fill=\"#ffff00\" fill-rule=\"evenodd\" fill-opacity=\"1\" stroke=\"#000000\" stroke-opacity=\"1\" stroke-width=\"3.2\"/>\n",
       "<circle clip-path=\"url(#clip222)\" cx=\"760.645\" cy=\"1364.13\" r=\"14\" fill=\"#ffff00\" fill-rule=\"evenodd\" fill-opacity=\"1\" stroke=\"#000000\" stroke-opacity=\"1\" stroke-width=\"3.2\"/>\n",
       "<circle clip-path=\"url(#clip222)\" cx=\"790.074\" cy=\"1364.06\" r=\"14\" fill=\"#ffff00\" fill-rule=\"evenodd\" fill-opacity=\"1\" stroke=\"#000000\" stroke-opacity=\"1\" stroke-width=\"3.2\"/>\n",
       "<circle clip-path=\"url(#clip222)\" cx=\"819.503\" cy=\"1364.05\" r=\"14\" fill=\"#ffff00\" fill-rule=\"evenodd\" fill-opacity=\"1\" stroke=\"#000000\" stroke-opacity=\"1\" stroke-width=\"3.2\"/>\n",
       "<circle clip-path=\"url(#clip222)\" cx=\"848.932\" cy=\"1364.04\" r=\"14\" fill=\"#ffff00\" fill-rule=\"evenodd\" fill-opacity=\"1\" stroke=\"#000000\" stroke-opacity=\"1\" stroke-width=\"3.2\"/>\n",
       "<circle clip-path=\"url(#clip222)\" cx=\"878.361\" cy=\"1363.97\" r=\"14\" fill=\"#ffff00\" fill-rule=\"evenodd\" fill-opacity=\"1\" stroke=\"#000000\" stroke-opacity=\"1\" stroke-width=\"3.2\"/>\n",
       "<circle clip-path=\"url(#clip222)\" cx=\"907.79\" cy=\"1363.77\" r=\"14\" fill=\"#ffff00\" fill-rule=\"evenodd\" fill-opacity=\"1\" stroke=\"#000000\" stroke-opacity=\"1\" stroke-width=\"3.2\"/>\n",
       "<circle clip-path=\"url(#clip222)\" cx=\"937.219\" cy=\"1363.39\" r=\"14\" fill=\"#ffff00\" fill-rule=\"evenodd\" fill-opacity=\"1\" stroke=\"#000000\" stroke-opacity=\"1\" stroke-width=\"3.2\"/>\n",
       "<circle clip-path=\"url(#clip222)\" cx=\"966.648\" cy=\"1362.77\" r=\"14\" fill=\"#ffff00\" fill-rule=\"evenodd\" fill-opacity=\"1\" stroke=\"#000000\" stroke-opacity=\"1\" stroke-width=\"3.2\"/>\n",
       "<circle clip-path=\"url(#clip222)\" cx=\"996.077\" cy=\"1361.84\" r=\"14\" fill=\"#ffff00\" fill-rule=\"evenodd\" fill-opacity=\"1\" stroke=\"#000000\" stroke-opacity=\"1\" stroke-width=\"3.2\"/>\n",
       "<circle clip-path=\"url(#clip222)\" cx=\"1025.51\" cy=\"1360.55\" r=\"14\" fill=\"#ffff00\" fill-rule=\"evenodd\" fill-opacity=\"1\" stroke=\"#000000\" stroke-opacity=\"1\" stroke-width=\"3.2\"/>\n",
       "<circle clip-path=\"url(#clip222)\" cx=\"1054.94\" cy=\"1358.82\" r=\"14\" fill=\"#ffff00\" fill-rule=\"evenodd\" fill-opacity=\"1\" stroke=\"#000000\" stroke-opacity=\"1\" stroke-width=\"3.2\"/>\n",
       "<circle clip-path=\"url(#clip222)\" cx=\"1084.36\" cy=\"1356.61\" r=\"14\" fill=\"#ffff00\" fill-rule=\"evenodd\" fill-opacity=\"1\" stroke=\"#000000\" stroke-opacity=\"1\" stroke-width=\"3.2\"/>\n",
       "<circle clip-path=\"url(#clip222)\" cx=\"1113.79\" cy=\"1353.84\" r=\"14\" fill=\"#ffff00\" fill-rule=\"evenodd\" fill-opacity=\"1\" stroke=\"#000000\" stroke-opacity=\"1\" stroke-width=\"3.2\"/>\n",
       "<circle clip-path=\"url(#clip222)\" cx=\"1143.22\" cy=\"1350.46\" r=\"14\" fill=\"#ffff00\" fill-rule=\"evenodd\" fill-opacity=\"1\" stroke=\"#000000\" stroke-opacity=\"1\" stroke-width=\"3.2\"/>\n",
       "<circle clip-path=\"url(#clip222)\" cx=\"1172.65\" cy=\"1346.41\" r=\"14\" fill=\"#ffff00\" fill-rule=\"evenodd\" fill-opacity=\"1\" stroke=\"#000000\" stroke-opacity=\"1\" stroke-width=\"3.2\"/>\n",
       "<circle clip-path=\"url(#clip222)\" cx=\"1202.08\" cy=\"1341.62\" r=\"14\" fill=\"#ffff00\" fill-rule=\"evenodd\" fill-opacity=\"1\" stroke=\"#000000\" stroke-opacity=\"1\" stroke-width=\"3.2\"/>\n",
       "<circle clip-path=\"url(#clip222)\" cx=\"1231.51\" cy=\"1336.03\" r=\"14\" fill=\"#ffff00\" fill-rule=\"evenodd\" fill-opacity=\"1\" stroke=\"#000000\" stroke-opacity=\"1\" stroke-width=\"3.2\"/>\n",
       "<circle clip-path=\"url(#clip222)\" cx=\"1260.94\" cy=\"1329.59\" r=\"14\" fill=\"#ffff00\" fill-rule=\"evenodd\" fill-opacity=\"1\" stroke=\"#000000\" stroke-opacity=\"1\" stroke-width=\"3.2\"/>\n",
       "<circle clip-path=\"url(#clip222)\" cx=\"1290.37\" cy=\"1322.23\" r=\"14\" fill=\"#ffff00\" fill-rule=\"evenodd\" fill-opacity=\"1\" stroke=\"#000000\" stroke-opacity=\"1\" stroke-width=\"3.2\"/>\n",
       "<circle clip-path=\"url(#clip222)\" cx=\"1319.8\" cy=\"1313.89\" r=\"14\" fill=\"#ffff00\" fill-rule=\"evenodd\" fill-opacity=\"1\" stroke=\"#000000\" stroke-opacity=\"1\" stroke-width=\"3.2\"/>\n",
       "<circle clip-path=\"url(#clip222)\" cx=\"1349.23\" cy=\"1304.51\" r=\"14\" fill=\"#ffff00\" fill-rule=\"evenodd\" fill-opacity=\"1\" stroke=\"#000000\" stroke-opacity=\"1\" stroke-width=\"3.2\"/>\n",
       "<circle clip-path=\"url(#clip222)\" cx=\"1378.65\" cy=\"1294.03\" r=\"14\" fill=\"#ffff00\" fill-rule=\"evenodd\" fill-opacity=\"1\" stroke=\"#000000\" stroke-opacity=\"1\" stroke-width=\"3.2\"/>\n",
       "<circle clip-path=\"url(#clip222)\" cx=\"1408.08\" cy=\"1282.38\" r=\"14\" fill=\"#ffff00\" fill-rule=\"evenodd\" fill-opacity=\"1\" stroke=\"#000000\" stroke-opacity=\"1\" stroke-width=\"3.2\"/>\n",
       "<circle clip-path=\"url(#clip222)\" cx=\"1437.51\" cy=\"1269.51\" r=\"14\" fill=\"#ffff00\" fill-rule=\"evenodd\" fill-opacity=\"1\" stroke=\"#000000\" stroke-opacity=\"1\" stroke-width=\"3.2\"/>\n",
       "<circle clip-path=\"url(#clip222)\" cx=\"1466.94\" cy=\"1255.35\" r=\"14\" fill=\"#ffff00\" fill-rule=\"evenodd\" fill-opacity=\"1\" stroke=\"#000000\" stroke-opacity=\"1\" stroke-width=\"3.2\"/>\n",
       "<circle clip-path=\"url(#clip222)\" cx=\"1496.37\" cy=\"1239.84\" r=\"14\" fill=\"#ffff00\" fill-rule=\"evenodd\" fill-opacity=\"1\" stroke=\"#000000\" stroke-opacity=\"1\" stroke-width=\"3.2\"/>\n",
       "<circle clip-path=\"url(#clip222)\" cx=\"1525.8\" cy=\"1222.92\" r=\"14\" fill=\"#ffff00\" fill-rule=\"evenodd\" fill-opacity=\"1\" stroke=\"#000000\" stroke-opacity=\"1\" stroke-width=\"3.2\"/>\n",
       "<circle clip-path=\"url(#clip222)\" cx=\"1555.23\" cy=\"1204.54\" r=\"14\" fill=\"#ffff00\" fill-rule=\"evenodd\" fill-opacity=\"1\" stroke=\"#000000\" stroke-opacity=\"1\" stroke-width=\"3.2\"/>\n",
       "<circle clip-path=\"url(#clip222)\" cx=\"1584.66\" cy=\"1184.62\" r=\"14\" fill=\"#ffff00\" fill-rule=\"evenodd\" fill-opacity=\"1\" stroke=\"#000000\" stroke-opacity=\"1\" stroke-width=\"3.2\"/>\n",
       "<circle clip-path=\"url(#clip222)\" cx=\"1614.09\" cy=\"1163.11\" r=\"14\" fill=\"#ffff00\" fill-rule=\"evenodd\" fill-opacity=\"1\" stroke=\"#000000\" stroke-opacity=\"1\" stroke-width=\"3.2\"/>\n",
       "<circle clip-path=\"url(#clip222)\" cx=\"1643.52\" cy=\"1139.95\" r=\"14\" fill=\"#ffff00\" fill-rule=\"evenodd\" fill-opacity=\"1\" stroke=\"#000000\" stroke-opacity=\"1\" stroke-width=\"3.2\"/>\n",
       "<circle clip-path=\"url(#clip222)\" cx=\"1672.95\" cy=\"1115.07\" r=\"14\" fill=\"#ffff00\" fill-rule=\"evenodd\" fill-opacity=\"1\" stroke=\"#000000\" stroke-opacity=\"1\" stroke-width=\"3.2\"/>\n",
       "<circle clip-path=\"url(#clip222)\" cx=\"1702.37\" cy=\"1088.42\" r=\"14\" fill=\"#ffff00\" fill-rule=\"evenodd\" fill-opacity=\"1\" stroke=\"#000000\" stroke-opacity=\"1\" stroke-width=\"3.2\"/>\n",
       "<circle clip-path=\"url(#clip222)\" cx=\"1731.8\" cy=\"1059.92\" r=\"14\" fill=\"#ffff00\" fill-rule=\"evenodd\" fill-opacity=\"1\" stroke=\"#000000\" stroke-opacity=\"1\" stroke-width=\"3.2\"/>\n",
       "<circle clip-path=\"url(#clip222)\" cx=\"1761.23\" cy=\"1029.53\" r=\"14\" fill=\"#ffff00\" fill-rule=\"evenodd\" fill-opacity=\"1\" stroke=\"#000000\" stroke-opacity=\"1\" stroke-width=\"3.2\"/>\n",
       "<circle clip-path=\"url(#clip222)\" cx=\"1790.66\" cy=\"997.182\" r=\"14\" fill=\"#ffff00\" fill-rule=\"evenodd\" fill-opacity=\"1\" stroke=\"#000000\" stroke-opacity=\"1\" stroke-width=\"3.2\"/>\n",
       "<circle clip-path=\"url(#clip222)\" cx=\"1820.09\" cy=\"962.81\" r=\"14\" fill=\"#ffff00\" fill-rule=\"evenodd\" fill-opacity=\"1\" stroke=\"#000000\" stroke-opacity=\"1\" stroke-width=\"3.2\"/>\n",
       "<circle clip-path=\"url(#clip222)\" cx=\"1849.52\" cy=\"926.355\" r=\"14\" fill=\"#ffff00\" fill-rule=\"evenodd\" fill-opacity=\"1\" stroke=\"#000000\" stroke-opacity=\"1\" stroke-width=\"3.2\"/>\n",
       "<circle clip-path=\"url(#clip222)\" cx=\"1878.95\" cy=\"887.756\" r=\"14\" fill=\"#ffff00\" fill-rule=\"evenodd\" fill-opacity=\"1\" stroke=\"#000000\" stroke-opacity=\"1\" stroke-width=\"3.2\"/>\n",
       "<circle clip-path=\"url(#clip222)\" cx=\"1908.38\" cy=\"846.953\" r=\"14\" fill=\"#ffff00\" fill-rule=\"evenodd\" fill-opacity=\"1\" stroke=\"#000000\" stroke-opacity=\"1\" stroke-width=\"3.2\"/>\n",
       "<circle clip-path=\"url(#clip222)\" cx=\"1937.81\" cy=\"803.883\" r=\"14\" fill=\"#ffff00\" fill-rule=\"evenodd\" fill-opacity=\"1\" stroke=\"#000000\" stroke-opacity=\"1\" stroke-width=\"3.2\"/>\n",
       "<circle clip-path=\"url(#clip222)\" cx=\"1967.24\" cy=\"758.485\" r=\"14\" fill=\"#ffff00\" fill-rule=\"evenodd\" fill-opacity=\"1\" stroke=\"#000000\" stroke-opacity=\"1\" stroke-width=\"3.2\"/>\n",
       "<circle clip-path=\"url(#clip222)\" cx=\"1996.66\" cy=\"710.699\" r=\"14\" fill=\"#ffff00\" fill-rule=\"evenodd\" fill-opacity=\"1\" stroke=\"#000000\" stroke-opacity=\"1\" stroke-width=\"3.2\"/>\n",
       "<circle clip-path=\"url(#clip222)\" cx=\"2026.09\" cy=\"660.463\" r=\"14\" fill=\"#ffff00\" fill-rule=\"evenodd\" fill-opacity=\"1\" stroke=\"#000000\" stroke-opacity=\"1\" stroke-width=\"3.2\"/>\n",
       "<circle clip-path=\"url(#clip222)\" cx=\"2055.52\" cy=\"607.715\" r=\"14\" fill=\"#ffff00\" fill-rule=\"evenodd\" fill-opacity=\"1\" stroke=\"#000000\" stroke-opacity=\"1\" stroke-width=\"3.2\"/>\n",
       "<circle clip-path=\"url(#clip222)\" cx=\"2084.95\" cy=\"552.395\" r=\"14\" fill=\"#ffff00\" fill-rule=\"evenodd\" fill-opacity=\"1\" stroke=\"#000000\" stroke-opacity=\"1\" stroke-width=\"3.2\"/>\n",
       "<circle clip-path=\"url(#clip222)\" cx=\"2114.38\" cy=\"494.441\" r=\"14\" fill=\"#ffff00\" fill-rule=\"evenodd\" fill-opacity=\"1\" stroke=\"#000000\" stroke-opacity=\"1\" stroke-width=\"3.2\"/>\n",
       "<circle clip-path=\"url(#clip222)\" cx=\"2143.81\" cy=\"433.791\" r=\"14\" fill=\"#ffff00\" fill-rule=\"evenodd\" fill-opacity=\"1\" stroke=\"#000000\" stroke-opacity=\"1\" stroke-width=\"3.2\"/>\n",
       "<circle clip-path=\"url(#clip222)\" cx=\"2173.24\" cy=\"370.386\" r=\"14\" fill=\"#ffff00\" fill-rule=\"evenodd\" fill-opacity=\"1\" stroke=\"#000000\" stroke-opacity=\"1\" stroke-width=\"3.2\"/>\n",
       "<circle clip-path=\"url(#clip222)\" cx=\"2202.67\" cy=\"304.163\" r=\"14\" fill=\"#ffff00\" fill-rule=\"evenodd\" fill-opacity=\"1\" stroke=\"#000000\" stroke-opacity=\"1\" stroke-width=\"3.2\"/>\n",
       "<circle clip-path=\"url(#clip222)\" cx=\"2232.1\" cy=\"235.061\" r=\"14\" fill=\"#ffff00\" fill-rule=\"evenodd\" fill-opacity=\"1\" stroke=\"#000000\" stroke-opacity=\"1\" stroke-width=\"3.2\"/>\n",
       "<circle clip-path=\"url(#clip222)\" cx=\"2261.53\" cy=\"163.019\" r=\"14\" fill=\"#ffff00\" fill-rule=\"evenodd\" fill-opacity=\"1\" stroke=\"#000000\" stroke-opacity=\"1\" stroke-width=\"3.2\"/>\n",
       "<circle clip-path=\"url(#clip222)\" cx=\"2290.95\" cy=\"87.9763\" r=\"14\" fill=\"#ffff00\" fill-rule=\"evenodd\" fill-opacity=\"1\" stroke=\"#000000\" stroke-opacity=\"1\" stroke-width=\"3.2\"/>\n",
       "</svg>\n"
      ]
     },
     "execution_count": 162,
     "metadata": {},
     "output_type": "execute_result"
    }
   ],
   "source": [
    "plot(x_plot, y_plot, fill = (0, :brown), leg = false)\n",
    "scatter!(x_plot, y_plot, c = :Yellow)"
   ]
  },
  {
   "cell_type": "code",
   "execution_count": 81,
   "id": "95d7b429",
   "metadata": {},
   "outputs": [
    {
     "name": "stderr",
     "output_type": "stream",
     "text": [
      "\u001b[32m\u001b[1m   Resolving\u001b[22m\u001b[39m package versions...\n",
      "\u001b[32m\u001b[1m   Installed\u001b[22m\u001b[39m JSExpr ──────────────── v0.5.3\n",
      "\u001b[32m\u001b[1m   Installed\u001b[22m\u001b[39m AssetRegistry ───────── v0.1.0\n",
      "\u001b[32m\u001b[1m   Installed\u001b[22m\u001b[39m URIParser ───────────── v0.4.1\n",
      "\u001b[32m\u001b[1m   Installed\u001b[22m\u001b[39m Mustache ────────────── v1.0.12\n",
      "\u001b[32m\u001b[1m   Installed\u001b[22m\u001b[39m WebSockets ──────────── v1.5.9\n",
      "\u001b[32m\u001b[1m   Installed\u001b[22m\u001b[39m PlotlyBase ──────────── v0.8.18\n",
      "\u001b[32m\u001b[1m   Installed\u001b[22m\u001b[39m Hiccup ──────────────── v0.2.2\n",
      "\u001b[32m\u001b[1m   Installed\u001b[22m\u001b[39m Blink ───────────────── v0.12.5\n",
      "\u001b[32m\u001b[1m   Installed\u001b[22m\u001b[39m PlotlyJS ────────────── v0.18.8\n",
      "\u001b[32m\u001b[1m   Installed\u001b[22m\u001b[39m Mux ─────────────────── v0.7.6\n",
      "\u001b[32m\u001b[1m   Installed\u001b[22m\u001b[39m UnPack ──────────────── v1.0.2\n",
      "\u001b[32m\u001b[1m   Installed\u001b[22m\u001b[39m Kaleido_jll ─────────── v0.1.0+0\n",
      "\u001b[32m\u001b[1m   Installed\u001b[22m\u001b[39m Parameters ──────────── v0.12.3\n",
      "\u001b[32m\u001b[1m   Installed\u001b[22m\u001b[39m Pidfile ─────────────── v1.2.0\n",
      "\u001b[32m\u001b[1m   Installed\u001b[22m\u001b[39m FunctionalCollections ─ v0.5.0\n",
      "\u001b[32m\u001b[1m   Installed\u001b[22m\u001b[39m Lazy ────────────────── v0.15.1\n",
      "\u001b[32m\u001b[1m   Installed\u001b[22m\u001b[39m Observables ─────────── v0.4.0\n",
      "\u001b[32m\u001b[1m   Installed\u001b[22m\u001b[39m BinDeps ─────────────── v1.0.2\n",
      "\u001b[32m\u001b[1m   Installed\u001b[22m\u001b[39m Widgets ─────────────── v0.6.4\n",
      "\u001b[32m\u001b[1m   Installed\u001b[22m\u001b[39m WebIO ───────────────── v0.8.16\n",
      "\u001b[32m\u001b[1m    Updating\u001b[22m\u001b[39m `C:\\Users\\viyen\\.julia\\environments\\v1.6\\Project.toml`\n",
      " \u001b[90m [f0f68f2c] \u001b[39m\u001b[92m+ PlotlyJS v0.18.8\u001b[39m\n",
      "\u001b[32m\u001b[1m    Updating\u001b[22m\u001b[39m `C:\\Users\\viyen\\.julia\\environments\\v1.6\\Manifest.toml`\n",
      " \u001b[90m [bf4720bc] \u001b[39m\u001b[92m+ AssetRegistry v0.1.0\u001b[39m\n",
      " \u001b[90m [9e28174c] \u001b[39m\u001b[92m+ BinDeps v1.0.2\u001b[39m\n",
      " \u001b[90m [ad839575] \u001b[39m\u001b[92m+ Blink v0.12.5\u001b[39m\n",
      " \u001b[90m [de31a74c] \u001b[39m\u001b[92m+ FunctionalCollections v0.5.0\u001b[39m\n",
      " \u001b[90m [9fb69e20] \u001b[39m\u001b[92m+ Hiccup v0.2.2\u001b[39m\n",
      " \u001b[90m [97c1335a] \u001b[39m\u001b[92m+ JSExpr v0.5.3\u001b[39m\n",
      " \u001b[90m [50d2b5c4] \u001b[39m\u001b[92m+ Lazy v0.15.1\u001b[39m\n",
      " \u001b[90m [ffc61752] \u001b[39m\u001b[92m+ Mustache v1.0.12\u001b[39m\n",
      " \u001b[90m [a975b10e] \u001b[39m\u001b[92m+ Mux v0.7.6\u001b[39m\n",
      " \u001b[90m [510215fc] \u001b[39m\u001b[92m+ Observables v0.4.0\u001b[39m\n",
      " \u001b[90m [d96e819e] \u001b[39m\u001b[92m+ Parameters v0.12.3\u001b[39m\n",
      " \u001b[90m [fa939f87] \u001b[39m\u001b[92m+ Pidfile v1.2.0\u001b[39m\n",
      " \u001b[90m [a03496cd] \u001b[39m\u001b[92m+ PlotlyBase v0.8.18\u001b[39m\n",
      " \u001b[90m [f0f68f2c] \u001b[39m\u001b[92m+ PlotlyJS v0.18.8\u001b[39m\n",
      " \u001b[90m [30578b45] \u001b[39m\u001b[92m+ URIParser v0.4.1\u001b[39m\n",
      " \u001b[90m [3a884ed6] \u001b[39m\u001b[92m+ UnPack v1.0.2\u001b[39m\n",
      " \u001b[90m [0f1e0344] \u001b[39m\u001b[92m+ WebIO v0.8.16\u001b[39m\n",
      " \u001b[90m [104b5d7c] \u001b[39m\u001b[92m+ WebSockets v1.5.9\u001b[39m\n",
      " \u001b[90m [cc8bc4a8] \u001b[39m\u001b[92m+ Widgets v0.6.4\u001b[39m\n",
      " \u001b[90m [f7e6163d] \u001b[39m\u001b[92m+ Kaleido_jll v0.1.0+0\u001b[39m\n",
      "\u001b[32m\u001b[1m    Building\u001b[22m\u001b[39m WebIO ───→ `C:\\Users\\viyen\\.julia\\scratchspaces\\44cfe95a-1eb2-52ea-b672-e2afdf69b78f\\5fe32e4086d49f7ab9b087296742859f3ae6d62a\\build.log`\n",
      "\u001b[32m\u001b[1m    Building\u001b[22m\u001b[39m Blink ───→ `C:\\Users\\viyen\\.julia\\scratchspaces\\44cfe95a-1eb2-52ea-b672-e2afdf69b78f\\08d0b679fd7caa49e2bca9214b131289e19808c0\\build.log`\n",
      "\u001b[32m\u001b[1m    Building\u001b[22m\u001b[39m PlotlyJS → `C:\\Users\\viyen\\.julia\\scratchspaces\\44cfe95a-1eb2-52ea-b672-e2afdf69b78f\\53d6325e14d3bdb85fd387a085075f36082f35a3\\build.log`\n",
      "\u001b[32m\u001b[1mPrecompiling\u001b[22m\u001b[39m project...\n",
      "\u001b[32m  ✓ \u001b[39m\u001b[90mUnPack\u001b[39m\n",
      "\u001b[32m  ✓ \u001b[39m\u001b[90mPidfile\u001b[39m\n",
      "\u001b[32m  ✓ \u001b[39m\u001b[90mObservables\u001b[39m\n",
      "\u001b[32m  ✓ \u001b[39m\u001b[90mFunctionalCollections\u001b[39m\n",
      "\u001b[32m  ✓ \u001b[39m\u001b[90mHiccup\u001b[39m\n",
      "\u001b[32m  ✓ \u001b[39m\u001b[90mMustache\u001b[39m\n",
      "\u001b[32m  ✓ \u001b[39m\u001b[90mKaleido_jll\u001b[39m\n",
      "\u001b[32m  ✓ \u001b[39m\u001b[90mWebSockets\u001b[39m\n",
      "\u001b[32m  ✓ \u001b[39m\u001b[90mParameters\u001b[39m\n",
      "\u001b[32m  ✓ \u001b[39m\u001b[90mAssetRegistry\u001b[39m\n",
      "\u001b[32m  ✓ \u001b[39m\u001b[90mWidgets\u001b[39m\n",
      "\u001b[32m  ✓ \u001b[39m\u001b[90mLazy\u001b[39m\n",
      "\u001b[32m  ✓ \u001b[39m\u001b[90mMux\u001b[39m\n",
      "\u001b[32m  ✓ \u001b[39m\u001b[90mPlotlyBase\u001b[39m\n",
      "\u001b[32m  ✓ \u001b[39m\u001b[90mWebIO\u001b[39m\n",
      "\u001b[32m  ✓ \u001b[39m\u001b[90mJSExpr\u001b[39m\n",
      "\u001b[32m  ✓ \u001b[39m\u001b[90mBlink\u001b[39m\n",
      "\u001b[32m  ✓ \u001b[39mPlotlyJS\n",
      "  18 dependencies successfully precompiled in 18 seconds (138 already precompiled)\n"
     ]
    }
   ],
   "source": [
    "import Pkg\n",
    "Pkg.add(\"PlotlyJS\")"
   ]
  },
  {
   "cell_type": "code",
   "execution_count": 10,
   "id": "5dd982f1",
   "metadata": {},
   "outputs": [
    {
     "data": {
      "text/plain": [
       "Plots.PlotlyJSBackend()"
      ]
     },
     "execution_count": 10,
     "metadata": {},
     "output_type": "execute_result"
    }
   ],
   "source": [
    "plotlyjs()"
   ]
  },
  {
   "cell_type": "code",
   "execution_count": 157,
   "id": "8e4af823",
   "metadata": {},
   "outputs": [
    {
     "data": {
      "image/svg+xml": [
       "<?xml version=\"1.0\" encoding=\"utf-8\"?>\n",
       "<svg xmlns=\"http://www.w3.org/2000/svg\" xmlns:xlink=\"http://www.w3.org/1999/xlink\" width=\"600\" height=\"400\" viewBox=\"0 0 2400 1600\">\n",
       "<defs>\n",
       "  <clipPath id=\"clip020\">\n",
       "    <rect x=\"0\" y=\"0\" width=\"2400\" height=\"1600\"/>\n",
       "  </clipPath>\n",
       "</defs>\n",
       "<path clip-path=\"url(#clip020)\" d=\"\n",
       "M0 1600 L2400 1600 L2400 0 L0 0  Z\n",
       "  \" fill=\"#ffffff\" fill-rule=\"evenodd\" fill-opacity=\"1\"/>\n",
       "<defs>\n",
       "  <clipPath id=\"clip021\">\n",
       "    <rect x=\"480\" y=\"0\" width=\"1681\" height=\"1600\"/>\n",
       "  </clipPath>\n",
       "</defs>\n",
       "<path clip-path=\"url(#clip020)\" d=\"\n",
       "M169.121 1486.45 L2352.76 1486.45 L2352.76 47.2441 L169.121 47.2441  Z\n",
       "  \" fill=\"#ffffff\" fill-rule=\"evenodd\" fill-opacity=\"1\"/>\n",
       "<defs>\n",
       "  <clipPath id=\"clip022\">\n",
       "    <rect x=\"169\" y=\"47\" width=\"2185\" height=\"1440\"/>\n",
       "  </clipPath>\n",
       "</defs>\n",
       "<polyline clip-path=\"url(#clip022)\" style=\"stroke:#000000; stroke-linecap:butt; stroke-linejoin:round; stroke-width:2; stroke-opacity:0.1; fill:none\" points=\"\n",
       "  230.922,1486.45 230.922,47.2441 \n",
       "  \"/>\n",
       "<polyline clip-path=\"url(#clip022)\" style=\"stroke:#000000; stroke-linecap:butt; stroke-linejoin:round; stroke-width:2; stroke-opacity:0.1; fill:none\" points=\"\n",
       "  819.503,1486.45 819.503,47.2441 \n",
       "  \"/>\n",
       "<polyline clip-path=\"url(#clip022)\" style=\"stroke:#000000; stroke-linecap:butt; stroke-linejoin:round; stroke-width:2; stroke-opacity:0.1; fill:none\" points=\"\n",
       "  1408.08,1486.45 1408.08,47.2441 \n",
       "  \"/>\n",
       "<polyline clip-path=\"url(#clip022)\" style=\"stroke:#000000; stroke-linecap:butt; stroke-linejoin:round; stroke-width:2; stroke-opacity:0.1; fill:none\" points=\"\n",
       "  1996.66,1486.45 1996.66,47.2441 \n",
       "  \"/>\n",
       "<polyline clip-path=\"url(#clip020)\" style=\"stroke:#000000; stroke-linecap:butt; stroke-linejoin:round; stroke-width:4; stroke-opacity:1; fill:none\" points=\"\n",
       "  169.121,1486.45 2352.76,1486.45 \n",
       "  \"/>\n",
       "<polyline clip-path=\"url(#clip020)\" style=\"stroke:#000000; stroke-linecap:butt; stroke-linejoin:round; stroke-width:4; stroke-opacity:1; fill:none\" points=\"\n",
       "  230.922,1486.45 230.922,1467.55 \n",
       "  \"/>\n",
       "<polyline clip-path=\"url(#clip020)\" style=\"stroke:#000000; stroke-linecap:butt; stroke-linejoin:round; stroke-width:4; stroke-opacity:1; fill:none\" points=\"\n",
       "  819.503,1486.45 819.503,1467.55 \n",
       "  \"/>\n",
       "<polyline clip-path=\"url(#clip020)\" style=\"stroke:#000000; stroke-linecap:butt; stroke-linejoin:round; stroke-width:4; stroke-opacity:1; fill:none\" points=\"\n",
       "  1408.08,1486.45 1408.08,1467.55 \n",
       "  \"/>\n",
       "<polyline clip-path=\"url(#clip020)\" style=\"stroke:#000000; stroke-linecap:butt; stroke-linejoin:round; stroke-width:4; stroke-opacity:1; fill:none\" points=\"\n",
       "  1996.66,1486.45 1996.66,1467.55 \n",
       "  \"/>\n",
       "<path clip-path=\"url(#clip020)\" d=\"M200.865 1532.02 L230.54 1532.02 L230.54 1535.95 L200.865 1535.95 L200.865 1532.02 Z\" fill=\"#000000\" fill-rule=\"evenodd\" fill-opacity=\"1\" /><path clip-path=\"url(#clip020)\" d=\"M244.661 1544.91 L260.98 1544.91 L260.98 1548.85 L239.036 1548.85 L239.036 1544.91 Q241.698 1542.16 246.281 1537.53 Q250.887 1532.88 252.068 1531.53 Q254.313 1529.01 255.193 1527.27 Q256.096 1525.51 256.096 1523.82 Q256.096 1521.07 254.151 1519.33 Q252.23 1517.6 249.128 1517.6 Q246.929 1517.6 244.475 1518.36 Q242.045 1519.13 239.267 1520.68 L239.267 1515.95 Q242.091 1514.82 244.545 1514.24 Q246.999 1513.66 249.036 1513.66 Q254.406 1513.66 257.6 1516.35 Q260.795 1519.03 260.795 1523.52 Q260.795 1525.65 259.985 1527.57 Q259.198 1529.47 257.091 1532.07 Q256.512 1532.74 253.411 1535.95 Q250.309 1539.15 244.661 1544.91 Z\" fill=\"#000000\" fill-rule=\"evenodd\" fill-opacity=\"1\" /><path clip-path=\"url(#clip020)\" d=\"M819.503 1517.37 Q815.892 1517.37 814.063 1520.93 Q812.258 1524.47 812.258 1531.6 Q812.258 1538.71 814.063 1542.27 Q815.892 1545.82 819.503 1545.82 Q823.137 1545.82 824.943 1542.27 Q826.772 1538.71 826.772 1531.6 Q826.772 1524.47 824.943 1520.93 Q823.137 1517.37 819.503 1517.37 M819.503 1513.66 Q825.313 1513.66 828.369 1518.27 Q831.447 1522.85 831.447 1531.6 Q831.447 1540.33 828.369 1544.94 Q825.313 1549.52 819.503 1549.52 Q813.693 1549.52 810.614 1544.94 Q807.559 1540.33 807.559 1531.6 Q807.559 1522.85 810.614 1518.27 Q813.693 1513.66 819.503 1513.66 Z\" fill=\"#000000\" fill-rule=\"evenodd\" fill-opacity=\"1\" /><path clip-path=\"url(#clip020)\" d=\"M1402.74 1544.91 L1419.06 1544.91 L1419.06 1548.85 L1397.11 1548.85 L1397.11 1544.91 Q1399.77 1542.16 1404.36 1537.53 Q1408.96 1532.88 1410.14 1531.53 Q1412.39 1529.01 1413.27 1527.27 Q1414.17 1525.51 1414.17 1523.82 Q1414.17 1521.07 1412.23 1519.33 Q1410.31 1517.6 1407.2 1517.6 Q1405.01 1517.6 1402.55 1518.36 Q1400.12 1519.13 1397.34 1520.68 L1397.34 1515.95 Q1400.17 1514.82 1402.62 1514.24 Q1405.07 1513.66 1407.11 1513.66 Q1412.48 1513.66 1415.68 1516.35 Q1418.87 1519.03 1418.87 1523.52 Q1418.87 1525.65 1418.06 1527.57 Q1417.27 1529.47 1415.17 1532.07 Q1414.59 1532.74 1411.49 1535.95 Q1408.38 1539.15 1402.74 1544.91 Z\" fill=\"#000000\" fill-rule=\"evenodd\" fill-opacity=\"1\" /><path clip-path=\"url(#clip020)\" d=\"M1999.67 1518.36 L1987.87 1536.81 L1999.67 1536.81 L1999.67 1518.36 M1998.45 1514.29 L2004.33 1514.29 L2004.33 1536.81 L2009.26 1536.81 L2009.26 1540.7 L2004.33 1540.7 L2004.33 1548.85 L1999.67 1548.85 L1999.67 1540.7 L1984.07 1540.7 L1984.07 1536.19 L1998.45 1514.29 Z\" fill=\"#000000\" fill-rule=\"evenodd\" fill-opacity=\"1\" /><polyline clip-path=\"url(#clip022)\" style=\"stroke:#000000; stroke-linecap:butt; stroke-linejoin:round; stroke-width:2; stroke-opacity:0.1; fill:none\" points=\"\n",
       "  169.121,1364.05 2352.76,1364.05 \n",
       "  \"/>\n",
       "<polyline clip-path=\"url(#clip022)\" style=\"stroke:#000000; stroke-linecap:butt; stroke-linejoin:round; stroke-width:2; stroke-opacity:0.1; fill:none\" points=\"\n",
       "  169.121,1159.88 2352.76,1159.88 \n",
       "  \"/>\n",
       "<polyline clip-path=\"url(#clip022)\" style=\"stroke:#000000; stroke-linecap:butt; stroke-linejoin:round; stroke-width:2; stroke-opacity:0.1; fill:none\" points=\"\n",
       "  169.121,955.704 2352.76,955.704 \n",
       "  \"/>\n",
       "<polyline clip-path=\"url(#clip022)\" style=\"stroke:#000000; stroke-linecap:butt; stroke-linejoin:round; stroke-width:2; stroke-opacity:0.1; fill:none\" points=\"\n",
       "  169.121,751.533 2352.76,751.533 \n",
       "  \"/>\n",
       "<polyline clip-path=\"url(#clip022)\" style=\"stroke:#000000; stroke-linecap:butt; stroke-linejoin:round; stroke-width:2; stroke-opacity:0.1; fill:none\" points=\"\n",
       "  169.121,547.362 2352.76,547.362 \n",
       "  \"/>\n",
       "<polyline clip-path=\"url(#clip022)\" style=\"stroke:#000000; stroke-linecap:butt; stroke-linejoin:round; stroke-width:2; stroke-opacity:0.1; fill:none\" points=\"\n",
       "  169.121,343.19 2352.76,343.19 \n",
       "  \"/>\n",
       "<polyline clip-path=\"url(#clip022)\" style=\"stroke:#000000; stroke-linecap:butt; stroke-linejoin:round; stroke-width:2; stroke-opacity:0.1; fill:none\" points=\"\n",
       "  169.121,139.019 2352.76,139.019 \n",
       "  \"/>\n",
       "<polyline clip-path=\"url(#clip020)\" style=\"stroke:#000000; stroke-linecap:butt; stroke-linejoin:round; stroke-width:4; stroke-opacity:1; fill:none\" points=\"\n",
       "  169.121,1486.45 169.121,47.2441 \n",
       "  \"/>\n",
       "<polyline clip-path=\"url(#clip020)\" style=\"stroke:#000000; stroke-linecap:butt; stroke-linejoin:round; stroke-width:4; stroke-opacity:1; fill:none\" points=\"\n",
       "  169.121,1364.05 188.019,1364.05 \n",
       "  \"/>\n",
       "<polyline clip-path=\"url(#clip020)\" style=\"stroke:#000000; stroke-linecap:butt; stroke-linejoin:round; stroke-width:4; stroke-opacity:1; fill:none\" points=\"\n",
       "  169.121,1159.88 188.019,1159.88 \n",
       "  \"/>\n",
       "<polyline clip-path=\"url(#clip020)\" style=\"stroke:#000000; stroke-linecap:butt; stroke-linejoin:round; stroke-width:4; stroke-opacity:1; fill:none\" points=\"\n",
       "  169.121,955.704 188.019,955.704 \n",
       "  \"/>\n",
       "<polyline clip-path=\"url(#clip020)\" style=\"stroke:#000000; stroke-linecap:butt; stroke-linejoin:round; stroke-width:4; stroke-opacity:1; fill:none\" points=\"\n",
       "  169.121,751.533 188.019,751.533 \n",
       "  \"/>\n",
       "<polyline clip-path=\"url(#clip020)\" style=\"stroke:#000000; stroke-linecap:butt; stroke-linejoin:round; stroke-width:4; stroke-opacity:1; fill:none\" points=\"\n",
       "  169.121,547.362 188.019,547.362 \n",
       "  \"/>\n",
       "<polyline clip-path=\"url(#clip020)\" style=\"stroke:#000000; stroke-linecap:butt; stroke-linejoin:round; stroke-width:4; stroke-opacity:1; fill:none\" points=\"\n",
       "  169.121,343.19 188.019,343.19 \n",
       "  \"/>\n",
       "<polyline clip-path=\"url(#clip020)\" style=\"stroke:#000000; stroke-linecap:butt; stroke-linejoin:round; stroke-width:4; stroke-opacity:1; fill:none\" points=\"\n",
       "  169.121,139.019 188.019,139.019 \n",
       "  \"/>\n",
       "<path clip-path=\"url(#clip020)\" d=\"M121.177 1349.85 Q117.566 1349.85 115.737 1353.41 Q113.932 1356.95 113.932 1364.08 Q113.932 1371.19 115.737 1374.75 Q117.566 1378.29 121.177 1378.29 Q124.811 1378.29 126.617 1374.75 Q128.445 1371.19 128.445 1364.08 Q128.445 1356.95 126.617 1353.41 Q124.811 1349.85 121.177 1349.85 M121.177 1346.14 Q126.987 1346.14 130.043 1350.75 Q133.121 1355.33 133.121 1364.08 Q133.121 1372.81 130.043 1377.42 Q126.987 1382 121.177 1382 Q115.367 1382 112.288 1377.42 Q109.233 1372.81 109.233 1364.08 Q109.233 1355.33 112.288 1350.75 Q115.367 1346.14 121.177 1346.14 Z\" fill=\"#000000\" fill-rule=\"evenodd\" fill-opacity=\"1\" /><path clip-path=\"url(#clip020)\" d=\"M85.0429 1173.22 L101.362 1173.22 L101.362 1177.16 L79.4179 1177.16 L79.4179 1173.22 Q82.0799 1170.47 86.6632 1165.84 Q91.2697 1161.18 92.4502 1159.84 Q94.6956 1157.32 95.5752 1155.58 Q96.478 1153.82 96.478 1152.13 Q96.478 1149.38 94.5336 1147.64 Q92.6123 1145.91 89.5104 1145.91 Q87.3114 1145.91 84.8577 1146.67 Q82.4271 1147.43 79.6494 1148.98 L79.6494 1144.26 Q82.4734 1143.13 84.9271 1142.55 Q87.3808 1141.97 89.4178 1141.97 Q94.7882 1141.97 97.9826 1144.66 Q101.177 1147.34 101.177 1151.83 Q101.177 1153.96 100.367 1155.88 Q99.5798 1157.78 97.4734 1160.37 Q96.8947 1161.04 93.7928 1164.26 Q90.691 1167.46 85.0429 1173.22 Z\" fill=\"#000000\" fill-rule=\"evenodd\" fill-opacity=\"1\" /><path clip-path=\"url(#clip020)\" d=\"M121.177 1145.67 Q117.566 1145.67 115.737 1149.24 Q113.932 1152.78 113.932 1159.91 Q113.932 1167.02 115.737 1170.58 Q117.566 1174.12 121.177 1174.12 Q124.811 1174.12 126.617 1170.58 Q128.445 1167.02 128.445 1159.91 Q128.445 1152.78 126.617 1149.24 Q124.811 1145.67 121.177 1145.67 M121.177 1141.97 Q126.987 1141.97 130.043 1146.58 Q133.121 1151.16 133.121 1159.91 Q133.121 1168.64 130.043 1173.24 Q126.987 1177.83 121.177 1177.83 Q115.367 1177.83 112.288 1173.24 Q109.233 1168.64 109.233 1159.91 Q109.233 1151.16 112.288 1146.58 Q115.367 1141.97 121.177 1141.97 Z\" fill=\"#000000\" fill-rule=\"evenodd\" fill-opacity=\"1\" /><path clip-path=\"url(#clip020)\" d=\"M93.8623 942.499 L82.0568 960.948 L93.8623 960.948 L93.8623 942.499 M92.6354 938.424 L98.515 938.424 L98.515 960.948 L103.446 960.948 L103.446 964.836 L98.515 964.836 L98.515 972.984 L93.8623 972.984 L93.8623 964.836 L78.2605 964.836 L78.2605 960.323 L92.6354 938.424 Z\" fill=\"#000000\" fill-rule=\"evenodd\" fill-opacity=\"1\" /><path clip-path=\"url(#clip020)\" d=\"M121.177 941.503 Q117.566 941.503 115.737 945.068 Q113.932 948.61 113.932 955.739 Q113.932 962.846 115.737 966.41 Q117.566 969.952 121.177 969.952 Q124.811 969.952 126.617 966.41 Q128.445 962.846 128.445 955.739 Q128.445 948.61 126.617 945.068 Q124.811 941.503 121.177 941.503 M121.177 937.799 Q126.987 937.799 130.043 942.406 Q133.121 946.989 133.121 955.739 Q133.121 964.466 130.043 969.072 Q126.987 973.656 121.177 973.656 Q115.367 973.656 112.288 969.072 Q109.233 964.466 109.233 955.739 Q109.233 946.989 112.288 942.406 Q115.367 937.799 121.177 937.799 Z\" fill=\"#000000\" fill-rule=\"evenodd\" fill-opacity=\"1\" /><path clip-path=\"url(#clip020)\" d=\"M91.5938 749.67 Q88.4456 749.67 86.5938 751.822 Q84.7651 753.975 84.7651 757.725 Q84.7651 761.452 86.5938 763.628 Q88.4456 765.781 91.5938 765.781 Q94.7419 765.781 96.5706 763.628 Q98.4224 761.452 98.4224 757.725 Q98.4224 753.975 96.5706 751.822 Q94.7419 749.67 91.5938 749.67 M100.876 735.017 L100.876 739.276 Q99.1169 738.443 97.3113 738.003 Q95.5289 737.563 93.7697 737.563 Q89.1401 737.563 86.6864 740.688 Q84.2558 743.813 83.9086 750.133 Q85.2743 748.119 87.3345 747.054 Q89.3947 745.966 91.8715 745.966 Q97.0798 745.966 100.089 749.137 Q103.121 752.285 103.121 757.725 Q103.121 763.049 99.9733 766.267 Q96.8252 769.484 91.5938 769.484 Q85.5984 769.484 82.4271 764.901 Q79.2559 760.295 79.2559 751.568 Q79.2559 743.373 83.1447 738.512 Q87.0336 733.628 93.5845 733.628 Q95.3437 733.628 97.1261 733.975 Q98.9317 734.323 100.876 735.017 Z\" fill=\"#000000\" fill-rule=\"evenodd\" fill-opacity=\"1\" /><path clip-path=\"url(#clip020)\" d=\"M121.177 737.332 Q117.566 737.332 115.737 740.897 Q113.932 744.438 113.932 751.568 Q113.932 758.674 115.737 762.239 Q117.566 765.781 121.177 765.781 Q124.811 765.781 126.617 762.239 Q128.445 758.674 128.445 751.568 Q128.445 744.438 126.617 740.897 Q124.811 737.332 121.177 737.332 M121.177 733.628 Q126.987 733.628 130.043 738.235 Q133.121 742.818 133.121 751.568 Q133.121 760.295 130.043 764.901 Q126.987 769.484 121.177 769.484 Q115.367 769.484 112.288 764.901 Q109.233 760.295 109.233 751.568 Q109.233 742.818 112.288 738.235 Q115.367 733.628 121.177 733.628 Z\" fill=\"#000000\" fill-rule=\"evenodd\" fill-opacity=\"1\" /><path clip-path=\"url(#clip020)\" d=\"M91.0151 548.23 Q87.6817 548.23 85.7605 550.012 Q83.8623 551.795 83.8623 554.92 Q83.8623 558.045 85.7605 559.827 Q87.6817 561.609 91.0151 561.609 Q94.3484 561.609 96.2697 559.827 Q98.1909 558.021 98.1909 554.92 Q98.1909 551.795 96.2697 550.012 Q94.3715 548.23 91.0151 548.23 M86.3392 546.239 Q83.3299 545.498 81.6401 543.438 Q79.9735 541.378 79.9735 538.415 Q79.9735 534.272 82.9133 531.864 Q85.8762 529.457 91.0151 529.457 Q96.1771 529.457 99.1169 531.864 Q102.057 534.272 102.057 538.415 Q102.057 541.378 100.367 543.438 Q98.7002 545.498 95.7141 546.239 Q99.0937 547.026 100.969 549.318 Q102.867 551.609 102.867 554.92 Q102.867 559.943 99.7882 562.628 Q96.7326 565.313 91.0151 565.313 Q85.2975 565.313 82.2188 562.628 Q79.1633 559.943 79.1633 554.92 Q79.1633 551.609 81.0614 549.318 Q82.9595 547.026 86.3392 546.239 M84.6262 538.855 Q84.6262 541.54 86.2929 543.045 Q87.9827 544.549 91.0151 544.549 Q94.0243 544.549 95.7141 543.045 Q97.4271 541.54 97.4271 538.855 Q97.4271 536.17 95.7141 534.665 Q94.0243 533.16 91.0151 533.16 Q87.9827 533.16 86.2929 534.665 Q84.6262 536.17 84.6262 538.855 Z\" fill=\"#000000\" fill-rule=\"evenodd\" fill-opacity=\"1\" /><path clip-path=\"url(#clip020)\" d=\"M121.177 533.16 Q117.566 533.16 115.737 536.725 Q113.932 540.267 113.932 547.397 Q113.932 554.503 115.737 558.068 Q117.566 561.609 121.177 561.609 Q124.811 561.609 126.617 558.068 Q128.445 554.503 128.445 547.397 Q128.445 540.267 126.617 536.725 Q124.811 533.16 121.177 533.16 M121.177 529.457 Q126.987 529.457 130.043 534.063 Q133.121 538.647 133.121 547.397 Q133.121 556.123 130.043 560.73 Q126.987 565.313 121.177 565.313 Q115.367 565.313 112.288 560.73 Q109.233 556.123 109.233 547.397 Q109.233 538.647 112.288 534.063 Q115.367 529.457 121.177 529.457 Z\" fill=\"#000000\" fill-rule=\"evenodd\" fill-opacity=\"1\" /><path clip-path=\"url(#clip020)\" d=\"M51.6634 356.535 L59.3023 356.535 L59.3023 330.17 L50.9921 331.836 L50.9921 327.577 L59.256 325.91 L63.9319 325.91 L63.9319 356.535 L71.5707 356.535 L71.5707 360.47 L51.6634 360.47 L51.6634 356.535 Z\" fill=\"#000000\" fill-rule=\"evenodd\" fill-opacity=\"1\" /><path clip-path=\"url(#clip020)\" d=\"M91.0151 328.989 Q87.404 328.989 85.5753 332.554 Q83.7697 336.096 83.7697 343.225 Q83.7697 350.332 85.5753 353.896 Q87.404 357.438 91.0151 357.438 Q94.6493 357.438 96.4548 353.896 Q98.2835 350.332 98.2835 343.225 Q98.2835 336.096 96.4548 332.554 Q94.6493 328.989 91.0151 328.989 M91.0151 325.285 Q96.8252 325.285 99.8808 329.892 Q102.959 334.475 102.959 343.225 Q102.959 351.952 99.8808 356.558 Q96.8252 361.142 91.0151 361.142 Q85.2049 361.142 82.1262 356.558 Q79.0707 351.952 79.0707 343.225 Q79.0707 334.475 82.1262 329.892 Q85.2049 325.285 91.0151 325.285 Z\" fill=\"#000000\" fill-rule=\"evenodd\" fill-opacity=\"1\" /><path clip-path=\"url(#clip020)\" d=\"M121.177 328.989 Q117.566 328.989 115.737 332.554 Q113.932 336.096 113.932 343.225 Q113.932 350.332 115.737 353.896 Q117.566 357.438 121.177 357.438 Q124.811 357.438 126.617 353.896 Q128.445 350.332 128.445 343.225 Q128.445 336.096 126.617 332.554 Q124.811 328.989 121.177 328.989 M121.177 325.285 Q126.987 325.285 130.043 329.892 Q133.121 334.475 133.121 343.225 Q133.121 351.952 130.043 356.558 Q126.987 361.142 121.177 361.142 Q115.367 361.142 112.288 356.558 Q109.233 351.952 109.233 343.225 Q109.233 334.475 112.288 329.892 Q115.367 325.285 121.177 325.285 Z\" fill=\"#000000\" fill-rule=\"evenodd\" fill-opacity=\"1\" /><path clip-path=\"url(#clip020)\" d=\"M51.6634 152.364 L59.3023 152.364 L59.3023 125.998 L50.9921 127.665 L50.9921 123.406 L59.256 121.739 L63.9319 121.739 L63.9319 152.364 L71.5707 152.364 L71.5707 156.299 L51.6634 156.299 L51.6634 152.364 Z\" fill=\"#000000\" fill-rule=\"evenodd\" fill-opacity=\"1\" /><path clip-path=\"url(#clip020)\" d=\"M85.0429 152.364 L101.362 152.364 L101.362 156.299 L79.4179 156.299 L79.4179 152.364 Q82.0799 149.609 86.6632 144.98 Q91.2697 140.327 92.4502 138.984 Q94.6956 136.461 95.5752 134.725 Q96.478 132.966 96.478 131.276 Q96.478 128.521 94.5336 126.785 Q92.6123 125.049 89.5104 125.049 Q87.3114 125.049 84.8577 125.813 Q82.4271 126.577 79.6494 128.128 L79.6494 123.406 Q82.4734 122.272 84.9271 121.693 Q87.3808 121.114 89.4178 121.114 Q94.7882 121.114 97.9826 123.799 Q101.177 126.484 101.177 130.975 Q101.177 133.105 100.367 135.026 Q99.5798 136.924 97.4734 139.517 Q96.8947 140.188 93.7928 143.406 Q90.691 146.6 85.0429 152.364 Z\" fill=\"#000000\" fill-rule=\"evenodd\" fill-opacity=\"1\" /><path clip-path=\"url(#clip020)\" d=\"M121.177 124.818 Q117.566 124.818 115.737 128.383 Q113.932 131.924 113.932 139.054 Q113.932 146.16 115.737 149.725 Q117.566 153.267 121.177 153.267 Q124.811 153.267 126.617 149.725 Q128.445 146.16 128.445 139.054 Q128.445 131.924 126.617 128.383 Q124.811 124.818 121.177 124.818 M121.177 121.114 Q126.987 121.114 130.043 125.721 Q133.121 130.304 133.121 139.054 Q133.121 147.781 130.043 152.387 Q126.987 156.97 121.177 156.97 Q115.367 156.97 112.288 152.387 Q109.233 147.781 109.233 139.054 Q109.233 130.304 112.288 125.721 Q115.367 121.114 121.177 121.114 Z\" fill=\"#000000\" fill-rule=\"evenodd\" fill-opacity=\"1\" /><path clip-path=\"url(#clip022)\" d=\"\n",
       "M230.922 1445.72 L260.351 1434.07 L289.78 1423.58 L319.209 1414.2 L348.638 1405.86 L378.067 1398.5 L407.497 1392.06 L436.926 1386.48 L466.355 1381.69 L495.784 1377.63 \n",
       "  L525.213 1374.26 L554.642 1371.49 L584.071 1369.27 L613.5 1367.55 L642.929 1366.25 L672.358 1365.32 L701.787 1364.7 L731.216 1364.32 L760.645 1364.13 L790.074 1364.06 \n",
       "  L819.503 1364.05 L848.932 1364.04 L878.361 1363.97 L907.79 1363.77 L937.219 1363.39 L966.648 1362.77 L996.077 1361.84 L1025.51 1360.55 L1054.94 1358.82 L1084.36 1356.61 \n",
       "  L1113.79 1353.84 L1143.22 1350.46 L1172.65 1346.41 L1202.08 1341.62 L1231.51 1336.03 L1260.94 1329.59 L1290.37 1322.23 L1319.8 1313.89 L1349.23 1304.51 L1378.65 1294.03 \n",
       "  L1408.08 1282.38 L1437.51 1269.51 L1466.94 1255.35 L1496.37 1239.84 L1525.8 1222.92 L1555.23 1204.54 L1584.66 1184.62 L1614.09 1163.11 L1643.52 1139.95 L1672.95 1115.07 \n",
       "  L1702.37 1088.42 L1731.8 1059.92 L1761.23 1029.53 L1790.66 997.182 L1820.09 962.81 L1849.52 926.355 L1878.95 887.756 L1908.38 846.953 L1937.81 803.883 L1967.24 758.485 \n",
       "  L1996.66 710.699 L2026.09 660.463 L2055.52 607.715 L2084.95 552.395 L2114.38 494.441 L2143.81 433.791 L2173.24 370.386 L2202.67 304.163 L2232.1 235.061 L2261.53 163.019 \n",
       "  L2290.95 87.9763 L2290.95 1364.05 L2261.53 1364.05 L2232.1 1364.05 L2202.67 1364.05 L2173.24 1364.05 L2143.81 1364.05 L2114.38 1364.05 L2084.95 1364.05 L2055.52 1364.05 \n",
       "  L2026.09 1364.05 L1996.66 1364.05 L1967.24 1364.05 L1937.81 1364.05 L1908.38 1364.05 L1878.95 1364.05 L1849.52 1364.05 L1820.09 1364.05 L1790.66 1364.05 L1761.23 1364.05 \n",
       "  L1731.8 1364.05 L1702.37 1364.05 L1672.95 1364.05 L1643.52 1364.05 L1614.09 1364.05 L1584.66 1364.05 L1555.23 1364.05 L1525.8 1364.05 L1496.37 1364.05 L1466.94 1364.05 \n",
       "  L1437.51 1364.05 L1408.08 1364.05 L1378.65 1364.05 L1349.23 1364.05 L1319.8 1364.05 L1290.37 1364.05 L1260.94 1364.05 L1231.51 1364.05 L1202.08 1364.05 L1172.65 1364.05 \n",
       "  L1143.22 1364.05 L1113.79 1364.05 L1084.36 1364.05 L1054.94 1364.05 L1025.51 1364.05 L996.077 1364.05 L966.648 1364.05 L937.219 1364.05 L907.79 1364.05 L878.361 1364.05 \n",
       "  L848.932 1364.05 L819.503 1364.05 L790.074 1364.05 L760.645 1364.05 L731.216 1364.05 L701.787 1364.05 L672.358 1364.05 L642.929 1364.05 L613.5 1364.05 L584.071 1364.05 \n",
       "  L554.642 1364.05 L525.213 1364.05 L495.784 1364.05 L466.355 1364.05 L436.926 1364.05 L407.497 1364.05 L378.067 1364.05 L348.638 1364.05 L319.209 1364.05 L289.78 1364.05 \n",
       "  L260.351 1364.05 L230.922 1364.05  Z\n",
       "  \" fill=\"#ffff00\" fill-rule=\"evenodd\" fill-opacity=\"1\"/>\n",
       "<polyline clip-path=\"url(#clip022)\" style=\"stroke:#009af9; stroke-linecap:butt; stroke-linejoin:round; stroke-width:4; stroke-opacity:1; fill:none\" points=\"\n",
       "  230.922,1445.72 260.351,1434.07 289.78,1423.58 319.209,1414.2 348.638,1405.86 378.067,1398.5 407.497,1392.06 436.926,1386.48 466.355,1381.69 495.784,1377.63 \n",
       "  525.213,1374.26 554.642,1371.49 584.071,1369.27 613.5,1367.55 642.929,1366.25 672.358,1365.32 701.787,1364.7 731.216,1364.32 760.645,1364.13 790.074,1364.06 \n",
       "  819.503,1364.05 848.932,1364.04 878.361,1363.97 907.79,1363.77 937.219,1363.39 966.648,1362.77 996.077,1361.84 1025.51,1360.55 1054.94,1358.82 1084.36,1356.61 \n",
       "  1113.79,1353.84 1143.22,1350.46 1172.65,1346.41 1202.08,1341.62 1231.51,1336.03 1260.94,1329.59 1290.37,1322.23 1319.8,1313.89 1349.23,1304.51 1378.65,1294.03 \n",
       "  1408.08,1282.38 1437.51,1269.51 1466.94,1255.35 1496.37,1239.84 1525.8,1222.92 1555.23,1204.54 1584.66,1184.62 1614.09,1163.11 1643.52,1139.95 1672.95,1115.07 \n",
       "  1702.37,1088.42 1731.8,1059.92 1761.23,1029.53 1790.66,997.182 1820.09,962.81 1849.52,926.355 1878.95,887.756 1908.38,846.953 1937.81,803.883 1967.24,758.485 \n",
       "  1996.66,710.699 2026.09,660.463 2055.52,607.715 2084.95,552.395 2114.38,494.441 2143.81,433.791 2173.24,370.386 2202.67,304.163 2232.1,235.061 2261.53,163.019 \n",
       "  2290.95,87.9763 \n",
       "  \"/>\n",
       "<circle clip-path=\"url(#clip022)\" cx=\"230.922\" cy=\"1445.72\" r=\"14\" fill=\"#000080\" fill-rule=\"evenodd\" fill-opacity=\"1\" stroke=\"#000000\" stroke-opacity=\"1\" stroke-width=\"3.2\"/>\n",
       "<circle clip-path=\"url(#clip022)\" cx=\"260.351\" cy=\"1434.07\" r=\"14\" fill=\"#000080\" fill-rule=\"evenodd\" fill-opacity=\"1\" stroke=\"#000000\" stroke-opacity=\"1\" stroke-width=\"3.2\"/>\n",
       "<circle clip-path=\"url(#clip022)\" cx=\"289.78\" cy=\"1423.58\" r=\"14\" fill=\"#000080\" fill-rule=\"evenodd\" fill-opacity=\"1\" stroke=\"#000000\" stroke-opacity=\"1\" stroke-width=\"3.2\"/>\n",
       "<circle clip-path=\"url(#clip022)\" cx=\"319.209\" cy=\"1414.2\" r=\"14\" fill=\"#000080\" fill-rule=\"evenodd\" fill-opacity=\"1\" stroke=\"#000000\" stroke-opacity=\"1\" stroke-width=\"3.2\"/>\n",
       "<circle clip-path=\"url(#clip022)\" cx=\"348.638\" cy=\"1405.86\" r=\"14\" fill=\"#000080\" fill-rule=\"evenodd\" fill-opacity=\"1\" stroke=\"#000000\" stroke-opacity=\"1\" stroke-width=\"3.2\"/>\n",
       "<circle clip-path=\"url(#clip022)\" cx=\"378.067\" cy=\"1398.5\" r=\"14\" fill=\"#000080\" fill-rule=\"evenodd\" fill-opacity=\"1\" stroke=\"#000000\" stroke-opacity=\"1\" stroke-width=\"3.2\"/>\n",
       "<circle clip-path=\"url(#clip022)\" cx=\"407.497\" cy=\"1392.06\" r=\"14\" fill=\"#000080\" fill-rule=\"evenodd\" fill-opacity=\"1\" stroke=\"#000000\" stroke-opacity=\"1\" stroke-width=\"3.2\"/>\n",
       "<circle clip-path=\"url(#clip022)\" cx=\"436.926\" cy=\"1386.48\" r=\"14\" fill=\"#000080\" fill-rule=\"evenodd\" fill-opacity=\"1\" stroke=\"#000000\" stroke-opacity=\"1\" stroke-width=\"3.2\"/>\n",
       "<circle clip-path=\"url(#clip022)\" cx=\"466.355\" cy=\"1381.69\" r=\"14\" fill=\"#000080\" fill-rule=\"evenodd\" fill-opacity=\"1\" stroke=\"#000000\" stroke-opacity=\"1\" stroke-width=\"3.2\"/>\n",
       "<circle clip-path=\"url(#clip022)\" cx=\"495.784\" cy=\"1377.63\" r=\"14\" fill=\"#000080\" fill-rule=\"evenodd\" fill-opacity=\"1\" stroke=\"#000000\" stroke-opacity=\"1\" stroke-width=\"3.2\"/>\n",
       "<circle clip-path=\"url(#clip022)\" cx=\"525.213\" cy=\"1374.26\" r=\"14\" fill=\"#000080\" fill-rule=\"evenodd\" fill-opacity=\"1\" stroke=\"#000000\" stroke-opacity=\"1\" stroke-width=\"3.2\"/>\n",
       "<circle clip-path=\"url(#clip022)\" cx=\"554.642\" cy=\"1371.49\" r=\"14\" fill=\"#000080\" fill-rule=\"evenodd\" fill-opacity=\"1\" stroke=\"#000000\" stroke-opacity=\"1\" stroke-width=\"3.2\"/>\n",
       "<circle clip-path=\"url(#clip022)\" cx=\"584.071\" cy=\"1369.27\" r=\"14\" fill=\"#000080\" fill-rule=\"evenodd\" fill-opacity=\"1\" stroke=\"#000000\" stroke-opacity=\"1\" stroke-width=\"3.2\"/>\n",
       "<circle clip-path=\"url(#clip022)\" cx=\"613.5\" cy=\"1367.55\" r=\"14\" fill=\"#000080\" fill-rule=\"evenodd\" fill-opacity=\"1\" stroke=\"#000000\" stroke-opacity=\"1\" stroke-width=\"3.2\"/>\n",
       "<circle clip-path=\"url(#clip022)\" cx=\"642.929\" cy=\"1366.25\" r=\"14\" fill=\"#000080\" fill-rule=\"evenodd\" fill-opacity=\"1\" stroke=\"#000000\" stroke-opacity=\"1\" stroke-width=\"3.2\"/>\n",
       "<circle clip-path=\"url(#clip022)\" cx=\"672.358\" cy=\"1365.32\" r=\"14\" fill=\"#000080\" fill-rule=\"evenodd\" fill-opacity=\"1\" stroke=\"#000000\" stroke-opacity=\"1\" stroke-width=\"3.2\"/>\n",
       "<circle clip-path=\"url(#clip022)\" cx=\"701.787\" cy=\"1364.7\" r=\"14\" fill=\"#000080\" fill-rule=\"evenodd\" fill-opacity=\"1\" stroke=\"#000000\" stroke-opacity=\"1\" stroke-width=\"3.2\"/>\n",
       "<circle clip-path=\"url(#clip022)\" cx=\"731.216\" cy=\"1364.32\" r=\"14\" fill=\"#000080\" fill-rule=\"evenodd\" fill-opacity=\"1\" stroke=\"#000000\" stroke-opacity=\"1\" stroke-width=\"3.2\"/>\n",
       "<circle clip-path=\"url(#clip022)\" cx=\"760.645\" cy=\"1364.13\" r=\"14\" fill=\"#000080\" fill-rule=\"evenodd\" fill-opacity=\"1\" stroke=\"#000000\" stroke-opacity=\"1\" stroke-width=\"3.2\"/>\n",
       "<circle clip-path=\"url(#clip022)\" cx=\"790.074\" cy=\"1364.06\" r=\"14\" fill=\"#000080\" fill-rule=\"evenodd\" fill-opacity=\"1\" stroke=\"#000000\" stroke-opacity=\"1\" stroke-width=\"3.2\"/>\n",
       "<circle clip-path=\"url(#clip022)\" cx=\"819.503\" cy=\"1364.05\" r=\"14\" fill=\"#000080\" fill-rule=\"evenodd\" fill-opacity=\"1\" stroke=\"#000000\" stroke-opacity=\"1\" stroke-width=\"3.2\"/>\n",
       "<circle clip-path=\"url(#clip022)\" cx=\"848.932\" cy=\"1364.04\" r=\"14\" fill=\"#000080\" fill-rule=\"evenodd\" fill-opacity=\"1\" stroke=\"#000000\" stroke-opacity=\"1\" stroke-width=\"3.2\"/>\n",
       "<circle clip-path=\"url(#clip022)\" cx=\"878.361\" cy=\"1363.97\" r=\"14\" fill=\"#000080\" fill-rule=\"evenodd\" fill-opacity=\"1\" stroke=\"#000000\" stroke-opacity=\"1\" stroke-width=\"3.2\"/>\n",
       "<circle clip-path=\"url(#clip022)\" cx=\"907.79\" cy=\"1363.77\" r=\"14\" fill=\"#000080\" fill-rule=\"evenodd\" fill-opacity=\"1\" stroke=\"#000000\" stroke-opacity=\"1\" stroke-width=\"3.2\"/>\n",
       "<circle clip-path=\"url(#clip022)\" cx=\"937.219\" cy=\"1363.39\" r=\"14\" fill=\"#000080\" fill-rule=\"evenodd\" fill-opacity=\"1\" stroke=\"#000000\" stroke-opacity=\"1\" stroke-width=\"3.2\"/>\n",
       "<circle clip-path=\"url(#clip022)\" cx=\"966.648\" cy=\"1362.77\" r=\"14\" fill=\"#000080\" fill-rule=\"evenodd\" fill-opacity=\"1\" stroke=\"#000000\" stroke-opacity=\"1\" stroke-width=\"3.2\"/>\n",
       "<circle clip-path=\"url(#clip022)\" cx=\"996.077\" cy=\"1361.84\" r=\"14\" fill=\"#000080\" fill-rule=\"evenodd\" fill-opacity=\"1\" stroke=\"#000000\" stroke-opacity=\"1\" stroke-width=\"3.2\"/>\n",
       "<circle clip-path=\"url(#clip022)\" cx=\"1025.51\" cy=\"1360.55\" r=\"14\" fill=\"#000080\" fill-rule=\"evenodd\" fill-opacity=\"1\" stroke=\"#000000\" stroke-opacity=\"1\" stroke-width=\"3.2\"/>\n",
       "<circle clip-path=\"url(#clip022)\" cx=\"1054.94\" cy=\"1358.82\" r=\"14\" fill=\"#000080\" fill-rule=\"evenodd\" fill-opacity=\"1\" stroke=\"#000000\" stroke-opacity=\"1\" stroke-width=\"3.2\"/>\n",
       "<circle clip-path=\"url(#clip022)\" cx=\"1084.36\" cy=\"1356.61\" r=\"14\" fill=\"#000080\" fill-rule=\"evenodd\" fill-opacity=\"1\" stroke=\"#000000\" stroke-opacity=\"1\" stroke-width=\"3.2\"/>\n",
       "<circle clip-path=\"url(#clip022)\" cx=\"1113.79\" cy=\"1353.84\" r=\"14\" fill=\"#000080\" fill-rule=\"evenodd\" fill-opacity=\"1\" stroke=\"#000000\" stroke-opacity=\"1\" stroke-width=\"3.2\"/>\n",
       "<circle clip-path=\"url(#clip022)\" cx=\"1143.22\" cy=\"1350.46\" r=\"14\" fill=\"#000080\" fill-rule=\"evenodd\" fill-opacity=\"1\" stroke=\"#000000\" stroke-opacity=\"1\" stroke-width=\"3.2\"/>\n",
       "<circle clip-path=\"url(#clip022)\" cx=\"1172.65\" cy=\"1346.41\" r=\"14\" fill=\"#000080\" fill-rule=\"evenodd\" fill-opacity=\"1\" stroke=\"#000000\" stroke-opacity=\"1\" stroke-width=\"3.2\"/>\n",
       "<circle clip-path=\"url(#clip022)\" cx=\"1202.08\" cy=\"1341.62\" r=\"14\" fill=\"#000080\" fill-rule=\"evenodd\" fill-opacity=\"1\" stroke=\"#000000\" stroke-opacity=\"1\" stroke-width=\"3.2\"/>\n",
       "<circle clip-path=\"url(#clip022)\" cx=\"1231.51\" cy=\"1336.03\" r=\"14\" fill=\"#000080\" fill-rule=\"evenodd\" fill-opacity=\"1\" stroke=\"#000000\" stroke-opacity=\"1\" stroke-width=\"3.2\"/>\n",
       "<circle clip-path=\"url(#clip022)\" cx=\"1260.94\" cy=\"1329.59\" r=\"14\" fill=\"#000080\" fill-rule=\"evenodd\" fill-opacity=\"1\" stroke=\"#000000\" stroke-opacity=\"1\" stroke-width=\"3.2\"/>\n",
       "<circle clip-path=\"url(#clip022)\" cx=\"1290.37\" cy=\"1322.23\" r=\"14\" fill=\"#000080\" fill-rule=\"evenodd\" fill-opacity=\"1\" stroke=\"#000000\" stroke-opacity=\"1\" stroke-width=\"3.2\"/>\n",
       "<circle clip-path=\"url(#clip022)\" cx=\"1319.8\" cy=\"1313.89\" r=\"14\" fill=\"#000080\" fill-rule=\"evenodd\" fill-opacity=\"1\" stroke=\"#000000\" stroke-opacity=\"1\" stroke-width=\"3.2\"/>\n",
       "<circle clip-path=\"url(#clip022)\" cx=\"1349.23\" cy=\"1304.51\" r=\"14\" fill=\"#000080\" fill-rule=\"evenodd\" fill-opacity=\"1\" stroke=\"#000000\" stroke-opacity=\"1\" stroke-width=\"3.2\"/>\n",
       "<circle clip-path=\"url(#clip022)\" cx=\"1378.65\" cy=\"1294.03\" r=\"14\" fill=\"#000080\" fill-rule=\"evenodd\" fill-opacity=\"1\" stroke=\"#000000\" stroke-opacity=\"1\" stroke-width=\"3.2\"/>\n",
       "<circle clip-path=\"url(#clip022)\" cx=\"1408.08\" cy=\"1282.38\" r=\"14\" fill=\"#000080\" fill-rule=\"evenodd\" fill-opacity=\"1\" stroke=\"#000000\" stroke-opacity=\"1\" stroke-width=\"3.2\"/>\n",
       "<circle clip-path=\"url(#clip022)\" cx=\"1437.51\" cy=\"1269.51\" r=\"14\" fill=\"#000080\" fill-rule=\"evenodd\" fill-opacity=\"1\" stroke=\"#000000\" stroke-opacity=\"1\" stroke-width=\"3.2\"/>\n",
       "<circle clip-path=\"url(#clip022)\" cx=\"1466.94\" cy=\"1255.35\" r=\"14\" fill=\"#000080\" fill-rule=\"evenodd\" fill-opacity=\"1\" stroke=\"#000000\" stroke-opacity=\"1\" stroke-width=\"3.2\"/>\n",
       "<circle clip-path=\"url(#clip022)\" cx=\"1496.37\" cy=\"1239.84\" r=\"14\" fill=\"#000080\" fill-rule=\"evenodd\" fill-opacity=\"1\" stroke=\"#000000\" stroke-opacity=\"1\" stroke-width=\"3.2\"/>\n",
       "<circle clip-path=\"url(#clip022)\" cx=\"1525.8\" cy=\"1222.92\" r=\"14\" fill=\"#000080\" fill-rule=\"evenodd\" fill-opacity=\"1\" stroke=\"#000000\" stroke-opacity=\"1\" stroke-width=\"3.2\"/>\n",
       "<circle clip-path=\"url(#clip022)\" cx=\"1555.23\" cy=\"1204.54\" r=\"14\" fill=\"#000080\" fill-rule=\"evenodd\" fill-opacity=\"1\" stroke=\"#000000\" stroke-opacity=\"1\" stroke-width=\"3.2\"/>\n",
       "<circle clip-path=\"url(#clip022)\" cx=\"1584.66\" cy=\"1184.62\" r=\"14\" fill=\"#000080\" fill-rule=\"evenodd\" fill-opacity=\"1\" stroke=\"#000000\" stroke-opacity=\"1\" stroke-width=\"3.2\"/>\n",
       "<circle clip-path=\"url(#clip022)\" cx=\"1614.09\" cy=\"1163.11\" r=\"14\" fill=\"#000080\" fill-rule=\"evenodd\" fill-opacity=\"1\" stroke=\"#000000\" stroke-opacity=\"1\" stroke-width=\"3.2\"/>\n",
       "<circle clip-path=\"url(#clip022)\" cx=\"1643.52\" cy=\"1139.95\" r=\"14\" fill=\"#000080\" fill-rule=\"evenodd\" fill-opacity=\"1\" stroke=\"#000000\" stroke-opacity=\"1\" stroke-width=\"3.2\"/>\n",
       "<circle clip-path=\"url(#clip022)\" cx=\"1672.95\" cy=\"1115.07\" r=\"14\" fill=\"#000080\" fill-rule=\"evenodd\" fill-opacity=\"1\" stroke=\"#000000\" stroke-opacity=\"1\" stroke-width=\"3.2\"/>\n",
       "<circle clip-path=\"url(#clip022)\" cx=\"1702.37\" cy=\"1088.42\" r=\"14\" fill=\"#000080\" fill-rule=\"evenodd\" fill-opacity=\"1\" stroke=\"#000000\" stroke-opacity=\"1\" stroke-width=\"3.2\"/>\n",
       "<circle clip-path=\"url(#clip022)\" cx=\"1731.8\" cy=\"1059.92\" r=\"14\" fill=\"#000080\" fill-rule=\"evenodd\" fill-opacity=\"1\" stroke=\"#000000\" stroke-opacity=\"1\" stroke-width=\"3.2\"/>\n",
       "<circle clip-path=\"url(#clip022)\" cx=\"1761.23\" cy=\"1029.53\" r=\"14\" fill=\"#000080\" fill-rule=\"evenodd\" fill-opacity=\"1\" stroke=\"#000000\" stroke-opacity=\"1\" stroke-width=\"3.2\"/>\n",
       "<circle clip-path=\"url(#clip022)\" cx=\"1790.66\" cy=\"997.182\" r=\"14\" fill=\"#000080\" fill-rule=\"evenodd\" fill-opacity=\"1\" stroke=\"#000000\" stroke-opacity=\"1\" stroke-width=\"3.2\"/>\n",
       "<circle clip-path=\"url(#clip022)\" cx=\"1820.09\" cy=\"962.81\" r=\"14\" fill=\"#000080\" fill-rule=\"evenodd\" fill-opacity=\"1\" stroke=\"#000000\" stroke-opacity=\"1\" stroke-width=\"3.2\"/>\n",
       "<circle clip-path=\"url(#clip022)\" cx=\"1849.52\" cy=\"926.355\" r=\"14\" fill=\"#000080\" fill-rule=\"evenodd\" fill-opacity=\"1\" stroke=\"#000000\" stroke-opacity=\"1\" stroke-width=\"3.2\"/>\n",
       "<circle clip-path=\"url(#clip022)\" cx=\"1878.95\" cy=\"887.756\" r=\"14\" fill=\"#000080\" fill-rule=\"evenodd\" fill-opacity=\"1\" stroke=\"#000000\" stroke-opacity=\"1\" stroke-width=\"3.2\"/>\n",
       "<circle clip-path=\"url(#clip022)\" cx=\"1908.38\" cy=\"846.953\" r=\"14\" fill=\"#000080\" fill-rule=\"evenodd\" fill-opacity=\"1\" stroke=\"#000000\" stroke-opacity=\"1\" stroke-width=\"3.2\"/>\n",
       "<circle clip-path=\"url(#clip022)\" cx=\"1937.81\" cy=\"803.883\" r=\"14\" fill=\"#000080\" fill-rule=\"evenodd\" fill-opacity=\"1\" stroke=\"#000000\" stroke-opacity=\"1\" stroke-width=\"3.2\"/>\n",
       "<circle clip-path=\"url(#clip022)\" cx=\"1967.24\" cy=\"758.485\" r=\"14\" fill=\"#000080\" fill-rule=\"evenodd\" fill-opacity=\"1\" stroke=\"#000000\" stroke-opacity=\"1\" stroke-width=\"3.2\"/>\n",
       "<circle clip-path=\"url(#clip022)\" cx=\"1996.66\" cy=\"710.699\" r=\"14\" fill=\"#000080\" fill-rule=\"evenodd\" fill-opacity=\"1\" stroke=\"#000000\" stroke-opacity=\"1\" stroke-width=\"3.2\"/>\n",
       "<circle clip-path=\"url(#clip022)\" cx=\"2026.09\" cy=\"660.463\" r=\"14\" fill=\"#000080\" fill-rule=\"evenodd\" fill-opacity=\"1\" stroke=\"#000000\" stroke-opacity=\"1\" stroke-width=\"3.2\"/>\n",
       "<circle clip-path=\"url(#clip022)\" cx=\"2055.52\" cy=\"607.715\" r=\"14\" fill=\"#000080\" fill-rule=\"evenodd\" fill-opacity=\"1\" stroke=\"#000000\" stroke-opacity=\"1\" stroke-width=\"3.2\"/>\n",
       "<circle clip-path=\"url(#clip022)\" cx=\"2084.95\" cy=\"552.395\" r=\"14\" fill=\"#000080\" fill-rule=\"evenodd\" fill-opacity=\"1\" stroke=\"#000000\" stroke-opacity=\"1\" stroke-width=\"3.2\"/>\n",
       "<circle clip-path=\"url(#clip022)\" cx=\"2114.38\" cy=\"494.441\" r=\"14\" fill=\"#000080\" fill-rule=\"evenodd\" fill-opacity=\"1\" stroke=\"#000000\" stroke-opacity=\"1\" stroke-width=\"3.2\"/>\n",
       "<circle clip-path=\"url(#clip022)\" cx=\"2143.81\" cy=\"433.791\" r=\"14\" fill=\"#000080\" fill-rule=\"evenodd\" fill-opacity=\"1\" stroke=\"#000000\" stroke-opacity=\"1\" stroke-width=\"3.2\"/>\n",
       "<circle clip-path=\"url(#clip022)\" cx=\"2173.24\" cy=\"370.386\" r=\"14\" fill=\"#000080\" fill-rule=\"evenodd\" fill-opacity=\"1\" stroke=\"#000000\" stroke-opacity=\"1\" stroke-width=\"3.2\"/>\n",
       "<circle clip-path=\"url(#clip022)\" cx=\"2202.67\" cy=\"304.163\" r=\"14\" fill=\"#000080\" fill-rule=\"evenodd\" fill-opacity=\"1\" stroke=\"#000000\" stroke-opacity=\"1\" stroke-width=\"3.2\"/>\n",
       "<circle clip-path=\"url(#clip022)\" cx=\"2232.1\" cy=\"235.061\" r=\"14\" fill=\"#000080\" fill-rule=\"evenodd\" fill-opacity=\"1\" stroke=\"#000000\" stroke-opacity=\"1\" stroke-width=\"3.2\"/>\n",
       "<circle clip-path=\"url(#clip022)\" cx=\"2261.53\" cy=\"163.019\" r=\"14\" fill=\"#000080\" fill-rule=\"evenodd\" fill-opacity=\"1\" stroke=\"#000000\" stroke-opacity=\"1\" stroke-width=\"3.2\"/>\n",
       "<circle clip-path=\"url(#clip022)\" cx=\"2290.95\" cy=\"87.9763\" r=\"14\" fill=\"#000080\" fill-rule=\"evenodd\" fill-opacity=\"1\" stroke=\"#000000\" stroke-opacity=\"1\" stroke-width=\"3.2\"/>\n",
       "<path clip-path=\"url(#clip020)\" d=\"\n",
       "M1789.89 250.738 L2279.97 250.738 L2279.97 95.2176 L1789.89 95.2176  Z\n",
       "  \" fill=\"#ffffff\" fill-rule=\"evenodd\" fill-opacity=\"1\"/>\n",
       "<polyline clip-path=\"url(#clip020)\" style=\"stroke:#000000; stroke-linecap:butt; stroke-linejoin:round; stroke-width:4; stroke-opacity:1; fill:none\" points=\"\n",
       "  1789.89,250.738 2279.97,250.738 2279.97,95.2176 1789.89,95.2176 1789.89,250.738 \n",
       "  \"/>\n",
       "<path clip-path=\"url(#clip020)\" d=\"\n",
       "M1814.15 167.794 L1959.73 167.794 L1959.73 126.322 L1814.15 126.322 L1814.15 167.794  Z\n",
       "  \" fill=\"#ffff00\" fill-rule=\"evenodd\" fill-opacity=\"1\"/>\n",
       "<polyline clip-path=\"url(#clip020)\" style=\"stroke:#009af9; stroke-linecap:butt; stroke-linejoin:round; stroke-width:4; stroke-opacity:1; fill:none\" points=\"\n",
       "  1814.15,126.322 1959.73,126.322 \n",
       "  \"/>\n",
       "<path clip-path=\"url(#clip020)\" d=\"M2004.5 139.407 L2004.5 143.389 Q2002.69 142.393 2000.87 141.907 Q1999.06 141.398 1997.21 141.398 Q1993.06 141.398 1990.77 144.037 Q1988.48 146.652 1988.48 151.398 Q1988.48 156.143 1990.77 158.782 Q1993.06 161.398 1997.21 161.398 Q1999.06 161.398 2000.87 160.912 Q2002.69 160.402 2004.5 159.407 L2004.5 163.342 Q2002.72 164.176 2000.8 164.592 Q1998.9 165.009 1996.75 165.009 Q1990.89 165.009 1987.44 161.328 Q1983.99 157.648 1983.99 151.398 Q1983.99 145.055 1987.46 141.421 Q1990.96 137.787 1997.02 137.787 Q1998.99 137.787 2000.87 138.203 Q2002.74 138.597 2004.5 139.407 Z\" fill=\"#000000\" fill-rule=\"evenodd\" fill-opacity=\"1\" /><path clip-path=\"url(#clip020)\" d=\"M2011.47 154.106 L2011.47 138.412 L2015.73 138.412 L2015.73 153.944 Q2015.73 157.625 2017.16 159.476 Q2018.6 161.305 2021.47 161.305 Q2024.92 161.305 2026.91 159.106 Q2028.92 156.907 2028.92 153.111 L2028.92 138.412 L2033.18 138.412 L2033.18 164.338 L2028.92 164.338 L2028.92 160.356 Q2027.37 162.717 2025.31 163.875 Q2023.27 165.009 2020.56 165.009 Q2016.1 165.009 2013.78 162.231 Q2011.47 159.453 2011.47 154.106 M2022.18 137.787 L2022.18 137.787 Z\" fill=\"#000000\" fill-rule=\"evenodd\" fill-opacity=\"1\" /><path clip-path=\"url(#clip020)\" d=\"M2056.98 142.393 Q2056.26 141.977 2055.4 141.791 Q2054.57 141.583 2053.55 141.583 Q2049.94 141.583 2047.99 143.944 Q2046.07 146.282 2046.07 150.68 L2046.07 164.338 L2041.79 164.338 L2041.79 138.412 L2046.07 138.412 L2046.07 142.44 Q2047.42 140.078 2049.57 138.944 Q2051.72 137.787 2054.8 137.787 Q2055.24 137.787 2055.77 137.856 Q2056.3 137.903 2056.95 138.018 L2056.98 142.393 Z\" fill=\"#000000\" fill-rule=\"evenodd\" fill-opacity=\"1\" /><path clip-path=\"url(#clip020)\" d=\"M2058.39 138.412 L2062.9 138.412 L2071 160.171 L2079.11 138.412 L2083.62 138.412 L2073.9 164.338 L2068.11 164.338 L2058.39 138.412 Z\" fill=\"#000000\" fill-rule=\"evenodd\" fill-opacity=\"1\" /><path clip-path=\"url(#clip020)\" d=\"M2111.67 150.31 L2111.67 152.393 L2092.09 152.393 Q2092.37 156.791 2094.73 159.106 Q2097.11 161.398 2101.35 161.398 Q2103.8 161.398 2106.1 160.796 Q2108.41 160.194 2110.68 158.99 L2110.68 163.018 Q2108.39 163.99 2105.98 164.5 Q2103.57 165.009 2101.1 165.009 Q2094.89 165.009 2091.26 161.398 Q2087.65 157.787 2087.65 151.629 Q2087.65 145.264 2091.07 141.537 Q2094.52 137.787 2100.36 137.787 Q2105.59 137.787 2108.62 141.166 Q2111.67 144.523 2111.67 150.31 M2107.42 149.06 Q2107.37 145.565 2105.45 143.481 Q2103.55 141.398 2100.4 141.398 Q2096.84 141.398 2094.68 143.412 Q2092.55 145.426 2092.23 149.083 L2107.42 149.06 Z\" fill=\"#000000\" fill-rule=\"evenodd\" fill-opacity=\"1\" /><circle clip-path=\"url(#clip020)\" cx=\"1886.94\" cy=\"198.898\" r=\"23\" fill=\"#000080\" fill-rule=\"evenodd\" fill-opacity=\"1\" stroke=\"#000000\" stroke-opacity=\"1\" stroke-width=\"5.12\"/>\n",
       "<path clip-path=\"url(#clip020)\" d=\"M2002.9 194.187 L2002.9 180.159 L2007.16 180.159 L2007.16 216.178 L2002.9 216.178 L2002.9 212.289 Q2001.56 214.603 1999.5 215.738 Q1997.46 216.849 1994.59 216.849 Q1989.89 216.849 1986.93 213.099 Q1983.99 209.349 1983.99 203.238 Q1983.99 197.127 1986.93 193.377 Q1989.89 189.627 1994.59 189.627 Q1997.46 189.627 1999.5 190.761 Q2001.56 191.872 2002.9 194.187 M1988.39 203.238 Q1988.39 207.937 1990.31 210.622 Q1992.25 213.284 1995.63 213.284 Q1999.01 213.284 2000.96 210.622 Q2002.9 207.937 2002.9 203.238 Q2002.9 198.539 2000.96 195.877 Q1999.01 193.192 1995.63 193.192 Q1992.25 193.192 1990.31 195.877 Q1988.39 198.539 1988.39 203.238 Z\" fill=\"#000000\" fill-rule=\"evenodd\" fill-opacity=\"1\" /><path clip-path=\"url(#clip020)\" d=\"M2027.72 203.145 Q2022.56 203.145 2020.56 204.326 Q2018.57 205.506 2018.57 208.354 Q2018.57 210.622 2020.06 211.965 Q2021.56 213.284 2024.13 213.284 Q2027.67 213.284 2029.8 210.784 Q2031.95 208.261 2031.95 204.094 L2031.95 203.145 L2027.72 203.145 M2036.21 201.386 L2036.21 216.178 L2031.95 216.178 L2031.95 212.242 Q2030.49 214.603 2028.32 215.738 Q2026.14 216.849 2022.99 216.849 Q2019.01 216.849 2016.65 214.627 Q2014.31 212.381 2014.31 208.631 Q2014.31 204.256 2017.23 202.034 Q2020.17 199.812 2025.98 199.812 L2031.95 199.812 L2031.95 199.395 Q2031.95 196.455 2030.01 194.858 Q2028.09 193.238 2024.59 193.238 Q2022.37 193.238 2020.26 193.77 Q2018.16 194.303 2016.21 195.367 L2016.21 191.432 Q2018.55 190.53 2020.75 190.09 Q2022.95 189.627 2025.03 189.627 Q2030.66 189.627 2033.43 192.543 Q2036.21 195.46 2036.21 201.386 Z\" fill=\"#000000\" fill-rule=\"evenodd\" fill-opacity=\"1\" /><path clip-path=\"url(#clip020)\" d=\"M2049.2 182.891 L2049.2 190.252 L2057.97 190.252 L2057.97 193.562 L2049.2 193.562 L2049.2 207.636 Q2049.2 210.807 2050.05 211.71 Q2050.93 212.613 2053.6 212.613 L2057.97 212.613 L2057.97 216.178 L2053.6 216.178 Q2048.67 216.178 2046.79 214.349 Q2044.92 212.497 2044.92 207.636 L2044.92 193.562 L2041.79 193.562 L2041.79 190.252 L2044.92 190.252 L2044.92 182.891 L2049.2 182.891 Z\" fill=\"#000000\" fill-rule=\"evenodd\" fill-opacity=\"1\" /><path clip-path=\"url(#clip020)\" d=\"M2075.36 203.145 Q2070.19 203.145 2068.2 204.326 Q2066.21 205.506 2066.21 208.354 Q2066.21 210.622 2067.69 211.965 Q2069.2 213.284 2071.77 213.284 Q2075.31 213.284 2077.44 210.784 Q2079.59 208.261 2079.59 204.094 L2079.59 203.145 L2075.36 203.145 M2083.85 201.386 L2083.85 216.178 L2079.59 216.178 L2079.59 212.242 Q2078.13 214.603 2075.96 215.738 Q2073.78 216.849 2070.63 216.849 Q2066.65 216.849 2064.29 214.627 Q2061.95 212.381 2061.95 208.631 Q2061.95 204.256 2064.87 202.034 Q2067.81 199.812 2073.62 199.812 L2079.59 199.812 L2079.59 199.395 Q2079.59 196.455 2077.65 194.858 Q2075.73 193.238 2072.23 193.238 Q2070.01 193.238 2067.9 193.77 Q2065.8 194.303 2063.85 195.367 L2063.85 191.432 Q2066.19 190.53 2068.39 190.09 Q2070.59 189.627 2072.67 189.627 Q2078.3 189.627 2081.07 192.543 Q2083.85 195.46 2083.85 201.386 Z\" fill=\"#000000\" fill-rule=\"evenodd\" fill-opacity=\"1\" /><path clip-path=\"url(#clip020)\" d=\"M2096.74 212.289 L2096.74 226.039 L2092.46 226.039 L2092.46 190.252 L2096.74 190.252 L2096.74 194.187 Q2098.09 191.872 2100.12 190.761 Q2102.18 189.627 2105.03 189.627 Q2109.75 189.627 2112.69 193.377 Q2115.66 197.127 2115.66 203.238 Q2115.66 209.349 2112.69 213.099 Q2109.75 216.849 2105.03 216.849 Q2102.18 216.849 2100.12 215.738 Q2098.09 214.603 2096.74 212.289 M2111.24 203.238 Q2111.24 198.539 2109.29 195.877 Q2107.37 193.192 2103.99 193.192 Q2100.61 193.192 2098.67 195.877 Q2096.74 198.539 2096.74 203.238 Q2096.74 207.937 2098.67 210.622 Q2100.61 213.284 2103.99 213.284 Q2107.37 213.284 2109.29 210.622 Q2111.24 207.937 2111.24 203.238 Z\" fill=\"#000000\" fill-rule=\"evenodd\" fill-opacity=\"1\" /><path clip-path=\"url(#clip020)\" d=\"M2132.76 193.238 Q2129.34 193.238 2127.35 195.923 Q2125.36 198.585 2125.36 203.238 Q2125.36 207.891 2127.32 210.576 Q2129.31 213.238 2132.76 213.238 Q2136.17 213.238 2138.16 210.553 Q2140.15 207.867 2140.15 203.238 Q2140.15 198.631 2138.16 195.946 Q2136.17 193.238 2132.76 193.238 M2132.76 189.627 Q2138.32 189.627 2141.49 193.238 Q2144.66 196.849 2144.66 203.238 Q2144.66 209.604 2141.49 213.238 Q2138.32 216.849 2132.76 216.849 Q2127.18 216.849 2124.01 213.238 Q2120.86 209.604 2120.86 203.238 Q2120.86 196.849 2124.01 193.238 Q2127.18 189.627 2132.76 189.627 Z\" fill=\"#000000\" fill-rule=\"evenodd\" fill-opacity=\"1\" /><path clip-path=\"url(#clip020)\" d=\"M2151.72 190.252 L2155.98 190.252 L2155.98 216.178 L2151.72 216.178 L2151.72 190.252 M2151.72 180.159 L2155.98 180.159 L2155.98 185.553 L2151.72 185.553 L2151.72 180.159 Z\" fill=\"#000000\" fill-rule=\"evenodd\" fill-opacity=\"1\" /><path clip-path=\"url(#clip020)\" d=\"M2186.44 200.529 L2186.44 216.178 L2182.18 216.178 L2182.18 200.668 Q2182.18 196.988 2180.75 195.159 Q2179.31 193.33 2176.44 193.33 Q2172.99 193.33 2171 195.53 Q2169.01 197.729 2169.01 201.525 L2169.01 216.178 L2164.73 216.178 L2164.73 190.252 L2169.01 190.252 L2169.01 194.28 Q2170.54 191.942 2172.6 190.784 Q2174.68 189.627 2177.39 189.627 Q2181.86 189.627 2184.15 192.405 Q2186.44 195.159 2186.44 200.529 Z\" fill=\"#000000\" fill-rule=\"evenodd\" fill-opacity=\"1\" /><path clip-path=\"url(#clip020)\" d=\"M2199.15 182.891 L2199.15 190.252 L2207.92 190.252 L2207.92 193.562 L2199.15 193.562 L2199.15 207.636 Q2199.15 210.807 2200.01 211.71 Q2200.89 212.613 2203.55 212.613 L2207.92 212.613 L2207.92 216.178 L2203.55 216.178 Q2198.62 216.178 2196.74 214.349 Q2194.87 212.497 2194.87 207.636 L2194.87 193.562 L2191.74 193.562 L2191.74 190.252 L2194.87 190.252 L2194.87 182.891 L2199.15 182.891 Z\" fill=\"#000000\" fill-rule=\"evenodd\" fill-opacity=\"1\" /><path clip-path=\"url(#clip020)\" d=\"M2230.05 191.016 L2230.05 195.043 Q2228.25 194.117 2226.3 193.655 Q2224.36 193.192 2222.28 193.192 Q2219.1 193.192 2217.51 194.164 Q2215.93 195.136 2215.93 197.08 Q2215.93 198.562 2217.07 199.418 Q2218.2 200.252 2221.63 201.016 L2223.09 201.34 Q2227.62 202.312 2229.52 204.094 Q2231.44 205.854 2231.44 209.025 Q2231.44 212.636 2228.57 214.742 Q2225.73 216.849 2220.73 216.849 Q2218.64 216.849 2216.37 216.432 Q2214.13 216.039 2211.63 215.228 L2211.63 210.83 Q2213.99 212.057 2216.28 212.682 Q2218.57 213.284 2220.82 213.284 Q2223.83 213.284 2225.45 212.266 Q2227.07 211.224 2227.07 209.349 Q2227.07 207.613 2225.89 206.687 Q2224.73 205.761 2220.77 204.904 L2219.29 204.557 Q2215.33 203.724 2213.57 202.011 Q2211.81 200.275 2211.81 197.266 Q2211.81 193.608 2214.41 191.618 Q2217 189.627 2221.77 189.627 Q2224.13 189.627 2226.21 189.974 Q2228.29 190.321 2230.05 191.016 Z\" fill=\"#000000\" fill-rule=\"evenodd\" fill-opacity=\"1\" /></svg>\n"
      ]
     },
     "execution_count": 157,
     "metadata": {},
     "output_type": "execute_result"
    }
   ],
   "source": [
    "#fill used to colour the area under the curve\n",
    "plot(x_plot, y_plot, label = \"curve\", fill = (0, :yellow))\n",
    "scatter!(x_plot, y_plot, label = \"datapoints\", c = :navyblue)"
   ]
  },
  {
   "cell_type": "code",
   "execution_count": 173,
   "id": "3c606d37",
   "metadata": {},
   "outputs": [
    {
     "data": {
      "image/svg+xml": [
       "<?xml version=\"1.0\" encoding=\"utf-8\"?>\n",
       "<svg xmlns=\"http://www.w3.org/2000/svg\" xmlns:xlink=\"http://www.w3.org/1999/xlink\" width=\"600\" height=\"400\" viewBox=\"0 0 2400 1600\">\n",
       "<defs>\n",
       "  <clipPath id=\"clip260\">\n",
       "    <rect x=\"0\" y=\"0\" width=\"2400\" height=\"1600\"/>\n",
       "  </clipPath>\n",
       "</defs>\n",
       "<path clip-path=\"url(#clip260)\" d=\"\n",
       "M0 1600 L2400 1600 L2400 0 L0 0  Z\n",
       "  \" fill=\"#ffffff\" fill-rule=\"evenodd\" fill-opacity=\"1\"/>\n",
       "<defs>\n",
       "  <clipPath id=\"clip261\">\n",
       "    <rect x=\"480\" y=\"0\" width=\"1681\" height=\"1600\"/>\n",
       "  </clipPath>\n",
       "</defs>\n",
       "<path clip-path=\"url(#clip260)\" d=\"\n",
       "M193.936 1486.45 L2352.76 1486.45 L2352.76 47.2441 L193.936 47.2441  Z\n",
       "  \" fill=\"#ffffff\" fill-rule=\"evenodd\" fill-opacity=\"1\"/>\n",
       "<defs>\n",
       "  <clipPath id=\"clip262\">\n",
       "    <rect x=\"193\" y=\"47\" width=\"2160\" height=\"1440\"/>\n",
       "  </clipPath>\n",
       "</defs>\n",
       "<polyline clip-path=\"url(#clip262)\" style=\"stroke:#000000; stroke-linecap:butt; stroke-linejoin:round; stroke-width:2; stroke-opacity:0.1; fill:none\" points=\"\n",
       "  254.908,1486.45 254.908,47.2441 \n",
       "  \"/>\n",
       "<polyline clip-path=\"url(#clip262)\" style=\"stroke:#000000; stroke-linecap:butt; stroke-linejoin:round; stroke-width:2; stroke-opacity:0.1; fill:none\" points=\"\n",
       "  764.095,1486.45 764.095,47.2441 \n",
       "  \"/>\n",
       "<polyline clip-path=\"url(#clip262)\" style=\"stroke:#000000; stroke-linecap:butt; stroke-linejoin:round; stroke-width:2; stroke-opacity:0.1; fill:none\" points=\"\n",
       "  1273.28,1486.45 1273.28,47.2441 \n",
       "  \"/>\n",
       "<polyline clip-path=\"url(#clip262)\" style=\"stroke:#000000; stroke-linecap:butt; stroke-linejoin:round; stroke-width:2; stroke-opacity:0.1; fill:none\" points=\"\n",
       "  1782.47,1486.45 1782.47,47.2441 \n",
       "  \"/>\n",
       "<polyline clip-path=\"url(#clip262)\" style=\"stroke:#000000; stroke-linecap:butt; stroke-linejoin:round; stroke-width:2; stroke-opacity:0.1; fill:none\" points=\"\n",
       "  2291.66,1486.45 2291.66,47.2441 \n",
       "  \"/>\n",
       "<polyline clip-path=\"url(#clip260)\" style=\"stroke:#000000; stroke-linecap:butt; stroke-linejoin:round; stroke-width:4; stroke-opacity:1; fill:none\" points=\"\n",
       "  193.936,1486.45 2352.76,1486.45 \n",
       "  \"/>\n",
       "<polyline clip-path=\"url(#clip260)\" style=\"stroke:#000000; stroke-linecap:butt; stroke-linejoin:round; stroke-width:4; stroke-opacity:1; fill:none\" points=\"\n",
       "  254.908,1486.45 254.908,1467.55 \n",
       "  \"/>\n",
       "<polyline clip-path=\"url(#clip260)\" style=\"stroke:#000000; stroke-linecap:butt; stroke-linejoin:round; stroke-width:4; stroke-opacity:1; fill:none\" points=\"\n",
       "  764.095,1486.45 764.095,1467.55 \n",
       "  \"/>\n",
       "<polyline clip-path=\"url(#clip260)\" style=\"stroke:#000000; stroke-linecap:butt; stroke-linejoin:round; stroke-width:4; stroke-opacity:1; fill:none\" points=\"\n",
       "  1273.28,1486.45 1273.28,1467.55 \n",
       "  \"/>\n",
       "<polyline clip-path=\"url(#clip260)\" style=\"stroke:#000000; stroke-linecap:butt; stroke-linejoin:round; stroke-width:4; stroke-opacity:1; fill:none\" points=\"\n",
       "  1782.47,1486.45 1782.47,1467.55 \n",
       "  \"/>\n",
       "<polyline clip-path=\"url(#clip260)\" style=\"stroke:#000000; stroke-linecap:butt; stroke-linejoin:round; stroke-width:4; stroke-opacity:1; fill:none\" points=\"\n",
       "  2291.66,1486.45 2291.66,1467.55 \n",
       "  \"/>\n",
       "<path clip-path=\"url(#clip260)\" d=\"M201.436 1532.02 L231.112 1532.02 L231.112 1535.95 L201.436 1535.95 L201.436 1532.02 Z\" fill=\"#000000\" fill-rule=\"evenodd\" fill-opacity=\"1\" /><path clip-path=\"url(#clip260)\" d=\"M242.014 1544.91 L249.653 1544.91 L249.653 1518.55 L241.343 1520.21 L241.343 1515.95 L249.607 1514.29 L254.283 1514.29 L254.283 1544.91 L261.922 1544.91 L261.922 1548.85 L242.014 1548.85 L242.014 1544.91 Z\" fill=\"#000000\" fill-rule=\"evenodd\" fill-opacity=\"1\" /><path clip-path=\"url(#clip260)\" d=\"M271.366 1542.97 L276.25 1542.97 L276.25 1548.85 L271.366 1548.85 L271.366 1542.97 Z\" fill=\"#000000\" fill-rule=\"evenodd\" fill-opacity=\"1\" /><path clip-path=\"url(#clip260)\" d=\"M296.435 1517.37 Q292.824 1517.37 290.996 1520.93 Q289.19 1524.47 289.19 1531.6 Q289.19 1538.71 290.996 1542.27 Q292.824 1545.82 296.435 1545.82 Q300.07 1545.82 301.875 1542.27 Q303.704 1538.71 303.704 1531.6 Q303.704 1524.47 301.875 1520.93 Q300.07 1517.37 296.435 1517.37 M296.435 1513.66 Q302.245 1513.66 305.301 1518.27 Q308.38 1522.85 308.38 1531.6 Q308.38 1540.33 305.301 1544.94 Q302.245 1549.52 296.435 1549.52 Q290.625 1549.52 287.546 1544.94 Q284.491 1540.33 284.491 1531.6 Q284.491 1522.85 287.546 1518.27 Q290.625 1513.66 296.435 1513.66 Z\" fill=\"#000000\" fill-rule=\"evenodd\" fill-opacity=\"1\" /><path clip-path=\"url(#clip260)\" d=\"M711.121 1532.02 L740.797 1532.02 L740.797 1535.95 L711.121 1535.95 L711.121 1532.02 Z\" fill=\"#000000\" fill-rule=\"evenodd\" fill-opacity=\"1\" /><path clip-path=\"url(#clip260)\" d=\"M760.889 1517.37 Q757.278 1517.37 755.449 1520.93 Q753.644 1524.47 753.644 1531.6 Q753.644 1538.71 755.449 1542.27 Q757.278 1545.82 760.889 1545.82 Q764.523 1545.82 766.329 1542.27 Q768.158 1538.71 768.158 1531.6 Q768.158 1524.47 766.329 1520.93 Q764.523 1517.37 760.889 1517.37 M760.889 1513.66 Q766.699 1513.66 769.755 1518.27 Q772.834 1522.85 772.834 1531.6 Q772.834 1540.33 769.755 1544.94 Q766.699 1549.52 760.889 1549.52 Q755.079 1549.52 752 1544.94 Q748.945 1540.33 748.945 1531.6 Q748.945 1522.85 752 1518.27 Q755.079 1513.66 760.889 1513.66 Z\" fill=\"#000000\" fill-rule=\"evenodd\" fill-opacity=\"1\" /><path clip-path=\"url(#clip260)\" d=\"M781.051 1542.97 L785.935 1542.97 L785.935 1548.85 L781.051 1548.85 L781.051 1542.97 Z\" fill=\"#000000\" fill-rule=\"evenodd\" fill-opacity=\"1\" /><path clip-path=\"url(#clip260)\" d=\"M796.167 1514.29 L814.523 1514.29 L814.523 1518.22 L800.449 1518.22 L800.449 1526.7 Q801.468 1526.35 802.486 1526.19 Q803.505 1526 804.523 1526 Q810.31 1526 813.69 1529.17 Q817.069 1532.34 817.069 1537.76 Q817.069 1543.34 813.597 1546.44 Q810.125 1549.52 803.806 1549.52 Q801.63 1549.52 799.361 1549.15 Q797.116 1548.78 794.708 1548.04 L794.708 1543.34 Q796.792 1544.47 799.014 1545.03 Q801.236 1545.58 803.713 1545.58 Q807.718 1545.58 810.056 1543.48 Q812.393 1541.37 812.393 1537.76 Q812.393 1534.15 810.056 1532.04 Q807.718 1529.94 803.713 1529.94 Q801.838 1529.94 799.963 1530.35 Q798.111 1530.77 796.167 1531.65 L796.167 1514.29 Z\" fill=\"#000000\" fill-rule=\"evenodd\" fill-opacity=\"1\" /><path clip-path=\"url(#clip260)\" d=\"M1250.67 1517.37 Q1247.06 1517.37 1245.23 1520.93 Q1243.42 1524.47 1243.42 1531.6 Q1243.42 1538.71 1245.23 1542.27 Q1247.06 1545.82 1250.67 1545.82 Q1254.3 1545.82 1256.11 1542.27 Q1257.94 1538.71 1257.94 1531.6 Q1257.94 1524.47 1256.11 1520.93 Q1254.3 1517.37 1250.67 1517.37 M1250.67 1513.66 Q1256.48 1513.66 1259.53 1518.27 Q1262.61 1522.85 1262.61 1531.6 Q1262.61 1540.33 1259.53 1544.94 Q1256.48 1549.52 1250.67 1549.52 Q1244.86 1549.52 1241.78 1544.94 Q1238.72 1540.33 1238.72 1531.6 Q1238.72 1522.85 1241.78 1518.27 Q1244.86 1513.66 1250.67 1513.66 Z\" fill=\"#000000\" fill-rule=\"evenodd\" fill-opacity=\"1\" /><path clip-path=\"url(#clip260)\" d=\"M1270.83 1542.97 L1275.71 1542.97 L1275.71 1548.85 L1270.83 1548.85 L1270.83 1542.97 Z\" fill=\"#000000\" fill-rule=\"evenodd\" fill-opacity=\"1\" /><path clip-path=\"url(#clip260)\" d=\"M1295.9 1517.37 Q1292.29 1517.37 1290.46 1520.93 Q1288.65 1524.47 1288.65 1531.6 Q1288.65 1538.71 1290.46 1542.27 Q1292.29 1545.82 1295.9 1545.82 Q1299.53 1545.82 1301.34 1542.27 Q1303.17 1538.71 1303.17 1531.6 Q1303.17 1524.47 1301.34 1520.93 Q1299.53 1517.37 1295.9 1517.37 M1295.9 1513.66 Q1301.71 1513.66 1304.76 1518.27 Q1307.84 1522.85 1307.84 1531.6 Q1307.84 1540.33 1304.76 1544.94 Q1301.71 1549.52 1295.9 1549.52 Q1290.09 1549.52 1287.01 1544.94 Q1283.95 1540.33 1283.95 1531.6 Q1283.95 1522.85 1287.01 1518.27 Q1290.09 1513.66 1295.9 1513.66 Z\" fill=\"#000000\" fill-rule=\"evenodd\" fill-opacity=\"1\" /><path clip-path=\"url(#clip260)\" d=\"M1760.35 1517.37 Q1756.74 1517.37 1754.91 1520.93 Q1753.11 1524.47 1753.11 1531.6 Q1753.11 1538.71 1754.91 1542.27 Q1756.74 1545.82 1760.35 1545.82 Q1763.99 1545.82 1765.79 1542.27 Q1767.62 1538.71 1767.62 1531.6 Q1767.62 1524.47 1765.79 1520.93 Q1763.99 1517.37 1760.35 1517.37 M1760.35 1513.66 Q1766.16 1513.66 1769.22 1518.27 Q1772.3 1522.85 1772.3 1531.6 Q1772.3 1540.33 1769.22 1544.94 Q1766.16 1549.52 1760.35 1549.52 Q1754.54 1549.52 1751.46 1544.94 Q1748.41 1540.33 1748.41 1531.6 Q1748.41 1522.85 1751.46 1518.27 Q1754.54 1513.66 1760.35 1513.66 Z\" fill=\"#000000\" fill-rule=\"evenodd\" fill-opacity=\"1\" /><path clip-path=\"url(#clip260)\" d=\"M1780.51 1542.97 L1785.4 1542.97 L1785.4 1548.85 L1780.51 1548.85 L1780.51 1542.97 Z\" fill=\"#000000\" fill-rule=\"evenodd\" fill-opacity=\"1\" /><path clip-path=\"url(#clip260)\" d=\"M1795.63 1514.29 L1813.99 1514.29 L1813.99 1518.22 L1799.91 1518.22 L1799.91 1526.7 Q1800.93 1526.35 1801.95 1526.19 Q1802.97 1526 1803.99 1526 Q1809.77 1526 1813.15 1529.17 Q1816.53 1532.34 1816.53 1537.76 Q1816.53 1543.34 1813.06 1546.44 Q1809.59 1549.52 1803.27 1549.52 Q1801.09 1549.52 1798.82 1549.15 Q1796.58 1548.78 1794.17 1548.04 L1794.17 1543.34 Q1796.25 1544.47 1798.48 1545.03 Q1800.7 1545.58 1803.18 1545.58 Q1807.18 1545.58 1809.52 1543.48 Q1811.86 1541.37 1811.86 1537.76 Q1811.86 1534.15 1809.52 1532.04 Q1807.18 1529.94 1803.18 1529.94 Q1801.3 1529.94 1799.43 1530.35 Q1797.57 1530.77 1795.63 1531.65 L1795.63 1514.29 Z\" fill=\"#000000\" fill-rule=\"evenodd\" fill-opacity=\"1\" /><path clip-path=\"url(#clip260)\" d=\"M2258.81 1544.91 L2266.45 1544.91 L2266.45 1518.55 L2258.14 1520.21 L2258.14 1515.95 L2266.4 1514.29 L2271.08 1514.29 L2271.08 1544.91 L2278.72 1544.91 L2278.72 1548.85 L2258.81 1548.85 L2258.81 1544.91 Z\" fill=\"#000000\" fill-rule=\"evenodd\" fill-opacity=\"1\" /><path clip-path=\"url(#clip260)\" d=\"M2288.16 1542.97 L2293.05 1542.97 L2293.05 1548.85 L2288.16 1548.85 L2288.16 1542.97 Z\" fill=\"#000000\" fill-rule=\"evenodd\" fill-opacity=\"1\" /><path clip-path=\"url(#clip260)\" d=\"M2313.23 1517.37 Q2309.62 1517.37 2307.79 1520.93 Q2305.99 1524.47 2305.99 1531.6 Q2305.99 1538.71 2307.79 1542.27 Q2309.62 1545.82 2313.23 1545.82 Q2316.87 1545.82 2318.67 1542.27 Q2320.5 1538.71 2320.5 1531.6 Q2320.5 1524.47 2318.67 1520.93 Q2316.87 1517.37 2313.23 1517.37 M2313.23 1513.66 Q2319.04 1513.66 2322.1 1518.27 Q2325.18 1522.85 2325.18 1531.6 Q2325.18 1540.33 2322.1 1544.94 Q2319.04 1549.52 2313.23 1549.52 Q2307.42 1549.52 2304.34 1544.94 Q2301.29 1540.33 2301.29 1531.6 Q2301.29 1522.85 2304.34 1518.27 Q2307.42 1513.66 2313.23 1513.66 Z\" fill=\"#000000\" fill-rule=\"evenodd\" fill-opacity=\"1\" /><polyline clip-path=\"url(#clip262)\" style=\"stroke:#000000; stroke-linecap:butt; stroke-linejoin:round; stroke-width:2; stroke-opacity:0.1; fill:none\" points=\"\n",
       "  193.936,1445.72 2352.76,1445.72 \n",
       "  \"/>\n",
       "<polyline clip-path=\"url(#clip262)\" style=\"stroke:#000000; stroke-linecap:butt; stroke-linejoin:round; stroke-width:2; stroke-opacity:0.1; fill:none\" points=\"\n",
       "  193.936,1106.28 2352.76,1106.28 \n",
       "  \"/>\n",
       "<polyline clip-path=\"url(#clip262)\" style=\"stroke:#000000; stroke-linecap:butt; stroke-linejoin:round; stroke-width:2; stroke-opacity:0.1; fill:none\" points=\"\n",
       "  193.936,766.846 2352.76,766.846 \n",
       "  \"/>\n",
       "<polyline clip-path=\"url(#clip262)\" style=\"stroke:#000000; stroke-linecap:butt; stroke-linejoin:round; stroke-width:2; stroke-opacity:0.1; fill:none\" points=\"\n",
       "  193.936,427.411 2352.76,427.411 \n",
       "  \"/>\n",
       "<polyline clip-path=\"url(#clip262)\" style=\"stroke:#000000; stroke-linecap:butt; stroke-linejoin:round; stroke-width:2; stroke-opacity:0.1; fill:none\" points=\"\n",
       "  193.936,87.9763 2352.76,87.9763 \n",
       "  \"/>\n",
       "<polyline clip-path=\"url(#clip260)\" style=\"stroke:#000000; stroke-linecap:butt; stroke-linejoin:round; stroke-width:4; stroke-opacity:1; fill:none\" points=\"\n",
       "  193.936,1486.45 193.936,47.2441 \n",
       "  \"/>\n",
       "<polyline clip-path=\"url(#clip260)\" style=\"stroke:#000000; stroke-linecap:butt; stroke-linejoin:round; stroke-width:4; stroke-opacity:1; fill:none\" points=\"\n",
       "  193.936,1445.72 212.834,1445.72 \n",
       "  \"/>\n",
       "<polyline clip-path=\"url(#clip260)\" style=\"stroke:#000000; stroke-linecap:butt; stroke-linejoin:round; stroke-width:4; stroke-opacity:1; fill:none\" points=\"\n",
       "  193.936,1106.28 212.834,1106.28 \n",
       "  \"/>\n",
       "<polyline clip-path=\"url(#clip260)\" style=\"stroke:#000000; stroke-linecap:butt; stroke-linejoin:round; stroke-width:4; stroke-opacity:1; fill:none\" points=\"\n",
       "  193.936,766.846 212.834,766.846 \n",
       "  \"/>\n",
       "<polyline clip-path=\"url(#clip260)\" style=\"stroke:#000000; stroke-linecap:butt; stroke-linejoin:round; stroke-width:4; stroke-opacity:1; fill:none\" points=\"\n",
       "  193.936,427.411 212.834,427.411 \n",
       "  \"/>\n",
       "<polyline clip-path=\"url(#clip260)\" style=\"stroke:#000000; stroke-linecap:butt; stroke-linejoin:round; stroke-width:4; stroke-opacity:1; fill:none\" points=\"\n",
       "  193.936,87.9763 212.834,87.9763 \n",
       "  \"/>\n",
       "<path clip-path=\"url(#clip260)\" d=\"M50.9921 1446.17 L80.6679 1446.17 L80.6679 1450.1 L50.9921 1450.1 L50.9921 1446.17 Z\" fill=\"#000000\" fill-rule=\"evenodd\" fill-opacity=\"1\" /><path clip-path=\"url(#clip260)\" d=\"M91.5706 1459.06 L99.2095 1459.06 L99.2095 1432.69 L90.8993 1434.36 L90.8993 1430.1 L99.1632 1428.44 L103.839 1428.44 L103.839 1459.06 L111.478 1459.06 L111.478 1463 L91.5706 1463 L91.5706 1459.06 Z\" fill=\"#000000\" fill-rule=\"evenodd\" fill-opacity=\"1\" /><path clip-path=\"url(#clip260)\" d=\"M120.922 1457.12 L125.807 1457.12 L125.807 1463 L120.922 1463 L120.922 1457.12 Z\" fill=\"#000000\" fill-rule=\"evenodd\" fill-opacity=\"1\" /><path clip-path=\"url(#clip260)\" d=\"M145.992 1431.51 Q142.381 1431.51 140.552 1435.08 Q138.746 1438.62 138.746 1445.75 Q138.746 1452.86 140.552 1456.42 Q142.381 1459.96 145.992 1459.96 Q149.626 1459.96 151.431 1456.42 Q153.26 1452.86 153.26 1445.75 Q153.26 1438.62 151.431 1435.08 Q149.626 1431.51 145.992 1431.51 M145.992 1427.81 Q151.802 1427.81 154.857 1432.42 Q157.936 1437 157.936 1445.75 Q157.936 1454.48 154.857 1459.08 Q151.802 1463.67 145.992 1463.67 Q140.181 1463.67 137.103 1459.08 Q134.047 1454.48 134.047 1445.75 Q134.047 1437 137.103 1432.42 Q140.181 1427.81 145.992 1427.81 Z\" fill=\"#000000\" fill-rule=\"evenodd\" fill-opacity=\"1\" /><path clip-path=\"url(#clip260)\" d=\"M51.9875 1106.73 L81.6633 1106.73 L81.6633 1110.67 L51.9875 1110.67 L51.9875 1106.73 Z\" fill=\"#000000\" fill-rule=\"evenodd\" fill-opacity=\"1\" /><path clip-path=\"url(#clip260)\" d=\"M101.756 1092.08 Q98.1447 1092.08 96.316 1095.64 Q94.5104 1099.19 94.5104 1106.32 Q94.5104 1113.42 96.316 1116.99 Q98.1447 1120.53 101.756 1120.53 Q105.39 1120.53 107.196 1116.99 Q109.024 1113.42 109.024 1106.32 Q109.024 1099.19 107.196 1095.64 Q105.39 1092.08 101.756 1092.08 M101.756 1088.38 Q107.566 1088.38 110.621 1092.98 Q113.7 1097.57 113.7 1106.32 Q113.7 1115.04 110.621 1119.65 Q107.566 1124.23 101.756 1124.23 Q95.9456 1124.23 92.8669 1119.65 Q89.8114 1115.04 89.8114 1106.32 Q89.8114 1097.57 92.8669 1092.98 Q95.9456 1088.38 101.756 1088.38 Z\" fill=\"#000000\" fill-rule=\"evenodd\" fill-opacity=\"1\" /><path clip-path=\"url(#clip260)\" d=\"M121.918 1117.68 L126.802 1117.68 L126.802 1123.56 L121.918 1123.56 L121.918 1117.68 Z\" fill=\"#000000\" fill-rule=\"evenodd\" fill-opacity=\"1\" /><path clip-path=\"url(#clip260)\" d=\"M137.033 1089 L155.39 1089 L155.39 1092.94 L141.316 1092.94 L141.316 1101.41 Q142.334 1101.06 143.353 1100.9 Q144.371 1100.71 145.39 1100.71 Q151.177 1100.71 154.556 1103.89 Q157.936 1107.06 157.936 1112.47 Q157.936 1118.05 154.464 1121.15 Q150.992 1124.23 144.672 1124.23 Q142.496 1124.23 140.228 1123.86 Q137.982 1123.49 135.575 1122.75 L135.575 1118.05 Q137.658 1119.19 139.881 1119.74 Q142.103 1120.3 144.58 1120.3 Q148.584 1120.3 150.922 1118.19 Q153.26 1116.08 153.26 1112.47 Q153.26 1108.86 150.922 1106.76 Q148.584 1104.65 144.58 1104.65 Q142.705 1104.65 140.83 1105.07 Q138.978 1105.48 137.033 1106.36 L137.033 1089 Z\" fill=\"#000000\" fill-rule=\"evenodd\" fill-opacity=\"1\" /><path clip-path=\"url(#clip260)\" d=\"M100.76 752.645 Q97.1493 752.645 95.3206 756.209 Q93.515 759.751 93.515 766.881 Q93.515 773.987 95.3206 777.552 Q97.1493 781.094 100.76 781.094 Q104.395 781.094 106.2 777.552 Q108.029 773.987 108.029 766.881 Q108.029 759.751 106.2 756.209 Q104.395 752.645 100.76 752.645 M100.76 748.941 Q106.571 748.941 109.626 753.547 Q112.705 758.131 112.705 766.881 Q112.705 775.608 109.626 780.214 Q106.571 784.797 100.76 784.797 Q94.9502 784.797 91.8715 780.214 Q88.816 775.608 88.816 766.881 Q88.816 758.131 91.8715 753.547 Q94.9502 748.941 100.76 748.941 Z\" fill=\"#000000\" fill-rule=\"evenodd\" fill-opacity=\"1\" /><path clip-path=\"url(#clip260)\" d=\"M120.922 778.246 L125.807 778.246 L125.807 784.126 L120.922 784.126 L120.922 778.246 Z\" fill=\"#000000\" fill-rule=\"evenodd\" fill-opacity=\"1\" /><path clip-path=\"url(#clip260)\" d=\"M145.992 752.645 Q142.381 752.645 140.552 756.209 Q138.746 759.751 138.746 766.881 Q138.746 773.987 140.552 777.552 Q142.381 781.094 145.992 781.094 Q149.626 781.094 151.431 777.552 Q153.26 773.987 153.26 766.881 Q153.26 759.751 151.431 756.209 Q149.626 752.645 145.992 752.645 M145.992 748.941 Q151.802 748.941 154.857 753.547 Q157.936 758.131 157.936 766.881 Q157.936 775.608 154.857 780.214 Q151.802 784.797 145.992 784.797 Q140.181 784.797 137.103 780.214 Q134.047 775.608 134.047 766.881 Q134.047 758.131 137.103 753.547 Q140.181 748.941 145.992 748.941 Z\" fill=\"#000000\" fill-rule=\"evenodd\" fill-opacity=\"1\" /><path clip-path=\"url(#clip260)\" d=\"M101.756 413.21 Q98.1447 413.21 96.316 416.775 Q94.5104 420.316 94.5104 427.446 Q94.5104 434.552 96.316 438.117 Q98.1447 441.659 101.756 441.659 Q105.39 441.659 107.196 438.117 Q109.024 434.552 109.024 427.446 Q109.024 420.316 107.196 416.775 Q105.39 413.21 101.756 413.21 M101.756 409.506 Q107.566 409.506 110.621 414.113 Q113.7 418.696 113.7 427.446 Q113.7 436.173 110.621 440.779 Q107.566 445.362 101.756 445.362 Q95.9456 445.362 92.8669 440.779 Q89.8114 436.173 89.8114 427.446 Q89.8114 418.696 92.8669 414.113 Q95.9456 409.506 101.756 409.506 Z\" fill=\"#000000\" fill-rule=\"evenodd\" fill-opacity=\"1\" /><path clip-path=\"url(#clip260)\" d=\"M121.918 438.812 L126.802 438.812 L126.802 444.691 L121.918 444.691 L121.918 438.812 Z\" fill=\"#000000\" fill-rule=\"evenodd\" fill-opacity=\"1\" /><path clip-path=\"url(#clip260)\" d=\"M137.033 410.131 L155.39 410.131 L155.39 414.066 L141.316 414.066 L141.316 422.538 Q142.334 422.191 143.353 422.029 Q144.371 421.844 145.39 421.844 Q151.177 421.844 154.556 425.015 Q157.936 428.187 157.936 433.603 Q157.936 439.182 154.464 442.284 Q150.992 445.362 144.672 445.362 Q142.496 445.362 140.228 444.992 Q137.982 444.622 135.575 443.881 L135.575 439.182 Q137.658 440.316 139.881 440.872 Q142.103 441.427 144.58 441.427 Q148.584 441.427 150.922 439.321 Q153.26 437.214 153.26 433.603 Q153.26 429.992 150.922 427.886 Q148.584 425.779 144.58 425.779 Q142.705 425.779 140.83 426.196 Q138.978 426.613 137.033 427.492 L137.033 410.131 Z\" fill=\"#000000\" fill-rule=\"evenodd\" fill-opacity=\"1\" /><path clip-path=\"url(#clip260)\" d=\"M91.5706 101.321 L99.2095 101.321 L99.2095 74.9555 L90.8993 76.6222 L90.8993 72.3629 L99.1632 70.6963 L103.839 70.6963 L103.839 101.321 L111.478 101.321 L111.478 105.256 L91.5706 105.256 L91.5706 101.321 Z\" fill=\"#000000\" fill-rule=\"evenodd\" fill-opacity=\"1\" /><path clip-path=\"url(#clip260)\" d=\"M120.922 99.3767 L125.807 99.3767 L125.807 105.256 L120.922 105.256 L120.922 99.3767 Z\" fill=\"#000000\" fill-rule=\"evenodd\" fill-opacity=\"1\" /><path clip-path=\"url(#clip260)\" d=\"M145.992 73.775 Q142.381 73.775 140.552 77.3398 Q138.746 80.8814 138.746 88.011 Q138.746 95.1174 140.552 98.6822 Q142.381 102.224 145.992 102.224 Q149.626 102.224 151.431 98.6822 Q153.26 95.1174 153.26 88.011 Q153.26 80.8814 151.431 77.3398 Q149.626 73.775 145.992 73.775 M145.992 70.0713 Q151.802 70.0713 154.857 74.6777 Q157.936 79.261 157.936 88.011 Q157.936 96.7378 154.857 101.344 Q151.802 105.928 145.992 105.928 Q140.181 105.928 137.103 101.344 Q134.047 96.7378 134.047 88.011 Q134.047 79.261 137.103 74.6777 Q140.181 70.0713 145.992 70.0713 Z\" fill=\"#000000\" fill-rule=\"evenodd\" fill-opacity=\"1\" /><path clip-path=\"url(#clip262)\" d=\"\n",
       "M2291.66 87.9763 L2287.09 88.7375 L2273.44 91.0195 L2250.82 94.817 L2219.43 100.122 L2179.56 106.922 L2131.57 115.201 L2075.88 124.943 L2013 136.123 L1943.48 148.719 \n",
       "  L1867.96 162.7 L1787.1 178.037 L1701.64 194.693 L1612.34 212.633 L1520 231.816 L1425.44 252.199 L1329.52 273.736 L1233.1 296.378 L1137.04 320.076 L1042.2 344.776 \n",
       "  L949.428 370.422 L859.562 396.957 L773.405 424.322 L691.73 452.455 L615.269 481.293 L544.707 510.771 L480.678 540.824 L423.754 571.384 L374.447 602.381 L333.198 633.748 \n",
       "  L300.377 665.413 L276.279 697.306 L261.12 729.355 L255.035 761.487 L258.079 793.632 L270.224 825.717 L291.363 857.669 L321.305 889.418 L359.782 920.892 L406.449 952.021 \n",
       "  L460.887 982.734 L522.609 1012.96 L591.061 1042.64 L665.629 1071.7 L745.645 1100.07 L830.392 1127.7 L919.109 1154.52 L1011 1180.47 L1105.25 1205.49 L1201 1229.53 \n",
       "  L1297.4 1252.53 L1393.58 1274.44 L1488.68 1295.21 L1581.86 1314.8 L1672.26 1333.16 L1759.09 1350.25 L1841.57 1366.03 L1918.94 1380.47 L1990.53 1393.53 L2055.69 1405.18 \n",
       "  L2113.84 1415.4 L2164.45 1424.17 L2207.07 1431.47 L2241.32 1437.27 L2266.89 1441.57 L2283.55 1444.36 L2291.15 1445.63 L2289.63 1445.38 L2278.99 1443.6 L2259.34 1440.31 \n",
       "  L2230.85 1435.51 L2193.77 1429.2 L2148.45 1421.41 L2095.27 1412.16 L2034.73 1401.45 L1967.36 1389.33 L1893.76 1375.8 L1814.6 1360.92 L1730.59 1344.7 L1642.48 1327.18 \n",
       "  L1551.06 1308.41 L1457.15 1288.42 L1361.59 1267.26 L1265.24 1244.98 L1168.97 1221.63 L1073.62 1197.26 L980.069 1171.92 L889.144 1145.67 L801.664 1118.58 L718.411 1090.7 \n",
       "  L640.133 1062.09 L567.532 1032.81 L501.258 1002.95 L441.906 972.547 L390.007 941.688 L346.028 910.436 L310.361 878.862 L283.328 847.038 L265.17 815.033 L256.05 782.92 \n",
       "  L256.05 750.772 L265.17 718.659 L283.328 686.654 L310.361 654.83 L346.028 623.256 L390.007 592.004 L441.906 561.145 L501.258 530.747 L567.532 500.878 L640.133 471.606 \n",
       "  L718.411 442.996 L801.664 415.112 L889.144 388.017 L980.069 361.772 L1073.62 336.435 L1168.97 312.063 L1265.24 288.711 L1361.59 266.431 L1457.15 245.274 L1551.06 225.286 \n",
       "  L1642.48 206.513 L1730.59 188.997 L1814.6 172.776 L1893.76 157.888 L1967.36 144.365 L2034.73 132.238 L2095.27 121.535 L2148.45 112.278 L2193.77 104.49 L2230.85 98.1867 \n",
       "  L2259.34 93.3832 L2278.99 90.0901 L2289.63 88.3146 L2291.15 88.0609 L2283.55 89.3294 L2266.89 92.1173 L2241.32 96.4183 L2207.07 102.223 L2164.45 109.518 L2113.84 118.287 \n",
       "  L2055.69 128.511 L1990.53 140.166 L1918.94 153.227 L1841.57 167.663 L1759.09 183.444 L1672.26 200.533 L1581.86 218.891 L1488.68 238.479 L1393.58 259.252 L1297.4 281.163 \n",
       "  L1201 304.163 L1105.25 328.201 L1011 353.222 L919.109 379.171 L830.392 405.99 L745.645 433.617 L665.629 461.992 L591.061 491.051 L522.609 520.728 L460.887 550.958 \n",
       "  L406.449 581.671 L359.782 612.8 L321.305 644.274 L291.363 676.023 L270.224 707.975 L258.079 740.06 L255.035 772.205 L261.12 804.337 L276.279 836.386 L300.377 868.279 \n",
       "  L333.198 899.944 L374.447 931.311 L423.754 962.308 L480.678 992.868 L544.707 1022.92 L615.269 1052.4 L691.73 1081.24 L773.405 1109.37 L859.562 1136.73 L949.428 1163.27 \n",
       "  L1042.2 1188.92 L1137.04 1213.62 L1233.1 1237.31 L1329.52 1259.96 L1425.44 1281.49 L1520 1301.88 L1612.34 1321.06 L1701.64 1339 L1787.1 1355.66 L1867.96 1370.99 \n",
       "  L1943.48 1384.97 L2013 1397.57 L2075.88 1408.75 L2131.57 1418.49 L2179.56 1426.77 L2219.43 1433.57 L2250.82 1438.87 L2273.44 1442.67 L2287.09 1444.95 L2291.66 1445.72 \n",
       "  L2291.66 766.846 L2287.09 766.846 L2273.44 766.846 L2250.82 766.846 L2219.43 766.846 L2179.56 766.846 L2131.57 766.846 L2075.88 766.846 L2013 766.846 L1943.48 766.846 \n",
       "  L1867.96 766.846 L1787.1 766.846 L1701.64 766.846 L1612.34 766.846 L1520 766.846 L1425.44 766.846 L1329.52 766.846 L1233.1 766.846 L1137.04 766.846 L1042.2 766.846 \n",
       "  L949.428 766.846 L859.562 766.846 L773.405 766.846 L691.73 766.846 L615.269 766.846 L544.707 766.846 L480.678 766.846 L423.754 766.846 L374.447 766.846 L333.198 766.846 \n",
       "  L300.377 766.846 L276.279 766.846 L261.12 766.846 L255.035 766.846 L258.079 766.846 L270.224 766.846 L291.363 766.846 L321.305 766.846 L359.782 766.846 L406.449 766.846 \n",
       "  L460.887 766.846 L522.609 766.846 L591.061 766.846 L665.629 766.846 L745.645 766.846 L830.392 766.846 L919.109 766.846 L1011 766.846 L1105.25 766.846 L1201 766.846 \n",
       "  L1297.4 766.846 L1393.58 766.846 L1488.68 766.846 L1581.86 766.846 L1672.26 766.846 L1759.09 766.846 L1841.57 766.846 L1918.94 766.846 L1990.53 766.846 L2055.69 766.846 \n",
       "  L2113.84 766.846 L2164.45 766.846 L2207.07 766.846 L2241.32 766.846 L2266.89 766.846 L2283.55 766.846 L2291.15 766.846 L2289.63 766.846 L2278.99 766.846 L2259.34 766.846 \n",
       "  L2230.85 766.846 L2193.77 766.846 L2148.45 766.846 L2095.27 766.846 L2034.73 766.846 L1967.36 766.846 L1893.76 766.846 L1814.6 766.846 L1730.59 766.846 L1642.48 766.846 \n",
       "  L1551.06 766.846 L1457.15 766.846 L1361.59 766.846 L1265.24 766.846 L1168.97 766.846 L1073.62 766.846 L980.069 766.846 L889.144 766.846 L801.664 766.846 L718.411 766.846 \n",
       "  L640.133 766.846 L567.532 766.846 L501.258 766.846 L441.906 766.846 L390.007 766.846 L346.028 766.846 L310.361 766.846 L283.328 766.846 L265.17 766.846 L256.05 766.846 \n",
       "  L256.05 766.846 L265.17 766.846 L283.328 766.846 L310.361 766.846 L346.028 766.846 L390.007 766.846 L441.906 766.846 L501.258 766.846 L567.532 766.846 L640.133 766.846 \n",
       "  L718.411 766.846 L801.664 766.846 L889.144 766.846 L980.069 766.846 L1073.62 766.846 L1168.97 766.846 L1265.24 766.846 L1361.59 766.846 L1457.15 766.846 L1551.06 766.846 \n",
       "  L1642.48 766.846 L1730.59 766.846 L1814.6 766.846 L1893.76 766.846 L1967.36 766.846 L2034.73 766.846 L2095.27 766.846 L2148.45 766.846 L2193.77 766.846 L2230.85 766.846 \n",
       "  L2259.34 766.846 L2278.99 766.846 L2289.63 766.846 L2291.15 766.846 L2283.55 766.846 L2266.89 766.846 L2241.32 766.846 L2207.07 766.846 L2164.45 766.846 L2113.84 766.846 \n",
       "  L2055.69 766.846 L1990.53 766.846 L1918.94 766.846 L1841.57 766.846 L1759.09 766.846 L1672.26 766.846 L1581.86 766.846 L1488.68 766.846 L1393.58 766.846 L1297.4 766.846 \n",
       "  L1201 766.846 L1105.25 766.846 L1011 766.846 L919.109 766.846 L830.392 766.846 L745.645 766.846 L665.629 766.846 L591.061 766.846 L522.609 766.846 L460.887 766.846 \n",
       "  L406.449 766.846 L359.782 766.846 L321.305 766.846 L291.363 766.846 L270.224 766.846 L258.079 766.846 L255.035 766.846 L261.12 766.846 L276.279 766.846 L300.377 766.846 \n",
       "  L333.198 766.846 L374.447 766.846 L423.754 766.846 L480.678 766.846 L544.707 766.846 L615.269 766.846 L691.73 766.846 L773.405 766.846 L859.562 766.846 L949.428 766.846 \n",
       "  L1042.2 766.846 L1137.04 766.846 L1233.1 766.846 L1329.52 766.846 L1425.44 766.846 L1520 766.846 L1612.34 766.846 L1701.64 766.846 L1787.1 766.846 L1867.96 766.846 \n",
       "  L1943.48 766.846 L2013 766.846 L2075.88 766.846 L2131.57 766.846 L2179.56 766.846 L2219.43 766.846 L2250.82 766.846 L2273.44 766.846 L2287.09 766.846 L2291.66 766.846 \n",
       "   Z\n",
       "  \" fill=\"#ff00ff\" fill-rule=\"evenodd\" fill-opacity=\"1\"/>\n",
       "<polyline clip-path=\"url(#clip262)\" style=\"stroke:#009af9; stroke-linecap:butt; stroke-linejoin:round; stroke-width:12; stroke-opacity:1; fill:none\" points=\"\n",
       "  2291.66,87.9763 2287.09,88.7375 2273.44,91.0195 2250.82,94.817 2219.43,100.122 2179.56,106.922 2131.57,115.201 2075.88,124.943 2013,136.123 1943.48,148.719 \n",
       "  1867.96,162.7 1787.1,178.037 1701.64,194.693 1612.34,212.633 1520,231.816 1425.44,252.199 1329.52,273.736 1233.1,296.378 1137.04,320.076 1042.2,344.776 \n",
       "  949.428,370.422 859.562,396.957 773.405,424.322 691.73,452.455 615.269,481.293 544.707,510.771 480.678,540.824 423.754,571.384 374.447,602.381 333.198,633.748 \n",
       "  300.377,665.413 276.279,697.306 261.12,729.355 255.035,761.487 258.079,793.632 270.224,825.717 291.363,857.669 321.305,889.418 359.782,920.892 406.449,952.021 \n",
       "  460.887,982.734 522.609,1012.96 591.061,1042.64 665.629,1071.7 745.645,1100.07 830.392,1127.7 919.109,1154.52 1011,1180.47 1105.25,1205.49 1201,1229.53 \n",
       "  1297.4,1252.53 1393.58,1274.44 1488.68,1295.21 1581.86,1314.8 1672.26,1333.16 1759.09,1350.25 1841.57,1366.03 1918.94,1380.47 1990.53,1393.53 2055.69,1405.18 \n",
       "  2113.84,1415.4 2164.45,1424.17 2207.07,1431.47 2241.32,1437.27 2266.89,1441.57 2283.55,1444.36 2291.15,1445.63 2289.63,1445.38 2278.99,1443.6 2259.34,1440.31 \n",
       "  2230.85,1435.51 2193.77,1429.2 2148.45,1421.41 2095.27,1412.16 2034.73,1401.45 1967.36,1389.33 1893.76,1375.8 1814.6,1360.92 1730.59,1344.7 1642.48,1327.18 \n",
       "  1551.06,1308.41 1457.15,1288.42 1361.59,1267.26 1265.24,1244.98 1168.97,1221.63 1073.62,1197.26 980.069,1171.92 889.144,1145.67 801.664,1118.58 718.411,1090.7 \n",
       "  640.133,1062.09 567.532,1032.81 501.258,1002.95 441.906,972.547 390.007,941.688 346.028,910.436 310.361,878.862 283.328,847.038 265.17,815.033 256.05,782.92 \n",
       "  256.05,750.772 265.17,718.659 283.328,686.654 310.361,654.83 346.028,623.256 390.007,592.004 441.906,561.145 501.258,530.747 567.532,500.878 640.133,471.606 \n",
       "  718.411,442.996 801.664,415.112 889.144,388.017 980.069,361.772 1073.62,336.435 1168.97,312.063 1265.24,288.711 1361.59,266.431 1457.15,245.274 1551.06,225.286 \n",
       "  1642.48,206.513 1730.59,188.997 1814.6,172.776 1893.76,157.888 1967.36,144.365 2034.73,132.238 2095.27,121.535 2148.45,112.278 2193.77,104.49 2230.85,98.1867 \n",
       "  2259.34,93.3832 2278.99,90.0901 2289.63,88.3146 2291.15,88.0609 2283.55,89.3294 2266.89,92.1173 2241.32,96.4183 2207.07,102.223 2164.45,109.518 2113.84,118.287 \n",
       "  2055.69,128.511 1990.53,140.166 1918.94,153.227 1841.57,167.663 1759.09,183.444 1672.26,200.533 1581.86,218.891 1488.68,238.479 1393.58,259.252 1297.4,281.163 \n",
       "  1201,304.163 1105.25,328.201 1011,353.222 919.109,379.171 830.392,405.99 745.645,433.617 665.629,461.992 591.061,491.051 522.609,520.728 460.887,550.958 \n",
       "  406.449,581.671 359.782,612.8 321.305,644.274 291.363,676.023 270.224,707.975 258.079,740.06 255.035,772.205 261.12,804.337 276.279,836.386 300.377,868.279 \n",
       "  333.198,899.944 374.447,931.311 423.754,962.308 480.678,992.868 544.707,1022.92 615.269,1052.4 691.73,1081.24 773.405,1109.37 859.562,1136.73 949.428,1163.27 \n",
       "  1042.2,1188.92 1137.04,1213.62 1233.1,1237.31 1329.52,1259.96 1425.44,1281.49 1520,1301.88 1612.34,1321.06 1701.64,1339 1787.1,1355.66 1867.96,1370.99 \n",
       "  1943.48,1384.97 2013,1397.57 2075.88,1408.75 2131.57,1418.49 2179.56,1426.77 2219.43,1433.57 2250.82,1438.87 2273.44,1442.67 2287.09,1444.95 2291.66,1445.72 \n",
       "  \n",
       "  \"/>\n",
       "<path clip-path=\"url(#clip260)\" d=\"\n",
       "M1988.5 198.898 L2280.8 198.898 L2280.8 95.2176 L1988.5 95.2176  Z\n",
       "  \" fill=\"#ffffff\" fill-rule=\"evenodd\" fill-opacity=\"1\"/>\n",
       "<polyline clip-path=\"url(#clip260)\" style=\"stroke:#000000; stroke-linecap:butt; stroke-linejoin:round; stroke-width:4; stroke-opacity:1; fill:none\" points=\"\n",
       "  1988.5,198.898 2280.8,198.898 2280.8,95.2176 1988.5,95.2176 1988.5,198.898 \n",
       "  \"/>\n",
       "<path clip-path=\"url(#clip260)\" d=\"\n",
       "M2012.48 167.794 L2156.4 167.794 L2156.4 126.322 L2012.48 126.322 L2012.48 167.794  Z\n",
       "  \" fill=\"#ff00ff\" fill-rule=\"evenodd\" fill-opacity=\"1\"/>\n",
       "<polyline clip-path=\"url(#clip260)\" style=\"stroke:#009af9; stroke-linecap:butt; stroke-linejoin:round; stroke-width:12; stroke-opacity:1; fill:none\" points=\"\n",
       "  2012.48,126.322 2156.4,126.322 \n",
       "  \"/>\n",
       "<path clip-path=\"url(#clip260)\" d=\"M2194.23 166.745 Q2192.43 171.375 2190.72 172.787 Q2189 174.199 2186.13 174.199 L2182.73 174.199 L2182.73 170.634 L2185.23 170.634 Q2186.99 170.634 2187.96 169.8 Q2188.93 168.967 2190.11 165.865 L2190.88 163.921 L2180.39 138.412 L2184.91 138.412 L2193.01 158.689 L2201.11 138.412 L2205.62 138.412 L2194.23 166.745 Z\" fill=\"#000000\" fill-rule=\"evenodd\" fill-opacity=\"1\" /><path clip-path=\"url(#clip260)\" d=\"M2212.91 160.402 L2220.55 160.402 L2220.55 134.037 L2212.24 135.703 L2212.24 131.444 L2220.51 129.778 L2225.18 129.778 L2225.18 160.402 L2232.82 160.402 L2232.82 164.338 L2212.91 164.338 L2212.91 160.402 Z\" fill=\"#000000\" fill-rule=\"evenodd\" fill-opacity=\"1\" /></svg>\n"
      ]
     },
     "execution_count": 173,
     "metadata": {},
     "output_type": "execute_result"
    }
   ],
   "source": [
    "#We can plot any trigonometric function with their range, thickness of plot line, legend value and fill colours the area under the curve\n",
    "\n",
    "plot(cos, (a->begin cos(a/2) end), 0, 6π, line = 3, leg = true, fill = (0, :magenta))"
   ]
  }
 ],
 "metadata": {
  "kernelspec": {
   "display_name": "Julia 1.6.3",
   "language": "julia",
   "name": "julia-1.6"
  },
  "language_info": {
   "file_extension": ".jl",
   "mimetype": "application/julia",
   "name": "julia",
   "version": "1.6.3"
  }
 },
 "nbformat": 4,
 "nbformat_minor": 5
}
