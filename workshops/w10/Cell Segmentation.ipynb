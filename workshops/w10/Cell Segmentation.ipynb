{
 "cells": [
  {
   "cell_type": "markdown",
   "id": "8d7fe90b",
   "metadata": {},
   "source": [
    "# Cell Segmentation"
   ]
  },
  {
   "cell_type": "code",
   "execution_count": 1,
   "id": "93699637",
   "metadata": {},
   "outputs": [],
   "source": [
    "using Images, ImageSegmentation, ImageView, Random"
   ]
  },
  {
   "cell_type": "code",
   "execution_count": 2,
   "id": "f6873f7c",
   "metadata": {},
   "outputs": [
    {
     "data": {
      "text/plain": [
       "get_random_color (generic function with 1 method)"
      ]
     },
     "execution_count": 2,
     "metadata": {},
     "output_type": "execute_result"
    }
   ],
   "source": [
    "function get_random_color(seed)\n",
    "    Random.seed!(seed)\n",
    "    rand(RGB{N0f8})\n",
    "end\n"
   ]
  },
  {
   "cell_type": "code",
   "execution_count": 3,
   "id": "76e92e8e",
   "metadata": {},
   "outputs": [],
   "source": [
    "img = load(\"images/blood_cells.jpg\")\n",
    "# img = load(\"images/cells.jpg\")\n",
    "# img = load(\"images/0c90b86742b2.png\")\n",
    "# imshow(img);"
   ]
  },
  {
   "cell_type": "code",
   "execution_count": 4,
   "id": "2eec747d",
   "metadata": {},
   "outputs": [],
   "source": [
    "bw =  Gray.(img) .> 0.7;\n",
    "imshow(bw);"
   ]
  },
  {
   "cell_type": "code",
   "execution_count": 5,
   "id": "c1919d2d",
   "metadata": {},
   "outputs": [],
   "source": [
    "features = feature_transform(bw)\n",
    "dist = 1 .- distance_transform(features);"
   ]
  },
  {
   "cell_type": "code",
   "execution_count": 6,
   "id": "9354fe90",
   "metadata": {},
   "outputs": [
    {
     "data": {
      "text/plain": [
       "Segmented Image with:\n",
       "  labels map: 331×504 Matrix{Int64}\n",
       "  number of labels: 98"
      ]
     },
     "execution_count": 6,
     "metadata": {},
     "output_type": "execute_result"
    }
   ],
   "source": [
    "markers = label_components(dist .< -2);\n",
    "segments = watershed(dist, markers)"
   ]
  },
  {
   "cell_type": "code",
   "execution_count": 7,
   "id": "134052f9",
   "metadata": {},
   "outputs": [],
   "source": [
    "imshow(map(i->get_random_color(i), labels_map(segments)) .* (1 .-bw));"
   ]
  },
  {
   "cell_type": "code",
   "execution_count": 8,
   "id": "7ac8a026",
   "metadata": {},
   "outputs": [
    {
     "data": {
      "text/plain": [
       "FuzzyCMeansResult: 2 clusters for 166824 points in 3 dimensions (converged in 10 iterations)"
      ]
     },
     "execution_count": 8,
     "metadata": {},
     "output_type": "execute_result"
    }
   ],
   "source": [
    "r = fuzzy_cmeans(img, 2, 2)"
   ]
  },
  {
   "cell_type": "code",
   "execution_count": 9,
   "id": "67a578ec",
   "metadata": {},
   "outputs": [
    {
     "data": {
      "text/plain": [
       "Dict{String, Any} with 4 entries:\n",
       "  \"gui\"         => Dict{String, Any}(\"window\"=>GtkWindowLeaf(name=\"\", parent, w…\n",
       "  \"roi\"         => Dict{String, Any}(\"redraw\"=>87: \"map(clim-mapped image, inpu…\n",
       "  \"annotations\" => 53: \"input-26\" = Dict{UInt64, Any}() Dict{UInt64, Any} \n",
       "  \"clim\"        => 52: \"CLim\" = CLim{Float64}(0.112339, 0.999968) CLim{Float64} "
      ]
     },
     "execution_count": 9,
     "metadata": {},
     "output_type": "execute_result"
    }
   ],
   "source": [
    "ss = r.centers[1]*reshape(r.weights[:,1], axes(img))\n",
    "imshow( 1 .- ss)"
   ]
  }
 ],
 "metadata": {
  "kernelspec": {
   "display_name": "Julia 1.6.3",
   "language": "julia",
   "name": "julia-1.6"
  },
  "language_info": {
   "file_extension": ".jl",
   "mimetype": "application/julia",
   "name": "julia",
   "version": "1.6.3"
  }
 },
 "nbformat": 4,
 "nbformat_minor": 5
}
